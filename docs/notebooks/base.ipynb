{
 "cells": [
  {
   "cell_type": "code",
   "execution_count": 1,
   "id": "stunning-island",
   "metadata": {
    "execution": {
     "iopub.execute_input": "2021-04-17T00:51:24.475466Z",
     "iopub.status.busy": "2021-04-17T00:51:24.473637Z",
     "iopub.status.idle": "2021-04-17T00:51:25.070175Z",
     "shell.execute_reply": "2021-04-17T00:51:25.069698Z"
    }
   },
   "outputs": [],
   "source": [
    "from datar import f\n",
    "from datar.base import *\n",
    "from datar.tibble import tibble"
   ]
  },
  {
   "cell_type": "code",
   "execution_count": 2,
   "id": "instructional-plymouth",
   "metadata": {
    "execution": {
     "iopub.execute_input": "2021-04-17T00:51:25.074791Z",
     "iopub.status.busy": "2021-04-17T00:51:25.074098Z",
     "iopub.status.idle": "2021-04-17T00:51:25.078435Z",
     "shell.execute_reply": "2021-04-17T00:51:25.077937Z"
    }
   },
   "outputs": [
    {
     "name": "stdout",
     "output_type": "stream",
     "text": [
      "None\n",
      "nan\n",
      "True\n",
      "False\n",
      "3.141592653589793\n",
      "inf\n",
      "['a', 'b', 'c', 'd', 'e', 'f', 'g', 'h', 'i', 'j', 'k', 'l', 'm', 'n', 'o', 'p', 'q', 'r', 's', 't', 'u', 'v', 'w', 'x', 'y', 'z']\n",
      "['A', 'B', 'C', 'D', 'E', 'F', 'G', 'H', 'I', 'J', 'K', 'L', 'M', 'N', 'O', 'P', 'Q', 'R', 'S', 'T', 'U', 'V', 'W', 'X', 'Y', 'Z']\n"
     ]
    }
   ],
   "source": [
    "print(NULL)\n",
    "print(NA)\n",
    "print(TRUE)\n",
    "print(FALSE)\n",
    "print(pi)\n",
    "print(Inf)\n",
    "print(letters)\n",
    "print(LETTERS)"
   ]
  },
  {
   "cell_type": "code",
   "execution_count": 3,
   "id": "radio-rough",
   "metadata": {
    "execution": {
     "iopub.execute_input": "2021-04-17T00:51:25.082220Z",
     "iopub.status.busy": "2021-04-17T00:51:25.081654Z",
     "iopub.status.idle": "2021-04-17T00:51:25.118236Z",
     "shell.execute_reply": "2021-04-17T00:51:25.117702Z"
    }
   },
   "outputs": [
    {
     "data": {
      "text/html": [
       "<div>\n",
       "<style scoped>\n",
       "    .dataframe tbody tr th:only-of-type {\n",
       "        vertical-align: middle;\n",
       "    }\n",
       "\n",
       "    .dataframe tbody tr th {\n",
       "        vertical-align: top;\n",
       "    }\n",
       "\n",
       "    .dataframe thead th {\n",
       "        text-align: right;\n",
       "    }\n",
       "</style>\n",
       "<table border=\"1\" class=\"dataframe\">\n",
       "  <thead>\n",
       "    <tr style=\"text-align: right;\">\n",
       "      <th></th>\n",
       "      <th>x</th>\n",
       "      <th>y</th>\n",
       "      <th>z</th>\n",
       "    </tr>\n",
       "  </thead>\n",
       "  <tbody>\n",
       "    <tr>\n",
       "      <th>0</th>\n",
       "      <td>1</td>\n",
       "      <td>2</td>\n",
       "      <td>3</td>\n",
       "    </tr>\n",
       "  </tbody>\n",
       "</table>\n",
       "</div>"
      ],
      "text/plain": [
       "   x  y  z\n",
       "0  1  2  3"
      ]
     },
     "execution_count": 1,
     "metadata": {},
     "output_type": "execute_result"
    }
   ],
   "source": [
    "df = tibble(x=1, y=2, z=3)\n",
    "df"
   ]
  },
  {
   "cell_type": "code",
   "execution_count": 4,
   "id": "periodic-wagner",
   "metadata": {
    "execution": {
     "iopub.execute_input": "2021-04-17T00:51:25.123169Z",
     "iopub.status.busy": "2021-04-17T00:51:25.122473Z",
     "iopub.status.idle": "2021-04-17T00:51:25.125895Z",
     "shell.execute_reply": "2021-04-17T00:51:25.126248Z"
    }
   },
   "outputs": [
    {
     "data": {
      "text/plain": [
       "[0]"
      ]
     },
     "execution_count": 1,
     "metadata": {},
     "output_type": "execute_result"
    }
   ],
   "source": [
    "df >> rownames()"
   ]
  },
  {
   "cell_type": "code",
   "execution_count": 5,
   "id": "anonymous-romance",
   "metadata": {
    "execution": {
     "iopub.execute_input": "2021-04-17T00:51:25.133583Z",
     "iopub.status.busy": "2021-04-17T00:51:25.132820Z",
     "iopub.status.idle": "2021-04-17T00:51:25.136402Z",
     "shell.execute_reply": "2021-04-17T00:51:25.135979Z"
    }
   },
   "outputs": [
    {
     "data": {
      "text/html": [
       "<div>\n",
       "<style scoped>\n",
       "    .dataframe tbody tr th:only-of-type {\n",
       "        vertical-align: middle;\n",
       "    }\n",
       "\n",
       "    .dataframe tbody tr th {\n",
       "        vertical-align: top;\n",
       "    }\n",
       "\n",
       "    .dataframe thead th {\n",
       "        text-align: right;\n",
       "    }\n",
       "</style>\n",
       "<table border=\"1\" class=\"dataframe\">\n",
       "  <thead>\n",
       "    <tr style=\"text-align: right;\">\n",
       "      <th></th>\n",
       "      <th>x</th>\n",
       "      <th>y</th>\n",
       "      <th>z</th>\n",
       "    </tr>\n",
       "  </thead>\n",
       "  <tbody>\n",
       "    <tr>\n",
       "      <th>a</th>\n",
       "      <td>1</td>\n",
       "      <td>2</td>\n",
       "      <td>3</td>\n",
       "    </tr>\n",
       "  </tbody>\n",
       "</table>\n",
       "</div>"
      ],
      "text/plain": [
       "   x  y  z\n",
       "a  1  2  3"
      ]
     },
     "execution_count": 1,
     "metadata": {},
     "output_type": "execute_result"
    }
   ],
   "source": [
    "df >> rownames(['a'])"
   ]
  },
  {
   "cell_type": "code",
   "execution_count": 6,
   "id": "falling-bishop",
   "metadata": {
    "execution": {
     "iopub.execute_input": "2021-04-17T00:51:25.140269Z",
     "iopub.status.busy": "2021-04-17T00:51:25.139740Z",
     "iopub.status.idle": "2021-04-17T00:51:25.163805Z",
     "shell.execute_reply": "2021-04-17T00:51:25.164199Z"
    }
   },
   "outputs": [
    {
     "data": {
      "text/plain": [
       "['x', 'y', 'z']"
      ]
     },
     "execution_count": 1,
     "metadata": {},
     "output_type": "execute_result"
    }
   ],
   "source": [
    "df >> colnames()"
   ]
  },
  {
   "cell_type": "code",
   "execution_count": 7,
   "id": "offshore-silver",
   "metadata": {
    "execution": {
     "iopub.execute_input": "2021-04-17T00:51:25.168655Z",
     "iopub.status.busy": "2021-04-17T00:51:25.168084Z",
     "iopub.status.idle": "2021-04-17T00:51:25.225692Z",
     "shell.execute_reply": "2021-04-17T00:51:25.225177Z"
    }
   },
   "outputs": [
    {
     "name": "stdout",
     "output_type": "stream",
     "text": [
      "[0, 1, 2]\n"
     ]
    },
    {
     "data": {
      "text/html": [
       "<div>\n",
       "<style scoped>\n",
       "    .dataframe tbody tr th:only-of-type {\n",
       "        vertical-align: middle;\n",
       "    }\n",
       "\n",
       "    .dataframe tbody tr th {\n",
       "        vertical-align: top;\n",
       "    }\n",
       "\n",
       "    .dataframe thead th {\n",
       "        text-align: right;\n",
       "    }\n",
       "</style>\n",
       "<table border=\"1\" class=\"dataframe\">\n",
       "  <thead>\n",
       "    <tr style=\"text-align: right;\">\n",
       "      <th></th>\n",
       "      <th>v1</th>\n",
       "      <th>v2</th>\n",
       "      <th>v3</th>\n",
       "    </tr>\n",
       "  </thead>\n",
       "  <tbody>\n",
       "    <tr>\n",
       "      <th>0</th>\n",
       "      <td>1</td>\n",
       "      <td>2</td>\n",
       "      <td>3</td>\n",
       "    </tr>\n",
       "  </tbody>\n",
       "</table>\n",
       "</div>"
      ],
      "text/plain": [
       "   v1  v2  v3\n",
       "0   1   2   3"
      ]
     },
     "execution_count": 1,
     "metadata": {},
     "output_type": "execute_result"
    }
   ],
   "source": [
    "df >> colnames(['v1', 'v2', 'v3'])"
   ]
  },
  {
   "cell_type": "code",
   "execution_count": 8,
   "id": "robust-memory",
   "metadata": {
    "execution": {
     "iopub.execute_input": "2021-04-17T00:51:25.234551Z",
     "iopub.status.busy": "2021-04-17T00:51:25.233887Z",
     "iopub.status.idle": "2021-04-17T00:51:25.237981Z",
     "shell.execute_reply": "2021-04-17T00:51:25.237495Z"
    }
   },
   "outputs": [
    {
     "data": {
      "text/plain": [
       "(1, 3)"
      ]
     },
     "execution_count": 1,
     "metadata": {},
     "output_type": "execute_result"
    }
   ],
   "source": [
    "df >> dim()"
   ]
  },
  {
   "cell_type": "code",
   "execution_count": 9,
   "id": "exceptional-record",
   "metadata": {
    "execution": {
     "iopub.execute_input": "2021-04-17T00:51:25.242546Z",
     "iopub.status.busy": "2021-04-17T00:51:25.241800Z",
     "iopub.status.idle": "2021-04-17T00:51:25.245202Z",
     "shell.execute_reply": "2021-04-17T00:51:25.245549Z"
    }
   },
   "outputs": [
    {
     "data": {
      "text/plain": [
       "1"
      ]
     },
     "execution_count": 1,
     "metadata": {},
     "output_type": "execute_result"
    }
   ],
   "source": [
    "df >> nrow()"
   ]
  },
  {
   "cell_type": "code",
   "execution_count": 10,
   "id": "apparent-shell",
   "metadata": {
    "execution": {
     "iopub.execute_input": "2021-04-17T00:51:25.250514Z",
     "iopub.status.busy": "2021-04-17T00:51:25.249779Z",
     "iopub.status.idle": "2021-04-17T00:51:25.253739Z",
     "shell.execute_reply": "2021-04-17T00:51:25.253337Z"
    }
   },
   "outputs": [
    {
     "data": {
      "text/plain": [
       "3"
      ]
     },
     "execution_count": 1,
     "metadata": {},
     "output_type": "execute_result"
    }
   ],
   "source": [
    "df >> ncol()"
   ]
  },
  {
   "cell_type": "code",
   "execution_count": 11,
   "id": "latin-shooting",
   "metadata": {
    "execution": {
     "iopub.execute_input": "2021-04-17T00:51:25.260258Z",
     "iopub.status.busy": "2021-04-17T00:51:25.259540Z",
     "iopub.status.idle": "2021-04-17T00:51:25.263660Z",
     "shell.execute_reply": "2021-04-17T00:51:25.263143Z"
    }
   },
   "outputs": [
    {
     "data": {
      "text/html": [
       "<div>\n",
       "<style scoped>\n",
       "    .dataframe tbody tr th:only-of-type {\n",
       "        vertical-align: middle;\n",
       "    }\n",
       "\n",
       "    .dataframe tbody tr th {\n",
       "        vertical-align: top;\n",
       "    }\n",
       "\n",
       "    .dataframe thead th {\n",
       "        text-align: right;\n",
       "    }\n",
       "</style>\n",
       "<table border=\"1\" class=\"dataframe\">\n",
       "  <thead>\n",
       "    <tr style=\"text-align: right;\">\n",
       "      <th></th>\n",
       "      <th>0</th>\n",
       "      <th>1</th>\n",
       "      <th>2</th>\n",
       "    </tr>\n",
       "  </thead>\n",
       "  <tbody>\n",
       "    <tr>\n",
       "      <th>0</th>\n",
       "      <td>1</td>\n",
       "      <td>0</td>\n",
       "      <td>0</td>\n",
       "    </tr>\n",
       "    <tr>\n",
       "      <th>1</th>\n",
       "      <td>0</td>\n",
       "      <td>1</td>\n",
       "      <td>0</td>\n",
       "    </tr>\n",
       "    <tr>\n",
       "      <th>2</th>\n",
       "      <td>0</td>\n",
       "      <td>0</td>\n",
       "      <td>1</td>\n",
       "    </tr>\n",
       "  </tbody>\n",
       "</table>\n",
       "</div>"
      ],
      "text/plain": [
       "   0  1  2\n",
       "0  1  0  0\n",
       "1  0  1  0\n",
       "2  0  0  1"
      ]
     },
     "execution_count": 1,
     "metadata": {},
     "output_type": "execute_result"
    }
   ],
   "source": [
    "diag(3)"
   ]
  },
  {
   "cell_type": "code",
   "execution_count": 12,
   "id": "joined-emission",
   "metadata": {
    "execution": {
     "iopub.execute_input": "2021-04-17T00:51:25.270675Z",
     "iopub.status.busy": "2021-04-17T00:51:25.269757Z",
     "iopub.status.idle": "2021-04-17T00:51:25.273194Z",
     "shell.execute_reply": "2021-04-17T00:51:25.273550Z"
    }
   },
   "outputs": [
    {
     "data": {
      "text/html": [
       "<div>\n",
       "<style scoped>\n",
       "    .dataframe tbody tr th:only-of-type {\n",
       "        vertical-align: middle;\n",
       "    }\n",
       "\n",
       "    .dataframe tbody tr th {\n",
       "        vertical-align: top;\n",
       "    }\n",
       "\n",
       "    .dataframe thead th {\n",
       "        text-align: right;\n",
       "    }\n",
       "</style>\n",
       "<table border=\"1\" class=\"dataframe\">\n",
       "  <thead>\n",
       "    <tr style=\"text-align: right;\">\n",
       "      <th></th>\n",
       "      <th>0</th>\n",
       "      <th>1</th>\n",
       "      <th>2</th>\n",
       "      <th>3</th>\n",
       "    </tr>\n",
       "  </thead>\n",
       "  <tbody>\n",
       "    <tr>\n",
       "      <th>0</th>\n",
       "      <td>10</td>\n",
       "      <td>0</td>\n",
       "      <td>0</td>\n",
       "      <td>0</td>\n",
       "    </tr>\n",
       "    <tr>\n",
       "      <th>1</th>\n",
       "      <td>0</td>\n",
       "      <td>10</td>\n",
       "      <td>0</td>\n",
       "      <td>0</td>\n",
       "    </tr>\n",
       "    <tr>\n",
       "      <th>2</th>\n",
       "      <td>0</td>\n",
       "      <td>0</td>\n",
       "      <td>10</td>\n",
       "      <td>0</td>\n",
       "    </tr>\n",
       "  </tbody>\n",
       "</table>\n",
       "</div>"
      ],
      "text/plain": [
       "    0   1   2  3\n",
       "0  10   0   0  0\n",
       "1   0  10   0  0\n",
       "2   0   0  10  0"
      ]
     },
     "execution_count": 1,
     "metadata": {},
     "output_type": "execute_result"
    }
   ],
   "source": [
    "diag(10, 3, 4)"
   ]
  },
  {
   "cell_type": "code",
   "execution_count": 13,
   "id": "derived-spain",
   "metadata": {
    "execution": {
     "iopub.execute_input": "2021-04-17T00:51:25.284445Z",
     "iopub.status.busy": "2021-04-17T00:51:25.283696Z",
     "iopub.status.idle": "2021-04-17T00:51:25.287406Z",
     "shell.execute_reply": "2021-04-17T00:51:25.286926Z"
    }
   },
   "outputs": [
    {
     "data": {
      "text/html": [
       "<div>\n",
       "<style scoped>\n",
       "    .dataframe tbody tr th:only-of-type {\n",
       "        vertical-align: middle;\n",
       "    }\n",
       "\n",
       "    .dataframe tbody tr th {\n",
       "        vertical-align: top;\n",
       "    }\n",
       "\n",
       "    .dataframe thead th {\n",
       "        text-align: right;\n",
       "    }\n",
       "</style>\n",
       "<table border=\"1\" class=\"dataframe\">\n",
       "  <thead>\n",
       "    <tr style=\"text-align: right;\">\n",
       "      <th></th>\n",
       "      <th>0</th>\n",
       "      <th>1</th>\n",
       "    </tr>\n",
       "  </thead>\n",
       "  <tbody>\n",
       "    <tr>\n",
       "      <th>0</th>\n",
       "      <td>0.0+1.0j</td>\n",
       "      <td>0.0+0.0j</td>\n",
       "    </tr>\n",
       "    <tr>\n",
       "      <th>1</th>\n",
       "      <td>0.0+0.0j</td>\n",
       "      <td>0.0+2.0j</td>\n",
       "    </tr>\n",
       "  </tbody>\n",
       "</table>\n",
       "</div>"
      ],
      "text/plain": [
       "          0         1\n",
       "0  0.0+1.0j  0.0+0.0j\n",
       "1  0.0+0.0j  0.0+2.0j"
      ]
     },
     "execution_count": 1,
     "metadata": {},
     "output_type": "execute_result"
    }
   ],
   "source": [
    "diag(c(1j,2j))"
   ]
  },
  {
   "cell_type": "code",
   "execution_count": 14,
   "id": "unexpected-salon",
   "metadata": {
    "execution": {
     "iopub.execute_input": "2021-04-17T00:51:25.295068Z",
     "iopub.status.busy": "2021-04-17T00:51:25.294321Z",
     "iopub.status.idle": "2021-04-17T00:51:25.297887Z",
     "shell.execute_reply": "2021-04-17T00:51:25.297493Z"
    }
   },
   "outputs": [
    {
     "data": {
      "text/html": [
       "<div>\n",
       "<style scoped>\n",
       "    .dataframe tbody tr th:only-of-type {\n",
       "        vertical-align: middle;\n",
       "    }\n",
       "\n",
       "    .dataframe tbody tr th {\n",
       "        vertical-align: top;\n",
       "    }\n",
       "\n",
       "    .dataframe thead th {\n",
       "        text-align: right;\n",
       "    }\n",
       "</style>\n",
       "<table border=\"1\" class=\"dataframe\">\n",
       "  <thead>\n",
       "    <tr style=\"text-align: right;\">\n",
       "      <th></th>\n",
       "      <th>0</th>\n",
       "      <th>1</th>\n",
       "      <th>2</th>\n",
       "    </tr>\n",
       "  </thead>\n",
       "  <tbody>\n",
       "    <tr>\n",
       "      <th>0</th>\n",
       "      <td>True</td>\n",
       "      <td>False</td>\n",
       "      <td>False</td>\n",
       "    </tr>\n",
       "    <tr>\n",
       "      <th>1</th>\n",
       "      <td>False</td>\n",
       "      <td>True</td>\n",
       "      <td>False</td>\n",
       "    </tr>\n",
       "    <tr>\n",
       "      <th>2</th>\n",
       "      <td>False</td>\n",
       "      <td>False</td>\n",
       "      <td>True</td>\n",
       "    </tr>\n",
       "  </tbody>\n",
       "</table>\n",
       "</div>"
      ],
      "text/plain": [
       "       0      1      2\n",
       "0   True  False  False\n",
       "1  False   True  False\n",
       "2  False  False   True"
      ]
     },
     "execution_count": 1,
     "metadata": {},
     "output_type": "execute_result"
    }
   ],
   "source": [
    "diag(TRUE, 3)"
   ]
  },
  {
   "cell_type": "code",
   "execution_count": 15,
   "id": "handled-asthma",
   "metadata": {
    "execution": {
     "iopub.execute_input": "2021-04-17T00:51:25.304711Z",
     "iopub.status.busy": "2021-04-17T00:51:25.304081Z",
     "iopub.status.idle": "2021-04-17T00:51:25.307496Z",
     "shell.execute_reply": "2021-04-17T00:51:25.307133Z"
    }
   },
   "outputs": [
    {
     "data": {
      "text/html": [
       "<div>\n",
       "<style scoped>\n",
       "    .dataframe tbody tr th:only-of-type {\n",
       "        vertical-align: middle;\n",
       "    }\n",
       "\n",
       "    .dataframe tbody tr th {\n",
       "        vertical-align: top;\n",
       "    }\n",
       "\n",
       "    .dataframe thead th {\n",
       "        text-align: right;\n",
       "    }\n",
       "</style>\n",
       "<table border=\"1\" class=\"dataframe\">\n",
       "  <thead>\n",
       "    <tr style=\"text-align: right;\">\n",
       "      <th></th>\n",
       "      <th>0</th>\n",
       "      <th>1</th>\n",
       "      <th>2</th>\n",
       "    </tr>\n",
       "  </thead>\n",
       "  <tbody>\n",
       "    <tr>\n",
       "      <th>0</th>\n",
       "      <td>1</td>\n",
       "      <td>0</td>\n",
       "      <td>0</td>\n",
       "    </tr>\n",
       "    <tr>\n",
       "      <th>1</th>\n",
       "      <td>0</td>\n",
       "      <td>2</td>\n",
       "      <td>0</td>\n",
       "    </tr>\n",
       "    <tr>\n",
       "      <th>2</th>\n",
       "      <td>0</td>\n",
       "      <td>0</td>\n",
       "      <td>3</td>\n",
       "    </tr>\n",
       "  </tbody>\n",
       "</table>\n",
       "</div>"
      ],
      "text/plain": [
       "   0  1  2\n",
       "0  1  0  0\n",
       "1  0  2  0\n",
       "2  0  0  3"
      ]
     },
     "execution_count": 1,
     "metadata": {},
     "output_type": "execute_result"
    }
   ],
   "source": [
    "diag([1,2,3])"
   ]
  },
  {
   "cell_type": "code",
   "execution_count": 16,
   "id": "unusual-adapter",
   "metadata": {
    "execution": {
     "iopub.execute_input": "2021-04-17T00:51:25.314501Z",
     "iopub.status.busy": "2021-04-17T00:51:25.313958Z",
     "iopub.status.idle": "2021-04-17T00:51:25.317333Z",
     "shell.execute_reply": "2021-04-17T00:51:25.316966Z"
    }
   },
   "outputs": [
    {
     "data": {
      "text/html": [
       "<div>\n",
       "<style scoped>\n",
       "    .dataframe tbody tr th:only-of-type {\n",
       "        vertical-align: middle;\n",
       "    }\n",
       "\n",
       "    .dataframe tbody tr th {\n",
       "        vertical-align: top;\n",
       "    }\n",
       "\n",
       "    .dataframe thead th {\n",
       "        text-align: right;\n",
       "    }\n",
       "</style>\n",
       "<table border=\"1\" class=\"dataframe\">\n",
       "  <thead>\n",
       "    <tr style=\"text-align: right;\">\n",
       "      <th></th>\n",
       "      <th>0</th>\n",
       "      <th>1</th>\n",
       "      <th>2</th>\n",
       "      <th>3</th>\n",
       "    </tr>\n",
       "  </thead>\n",
       "  <tbody>\n",
       "    <tr>\n",
       "      <th>0</th>\n",
       "      <td>2</td>\n",
       "      <td>0</td>\n",
       "      <td>0</td>\n",
       "      <td>0</td>\n",
       "    </tr>\n",
       "    <tr>\n",
       "      <th>1</th>\n",
       "      <td>0</td>\n",
       "      <td>1</td>\n",
       "      <td>0</td>\n",
       "      <td>0</td>\n",
       "    </tr>\n",
       "    <tr>\n",
       "      <th>2</th>\n",
       "      <td>0</td>\n",
       "      <td>0</td>\n",
       "      <td>2</td>\n",
       "      <td>0</td>\n",
       "    </tr>\n",
       "    <tr>\n",
       "      <th>3</th>\n",
       "      <td>0</td>\n",
       "      <td>0</td>\n",
       "      <td>0</td>\n",
       "      <td>1</td>\n",
       "    </tr>\n",
       "  </tbody>\n",
       "</table>\n",
       "</div>"
      ],
      "text/plain": [
       "   0  1  2  3\n",
       "0  2  0  0  0\n",
       "1  0  1  0  0\n",
       "2  0  0  2  0\n",
       "3  0  0  0  1"
      ]
     },
     "execution_count": 1,
     "metadata": {},
     "output_type": "execute_result"
    }
   ],
   "source": [
    "diag([2, 1], 4)"
   ]
  },
  {
   "cell_type": "code",
   "execution_count": 17,
   "id": "recovered-mother",
   "metadata": {
    "execution": {
     "iopub.execute_input": "2021-04-17T00:51:25.323976Z",
     "iopub.status.busy": "2021-04-17T00:51:25.321861Z",
     "iopub.status.idle": "2021-04-17T00:51:25.326968Z",
     "shell.execute_reply": "2021-04-17T00:51:25.327340Z"
    }
   },
   "outputs": [
    {
     "data": {
      "text/html": [
       "<div>\n",
       "<style scoped>\n",
       "    .dataframe tbody tr th:only-of-type {\n",
       "        vertical-align: middle;\n",
       "    }\n",
       "\n",
       "    .dataframe tbody tr th {\n",
       "        vertical-align: top;\n",
       "    }\n",
       "\n",
       "    .dataframe thead th {\n",
       "        text-align: right;\n",
       "    }\n",
       "</style>\n",
       "<table border=\"1\" class=\"dataframe\">\n",
       "  <thead>\n",
       "    <tr style=\"text-align: right;\">\n",
       "      <th></th>\n",
       "      <th>0</th>\n",
       "    </tr>\n",
       "  </thead>\n",
       "  <tbody>\n",
       "    <tr>\n",
       "      <th>x</th>\n",
       "      <td>1</td>\n",
       "    </tr>\n",
       "    <tr>\n",
       "      <th>y</th>\n",
       "      <td>2</td>\n",
       "    </tr>\n",
       "    <tr>\n",
       "      <th>z</th>\n",
       "      <td>3</td>\n",
       "    </tr>\n",
       "  </tbody>\n",
       "</table>\n",
       "</div>"
      ],
      "text/plain": [
       "   0\n",
       "x  1\n",
       "y  2\n",
       "z  3"
      ]
     },
     "execution_count": 1,
     "metadata": {},
     "output_type": "execute_result"
    }
   ],
   "source": [
    "df >> t()"
   ]
  }
 ],
 "metadata": {
  "kernelspec": {
   "display_name": "Python 3",
   "language": "python",
   "name": "python3"
  },
  "language_info": {
   "codemirror_mode": {
    "name": "ipython",
    "version": 3
   },
   "file_extension": ".py",
   "mimetype": "text/x-python",
   "name": "python",
   "nbconvert_exporter": "python",
   "pygments_lexer": "ipython3",
   "version": "3.7.8"
  }
 },
 "nbformat": 4,
 "nbformat_minor": 5
}
