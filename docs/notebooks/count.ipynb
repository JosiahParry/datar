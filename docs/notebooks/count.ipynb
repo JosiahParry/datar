{
 "cells": [
  {
   "cell_type": "code",
   "execution_count": 1,
   "id": "floral-roberts",
   "metadata": {
    "execution": {
     "iopub.execute_input": "2021-04-17T00:51:58.839478Z",
     "iopub.status.busy": "2021-04-17T00:51:58.838706Z",
     "iopub.status.idle": "2021-04-17T00:51:59.601341Z",
     "shell.execute_reply": "2021-04-17T00:51:59.600820Z"
    }
   },
   "outputs": [
    {
     "output_type": "display_data",
     "data": {
      "text/plain": "<IPython.core.display.HTML object>",
      "text/html": "<div style=\"text-align: right; text-style: italic\">Try this notebook on <a target=\"_blank\" href=\"https://mybinder.org/v2/gh/pwwang/datar/93d069f3ca36711fc811c61dcf60e9fc3d1460a5?filepath=docs%2Fnotebooks%2Fcount.ipynb\">binder</a>.</div>"
     },
     "metadata": {}
    },
    {
     "output_type": "display_data",
     "data": {
      "text/plain": "<IPython.core.display.Markdown object>",
      "text/markdown": "### # count  "
     },
     "metadata": {}
    },
    {
     "output_type": "display_data",
     "data": {
      "text/plain": "<IPython.core.display.Markdown object>",
      "text/markdown": "##### Count observations by group\n\nSee https://dplyr.tidyverse.org/reference/count.html  \n\n##### Args:\n&emsp;&emsp;`x`: The dataframe  \n&emsp;&emsp;`*columns`: and  \n&emsp;&emsp;`**mutates`: Variables to group by  \n&emsp;&emsp;`wt`: Frequency weights. Can be None or a variable:  \n&emsp;&emsp;&emsp;&emsp;If None (the default), counts the number of rows in each group.  \n&emsp;&emsp;&emsp;&emsp;If a variable, computes sum(wt) for each group.  \n\n&emsp;&emsp;`sort`: If TRUE, will show the largest groups at the top.  \n&emsp;&emsp;`name`: The name of the new column in the output.  \n\n##### Returns:\n&emsp;&emsp;DataFrame object with the count column  \n"
     },
     "metadata": {}
    },
    {
     "output_type": "display_data",
     "data": {
      "text/plain": "<IPython.core.display.Markdown object>",
      "text/markdown": "### # tally  "
     },
     "metadata": {}
    },
    {
     "output_type": "display_data",
     "data": {
      "text/plain": "<IPython.core.display.Markdown object>",
      "text/markdown": "##### A ower-level function for count that assumes you've done the grouping\n\nSee count()  \n"
     },
     "metadata": {}
    },
    {
     "output_type": "display_data",
     "data": {
      "text/plain": "<IPython.core.display.Markdown object>",
      "text/markdown": "### # add_count  "
     },
     "metadata": {}
    },
    {
     "output_type": "display_data",
     "data": {
      "text/plain": "<IPython.core.display.Markdown object>",
      "text/markdown": "##### Equivalents to count() but use mutate() instead of summarise()\n\nSee count().  \n"
     },
     "metadata": {}
    },
    {
     "output_type": "display_data",
     "data": {
      "text/plain": "<IPython.core.display.Markdown object>",
      "text/markdown": "### # add_tally  "
     },
     "metadata": {}
    },
    {
     "output_type": "display_data",
     "data": {
      "text/plain": "<IPython.core.display.Markdown object>",
      "text/markdown": "##### Equivalents to tally() but use mutate() instead of summarise()\n\nSee count().  \n"
     },
     "metadata": {}
    }
   ],
   "source": [
    "# https://dplyr.tidyverse.org/reference/count.html\n",
    "from pandas import DataFrame\n",
    "from datar.datasets import starwars\n",
    "from datar.all import *\n",
    "\n",
    "%run nb_helpers.py\n",
    "nb_header(count, tally, add_count, add_tally)"
   ]
  },
  {
   "cell_type": "code",
   "execution_count": 2,
   "id": "vietnamese-scheduling",
   "metadata": {
    "execution": {
     "iopub.execute_input": "2021-04-17T00:51:59.605728Z",
     "iopub.status.busy": "2021-04-17T00:51:59.605212Z",
     "iopub.status.idle": "2021-04-17T00:51:59.798803Z",
     "shell.execute_reply": "2021-04-17T00:51:59.798380Z"
    }
   },
   "outputs": [
    {
     "output_type": "execute_result",
     "data": {
      "text/plain": [
       "           species   n\n",
       "0           Aleena   1\n",
       "1         Besalisk   1\n",
       "2           Cerean   1\n",
       "3         Chagrian   1\n",
       "4         Clawdite   1\n",
       "5            Droid   6\n",
       "6              Dug   1\n",
       "7             Ewok   1\n",
       "8        Geonosian   1\n",
       "9           Gungan   3\n",
       "10           Human  35\n",
       "11            Hutt   1\n",
       "12        Iktotchi   1\n",
       "13         Kaleesh   1\n",
       "14        Kaminoan   2\n",
       "15         Kel Dor   1\n",
       "16        Mirialan   2\n",
       "17    Mon Calamari   1\n",
       "18            Muun   1\n",
       "19        Nautolan   1\n",
       "20       Neimodian   1\n",
       "21          Pau'an   1\n",
       "22        Quermian   1\n",
       "23          Rodian   1\n",
       "24         Skakoan   1\n",
       "25       Sullustan   1\n",
       "26      Tholothian   1\n",
       "27         Togruta   1\n",
       "28           Toong   1\n",
       "29       Toydarian   1\n",
       "30      Trandoshan   1\n",
       "31         Twi'lek   2\n",
       "32      Vulptereen   1\n",
       "33         Wookiee   2\n",
       "34           Xexto   1\n",
       "35  Yoda's species   1\n",
       "36          Zabrak   2\n",
       "37            None   4"
      ],
      "text/html": "<div>\n<style scoped>\n    .dataframe tbody tr th:only-of-type {\n        vertical-align: middle;\n    }\n\n    .dataframe tbody tr th {\n        vertical-align: top;\n    }\n\n    .dataframe thead th {\n        text-align: right;\n    }\n</style>\n<table border=\"1\" class=\"dataframe\">\n  <thead>\n    <tr style=\"text-align: right;\">\n      <th></th>\n      <th>species</th>\n      <th>n</th>\n    </tr>\n  </thead>\n  <tbody>\n    <tr>\n      <th>0</th>\n      <td>Aleena</td>\n      <td>1</td>\n    </tr>\n    <tr>\n      <th>1</th>\n      <td>Besalisk</td>\n      <td>1</td>\n    </tr>\n    <tr>\n      <th>2</th>\n      <td>Cerean</td>\n      <td>1</td>\n    </tr>\n    <tr>\n      <th>3</th>\n      <td>Chagrian</td>\n      <td>1</td>\n    </tr>\n    <tr>\n      <th>4</th>\n      <td>Clawdite</td>\n      <td>1</td>\n    </tr>\n    <tr>\n      <th>5</th>\n      <td>Droid</td>\n      <td>6</td>\n    </tr>\n    <tr>\n      <th>6</th>\n      <td>Dug</td>\n      <td>1</td>\n    </tr>\n    <tr>\n      <th>7</th>\n      <td>Ewok</td>\n      <td>1</td>\n    </tr>\n    <tr>\n      <th>8</th>\n      <td>Geonosian</td>\n      <td>1</td>\n    </tr>\n    <tr>\n      <th>9</th>\n      <td>Gungan</td>\n      <td>3</td>\n    </tr>\n    <tr>\n      <th>10</th>\n      <td>Human</td>\n      <td>35</td>\n    </tr>\n    <tr>\n      <th>11</th>\n      <td>Hutt</td>\n      <td>1</td>\n    </tr>\n    <tr>\n      <th>12</th>\n      <td>Iktotchi</td>\n      <td>1</td>\n    </tr>\n    <tr>\n      <th>13</th>\n      <td>Kaleesh</td>\n      <td>1</td>\n    </tr>\n    <tr>\n      <th>14</th>\n      <td>Kaminoan</td>\n      <td>2</td>\n    </tr>\n    <tr>\n      <th>15</th>\n      <td>Kel Dor</td>\n      <td>1</td>\n    </tr>\n    <tr>\n      <th>16</th>\n      <td>Mirialan</td>\n      <td>2</td>\n    </tr>\n    <tr>\n      <th>17</th>\n      <td>Mon Calamari</td>\n      <td>1</td>\n    </tr>\n    <tr>\n      <th>18</th>\n      <td>Muun</td>\n      <td>1</td>\n    </tr>\n    <tr>\n      <th>19</th>\n      <td>Nautolan</td>\n      <td>1</td>\n    </tr>\n    <tr>\n      <th>20</th>\n      <td>Neimodian</td>\n      <td>1</td>\n    </tr>\n    <tr>\n      <th>21</th>\n      <td>Pau'an</td>\n      <td>1</td>\n    </tr>\n    <tr>\n      <th>22</th>\n      <td>Quermian</td>\n      <td>1</td>\n    </tr>\n    <tr>\n      <th>23</th>\n      <td>Rodian</td>\n      <td>1</td>\n    </tr>\n    <tr>\n      <th>24</th>\n      <td>Skakoan</td>\n      <td>1</td>\n    </tr>\n    <tr>\n      <th>25</th>\n      <td>Sullustan</td>\n      <td>1</td>\n    </tr>\n    <tr>\n      <th>26</th>\n      <td>Tholothian</td>\n      <td>1</td>\n    </tr>\n    <tr>\n      <th>27</th>\n      <td>Togruta</td>\n      <td>1</td>\n    </tr>\n    <tr>\n      <th>28</th>\n      <td>Toong</td>\n      <td>1</td>\n    </tr>\n    <tr>\n      <th>29</th>\n      <td>Toydarian</td>\n      <td>1</td>\n    </tr>\n    <tr>\n      <th>30</th>\n      <td>Trandoshan</td>\n      <td>1</td>\n    </tr>\n    <tr>\n      <th>31</th>\n      <td>Twi'lek</td>\n      <td>2</td>\n    </tr>\n    <tr>\n      <th>32</th>\n      <td>Vulptereen</td>\n      <td>1</td>\n    </tr>\n    <tr>\n      <th>33</th>\n      <td>Wookiee</td>\n      <td>2</td>\n    </tr>\n    <tr>\n      <th>34</th>\n      <td>Xexto</td>\n      <td>1</td>\n    </tr>\n    <tr>\n      <th>35</th>\n      <td>Yoda's species</td>\n      <td>1</td>\n    </tr>\n    <tr>\n      <th>36</th>\n      <td>Zabrak</td>\n      <td>2</td>\n    </tr>\n    <tr>\n      <th>37</th>\n      <td>None</td>\n      <td>4</td>\n    </tr>\n  </tbody>\n</table>\n</div>"
     },
     "metadata": {},
     "execution_count": 2
    }
   ],
   "source": [
    "starwars >> count(f.species)"
   ]
  },
  {
   "cell_type": "code",
   "execution_count": 3,
   "id": "upset-capture",
   "metadata": {
    "execution": {
     "iopub.execute_input": "2021-04-17T00:51:59.835288Z",
     "iopub.status.busy": "2021-04-17T00:51:59.834262Z",
     "iopub.status.idle": "2021-04-17T00:52:00.101943Z",
     "shell.execute_reply": "2021-04-17T00:52:00.101507Z"
    }
   },
   "outputs": [
    {
     "output_type": "execute_result",
     "data": {
      "text/plain": [
       "           species   n\n",
       "0            Human  35\n",
       "1            Droid   6\n",
       "2             None   4\n",
       "3           Gungan   3\n",
       "4          Wookiee   2\n",
       "5           Zabrak   2\n",
       "6          Twi'lek   2\n",
       "7         Mirialan   2\n",
       "8         Kaminoan   2\n",
       "9          Skakoan   1\n",
       "10       Sullustan   1\n",
       "11      Tholothian   1\n",
       "12           Toong   1\n",
       "13           Xexto   1\n",
       "14          Rodian   1\n",
       "15       Toydarian   1\n",
       "16      Trandoshan   1\n",
       "17  Yoda's species   1\n",
       "18      Vulptereen   1\n",
       "19         Togruta   1\n",
       "20        Quermian   1\n",
       "21          Aleena   1\n",
       "22       Neimodian   1\n",
       "23        Nautolan   1\n",
       "24    Mon Calamari   1\n",
       "25         Kel Dor   1\n",
       "26         Kaleesh   1\n",
       "27        Iktotchi   1\n",
       "28            Hutt   1\n",
       "29       Geonosian   1\n",
       "30            Ewok   1\n",
       "31             Dug   1\n",
       "32        Clawdite   1\n",
       "33        Chagrian   1\n",
       "34          Cerean   1\n",
       "35        Besalisk   1\n",
       "36          Pau'an   1\n",
       "37            Muun   1"
      ],
      "text/html": "<div>\n<style scoped>\n    .dataframe tbody tr th:only-of-type {\n        vertical-align: middle;\n    }\n\n    .dataframe tbody tr th {\n        vertical-align: top;\n    }\n\n    .dataframe thead th {\n        text-align: right;\n    }\n</style>\n<table border=\"1\" class=\"dataframe\">\n  <thead>\n    <tr style=\"text-align: right;\">\n      <th></th>\n      <th>species</th>\n      <th>n</th>\n    </tr>\n  </thead>\n  <tbody>\n    <tr>\n      <th>0</th>\n      <td>Human</td>\n      <td>35</td>\n    </tr>\n    <tr>\n      <th>1</th>\n      <td>Droid</td>\n      <td>6</td>\n    </tr>\n    <tr>\n      <th>2</th>\n      <td>None</td>\n      <td>4</td>\n    </tr>\n    <tr>\n      <th>3</th>\n      <td>Gungan</td>\n      <td>3</td>\n    </tr>\n    <tr>\n      <th>4</th>\n      <td>Wookiee</td>\n      <td>2</td>\n    </tr>\n    <tr>\n      <th>5</th>\n      <td>Zabrak</td>\n      <td>2</td>\n    </tr>\n    <tr>\n      <th>6</th>\n      <td>Twi'lek</td>\n      <td>2</td>\n    </tr>\n    <tr>\n      <th>7</th>\n      <td>Mirialan</td>\n      <td>2</td>\n    </tr>\n    <tr>\n      <th>8</th>\n      <td>Kaminoan</td>\n      <td>2</td>\n    </tr>\n    <tr>\n      <th>9</th>\n      <td>Skakoan</td>\n      <td>1</td>\n    </tr>\n    <tr>\n      <th>10</th>\n      <td>Sullustan</td>\n      <td>1</td>\n    </tr>\n    <tr>\n      <th>11</th>\n      <td>Tholothian</td>\n      <td>1</td>\n    </tr>\n    <tr>\n      <th>12</th>\n      <td>Toong</td>\n      <td>1</td>\n    </tr>\n    <tr>\n      <th>13</th>\n      <td>Xexto</td>\n      <td>1</td>\n    </tr>\n    <tr>\n      <th>14</th>\n      <td>Rodian</td>\n      <td>1</td>\n    </tr>\n    <tr>\n      <th>15</th>\n      <td>Toydarian</td>\n      <td>1</td>\n    </tr>\n    <tr>\n      <th>16</th>\n      <td>Trandoshan</td>\n      <td>1</td>\n    </tr>\n    <tr>\n      <th>17</th>\n      <td>Yoda's species</td>\n      <td>1</td>\n    </tr>\n    <tr>\n      <th>18</th>\n      <td>Vulptereen</td>\n      <td>1</td>\n    </tr>\n    <tr>\n      <th>19</th>\n      <td>Togruta</td>\n      <td>1</td>\n    </tr>\n    <tr>\n      <th>20</th>\n      <td>Quermian</td>\n      <td>1</td>\n    </tr>\n    <tr>\n      <th>21</th>\n      <td>Aleena</td>\n      <td>1</td>\n    </tr>\n    <tr>\n      <th>22</th>\n      <td>Neimodian</td>\n      <td>1</td>\n    </tr>\n    <tr>\n      <th>23</th>\n      <td>Nautolan</td>\n      <td>1</td>\n    </tr>\n    <tr>\n      <th>24</th>\n      <td>Mon Calamari</td>\n      <td>1</td>\n    </tr>\n    <tr>\n      <th>25</th>\n      <td>Kel Dor</td>\n      <td>1</td>\n    </tr>\n    <tr>\n      <th>26</th>\n      <td>Kaleesh</td>\n      <td>1</td>\n    </tr>\n    <tr>\n      <th>27</th>\n      <td>Iktotchi</td>\n      <td>1</td>\n    </tr>\n    <tr>\n      <th>28</th>\n      <td>Hutt</td>\n      <td>1</td>\n    </tr>\n    <tr>\n      <th>29</th>\n      <td>Geonosian</td>\n      <td>1</td>\n    </tr>\n    <tr>\n      <th>30</th>\n      <td>Ewok</td>\n      <td>1</td>\n    </tr>\n    <tr>\n      <th>31</th>\n      <td>Dug</td>\n      <td>1</td>\n    </tr>\n    <tr>\n      <th>32</th>\n      <td>Clawdite</td>\n      <td>1</td>\n    </tr>\n    <tr>\n      <th>33</th>\n      <td>Chagrian</td>\n      <td>1</td>\n    </tr>\n    <tr>\n      <th>34</th>\n      <td>Cerean</td>\n      <td>1</td>\n    </tr>\n    <tr>\n      <th>35</th>\n      <td>Besalisk</td>\n      <td>1</td>\n    </tr>\n    <tr>\n      <th>36</th>\n      <td>Pau'an</td>\n      <td>1</td>\n    </tr>\n    <tr>\n      <th>37</th>\n      <td>Muun</td>\n      <td>1</td>\n    </tr>\n  </tbody>\n</table>\n</div>"
     },
     "metadata": {},
     "execution_count": 3
    }
   ],
   "source": [
    "starwars >> count(f.species, sort=True)"
   ]
  },
  {
   "cell_type": "code",
   "execution_count": 4,
   "id": "invisible-stage",
   "metadata": {
    "execution": {
     "iopub.execute_input": "2021-04-17T00:52:00.172108Z",
     "iopub.status.busy": "2021-04-17T00:52:00.171250Z",
     "iopub.status.idle": "2021-04-17T00:52:00.177285Z",
     "shell.execute_reply": "2021-04-17T00:52:00.176753Z"
    }
   },
   "outputs": [
    {
     "output_type": "execute_result",
     "data": {
      "text/plain": [
       "              sex     gender   n\n",
       "0            male  masculine  60\n",
       "1          female   feminine  16\n",
       "2            none  masculine   5\n",
       "3            None       None   4\n",
       "4  hermaphroditic  masculine   1\n",
       "5            none   feminine   1\n",
       "[Groups: ['sex'] (n=5)]"
      ],
      "text/html": "<div>\n<style scoped>\n    .dataframe tbody tr th:only-of-type {\n        vertical-align: middle;\n    }\n\n    .dataframe tbody tr th {\n        vertical-align: top;\n    }\n\n    .dataframe thead th {\n        text-align: right;\n    }\n</style>\n<table border=\"1\" class=\"dataframe\">\n  <thead>\n    <tr style=\"text-align: right;\">\n      <th></th>\n      <th>sex</th>\n      <th>gender</th>\n      <th>n</th>\n    </tr>\n  </thead>\n  <tbody>\n    <tr>\n      <th>0</th>\n      <td>male</td>\n      <td>masculine</td>\n      <td>60</td>\n    </tr>\n    <tr>\n      <th>1</th>\n      <td>female</td>\n      <td>feminine</td>\n      <td>16</td>\n    </tr>\n    <tr>\n      <th>2</th>\n      <td>none</td>\n      <td>masculine</td>\n      <td>5</td>\n    </tr>\n    <tr>\n      <th>3</th>\n      <td>None</td>\n      <td>None</td>\n      <td>4</td>\n    </tr>\n    <tr>\n      <th>4</th>\n      <td>hermaphroditic</td>\n      <td>masculine</td>\n      <td>1</td>\n    </tr>\n    <tr>\n      <th>5</th>\n      <td>none</td>\n      <td>feminine</td>\n      <td>1</td>\n    </tr>\n  </tbody>\n</table>\n</div>[Groups: ['sex'] (n=5)]"
     },
     "metadata": {},
     "execution_count": 4
    }
   ],
   "source": [
    "starwars >> count(f.sex, f.gender, sort=True)"
   ]
  },
  {
   "cell_type": "code",
   "execution_count": 5,
   "id": "sought-republican",
   "metadata": {
    "execution": {
     "iopub.execute_input": "2021-04-17T00:52:00.266918Z",
     "iopub.status.busy": "2021-04-17T00:52:00.263727Z",
     "iopub.status.idle": "2021-04-17T00:52:00.273110Z",
     "shell.execute_reply": "2021-04-17T00:52:00.272667Z"
    }
   },
   "outputs": [
    {
     "output_type": "execute_result",
     "data": {
      "text/plain": [
       "    birth_decade   n\n",
       "0           10.0   1\n",
       "1           20.0   6\n",
       "2           30.0   4\n",
       "3           40.0   6\n",
       "4           50.0   8\n",
       "5           60.0   4\n",
       "6           70.0   4\n",
       "7           80.0   2\n",
       "8           90.0   3\n",
       "9          100.0   1\n",
       "10         110.0   1\n",
       "11         200.0   1\n",
       "12         600.0   1\n",
       "13         900.0   1\n",
       "14           NaN  44"
      ],
      "text/html": "<div>\n<style scoped>\n    .dataframe tbody tr th:only-of-type {\n        vertical-align: middle;\n    }\n\n    .dataframe tbody tr th {\n        vertical-align: top;\n    }\n\n    .dataframe thead th {\n        text-align: right;\n    }\n</style>\n<table border=\"1\" class=\"dataframe\">\n  <thead>\n    <tr style=\"text-align: right;\">\n      <th></th>\n      <th>birth_decade</th>\n      <th>n</th>\n    </tr>\n  </thead>\n  <tbody>\n    <tr>\n      <th>0</th>\n      <td>10.0</td>\n      <td>1</td>\n    </tr>\n    <tr>\n      <th>1</th>\n      <td>20.0</td>\n      <td>6</td>\n    </tr>\n    <tr>\n      <th>2</th>\n      <td>30.0</td>\n      <td>4</td>\n    </tr>\n    <tr>\n      <th>3</th>\n      <td>40.0</td>\n      <td>6</td>\n    </tr>\n    <tr>\n      <th>4</th>\n      <td>50.0</td>\n      <td>8</td>\n    </tr>\n    <tr>\n      <th>5</th>\n      <td>60.0</td>\n      <td>4</td>\n    </tr>\n    <tr>\n      <th>6</th>\n      <td>70.0</td>\n      <td>4</td>\n    </tr>\n    <tr>\n      <th>7</th>\n      <td>80.0</td>\n      <td>2</td>\n    </tr>\n    <tr>\n      <th>8</th>\n      <td>90.0</td>\n      <td>3</td>\n    </tr>\n    <tr>\n      <th>9</th>\n      <td>100.0</td>\n      <td>1</td>\n    </tr>\n    <tr>\n      <th>10</th>\n      <td>110.0</td>\n      <td>1</td>\n    </tr>\n    <tr>\n      <th>11</th>\n      <td>200.0</td>\n      <td>1</td>\n    </tr>\n    <tr>\n      <th>12</th>\n      <td>600.0</td>\n      <td>1</td>\n    </tr>\n    <tr>\n      <th>13</th>\n      <td>900.0</td>\n      <td>1</td>\n    </tr>\n    <tr>\n      <th>14</th>\n      <td>NaN</td>\n      <td>44</td>\n    </tr>\n  </tbody>\n</table>\n</div>"
     },
     "metadata": {},
     "execution_count": 5
    }
   ],
   "source": [
    "starwars >> count(birth_decade=round(f.birth_year, -1))"
   ]
  },
  {
   "cell_type": "code",
   "execution_count": 6,
   "id": "extended-advantage",
   "metadata": {
    "execution": {
     "iopub.execute_input": "2021-04-17T00:52:00.303165Z",
     "iopub.status.busy": "2021-04-17T00:52:00.302565Z",
     "iopub.status.idle": "2021-04-17T00:52:00.336842Z",
     "shell.execute_reply": "2021-04-17T00:52:00.336414Z"
    }
   },
   "outputs": [
    {
     "output_type": "execute_result",
     "data": {
      "text/plain": [
       "   gender  n\n",
       "0  female  2\n",
       "1    male  1"
      ],
      "text/html": "<div>\n<style scoped>\n    .dataframe tbody tr th:only-of-type {\n        vertical-align: middle;\n    }\n\n    .dataframe tbody tr th {\n        vertical-align: top;\n    }\n\n    .dataframe thead th {\n        text-align: right;\n    }\n</style>\n<table border=\"1\" class=\"dataframe\">\n  <thead>\n    <tr style=\"text-align: right;\">\n      <th></th>\n      <th>gender</th>\n      <th>n</th>\n    </tr>\n  </thead>\n  <tbody>\n    <tr>\n      <th>0</th>\n      <td>female</td>\n      <td>2</td>\n    </tr>\n    <tr>\n      <th>1</th>\n      <td>male</td>\n      <td>1</td>\n    </tr>\n  </tbody>\n</table>\n</div>"
     },
     "metadata": {},
     "execution_count": 6
    }
   ],
   "source": [
    "df = tribble(\n",
    "  f.name,    f.gender,   f.runs,\n",
    "  \"Max\",    \"male\",       10,\n",
    "  \"Sandra\", \"female\",      1,\n",
    "  \"Susan\",  \"female\",      4\n",
    ")\n",
    "# counts rows:\n",
    "df >> count(f.gender)"
   ]
  },
  {
   "cell_type": "code",
   "execution_count": 7,
   "id": "posted-group",
   "metadata": {
    "execution": {
     "iopub.execute_input": "2021-04-17T00:52:00.358247Z",
     "iopub.status.busy": "2021-04-17T00:52:00.357576Z",
     "iopub.status.idle": "2021-04-17T00:52:00.360847Z",
     "shell.execute_reply": "2021-04-17T00:52:00.360422Z"
    }
   },
   "outputs": [
    {
     "output_type": "execute_result",
     "data": {
      "text/plain": [
       "   gender   n\n",
       "0  female   5\n",
       "1    male  10"
      ],
      "text/html": "<div>\n<style scoped>\n    .dataframe tbody tr th:only-of-type {\n        vertical-align: middle;\n    }\n\n    .dataframe tbody tr th {\n        vertical-align: top;\n    }\n\n    .dataframe thead th {\n        text-align: right;\n    }\n</style>\n<table border=\"1\" class=\"dataframe\">\n  <thead>\n    <tr style=\"text-align: right;\">\n      <th></th>\n      <th>gender</th>\n      <th>n</th>\n    </tr>\n  </thead>\n  <tbody>\n    <tr>\n      <th>0</th>\n      <td>female</td>\n      <td>5</td>\n    </tr>\n    <tr>\n      <th>1</th>\n      <td>male</td>\n      <td>10</td>\n    </tr>\n  </tbody>\n</table>\n</div>"
     },
     "metadata": {},
     "execution_count": 7
    }
   ],
   "source": [
    "df >> count(f.gender, wt=f.runs)"
   ]
  },
  {
   "cell_type": "code",
   "execution_count": 8,
   "id": "perceived-category",
   "metadata": {
    "execution": {
     "iopub.execute_input": "2021-04-17T00:52:00.370287Z",
     "iopub.status.busy": "2021-04-17T00:52:00.369589Z",
     "iopub.status.idle": "2021-04-17T00:52:00.373076Z",
     "shell.execute_reply": "2021-04-17T00:52:00.372699Z"
    }
   },
   "outputs": [
    {
     "output_type": "execute_result",
     "data": {
      "text/plain": [
       "    n\n",
       "0  87"
      ],
      "text/html": "<div>\n<style scoped>\n    .dataframe tbody tr th:only-of-type {\n        vertical-align: middle;\n    }\n\n    .dataframe tbody tr th {\n        vertical-align: top;\n    }\n\n    .dataframe thead th {\n        text-align: right;\n    }\n</style>\n<table border=\"1\" class=\"dataframe\">\n  <thead>\n    <tr style=\"text-align: right;\">\n      <th></th>\n      <th>n</th>\n    </tr>\n  </thead>\n  <tbody>\n    <tr>\n      <th>0</th>\n      <td>87</td>\n    </tr>\n  </tbody>\n</table>\n</div>"
     },
     "metadata": {},
     "execution_count": 8
    }
   ],
   "source": [
    "starwars >> tally()"
   ]
  },
  {
   "cell_type": "code",
   "execution_count": 9,
   "id": "agricultural-spider",
   "metadata": {
    "execution": {
     "iopub.execute_input": "2021-04-17T00:52:00.512781Z",
     "iopub.status.busy": "2021-04-17T00:52:00.454322Z",
     "iopub.status.idle": "2021-04-17T00:52:00.519597Z",
     "shell.execute_reply": "2021-04-17T00:52:00.519192Z"
    }
   },
   "outputs": [
    {
     "output_type": "execute_result",
     "data": {
      "text/plain": [
       "           species   n\n",
       "0           Aleena   1\n",
       "1         Besalisk   1\n",
       "2           Cerean   1\n",
       "3         Chagrian   1\n",
       "4         Clawdite   1\n",
       "5            Droid   6\n",
       "6              Dug   1\n",
       "7             Ewok   1\n",
       "8        Geonosian   1\n",
       "9           Gungan   3\n",
       "10           Human  35\n",
       "11            Hutt   1\n",
       "12        Iktotchi   1\n",
       "13         Kaleesh   1\n",
       "14        Kaminoan   2\n",
       "15         Kel Dor   1\n",
       "16        Mirialan   2\n",
       "17    Mon Calamari   1\n",
       "18            Muun   1\n",
       "19        Nautolan   1\n",
       "20       Neimodian   1\n",
       "21          Pau'an   1\n",
       "22        Quermian   1\n",
       "23          Rodian   1\n",
       "24         Skakoan   1\n",
       "25       Sullustan   1\n",
       "26      Tholothian   1\n",
       "27         Togruta   1\n",
       "28           Toong   1\n",
       "29       Toydarian   1\n",
       "30      Trandoshan   1\n",
       "31         Twi'lek   2\n",
       "32      Vulptereen   1\n",
       "33         Wookiee   2\n",
       "34           Xexto   1\n",
       "35  Yoda's species   1\n",
       "36          Zabrak   2\n",
       "37            None   4"
      ],
      "text/html": "<div>\n<style scoped>\n    .dataframe tbody tr th:only-of-type {\n        vertical-align: middle;\n    }\n\n    .dataframe tbody tr th {\n        vertical-align: top;\n    }\n\n    .dataframe thead th {\n        text-align: right;\n    }\n</style>\n<table border=\"1\" class=\"dataframe\">\n  <thead>\n    <tr style=\"text-align: right;\">\n      <th></th>\n      <th>species</th>\n      <th>n</th>\n    </tr>\n  </thead>\n  <tbody>\n    <tr>\n      <th>0</th>\n      <td>Aleena</td>\n      <td>1</td>\n    </tr>\n    <tr>\n      <th>1</th>\n      <td>Besalisk</td>\n      <td>1</td>\n    </tr>\n    <tr>\n      <th>2</th>\n      <td>Cerean</td>\n      <td>1</td>\n    </tr>\n    <tr>\n      <th>3</th>\n      <td>Chagrian</td>\n      <td>1</td>\n    </tr>\n    <tr>\n      <th>4</th>\n      <td>Clawdite</td>\n      <td>1</td>\n    </tr>\n    <tr>\n      <th>5</th>\n      <td>Droid</td>\n      <td>6</td>\n    </tr>\n    <tr>\n      <th>6</th>\n      <td>Dug</td>\n      <td>1</td>\n    </tr>\n    <tr>\n      <th>7</th>\n      <td>Ewok</td>\n      <td>1</td>\n    </tr>\n    <tr>\n      <th>8</th>\n      <td>Geonosian</td>\n      <td>1</td>\n    </tr>\n    <tr>\n      <th>9</th>\n      <td>Gungan</td>\n      <td>3</td>\n    </tr>\n    <tr>\n      <th>10</th>\n      <td>Human</td>\n      <td>35</td>\n    </tr>\n    <tr>\n      <th>11</th>\n      <td>Hutt</td>\n      <td>1</td>\n    </tr>\n    <tr>\n      <th>12</th>\n      <td>Iktotchi</td>\n      <td>1</td>\n    </tr>\n    <tr>\n      <th>13</th>\n      <td>Kaleesh</td>\n      <td>1</td>\n    </tr>\n    <tr>\n      <th>14</th>\n      <td>Kaminoan</td>\n      <td>2</td>\n    </tr>\n    <tr>\n      <th>15</th>\n      <td>Kel Dor</td>\n      <td>1</td>\n    </tr>\n    <tr>\n      <th>16</th>\n      <td>Mirialan</td>\n      <td>2</td>\n    </tr>\n    <tr>\n      <th>17</th>\n      <td>Mon Calamari</td>\n      <td>1</td>\n    </tr>\n    <tr>\n      <th>18</th>\n      <td>Muun</td>\n      <td>1</td>\n    </tr>\n    <tr>\n      <th>19</th>\n      <td>Nautolan</td>\n      <td>1</td>\n    </tr>\n    <tr>\n      <th>20</th>\n      <td>Neimodian</td>\n      <td>1</td>\n    </tr>\n    <tr>\n      <th>21</th>\n      <td>Pau'an</td>\n      <td>1</td>\n    </tr>\n    <tr>\n      <th>22</th>\n      <td>Quermian</td>\n      <td>1</td>\n    </tr>\n    <tr>\n      <th>23</th>\n      <td>Rodian</td>\n      <td>1</td>\n    </tr>\n    <tr>\n      <th>24</th>\n      <td>Skakoan</td>\n      <td>1</td>\n    </tr>\n    <tr>\n      <th>25</th>\n      <td>Sullustan</td>\n      <td>1</td>\n    </tr>\n    <tr>\n      <th>26</th>\n      <td>Tholothian</td>\n      <td>1</td>\n    </tr>\n    <tr>\n      <th>27</th>\n      <td>Togruta</td>\n      <td>1</td>\n    </tr>\n    <tr>\n      <th>28</th>\n      <td>Toong</td>\n      <td>1</td>\n    </tr>\n    <tr>\n      <th>29</th>\n      <td>Toydarian</td>\n      <td>1</td>\n    </tr>\n    <tr>\n      <th>30</th>\n      <td>Trandoshan</td>\n      <td>1</td>\n    </tr>\n    <tr>\n      <th>31</th>\n      <td>Twi'lek</td>\n      <td>2</td>\n    </tr>\n    <tr>\n      <th>32</th>\n      <td>Vulptereen</td>\n      <td>1</td>\n    </tr>\n    <tr>\n      <th>33</th>\n      <td>Wookiee</td>\n      <td>2</td>\n    </tr>\n    <tr>\n      <th>34</th>\n      <td>Xexto</td>\n      <td>1</td>\n    </tr>\n    <tr>\n      <th>35</th>\n      <td>Yoda's species</td>\n      <td>1</td>\n    </tr>\n    <tr>\n      <th>36</th>\n      <td>Zabrak</td>\n      <td>2</td>\n    </tr>\n    <tr>\n      <th>37</th>\n      <td>None</td>\n      <td>4</td>\n    </tr>\n  </tbody>\n</table>\n</div>"
     },
     "metadata": {},
     "execution_count": 9
    }
   ],
   "source": [
    "starwars >> group_by(f.species) >> tally() "
   ]
  },
  {
   "cell_type": "code",
   "execution_count": 10,
   "id": "outside-removal",
   "metadata": {
    "execution": {
     "iopub.execute_input": "2021-04-17T00:52:00.568253Z",
     "iopub.status.busy": "2021-04-17T00:52:00.567538Z",
     "iopub.status.idle": "2021-04-17T00:52:00.571417Z",
     "shell.execute_reply": "2021-04-17T00:52:00.571028Z"
    }
   },
   "outputs": [
    {
     "output_type": "execute_result",
     "data": {
      "text/plain": [
       "     name  gender  runs   n\n",
       "0     Max    male    10  10\n",
       "1  Sandra  female     1   5\n",
       "2   Susan  female     4   5\n",
       "[Groups: ['gender'] (n=2)]"
      ],
      "text/html": "<div>\n<style scoped>\n    .dataframe tbody tr th:only-of-type {\n        vertical-align: middle;\n    }\n\n    .dataframe tbody tr th {\n        vertical-align: top;\n    }\n\n    .dataframe thead th {\n        text-align: right;\n    }\n</style>\n<table border=\"1\" class=\"dataframe\">\n  <thead>\n    <tr style=\"text-align: right;\">\n      <th></th>\n      <th>name</th>\n      <th>gender</th>\n      <th>runs</th>\n      <th>n</th>\n    </tr>\n  </thead>\n  <tbody>\n    <tr>\n      <th>0</th>\n      <td>Max</td>\n      <td>male</td>\n      <td>10</td>\n      <td>10</td>\n    </tr>\n    <tr>\n      <th>1</th>\n      <td>Sandra</td>\n      <td>female</td>\n      <td>1</td>\n      <td>5</td>\n    </tr>\n    <tr>\n      <th>2</th>\n      <td>Susan</td>\n      <td>female</td>\n      <td>4</td>\n      <td>5</td>\n    </tr>\n  </tbody>\n</table>\n</div>[Groups: ['gender'] (n=2)]"
     },
     "metadata": {},
     "execution_count": 10
    }
   ],
   "source": [
    "df >> add_count(f.gender, wt=f.runs)"
   ]
  },
  {
   "cell_type": "code",
   "execution_count": 11,
   "id": "neutral-utility",
   "metadata": {
    "execution": {
     "iopub.execute_input": "2021-04-17T00:52:00.578838Z",
     "iopub.status.busy": "2021-04-17T00:52:00.578197Z",
     "iopub.status.idle": "2021-04-17T00:52:00.584361Z",
     "shell.execute_reply": "2021-04-17T00:52:00.583675Z"
    }
   },
   "outputs": [
    {
     "output_type": "execute_result",
     "data": {
      "text/plain": [
       "     name  gender  runs\n",
       "0     Max    male    10\n",
       "1  Sandra  female     1\n",
       "2   Susan  female     4"
      ],
      "text/html": "<div>\n<style scoped>\n    .dataframe tbody tr th:only-of-type {\n        vertical-align: middle;\n    }\n\n    .dataframe tbody tr th {\n        vertical-align: top;\n    }\n\n    .dataframe thead th {\n        text-align: right;\n    }\n</style>\n<table border=\"1\" class=\"dataframe\">\n  <thead>\n    <tr style=\"text-align: right;\">\n      <th></th>\n      <th>name</th>\n      <th>gender</th>\n      <th>runs</th>\n    </tr>\n  </thead>\n  <tbody>\n    <tr>\n      <th>0</th>\n      <td>Max</td>\n      <td>male</td>\n      <td>10</td>\n    </tr>\n    <tr>\n      <th>1</th>\n      <td>Sandra</td>\n      <td>female</td>\n      <td>1</td>\n    </tr>\n    <tr>\n      <th>2</th>\n      <td>Susan</td>\n      <td>female</td>\n      <td>4</td>\n    </tr>\n  </tbody>\n</table>\n</div>"
     },
     "metadata": {},
     "execution_count": 11
    }
   ],
   "source": [
    "df"
   ]
  },
  {
   "cell_type": "code",
   "execution_count": 12,
   "id": "amber-chamber",
   "metadata": {
    "execution": {
     "iopub.execute_input": "2021-04-17T00:52:00.595948Z",
     "iopub.status.busy": "2021-04-17T00:52:00.595268Z",
     "iopub.status.idle": "2021-04-17T00:52:00.600353Z",
     "shell.execute_reply": "2021-04-17T00:52:00.599769Z"
    }
   },
   "outputs": [
    {
     "output_type": "execute_result",
     "data": {
      "text/plain": [
       "     name  gender  runs   n\n",
       "0     Max    male    10  15\n",
       "1  Sandra  female     1  15\n",
       "2   Susan  female     4  15"
      ],
      "text/html": "<div>\n<style scoped>\n    .dataframe tbody tr th:only-of-type {\n        vertical-align: middle;\n    }\n\n    .dataframe tbody tr th {\n        vertical-align: top;\n    }\n\n    .dataframe thead th {\n        text-align: right;\n    }\n</style>\n<table border=\"1\" class=\"dataframe\">\n  <thead>\n    <tr style=\"text-align: right;\">\n      <th></th>\n      <th>name</th>\n      <th>gender</th>\n      <th>runs</th>\n      <th>n</th>\n    </tr>\n  </thead>\n  <tbody>\n    <tr>\n      <th>0</th>\n      <td>Max</td>\n      <td>male</td>\n      <td>10</td>\n      <td>15</td>\n    </tr>\n    <tr>\n      <th>1</th>\n      <td>Sandra</td>\n      <td>female</td>\n      <td>1</td>\n      <td>15</td>\n    </tr>\n    <tr>\n      <th>2</th>\n      <td>Susan</td>\n      <td>female</td>\n      <td>4</td>\n      <td>15</td>\n    </tr>\n  </tbody>\n</table>\n</div>"
     },
     "metadata": {},
     "execution_count": 12
    }
   ],
   "source": [
    "df >> add_tally(wt=f.runs)"
   ]
  }
 ],
 "metadata": {
  "kernelspec": {
   "display_name": "Python 3",
   "language": "python",
   "name": "python3"
  },
  "language_info": {
   "codemirror_mode": {
    "name": "ipython",
    "version": 3
   },
   "file_extension": ".py",
   "mimetype": "text/x-python",
   "name": "python",
   "nbconvert_exporter": "python",
   "pygments_lexer": "ipython3",
   "version": "3.7.8"
  }
 },
 "nbformat": 4,
 "nbformat_minor": 5
}