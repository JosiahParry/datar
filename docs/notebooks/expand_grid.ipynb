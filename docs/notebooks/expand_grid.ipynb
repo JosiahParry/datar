{
 "cells": [
  {
   "cell_type": "code",
   "execution_count": 1,
   "id": "respiratory-oriental",
   "metadata": {
    "execution": {
     "iopub.execute_input": "2021-04-17T00:52:31.094470Z",
     "iopub.status.busy": "2021-04-17T00:52:31.093706Z",
     "iopub.status.idle": "2021-04-17T00:52:31.785119Z",
     "shell.execute_reply": "2021-04-17T00:52:31.784545Z"
    }
   },
   "outputs": [
    {
     "data": {
      "text/html": [
       "<div style=\"text-align: right; text-style: italic\">Try this notebook on <a target=\"_blank\" href=\"https://mybinder.org/v2/gh/pwwang/datar/93d069f3ca36711fc811c61dcf60e9fc3d1460a5?filepath=docs%2Fnotebooks%2Fexpand_grid.ipynb\">binder</a>.</div>"
      ],
      "text/plain": [
       "<IPython.core.display.HTML object>"
      ]
     },
     "metadata": {},
     "output_type": "display_data"
    },
    {
     "data": {
      "text/markdown": [
       "### # expand_grid  "
      ],
      "text/plain": [
       "<IPython.core.display.Markdown object>"
      ]
     },
     "metadata": {},
     "output_type": "display_data"
    },
    {
     "data": {
      "text/markdown": [
       "##### Expand elements into a new dataframe\n",
       "\n",
       "See https://tidyr.tidyverse.org/reference/expand_grid.html  \n",
       "\n",
       "##### Args:\n",
       "&emsp;&emsp;_data, **kwargs: Name-value pairs. The name will become the column  \n",
       "&emsp;&emsp;&emsp;&emsp;name in the output.  \n",
       "&emsp;&emsp;&emsp;&emsp;For _data, will try to fetch name via `_data.__dfname__`. If failed  \n",
       "&emsp;&emsp;&emsp;&emsp;`_data` will be used.  \n",
       "\n",
       "##### Returns:\n",
       "&emsp;&emsp;The expanded dataframe  \n"
      ],
      "text/plain": [
       "<IPython.core.display.Markdown object>"
      ]
     },
     "metadata": {},
     "output_type": "display_data"
    }
   ],
   "source": [
    "# https://tidyr.tidyverse.org/reference/expand_grid.html\n",
    "\n",
    "from datar.all import *\n",
    "\n",
    "%run nb_helpers.py\n",
    "nb_header(expand_grid)"
   ]
  },
  {
   "cell_type": "code",
   "execution_count": 2,
   "id": "driven-cornwall",
   "metadata": {
    "execution": {
     "iopub.execute_input": "2021-04-17T00:52:31.796469Z",
     "iopub.status.busy": "2021-04-17T00:52:31.795859Z",
     "iopub.status.idle": "2021-04-17T00:52:31.806180Z",
     "shell.execute_reply": "2021-04-17T00:52:31.805791Z"
    }
   },
   "outputs": [
    {
     "data": {
      "text/html": [
       "<div>\n",
       "<style scoped>\n",
       "    .dataframe tbody tr th:only-of-type {\n",
       "        vertical-align: middle;\n",
       "    }\n",
       "\n",
       "    .dataframe tbody tr th {\n",
       "        vertical-align: top;\n",
       "    }\n",
       "\n",
       "    .dataframe thead th {\n",
       "        text-align: right;\n",
       "    }\n",
       "</style>\n",
       "<table border=\"1\" class=\"dataframe\">\n",
       "  <thead>\n",
       "    <tr style=\"text-align: right;\">\n",
       "      <th></th>\n",
       "      <th>x</th>\n",
       "      <th>y</th>\n",
       "    </tr>\n",
       "  </thead>\n",
       "  <tbody>\n",
       "    <tr>\n",
       "      <th>0</th>\n",
       "      <td>1</td>\n",
       "      <td>1</td>\n",
       "    </tr>\n",
       "    <tr>\n",
       "      <th>1</th>\n",
       "      <td>1</td>\n",
       "      <td>2</td>\n",
       "    </tr>\n",
       "    <tr>\n",
       "      <th>2</th>\n",
       "      <td>2</td>\n",
       "      <td>1</td>\n",
       "    </tr>\n",
       "    <tr>\n",
       "      <th>3</th>\n",
       "      <td>2</td>\n",
       "      <td>2</td>\n",
       "    </tr>\n",
       "    <tr>\n",
       "      <th>4</th>\n",
       "      <td>3</td>\n",
       "      <td>1</td>\n",
       "    </tr>\n",
       "    <tr>\n",
       "      <th>5</th>\n",
       "      <td>3</td>\n",
       "      <td>2</td>\n",
       "    </tr>\n",
       "  </tbody>\n",
       "</table>\n",
       "</div>"
      ],
      "text/plain": [
       "   x  y\n",
       "0  1  1\n",
       "1  1  2\n",
       "2  2  1\n",
       "3  2  2\n",
       "4  3  1\n",
       "5  3  2"
      ]
     },
     "execution_count": 1,
     "metadata": {},
     "output_type": "execute_result"
    }
   ],
   "source": [
    "expand_grid(x=range(1,4), y=range(1,3))"
   ]
  },
  {
   "cell_type": "code",
   "execution_count": 3,
   "id": "structural-assembly",
   "metadata": {
    "execution": {
     "iopub.execute_input": "2021-04-17T00:52:31.823329Z",
     "iopub.status.busy": "2021-04-17T00:52:31.822530Z",
     "iopub.status.idle": "2021-04-17T00:52:31.826948Z",
     "shell.execute_reply": "2021-04-17T00:52:31.826432Z"
    }
   },
   "outputs": [
    {
     "data": {
      "text/html": [
       "<div>\n",
       "<style scoped>\n",
       "    .dataframe tbody tr th:only-of-type {\n",
       "        vertical-align: middle;\n",
       "    }\n",
       "\n",
       "    .dataframe tbody tr th {\n",
       "        vertical-align: top;\n",
       "    }\n",
       "\n",
       "    .dataframe thead th {\n",
       "        text-align: right;\n",
       "    }\n",
       "</style>\n",
       "<table border=\"1\" class=\"dataframe\">\n",
       "  <thead>\n",
       "    <tr style=\"text-align: right;\">\n",
       "      <th></th>\n",
       "      <th>l1</th>\n",
       "      <th>l2</th>\n",
       "    </tr>\n",
       "  </thead>\n",
       "  <tbody>\n",
       "    <tr>\n",
       "      <th>0</th>\n",
       "      <td>a</td>\n",
       "      <td>A</td>\n",
       "    </tr>\n",
       "    <tr>\n",
       "      <th>1</th>\n",
       "      <td>a</td>\n",
       "      <td>B</td>\n",
       "    </tr>\n",
       "    <tr>\n",
       "      <th>2</th>\n",
       "      <td>a</td>\n",
       "      <td>C</td>\n",
       "    </tr>\n",
       "    <tr>\n",
       "      <th>3</th>\n",
       "      <td>a</td>\n",
       "      <td>D</td>\n",
       "    </tr>\n",
       "    <tr>\n",
       "      <th>4</th>\n",
       "      <td>a</td>\n",
       "      <td>E</td>\n",
       "    </tr>\n",
       "    <tr>\n",
       "      <th>...</th>\n",
       "      <td>...</td>\n",
       "      <td>...</td>\n",
       "    </tr>\n",
       "    <tr>\n",
       "      <th>671</th>\n",
       "      <td>z</td>\n",
       "      <td>V</td>\n",
       "    </tr>\n",
       "    <tr>\n",
       "      <th>672</th>\n",
       "      <td>z</td>\n",
       "      <td>W</td>\n",
       "    </tr>\n",
       "    <tr>\n",
       "      <th>673</th>\n",
       "      <td>z</td>\n",
       "      <td>X</td>\n",
       "    </tr>\n",
       "    <tr>\n",
       "      <th>674</th>\n",
       "      <td>z</td>\n",
       "      <td>Y</td>\n",
       "    </tr>\n",
       "    <tr>\n",
       "      <th>675</th>\n",
       "      <td>z</td>\n",
       "      <td>Z</td>\n",
       "    </tr>\n",
       "  </tbody>\n",
       "</table>\n",
       "<p>676 rows × 2 columns</p>\n",
       "</div>"
      ],
      "text/plain": [
       "    l1 l2\n",
       "0    a  A\n",
       "1    a  B\n",
       "2    a  C\n",
       "3    a  D\n",
       "4    a  E\n",
       "..  .. ..\n",
       "671  z  V\n",
       "672  z  W\n",
       "673  z  X\n",
       "674  z  Y\n",
       "675  z  Z\n",
       "\n",
       "[676 rows x 2 columns]"
      ]
     },
     "execution_count": 1,
     "metadata": {},
     "output_type": "execute_result"
    }
   ],
   "source": [
    "expand_grid(l1=letters, l2=LETTERS)"
   ]
  },
  {
   "cell_type": "code",
   "execution_count": 4,
   "id": "nervous-sterling",
   "metadata": {
    "execution": {
     "iopub.execute_input": "2021-04-17T00:52:31.832712Z",
     "iopub.status.busy": "2021-04-17T00:52:31.832014Z",
     "iopub.status.idle": "2021-04-17T00:52:31.881730Z",
     "shell.execute_reply": "2021-04-17T00:52:31.882150Z"
    }
   },
   "outputs": [
    {
     "data": {
      "text/html": [
       "<div>\n",
       "<style scoped>\n",
       "    .dataframe tbody tr th:only-of-type {\n",
       "        vertical-align: middle;\n",
       "    }\n",
       "\n",
       "    .dataframe tbody tr th {\n",
       "        vertical-align: top;\n",
       "    }\n",
       "\n",
       "    .dataframe thead th {\n",
       "        text-align: right;\n",
       "    }\n",
       "</style>\n",
       "<table border=\"1\" class=\"dataframe\">\n",
       "  <thead>\n",
       "    <tr style=\"text-align: right;\">\n",
       "      <th></th>\n",
       "      <th>df_x</th>\n",
       "      <th>df_y</th>\n",
       "      <th>z</th>\n",
       "    </tr>\n",
       "  </thead>\n",
       "  <tbody>\n",
       "    <tr>\n",
       "      <th>0</th>\n",
       "      <td>1</td>\n",
       "      <td>2</td>\n",
       "      <td>1</td>\n",
       "    </tr>\n",
       "    <tr>\n",
       "      <th>1</th>\n",
       "      <td>1</td>\n",
       "      <td>2</td>\n",
       "      <td>2</td>\n",
       "    </tr>\n",
       "    <tr>\n",
       "      <th>2</th>\n",
       "      <td>1</td>\n",
       "      <td>2</td>\n",
       "      <td>3</td>\n",
       "    </tr>\n",
       "    <tr>\n",
       "      <th>3</th>\n",
       "      <td>2</td>\n",
       "      <td>1</td>\n",
       "      <td>1</td>\n",
       "    </tr>\n",
       "    <tr>\n",
       "      <th>4</th>\n",
       "      <td>2</td>\n",
       "      <td>1</td>\n",
       "      <td>2</td>\n",
       "    </tr>\n",
       "    <tr>\n",
       "      <th>5</th>\n",
       "      <td>2</td>\n",
       "      <td>1</td>\n",
       "      <td>3</td>\n",
       "    </tr>\n",
       "  </tbody>\n",
       "</table>\n",
       "</div>"
      ],
      "text/plain": [
       "   df_x  df_y  z\n",
       "0     1     2  1\n",
       "1     1     2  2\n",
       "2     1     2  3\n",
       "3     2     1  1\n",
       "4     2     1  2\n",
       "5     2     1  3"
      ]
     },
     "execution_count": 1,
     "metadata": {},
     "output_type": "execute_result"
    }
   ],
   "source": [
    "expand_grid(df=tibble(x=[1,2], y=c(2, 1)), z=[1,2,3])"
   ]
  },
  {
   "cell_type": "code",
   "execution_count": 5,
   "id": "super-champagne",
   "metadata": {
    "execution": {
     "iopub.execute_input": "2021-04-17T00:52:31.886225Z",
     "iopub.status.busy": "2021-04-17T00:52:31.885466Z",
     "iopub.status.idle": "2021-04-17T00:52:31.910403Z",
     "shell.execute_reply": "2021-04-17T00:52:31.910937Z"
    }
   },
   "outputs": [
    {
     "data": {
      "text/html": [
       "<div>\n",
       "<style scoped>\n",
       "    .dataframe tbody tr th:only-of-type {\n",
       "        vertical-align: middle;\n",
       "    }\n",
       "\n",
       "    .dataframe tbody tr th {\n",
       "        vertical-align: top;\n",
       "    }\n",
       "\n",
       "    .dataframe thead th {\n",
       "        text-align: right;\n",
       "    }\n",
       "</style>\n",
       "<table border=\"1\" class=\"dataframe\">\n",
       "  <thead>\n",
       "    <tr style=\"text-align: right;\">\n",
       "      <th></th>\n",
       "      <th>x1_a</th>\n",
       "      <th>x1_b</th>\n",
       "      <th>x2_a</th>\n",
       "      <th>x2_b</th>\n",
       "    </tr>\n",
       "  </thead>\n",
       "  <tbody>\n",
       "    <tr>\n",
       "      <th>0</th>\n",
       "      <td>1</td>\n",
       "      <td>3</td>\n",
       "      <td>5</td>\n",
       "      <td>7</td>\n",
       "    </tr>\n",
       "    <tr>\n",
       "      <th>1</th>\n",
       "      <td>1</td>\n",
       "      <td>3</td>\n",
       "      <td>6</td>\n",
       "      <td>8</td>\n",
       "    </tr>\n",
       "    <tr>\n",
       "      <th>2</th>\n",
       "      <td>2</td>\n",
       "      <td>4</td>\n",
       "      <td>5</td>\n",
       "      <td>7</td>\n",
       "    </tr>\n",
       "    <tr>\n",
       "      <th>3</th>\n",
       "      <td>2</td>\n",
       "      <td>4</td>\n",
       "      <td>6</td>\n",
       "      <td>8</td>\n",
       "    </tr>\n",
       "  </tbody>\n",
       "</table>\n",
       "</div>"
      ],
      "text/plain": [
       "   x1_a  x1_b  x2_a  x2_b\n",
       "0     1     3     5     7\n",
       "1     1     3     6     8\n",
       "2     2     4     5     7\n",
       "3     2     4     6     8"
      ]
     },
     "execution_count": 1,
     "metadata": {},
     "output_type": "execute_result"
    }
   ],
   "source": [
    "expand_grid(x1=tibble(a=[1,2], b=[3,4]), x2=tibble(a=[5,6], b=[7,8]))"
   ]
  },
  {
   "cell_type": "code",
   "execution_count": null,
   "id": "respiratory-thesis",
   "metadata": {},
   "outputs": [],
   "source": []
  }
 ],
 "metadata": {
  "kernelspec": {
   "display_name": "Python 3",
   "language": "python",
   "name": "python3"
  },
  "language_info": {
   "codemirror_mode": {
    "name": "ipython",
    "version": 3
   },
   "file_extension": ".py",
   "mimetype": "text/x-python",
   "name": "python",
   "nbconvert_exporter": "python",
   "pygments_lexer": "ipython3",
   "version": "3.7.8"
  }
 },
 "nbformat": 4,
 "nbformat_minor": 5
}
