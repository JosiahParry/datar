{
 "cells": [
  {
   "cell_type": "code",
   "execution_count": 1,
   "id": "departmental-balloon",
   "metadata": {
    "execution": {
     "iopub.execute_input": "2021-04-17T00:51:36.534923Z",
     "iopub.status.busy": "2021-04-17T00:51:36.534250Z",
     "iopub.status.idle": "2021-04-17T00:51:37.332097Z",
     "shell.execute_reply": "2021-04-17T00:51:37.331072Z"
    }
   },
   "outputs": [
    {
     "data": {
      "text/html": [
       "<div style=\"text-align: right; text-style: italic\">Try this notebook on <a target=\"_blank\" href=\"https://mybinder.org/v2/gh/pwwang/datar/93d069f3ca36711fc811c61dcf60e9fc3d1460a5?filepath=docs%2Fnotebooks%2Fbind_rows.ipynb\">binder</a>.</div>"
      ],
      "text/plain": [
       "<IPython.core.display.HTML object>"
      ]
     },
     "metadata": {},
     "output_type": "display_data"
    },
    {
     "data": {
      "text/markdown": [
       "### # bind_rows  "
      ],
      "text/plain": [
       "<IPython.core.display.Markdown object>"
      ]
     },
     "metadata": {},
     "output_type": "display_data"
    },
    {
     "data": {
      "text/markdown": [
       "##### Bind rows of give dataframes\n",
       "\n",
       "##### Args:\n",
       "&emsp;&emsp;`_data`: The seed dataframe to bind others  \n",
       "&emsp;&emsp;&emsp;&emsp;Could be a dict or a list, keys/indexes will be used for _id col  \n",
       "\n",
       "&emsp;&emsp;`*datas`: Other dataframes to combine  \n",
       "&emsp;&emsp;`_id`: The name of the id columns  \n",
       "&emsp;&emsp;`**kwargs`: A mapping of dataframe, keys will be used as _id col.  \n",
       "\n",
       "##### Returns:\n",
       "&emsp;&emsp;The combined dataframe  \n"
      ],
      "text/plain": [
       "<IPython.core.display.Markdown object>"
      ]
     },
     "metadata": {},
     "output_type": "display_data"
    },
    {
     "data": {
      "text/markdown": [
       "### # bind_cols  "
      ],
      "text/plain": [
       "<IPython.core.display.Markdown object>"
      ]
     },
     "metadata": {},
     "output_type": "display_data"
    },
    {
     "data": {
      "text/markdown": [
       "##### Bind columns of give dataframes\n",
       "\n",
       "##### Args:\n",
       "&emsp;&emsp;_data, *datas: Dataframes to combine  \n",
       "\n",
       "##### Returns:\n",
       "&emsp;&emsp;The combined dataframe  \n"
      ],
      "text/plain": [
       "<IPython.core.display.Markdown object>"
      ]
     },
     "metadata": {},
     "output_type": "display_data"
    }
   ],
   "source": [
    "# https://dplyr.tidyverse.org/reference/bind.html\n",
    "\n",
    "from datar.datasets import starwars\n",
    "from datar.all import *\n",
    "\n",
    "%run nb_helpers.py\n",
    "nb_header(bind_rows, bind_cols)"
   ]
  },
  {
   "cell_type": "code",
   "execution_count": 2,
   "id": "loose-citation",
   "metadata": {
    "execution": {
     "iopub.execute_input": "2021-04-17T00:51:37.339085Z",
     "iopub.status.busy": "2021-04-17T00:51:37.338332Z",
     "iopub.status.idle": "2021-04-17T00:51:37.399343Z",
     "shell.execute_reply": "2021-04-17T00:51:37.398930Z"
    }
   },
   "outputs": [
    {
     "data": {
      "text/html": [
       "<div>\n",
       "<style scoped>\n",
       "    .dataframe tbody tr th:only-of-type {\n",
       "        vertical-align: middle;\n",
       "    }\n",
       "\n",
       "    .dataframe tbody tr th {\n",
       "        vertical-align: top;\n",
       "    }\n",
       "\n",
       "    .dataframe thead th {\n",
       "        text-align: right;\n",
       "    }\n",
       "</style>\n",
       "<table border=\"1\" class=\"dataframe\">\n",
       "  <thead>\n",
       "    <tr style=\"text-align: right;\">\n",
       "      <th></th>\n",
       "      <th>name</th>\n",
       "      <th>height</th>\n",
       "      <th>mass</th>\n",
       "      <th>hair_color</th>\n",
       "      <th>skin_color</th>\n",
       "      <th>eye_color</th>\n",
       "      <th>birth_year</th>\n",
       "      <th>sex</th>\n",
       "      <th>gender</th>\n",
       "      <th>homeworld</th>\n",
       "      <th>species</th>\n",
       "    </tr>\n",
       "  </thead>\n",
       "  <tbody>\n",
       "    <tr>\n",
       "      <th>0</th>\n",
       "      <td>Luke Skywalker</td>\n",
       "      <td>172.0</td>\n",
       "      <td>77.0</td>\n",
       "      <td>blond</td>\n",
       "      <td>fair</td>\n",
       "      <td>blue</td>\n",
       "      <td>19.0</td>\n",
       "      <td>male</td>\n",
       "      <td>masculine</td>\n",
       "      <td>Tatooine</td>\n",
       "      <td>Human</td>\n",
       "    </tr>\n",
       "    <tr>\n",
       "      <th>1</th>\n",
       "      <td>C-3PO</td>\n",
       "      <td>167.0</td>\n",
       "      <td>75.0</td>\n",
       "      <td>NaN</td>\n",
       "      <td>gold</td>\n",
       "      <td>yellow</td>\n",
       "      <td>112.0</td>\n",
       "      <td>none</td>\n",
       "      <td>masculine</td>\n",
       "      <td>Tatooine</td>\n",
       "      <td>Droid</td>\n",
       "    </tr>\n",
       "    <tr>\n",
       "      <th>2</th>\n",
       "      <td>R2-D2</td>\n",
       "      <td>96.0</td>\n",
       "      <td>32.0</td>\n",
       "      <td>NaN</td>\n",
       "      <td>white, blue</td>\n",
       "      <td>red</td>\n",
       "      <td>33.0</td>\n",
       "      <td>none</td>\n",
       "      <td>masculine</td>\n",
       "      <td>Naboo</td>\n",
       "      <td>Droid</td>\n",
       "    </tr>\n",
       "    <tr>\n",
       "      <th>3</th>\n",
       "      <td>Darth Vader</td>\n",
       "      <td>202.0</td>\n",
       "      <td>136.0</td>\n",
       "      <td>none</td>\n",
       "      <td>white</td>\n",
       "      <td>yellow</td>\n",
       "      <td>41.9</td>\n",
       "      <td>male</td>\n",
       "      <td>masculine</td>\n",
       "      <td>Tatooine</td>\n",
       "      <td>Human</td>\n",
       "    </tr>\n",
       "    <tr>\n",
       "      <th>4</th>\n",
       "      <td>Obi-Wan Kenobi</td>\n",
       "      <td>182.0</td>\n",
       "      <td>77.0</td>\n",
       "      <td>auburn, white</td>\n",
       "      <td>fair</td>\n",
       "      <td>blue-gray</td>\n",
       "      <td>57.0</td>\n",
       "      <td>male</td>\n",
       "      <td>masculine</td>\n",
       "      <td>Stewjon</td>\n",
       "      <td>Human</td>\n",
       "    </tr>\n",
       "    <tr>\n",
       "      <th>5</th>\n",
       "      <td>Anakin Skywalker</td>\n",
       "      <td>188.0</td>\n",
       "      <td>84.0</td>\n",
       "      <td>blond</td>\n",
       "      <td>fair</td>\n",
       "      <td>blue</td>\n",
       "      <td>41.9</td>\n",
       "      <td>male</td>\n",
       "      <td>masculine</td>\n",
       "      <td>Tatooine</td>\n",
       "      <td>Human</td>\n",
       "    </tr>\n",
       "    <tr>\n",
       "      <th>6</th>\n",
       "      <td>Wilhuff Tarkin</td>\n",
       "      <td>180.0</td>\n",
       "      <td>NaN</td>\n",
       "      <td>auburn, grey</td>\n",
       "      <td>fair</td>\n",
       "      <td>blue</td>\n",
       "      <td>64.0</td>\n",
       "      <td>male</td>\n",
       "      <td>masculine</td>\n",
       "      <td>Eriadu</td>\n",
       "      <td>Human</td>\n",
       "    </tr>\n",
       "    <tr>\n",
       "      <th>7</th>\n",
       "      <td>Chewbacca</td>\n",
       "      <td>228.0</td>\n",
       "      <td>112.0</td>\n",
       "      <td>brown</td>\n",
       "      <td>unknown</td>\n",
       "      <td>blue</td>\n",
       "      <td>200.0</td>\n",
       "      <td>male</td>\n",
       "      <td>masculine</td>\n",
       "      <td>Kashyyyk</td>\n",
       "      <td>Wookiee</td>\n",
       "    </tr>\n",
       "  </tbody>\n",
       "</table>\n",
       "</div>"
      ],
      "text/plain": [
       "               name  height   mass     hair_color   skin_color  eye_color  \\\n",
       "0    Luke Skywalker   172.0   77.0          blond         fair       blue   \n",
       "1             C-3PO   167.0   75.0            NaN         gold     yellow   \n",
       "2             R2-D2    96.0   32.0            NaN  white, blue        red   \n",
       "3       Darth Vader   202.0  136.0           none        white     yellow   \n",
       "4    Obi-Wan Kenobi   182.0   77.0  auburn, white         fair  blue-gray   \n",
       "5  Anakin Skywalker   188.0   84.0          blond         fair       blue   \n",
       "6    Wilhuff Tarkin   180.0    NaN   auburn, grey         fair       blue   \n",
       "7         Chewbacca   228.0  112.0          brown      unknown       blue   \n",
       "\n",
       "   birth_year   sex     gender homeworld  species  \n",
       "0        19.0  male  masculine  Tatooine    Human  \n",
       "1       112.0  none  masculine  Tatooine    Droid  \n",
       "2        33.0  none  masculine     Naboo    Droid  \n",
       "3        41.9  male  masculine  Tatooine    Human  \n",
       "4        57.0  male  masculine   Stewjon    Human  \n",
       "5        41.9  male  masculine  Tatooine    Human  \n",
       "6        64.0  male  masculine    Eriadu    Human  \n",
       "7       200.0  male  masculine  Kashyyyk  Wookiee  "
      ]
     },
     "execution_count": 1,
     "metadata": {},
     "output_type": "execute_result"
    }
   ],
   "source": [
    "one = starwars >> slice(f[:4])\n",
    "two = starwars >> slice(f[9:13])\n",
    "\n",
    "one >> bind_rows(two)"
   ]
  },
  {
   "cell_type": "code",
   "execution_count": 3,
   "id": "entire-overall",
   "metadata": {
    "execution": {
     "iopub.execute_input": "2021-04-17T00:51:37.403386Z",
     "iopub.status.busy": "2021-04-17T00:51:37.402748Z",
     "iopub.status.idle": "2021-04-17T00:51:37.471445Z",
     "shell.execute_reply": "2021-04-17T00:51:37.471016Z"
    }
   },
   "outputs": [
    {
     "data": {
      "text/html": [
       "<div>\n",
       "<style scoped>\n",
       "    .dataframe tbody tr th:only-of-type {\n",
       "        vertical-align: middle;\n",
       "    }\n",
       "\n",
       "    .dataframe tbody tr th {\n",
       "        vertical-align: top;\n",
       "    }\n",
       "\n",
       "    .dataframe thead th {\n",
       "        text-align: right;\n",
       "    }\n",
       "</style>\n",
       "<table border=\"1\" class=\"dataframe\">\n",
       "  <thead>\n",
       "    <tr style=\"text-align: right;\">\n",
       "      <th></th>\n",
       "      <th>a</th>\n",
       "      <th>b</th>\n",
       "    </tr>\n",
       "  </thead>\n",
       "  <tbody>\n",
       "    <tr>\n",
       "      <th>0</th>\n",
       "      <td>1</td>\n",
       "      <td>2</td>\n",
       "    </tr>\n",
       "    <tr>\n",
       "      <th>1</th>\n",
       "      <td>3</td>\n",
       "      <td>4</td>\n",
       "    </tr>\n",
       "  </tbody>\n",
       "</table>\n",
       "</div>"
      ],
      "text/plain": [
       "   a  b\n",
       "0  1  2\n",
       "1  3  4"
      ]
     },
     "execution_count": 1,
     "metadata": {},
     "output_type": "execute_result"
    }
   ],
   "source": [
    "tibble(a=1, b=2) >> bind_rows(tibble(a=3, b=4))"
   ]
  },
  {
   "cell_type": "code",
   "execution_count": 4,
   "id": "primary-convertible",
   "metadata": {
    "execution": {
     "iopub.execute_input": "2021-04-17T00:51:37.522360Z",
     "iopub.status.busy": "2021-04-17T00:51:37.521799Z",
     "iopub.status.idle": "2021-04-17T00:51:37.534852Z",
     "shell.execute_reply": "2021-04-17T00:51:37.534404Z"
    }
   },
   "outputs": [
    {
     "data": {
      "text/html": [
       "<div>\n",
       "<style scoped>\n",
       "    .dataframe tbody tr th:only-of-type {\n",
       "        vertical-align: middle;\n",
       "    }\n",
       "\n",
       "    .dataframe tbody tr th {\n",
       "        vertical-align: top;\n",
       "    }\n",
       "\n",
       "    .dataframe thead th {\n",
       "        text-align: right;\n",
       "    }\n",
       "</style>\n",
       "<table border=\"1\" class=\"dataframe\">\n",
       "  <thead>\n",
       "    <tr style=\"text-align: right;\">\n",
       "      <th></th>\n",
       "      <th>a</th>\n",
       "      <th>b</th>\n",
       "    </tr>\n",
       "  </thead>\n",
       "  <tbody>\n",
       "    <tr>\n",
       "      <th>0</th>\n",
       "      <td>1</td>\n",
       "      <td>2</td>\n",
       "    </tr>\n",
       "    <tr>\n",
       "      <th>1</th>\n",
       "      <td>3</td>\n",
       "      <td>5</td>\n",
       "    </tr>\n",
       "    <tr>\n",
       "      <th>2</th>\n",
       "      <td>4</td>\n",
       "      <td>6</td>\n",
       "    </tr>\n",
       "    <tr>\n",
       "      <th>3</th>\n",
       "      <td>7</td>\n",
       "      <td>8</td>\n",
       "    </tr>\n",
       "  </tbody>\n",
       "</table>\n",
       "</div>"
      ],
      "text/plain": [
       "   a  b\n",
       "0  1  2\n",
       "1  3  5\n",
       "2  4  6\n",
       "3  7  8"
      ]
     },
     "execution_count": 1,
     "metadata": {},
     "output_type": "execute_result"
    }
   ],
   "source": [
    "tibble(a=1, b=2) >> bind_rows(\n",
    "    tibble(a=[3, 4], b=[5, 6]),\n",
    "    tibble(a=7, b=8)\n",
    ")"
   ]
  },
  {
   "cell_type": "code",
   "execution_count": 5,
   "id": "aggressive-pilot",
   "metadata": {
    "execution": {
     "iopub.execute_input": "2021-04-17T00:51:37.538541Z",
     "iopub.status.busy": "2021-04-17T00:51:37.538020Z",
     "iopub.status.idle": "2021-04-17T00:51:37.566955Z",
     "shell.execute_reply": "2021-04-17T00:51:37.566509Z"
    }
   },
   "outputs": [
    {
     "data": {
      "text/html": [
       "<div>\n",
       "<style scoped>\n",
       "    .dataframe tbody tr th:only-of-type {\n",
       "        vertical-align: middle;\n",
       "    }\n",
       "\n",
       "    .dataframe tbody tr th {\n",
       "        vertical-align: top;\n",
       "    }\n",
       "\n",
       "    .dataframe thead th {\n",
       "        text-align: right;\n",
       "    }\n",
       "</style>\n",
       "<table border=\"1\" class=\"dataframe\">\n",
       "  <thead>\n",
       "    <tr style=\"text-align: right;\">\n",
       "      <th></th>\n",
       "      <th>x</th>\n",
       "      <th>y</th>\n",
       "    </tr>\n",
       "  </thead>\n",
       "  <tbody>\n",
       "    <tr>\n",
       "      <th>0</th>\n",
       "      <td>0.0</td>\n",
       "      <td>NaN</td>\n",
       "    </tr>\n",
       "    <tr>\n",
       "      <th>1</th>\n",
       "      <td>1.0</td>\n",
       "      <td>NaN</td>\n",
       "    </tr>\n",
       "    <tr>\n",
       "      <th>2</th>\n",
       "      <td>2.0</td>\n",
       "      <td>NaN</td>\n",
       "    </tr>\n",
       "    <tr>\n",
       "      <th>3</th>\n",
       "      <td>NaN</td>\n",
       "      <td>0.0</td>\n",
       "    </tr>\n",
       "    <tr>\n",
       "      <th>4</th>\n",
       "      <td>NaN</td>\n",
       "      <td>1.0</td>\n",
       "    </tr>\n",
       "    <tr>\n",
       "      <th>5</th>\n",
       "      <td>NaN</td>\n",
       "      <td>2.0</td>\n",
       "    </tr>\n",
       "    <tr>\n",
       "      <th>6</th>\n",
       "      <td>NaN</td>\n",
       "      <td>3.0</td>\n",
       "    </tr>\n",
       "  </tbody>\n",
       "</table>\n",
       "</div>"
      ],
      "text/plain": [
       "     x    y\n",
       "0  0.0  NaN\n",
       "1  1.0  NaN\n",
       "2  2.0  NaN\n",
       "3  NaN  0.0\n",
       "4  NaN  1.0\n",
       "5  NaN  2.0\n",
       "6  NaN  3.0"
      ]
     },
     "execution_count": 1,
     "metadata": {},
     "output_type": "execute_result"
    }
   ],
   "source": [
    "tibble(x=range(3)) >> bind_rows(\n",
    "    tibble(y=range(4))\n",
    ")"
   ]
  },
  {
   "cell_type": "code",
   "execution_count": 6,
   "id": "sexual-memphis",
   "metadata": {
    "execution": {
     "iopub.execute_input": "2021-04-17T00:51:37.571552Z",
     "iopub.status.busy": "2021-04-17T00:51:37.570117Z",
     "iopub.status.idle": "2021-04-17T00:51:37.599164Z",
     "shell.execute_reply": "2021-04-17T00:51:37.598547Z"
    }
   },
   "outputs": [
    {
     "data": {
      "text/html": [
       "<div>\n",
       "<style scoped>\n",
       "    .dataframe tbody tr th:only-of-type {\n",
       "        vertical-align: middle;\n",
       "    }\n",
       "\n",
       "    .dataframe tbody tr th {\n",
       "        vertical-align: top;\n",
       "    }\n",
       "\n",
       "    .dataframe thead th {\n",
       "        text-align: right;\n",
       "    }\n",
       "</style>\n",
       "<table border=\"1\" class=\"dataframe\">\n",
       "  <thead>\n",
       "    <tr style=\"text-align: right;\">\n",
       "      <th></th>\n",
       "      <th>x</th>\n",
       "      <th>y</th>\n",
       "    </tr>\n",
       "  </thead>\n",
       "  <tbody>\n",
       "    <tr>\n",
       "      <th>0</th>\n",
       "      <td>0</td>\n",
       "      <td>0.0</td>\n",
       "    </tr>\n",
       "    <tr>\n",
       "      <th>1</th>\n",
       "      <td>1</td>\n",
       "      <td>1.0</td>\n",
       "    </tr>\n",
       "    <tr>\n",
       "      <th>2</th>\n",
       "      <td>2</td>\n",
       "      <td>NaN</td>\n",
       "    </tr>\n",
       "  </tbody>\n",
       "</table>\n",
       "</div>"
      ],
      "text/plain": [
       "   x    y\n",
       "0  0  0.0\n",
       "1  1  1.0\n",
       "2  2  NaN"
      ]
     },
     "execution_count": 1,
     "metadata": {},
     "output_type": "execute_result"
    }
   ],
   "source": [
    "tibble(x=range(3)) >> bind_cols(\n",
    "    tibble(y=range(2))\n",
    ")"
   ]
  },
  {
   "cell_type": "code",
   "execution_count": 7,
   "id": "amateur-interaction",
   "metadata": {
    "execution": {
     "iopub.execute_input": "2021-04-17T00:51:37.605622Z",
     "iopub.status.busy": "2021-04-17T00:51:37.605054Z",
     "iopub.status.idle": "2021-04-17T00:51:37.645833Z",
     "shell.execute_reply": "2021-04-17T00:51:37.645414Z"
    }
   },
   "outputs": [
    {
     "name": "stderr",
     "output_type": "stream",
     "text": [
      "[2021-04-16 17:51:37][datar][WARNING] New names:\n",
      "[2021-04-16 17:51:37][datar][WARNING] * 'name' -> 'name__0'\n",
      "[2021-04-16 17:51:37][datar][WARNING] * 'height' -> 'height__1'\n",
      "[2021-04-16 17:51:37][datar][WARNING] * 'mass' -> 'mass__2'\n",
      "[2021-04-16 17:51:37][datar][WARNING] * 'hair_color' -> 'hair_color__3'\n",
      "[2021-04-16 17:51:37][datar][WARNING] * 'skin_color' -> 'skin_color__4'\n",
      "[2021-04-16 17:51:37][datar][WARNING] * 'eye_color' -> 'eye_color__5'\n",
      "[2021-04-16 17:51:37][datar][WARNING] * 'birth_year' -> 'birth_year__6'\n",
      "[2021-04-16 17:51:37][datar][WARNING] * 'sex' -> 'sex__7'\n",
      "[2021-04-16 17:51:37][datar][WARNING] * 'gender' -> 'gender__8'\n",
      "[2021-04-16 17:51:37][datar][WARNING] * 'homeworld' -> 'homeworld__9'\n",
      "[2021-04-16 17:51:37][datar][WARNING] * 'species' -> 'species__10'\n",
      "[2021-04-16 17:51:37][datar][WARNING] * 'name' -> 'name__11'\n",
      "[2021-04-16 17:51:37][datar][WARNING] * 'height' -> 'height__12'\n",
      "[2021-04-16 17:51:37][datar][WARNING] * 'mass' -> 'mass__13'\n",
      "[2021-04-16 17:51:37][datar][WARNING] * 'hair_color' -> 'hair_color__14'\n",
      "[2021-04-16 17:51:37][datar][WARNING] * 'skin_color' -> 'skin_color__15'\n",
      "[2021-04-16 17:51:37][datar][WARNING] * 'eye_color' -> 'eye_color__16'\n",
      "[2021-04-16 17:51:37][datar][WARNING] * 'birth_year' -> 'birth_year__17'\n",
      "[2021-04-16 17:51:37][datar][WARNING] * 'sex' -> 'sex__18'\n",
      "[2021-04-16 17:51:37][datar][WARNING] * 'gender' -> 'gender__19'\n",
      "[2021-04-16 17:51:37][datar][WARNING] * 'homeworld' -> 'homeworld__20'\n",
      "[2021-04-16 17:51:37][datar][WARNING] * 'species' -> 'species__21'\n"
     ]
    },
    {
     "data": {
      "text/html": [
       "<div>\n",
       "<style scoped>\n",
       "    .dataframe tbody tr th:only-of-type {\n",
       "        vertical-align: middle;\n",
       "    }\n",
       "\n",
       "    .dataframe tbody tr th {\n",
       "        vertical-align: top;\n",
       "    }\n",
       "\n",
       "    .dataframe thead th {\n",
       "        text-align: right;\n",
       "    }\n",
       "</style>\n",
       "<table border=\"1\" class=\"dataframe\">\n",
       "  <thead>\n",
       "    <tr style=\"text-align: right;\">\n",
       "      <th></th>\n",
       "      <th>name__0</th>\n",
       "      <th>height__1</th>\n",
       "      <th>mass__2</th>\n",
       "      <th>hair_color__3</th>\n",
       "      <th>skin_color__4</th>\n",
       "      <th>eye_color__5</th>\n",
       "      <th>birth_year__6</th>\n",
       "      <th>sex__7</th>\n",
       "      <th>gender__8</th>\n",
       "      <th>homeworld__9</th>\n",
       "      <th>...</th>\n",
       "      <th>height__12</th>\n",
       "      <th>mass__13</th>\n",
       "      <th>hair_color__14</th>\n",
       "      <th>skin_color__15</th>\n",
       "      <th>eye_color__16</th>\n",
       "      <th>birth_year__17</th>\n",
       "      <th>sex__18</th>\n",
       "      <th>gender__19</th>\n",
       "      <th>homeworld__20</th>\n",
       "      <th>species__21</th>\n",
       "    </tr>\n",
       "  </thead>\n",
       "  <tbody>\n",
       "    <tr>\n",
       "      <th>0</th>\n",
       "      <td>Luke Skywalker</td>\n",
       "      <td>172.0</td>\n",
       "      <td>77.0</td>\n",
       "      <td>blond</td>\n",
       "      <td>fair</td>\n",
       "      <td>blue</td>\n",
       "      <td>19.0</td>\n",
       "      <td>male</td>\n",
       "      <td>masculine</td>\n",
       "      <td>Tatooine</td>\n",
       "      <td>...</td>\n",
       "      <td>182.0</td>\n",
       "      <td>77.0</td>\n",
       "      <td>auburn, white</td>\n",
       "      <td>fair</td>\n",
       "      <td>blue-gray</td>\n",
       "      <td>57.0</td>\n",
       "      <td>male</td>\n",
       "      <td>masculine</td>\n",
       "      <td>Stewjon</td>\n",
       "      <td>Human</td>\n",
       "    </tr>\n",
       "    <tr>\n",
       "      <th>1</th>\n",
       "      <td>C-3PO</td>\n",
       "      <td>167.0</td>\n",
       "      <td>75.0</td>\n",
       "      <td>NaN</td>\n",
       "      <td>gold</td>\n",
       "      <td>yellow</td>\n",
       "      <td>112.0</td>\n",
       "      <td>none</td>\n",
       "      <td>masculine</td>\n",
       "      <td>Tatooine</td>\n",
       "      <td>...</td>\n",
       "      <td>188.0</td>\n",
       "      <td>84.0</td>\n",
       "      <td>blond</td>\n",
       "      <td>fair</td>\n",
       "      <td>blue</td>\n",
       "      <td>41.9</td>\n",
       "      <td>male</td>\n",
       "      <td>masculine</td>\n",
       "      <td>Tatooine</td>\n",
       "      <td>Human</td>\n",
       "    </tr>\n",
       "    <tr>\n",
       "      <th>2</th>\n",
       "      <td>R2-D2</td>\n",
       "      <td>96.0</td>\n",
       "      <td>32.0</td>\n",
       "      <td>NaN</td>\n",
       "      <td>white, blue</td>\n",
       "      <td>red</td>\n",
       "      <td>33.0</td>\n",
       "      <td>none</td>\n",
       "      <td>masculine</td>\n",
       "      <td>Naboo</td>\n",
       "      <td>...</td>\n",
       "      <td>180.0</td>\n",
       "      <td>NaN</td>\n",
       "      <td>auburn, grey</td>\n",
       "      <td>fair</td>\n",
       "      <td>blue</td>\n",
       "      <td>64.0</td>\n",
       "      <td>male</td>\n",
       "      <td>masculine</td>\n",
       "      <td>Eriadu</td>\n",
       "      <td>Human</td>\n",
       "    </tr>\n",
       "    <tr>\n",
       "      <th>3</th>\n",
       "      <td>Darth Vader</td>\n",
       "      <td>202.0</td>\n",
       "      <td>136.0</td>\n",
       "      <td>none</td>\n",
       "      <td>white</td>\n",
       "      <td>yellow</td>\n",
       "      <td>41.9</td>\n",
       "      <td>male</td>\n",
       "      <td>masculine</td>\n",
       "      <td>Tatooine</td>\n",
       "      <td>...</td>\n",
       "      <td>228.0</td>\n",
       "      <td>112.0</td>\n",
       "      <td>brown</td>\n",
       "      <td>unknown</td>\n",
       "      <td>blue</td>\n",
       "      <td>200.0</td>\n",
       "      <td>male</td>\n",
       "      <td>masculine</td>\n",
       "      <td>Kashyyyk</td>\n",
       "      <td>Wookiee</td>\n",
       "    </tr>\n",
       "  </tbody>\n",
       "</table>\n",
       "<p>4 rows × 22 columns</p>\n",
       "</div>"
      ],
      "text/plain": [
       "          name__0  height__1  mass__2 hair_color__3 skin_color__4  \\\n",
       "0  Luke Skywalker      172.0     77.0         blond          fair   \n",
       "1           C-3PO      167.0     75.0           NaN          gold   \n",
       "2           R2-D2       96.0     32.0           NaN   white, blue   \n",
       "3     Darth Vader      202.0    136.0          none         white   \n",
       "\n",
       "  eye_color__5  birth_year__6 sex__7  gender__8 homeworld__9  ... height__12  \\\n",
       "0         blue           19.0   male  masculine     Tatooine  ...      182.0   \n",
       "1       yellow          112.0   none  masculine     Tatooine  ...      188.0   \n",
       "2          red           33.0   none  masculine        Naboo  ...      180.0   \n",
       "3       yellow           41.9   male  masculine     Tatooine  ...      228.0   \n",
       "\n",
       "  mass__13  hair_color__14  skin_color__15 eye_color__16 birth_year__17  \\\n",
       "0     77.0   auburn, white            fair     blue-gray           57.0   \n",
       "1     84.0           blond            fair          blue           41.9   \n",
       "2      NaN    auburn, grey            fair          blue           64.0   \n",
       "3    112.0           brown         unknown          blue          200.0   \n",
       "\n",
       "  sex__18  gender__19 homeworld__20 species__21  \n",
       "0    male   masculine       Stewjon       Human  \n",
       "1    male   masculine      Tatooine       Human  \n",
       "2    male   masculine        Eriadu       Human  \n",
       "3    male   masculine      Kashyyyk     Wookiee  \n",
       "\n",
       "[4 rows x 22 columns]"
      ]
     },
     "execution_count": 1,
     "metadata": {},
     "output_type": "execute_result"
    }
   ],
   "source": [
    "one >> bind_cols(two)"
   ]
  }
 ],
 "metadata": {
  "kernelspec": {
   "display_name": "Python 3",
   "language": "python",
   "name": "python3"
  },
  "language_info": {
   "codemirror_mode": {
    "name": "ipython",
    "version": 3
   },
   "file_extension": ".py",
   "mimetype": "text/x-python",
   "name": "python",
   "nbconvert_exporter": "python",
   "pygments_lexer": "ipython3",
   "version": "3.7.8"
  }
 },
 "nbformat": 4,
 "nbformat_minor": 5
}
