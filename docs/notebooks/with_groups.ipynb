{
 "cells": [
  {
   "cell_type": "code",
   "execution_count": 1,
   "id": "thirty-placement",
   "metadata": {
    "execution": {
     "iopub.execute_input": "2021-04-17T00:55:38.632000Z",
     "iopub.status.busy": "2021-04-17T00:55:38.631105Z",
     "iopub.status.idle": "2021-04-17T00:55:39.278457Z",
     "shell.execute_reply": "2021-04-17T00:55:39.277872Z"
    }
   },
   "outputs": [
    {
     "data": {
      "text/html": [
       "<div style=\"text-align: right; text-style: italic\">Try this notebook on <a target=\"_blank\" href=\"https://mybinder.org/v2/gh/pwwang/datar/93d069f3ca36711fc811c61dcf60e9fc3d1460a5?filepath=docs%2Fnotebooks%2Fwith_groups.ipynb\">binder</a>.</div>"
      ],
      "text/plain": [
       "<IPython.core.display.HTML object>"
      ]
     },
     "metadata": {},
     "output_type": "display_data"
    },
    {
     "data": {
      "text/markdown": [
       "### # with_groups  "
      ],
      "text/plain": [
       "<IPython.core.display.Markdown object>"
      ]
     },
     "metadata": {},
     "output_type": "display_data"
    },
    {
     "data": {
      "text/markdown": [
       "##### Modify the grouping variables for a single operation.\n",
       "\n",
       "##### Args:\n",
       "&emsp;&emsp;`_data`: A data frame  \n",
       "&emsp;&emsp;`_groups`: columns passed by group_by  \n",
       "&emsp;&emsp;&emsp;&emsp;Use None to temporarily ungroup.  \n",
       "\n",
       "&emsp;&emsp;`_func`: Function to apply to regrouped data.  \n",
       "\n",
       "##### Returns:\n",
       "&emsp;&emsp;The new data frame with operations applied.  \n"
      ],
      "text/plain": [
       "<IPython.core.display.Markdown object>"
      ]
     },
     "metadata": {},
     "output_type": "display_data"
    }
   ],
   "source": [
    "# https://dplyr.tidyverse.org/reference/with_groups.html\n",
    "\n",
    "from datar.all import *\n",
    "\n",
    "%run nb_helpers.py\n",
    "nb_header(with_groups)"
   ]
  },
  {
   "cell_type": "code",
   "execution_count": 2,
   "id": "earned-bryan",
   "metadata": {
    "execution": {
     "iopub.execute_input": "2021-04-17T00:55:39.283431Z",
     "iopub.status.busy": "2021-04-17T00:55:39.282920Z",
     "iopub.status.idle": "2021-04-17T00:55:39.388680Z",
     "shell.execute_reply": "2021-04-17T00:55:39.387963Z"
    }
   },
   "outputs": [
    {
     "data": {
      "text/html": [
       "<div>\n",
       "<style scoped>\n",
       "    .dataframe tbody tr th:only-of-type {\n",
       "        vertical-align: middle;\n",
       "    }\n",
       "\n",
       "    .dataframe tbody tr th {\n",
       "        vertical-align: top;\n",
       "    }\n",
       "\n",
       "    .dataframe thead th {\n",
       "        text-align: right;\n",
       "    }\n",
       "</style>\n",
       "<table border=\"1\" class=\"dataframe\">\n",
       "  <thead>\n",
       "    <tr style=\"text-align: right;\">\n",
       "      <th></th>\n",
       "      <th>g</th>\n",
       "      <th>x</th>\n",
       "      <th>x_mean</th>\n",
       "    </tr>\n",
       "  </thead>\n",
       "  <tbody>\n",
       "    <tr>\n",
       "      <th>0</th>\n",
       "      <td>1</td>\n",
       "      <td>0.112482</td>\n",
       "      <td>0.526132</td>\n",
       "    </tr>\n",
       "    <tr>\n",
       "      <th>1</th>\n",
       "      <td>1</td>\n",
       "      <td>0.939782</td>\n",
       "      <td>0.526132</td>\n",
       "    </tr>\n",
       "    <tr>\n",
       "      <th>2</th>\n",
       "      <td>2</td>\n",
       "      <td>0.333468</td>\n",
       "      <td>0.207340</td>\n",
       "    </tr>\n",
       "    <tr>\n",
       "      <th>3</th>\n",
       "      <td>2</td>\n",
       "      <td>0.081211</td>\n",
       "      <td>0.207340</td>\n",
       "    </tr>\n",
       "    <tr>\n",
       "      <th>4</th>\n",
       "      <td>3</td>\n",
       "      <td>0.480829</td>\n",
       "      <td>0.480829</td>\n",
       "    </tr>\n",
       "  </tbody>\n",
       "</table>\n",
       "</div>"
      ],
      "text/plain": [
       "   g         x    x_mean\n",
       "0  1  0.112482  0.526132\n",
       "1  1  0.939782  0.526132\n",
       "2  2  0.333468  0.207340\n",
       "3  2  0.081211  0.207340\n",
       "4  3  0.480829  0.480829"
      ]
     },
     "execution_count": 1,
     "metadata": {},
     "output_type": "execute_result"
    }
   ],
   "source": [
    "df = tibble(g=c(1, 1, 2, 2, 3), x=runif(5))\n",
    "df >> with_groups(f.g, mutate, x_mean = mean(f.x)) >> ungroup()"
   ]
  },
  {
   "cell_type": "code",
   "execution_count": 3,
   "id": "speaking-tooth",
   "metadata": {
    "execution": {
     "iopub.execute_input": "2021-04-17T00:55:39.409842Z",
     "iopub.status.busy": "2021-04-17T00:55:39.406887Z",
     "iopub.status.idle": "2021-04-17T00:55:39.423861Z",
     "shell.execute_reply": "2021-04-17T00:55:39.424208Z"
    }
   },
   "outputs": [
    {
     "data": {
      "text/html": [
       "<div>\n",
       "<style scoped>\n",
       "    .dataframe tbody tr th:only-of-type {\n",
       "        vertical-align: middle;\n",
       "    }\n",
       "\n",
       "    .dataframe tbody tr th {\n",
       "        vertical-align: top;\n",
       "    }\n",
       "\n",
       "    .dataframe thead th {\n",
       "        text-align: right;\n",
       "    }\n",
       "</style>\n",
       "<table border=\"1\" class=\"dataframe\">\n",
       "  <thead>\n",
       "    <tr style=\"text-align: right;\">\n",
       "      <th></th>\n",
       "      <th>g</th>\n",
       "      <th>x</th>\n",
       "      <th>x1</th>\n",
       "    </tr>\n",
       "  </thead>\n",
       "  <tbody>\n",
       "    <tr>\n",
       "      <th>0</th>\n",
       "      <td>1</td>\n",
       "      <td>0.112482</td>\n",
       "      <td>0.112482</td>\n",
       "    </tr>\n",
       "    <tr>\n",
       "      <th>1</th>\n",
       "      <td>1</td>\n",
       "      <td>0.939782</td>\n",
       "      <td>0.112482</td>\n",
       "    </tr>\n",
       "    <tr>\n",
       "      <th>2</th>\n",
       "      <td>2</td>\n",
       "      <td>0.333468</td>\n",
       "      <td>0.333468</td>\n",
       "    </tr>\n",
       "    <tr>\n",
       "      <th>3</th>\n",
       "      <td>2</td>\n",
       "      <td>0.081211</td>\n",
       "      <td>0.333468</td>\n",
       "    </tr>\n",
       "    <tr>\n",
       "      <th>4</th>\n",
       "      <td>3</td>\n",
       "      <td>0.480829</td>\n",
       "      <td>0.480829</td>\n",
       "    </tr>\n",
       "  </tbody>\n",
       "</table>\n",
       "</div>"
      ],
      "text/plain": [
       "   g         x        x1\n",
       "0  1  0.112482  0.112482\n",
       "1  1  0.939782  0.112482\n",
       "2  2  0.333468  0.333468\n",
       "3  2  0.081211  0.333468\n",
       "4  3  0.480829  0.480829"
      ]
     },
     "execution_count": 1,
     "metadata": {},
     "output_type": "execute_result"
    }
   ],
   "source": [
    "df >> with_groups(f.g, lambda df: df >> mutate(x1 = first(f.x))) >> ungroup()"
   ]
  },
  {
   "cell_type": "code",
   "execution_count": 4,
   "id": "manufactured-louisville",
   "metadata": {
    "execution": {
     "iopub.execute_input": "2021-04-17T00:55:39.442697Z",
     "iopub.status.busy": "2021-04-17T00:55:39.442174Z",
     "iopub.status.idle": "2021-04-17T00:55:39.451824Z",
     "shell.execute_reply": "2021-04-17T00:55:39.451327Z"
    }
   },
   "outputs": [
    {
     "data": {
      "text/html": [
       "<div>\n",
       "<style scoped>\n",
       "    .dataframe tbody tr th:only-of-type {\n",
       "        vertical-align: middle;\n",
       "    }\n",
       "\n",
       "    .dataframe tbody tr th {\n",
       "        vertical-align: top;\n",
       "    }\n",
       "\n",
       "    .dataframe thead th {\n",
       "        text-align: right;\n",
       "    }\n",
       "</style>\n",
       "<table border=\"1\" class=\"dataframe\">\n",
       "  <thead>\n",
       "    <tr style=\"text-align: right;\">\n",
       "      <th></th>\n",
       "      <th>g</th>\n",
       "      <th>x</th>\n",
       "      <th>x_mean</th>\n",
       "    </tr>\n",
       "  </thead>\n",
       "  <tbody>\n",
       "    <tr>\n",
       "      <th>0</th>\n",
       "      <td>1</td>\n",
       "      <td>0.112482</td>\n",
       "      <td>0.389554</td>\n",
       "    </tr>\n",
       "    <tr>\n",
       "      <th>1</th>\n",
       "      <td>1</td>\n",
       "      <td>0.939782</td>\n",
       "      <td>0.389554</td>\n",
       "    </tr>\n",
       "    <tr>\n",
       "      <th>2</th>\n",
       "      <td>2</td>\n",
       "      <td>0.333468</td>\n",
       "      <td>0.389554</td>\n",
       "    </tr>\n",
       "    <tr>\n",
       "      <th>3</th>\n",
       "      <td>2</td>\n",
       "      <td>0.081211</td>\n",
       "      <td>0.389554</td>\n",
       "    </tr>\n",
       "    <tr>\n",
       "      <th>4</th>\n",
       "      <td>3</td>\n",
       "      <td>0.480829</td>\n",
       "      <td>0.389554</td>\n",
       "    </tr>\n",
       "  </tbody>\n",
       "</table>\n",
       "</div>[Groups: [] (n=1)]"
      ],
      "text/plain": [
       "   g         x    x_mean\n",
       "0  1  0.112482  0.389554\n",
       "1  1  0.939782  0.389554\n",
       "2  2  0.333468  0.389554\n",
       "3  2  0.081211  0.389554\n",
       "4  3  0.480829  0.389554\n",
       "[Groups: [] (n=1)]"
      ]
     },
     "execution_count": 1,
     "metadata": {},
     "output_type": "execute_result"
    }
   ],
   "source": [
    "df >> \\\n",
    "  group_by(f.g) >> \\\n",
    "  with_groups(None, mutate, x_mean = mean(f.x))"
   ]
  },
  {
   "cell_type": "code",
   "execution_count": 5,
   "id": "guilty-listening",
   "metadata": {
    "execution": {
     "iopub.execute_input": "2021-04-17T00:55:39.466408Z",
     "iopub.status.busy": "2021-04-17T00:55:39.465863Z",
     "iopub.status.idle": "2021-04-17T00:55:39.468303Z",
     "shell.execute_reply": "2021-04-17T00:55:39.468772Z"
    }
   },
   "outputs": [
    {
     "data": {
      "text/html": [
       "<div>\n",
       "<style scoped>\n",
       "    .dataframe tbody tr th:only-of-type {\n",
       "        vertical-align: middle;\n",
       "    }\n",
       "\n",
       "    .dataframe tbody tr th {\n",
       "        vertical-align: top;\n",
       "    }\n",
       "\n",
       "    .dataframe thead th {\n",
       "        text-align: right;\n",
       "    }\n",
       "</style>\n",
       "<table border=\"1\" class=\"dataframe\">\n",
       "  <thead>\n",
       "    <tr style=\"text-align: right;\">\n",
       "      <th></th>\n",
       "      <th>x</th>\n",
       "    </tr>\n",
       "  </thead>\n",
       "  <tbody>\n",
       "    <tr>\n",
       "      <th>0</th>\n",
       "      <td>0.112482</td>\n",
       "    </tr>\n",
       "    <tr>\n",
       "      <th>1</th>\n",
       "      <td>0.939782</td>\n",
       "    </tr>\n",
       "    <tr>\n",
       "      <th>2</th>\n",
       "      <td>0.333468</td>\n",
       "    </tr>\n",
       "    <tr>\n",
       "      <th>3</th>\n",
       "      <td>0.081211</td>\n",
       "    </tr>\n",
       "    <tr>\n",
       "      <th>4</th>\n",
       "      <td>0.480829</td>\n",
       "    </tr>\n",
       "  </tbody>\n",
       "</table>\n",
       "</div>[Groups: [] (n=1)]"
      ],
      "text/plain": [
       "          x\n",
       "0  0.112482\n",
       "1  0.939782\n",
       "2  0.333468\n",
       "3  0.081211\n",
       "4  0.480829\n",
       "[Groups: [] (n=1)]"
      ]
     },
     "execution_count": 1,
     "metadata": {},
     "output_type": "execute_result"
    }
   ],
   "source": [
    "df >> \\\n",
    "  group_by(f.g) >> \\\n",
    "  with_groups(None, mutate, g=None)"
   ]
  }
 ],
 "metadata": {
  "kernelspec": {
   "display_name": "Python 3",
   "language": "python",
   "name": "python3"
  },
  "language_info": {
   "codemirror_mode": {
    "name": "ipython",
    "version": 3
   },
   "file_extension": ".py",
   "mimetype": "text/x-python",
   "name": "python",
   "nbconvert_exporter": "python",
   "pygments_lexer": "ipython3",
   "version": "3.7.8"
  }
 },
 "nbformat": 4,
 "nbformat_minor": 5
}
