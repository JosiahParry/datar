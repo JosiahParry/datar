{
 "cells": [
  {
   "cell_type": "code",
   "execution_count": 1,
   "id": "geological-validation",
   "metadata": {},
   "outputs": [
    {
     "name": "stdout",
     "output_type": "stream",
     "text": [
      "Replace missing values\n",
      "\n",
      "    https://dplyr.tidyverse.org/reference/coalesce.html\n",
      "\n",
      "    Args:\n",
      "        x: The vector to replace\n",
      "        replace: The replacement\n",
      "\n",
      "    Returns:\n",
      "        A vector the same length as the first argument with missing values\n",
      "        replaced by the first non-missing value.\n",
      "    \n"
     ]
    }
   ],
   "source": [
    "# https://dplyr.tidyverse.org/reference/coalesce.html\n",
    "from datar.datasets import starwars \n",
    "from datar.all import *\n",
    "\n",
    "print(coalesce.__doc__)"
   ]
  },
  {
   "cell_type": "code",
   "execution_count": 2,
   "id": "front-municipality",
   "metadata": {},
   "outputs": [
    {
     "data": {
      "text/plain": [
       "0    5.0\n",
       "1    4.0\n",
       "2    3.0\n",
       "3    0.0\n",
       "4    2.0\n",
       "5    0.0\n",
       "6    1.0\n",
       "7    0.0\n",
       "Name: y, dtype: float64"
      ]
     },
     "execution_count": 2,
     "metadata": {},
     "output_type": "execute_result"
    }
   ],
   "source": [
    "df = tibble(x=[5,4,3,NA,2,NA,1,NA])\n",
    "df >> mutate(y=coalesce(f.x, 0)) >> pull(f.y)"
   ]
  },
  {
   "cell_type": "code",
   "execution_count": 3,
   "id": "floating-highlight",
   "metadata": {},
   "outputs": [
    {
     "data": {
      "text/plain": [
       "0    1.0\n",
       "1    2.0\n",
       "2    3.0\n",
       "3    4.0\n",
       "4    5.0\n",
       "Name: m, dtype: float64"
      ]
     },
     "execution_count": 3,
     "metadata": {},
     "output_type": "execute_result"
    }
   ],
   "source": [
    "df = tibble(\n",
    "    y=[1,2,NA,NA,5],\n",
    "    z=[NA,NA,3,4,5]\n",
    ")\n",
    "df >> mutate(m=coalesce(f.y, f.z)) >> pull(f.m)"
   ]
  }
 ],
 "metadata": {
  "kernelspec": {
   "display_name": "Python 3",
   "language": "python",
   "name": "python3"
  },
  "language_info": {
   "codemirror_mode": {
    "name": "ipython",
    "version": 3
   },
   "file_extension": ".py",
   "mimetype": "text/x-python",
   "name": "python",
   "nbconvert_exporter": "python",
   "pygments_lexer": "ipython3",
   "version": "3.7.8"
  }
 },
 "nbformat": 4,
 "nbformat_minor": 5
}
