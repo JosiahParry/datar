{
 "cells": [
  {
   "cell_type": "code",
   "execution_count": 1,
   "id": "systematic-uzbekistan",
   "metadata": {
    "execution": {
     "iopub.execute_input": "2021-04-17T00:55:25.185649Z",
     "iopub.status.busy": "2021-04-17T00:55:25.184426Z",
     "iopub.status.idle": "2021-04-17T00:55:25.845524Z",
     "shell.execute_reply": "2021-04-17T00:55:25.844935Z"
    }
   },
   "outputs": [
    {
     "output_type": "display_data",
     "data": {
      "text/plain": "<IPython.core.display.HTML object>",
      "text/html": "<div style=\"text-align: right; text-style: italic\">Try this notebook on <a target=\"_blank\" href=\"https://mybinder.org/v2/gh/pwwang/datar/93d069f3ca36711fc811c61dcf60e9fc3d1460a5?filepath=docs%2Fnotebooks%2Ftibble.ipynb\">binder</a>.</div>"
     },
     "metadata": {}
    },
    {
     "output_type": "display_data",
     "data": {
      "text/plain": "<IPython.core.display.Markdown object>",
      "text/markdown": "### # tibble  "
     },
     "metadata": {}
    },
    {
     "output_type": "display_data",
     "data": {
      "text/plain": "<IPython.core.display.Markdown object>",
      "text/markdown": "##### Constructs a data frame\n\n##### Args:\n&emsp;&emsp;`*args`: and  \n&emsp;&emsp;`**kwargs`: A set of name-value pairs.  \n&emsp;&emsp;`_name_repair`: treatment of problematic column names:  \n&emsp;&emsp;&emsp;&emsp;- \"minimal\": No name repair or checks, beyond basic existence,\n\n&emsp;&emsp;&emsp;&emsp;- \"unique\": Make sure names are unique and not empty,\n\n&emsp;&emsp;&emsp;&emsp;- \"check_unique\": (default value), no name repair,\n&emsp;&emsp;&emsp;&emsp;&emsp;&emsp;but check they are unique,  \n\n&emsp;&emsp;&emsp;&emsp;- \"universal\": Make the names unique and syntactic\n\n&emsp;&emsp;&emsp;&emsp;- a function: apply custom name repair\n\n&emsp;&emsp;`_rows`: Number of rows of a 0-col dataframe when args and kwargs are  \n&emsp;&emsp;&emsp;&emsp;not provided. When args or kwargs are provided, this is ignored.  \n\n##### Returns:\n&emsp;&emsp;A constructed dataframe  \n"
     },
     "metadata": {}
    },
    {
     "output_type": "display_data",
     "data": {
      "text/plain": "<IPython.core.display.Markdown object>",
      "text/markdown": "### # tibble_row  "
     },
     "metadata": {}
    },
    {
     "output_type": "display_data",
     "data": {
      "text/plain": "<IPython.core.display.Markdown object>",
      "text/markdown": "##### Constructs a data frame that is guaranteed to occupy one row.\n\nScalar values will be wrapped with `[]`  \n\n##### Args:\n&emsp;&emsp;`*args`: and  \n&emsp;&emsp;`**kwargs`: A set of name-value pairs.  \n&emsp;&emsp;`_name_repair`: treatment of problematic column names:  \n&emsp;&emsp;&emsp;&emsp;- \"minimal\": No name repair or checks, beyond basic existence,\n\n&emsp;&emsp;&emsp;&emsp;- \"unique\": Make sure names are unique and not empty,\n\n&emsp;&emsp;&emsp;&emsp;- \"check_unique\": (default value), no name repair,\n&emsp;&emsp;&emsp;&emsp;&emsp;&emsp;but check they are unique,  \n\n&emsp;&emsp;&emsp;&emsp;- \"universal\": Make the names unique and syntactic\n\n&emsp;&emsp;&emsp;&emsp;- a function: apply custom name repair\n\n##### Returns:\n&emsp;&emsp;A constructed dataframe  \n"
     },
     "metadata": {}
    },
    {
     "output_type": "display_data",
     "data": {
      "text/plain": "<IPython.core.display.Markdown object>",
      "text/markdown": "### # tribble  "
     },
     "metadata": {}
    },
    {
     "output_type": "display_data",
     "data": {
      "text/plain": "<IPython.core.display.Markdown object>",
      "text/markdown": "##### Create dataframe using an easier to read row-by-row layout\n\nUnlike original API that uses formula (`f.col`) to indicate the column  \nnames, we use `f.col` to indicate them.  \n\n##### Args:\n&emsp;&emsp;`*dummies`: Arguments specifying the structure of a dataframe  \n&emsp;&emsp;&emsp;&emsp;Variable names should be specified with `f.name`  \n\n##### Examples:\n&emsp;&emsp;>>> tribble(  \n&emsp;&emsp;>>>     f.colA, f.colB,  \n&emsp;&emsp;>>>     \"a\",    1,  \n&emsp;&emsp;>>>     \"b\",    2,  \n&emsp;&emsp;>>>     \"c\",    3,  \n&emsp;&emsp;>>> )  \n\n##### Returns:\n&emsp;&emsp;A dataframe  \n"
     },
     "metadata": {}
    },
    {
     "output_type": "display_data",
     "data": {
      "text/plain": "<IPython.core.display.Markdown object>",
      "text/markdown": "### # fibble  "
     },
     "metadata": {}
    },
    {
     "output_type": "display_data",
     "data": {
      "text/plain": "<IPython.core.display.Markdown object>",
      "text/markdown": "##### A function of tibble that can be used as an argument of verbs\n\nSince `tibble` can recycle previous items, for example:  \n&emsp;&emsp;>>> df >> tibble(x=1, y=f.x+1)  \n&emsp;&emsp;>>> # x y  \n&emsp;&emsp;>>> # 1 2  \n\nIt gets confused when it is used as an argument of a verb, the we can't tell  \nwhether `f` if a proxy for the data of the verb or the data frame that  \n`tibble` is constructing. So then here is the function to be used as a verb  \nargument so `f` refers to the data of the verb. Note that in such a case,  \nthe items coming in previously cannot be recycled.  \n\nSee `tibble` for details.  \n"
     },
     "metadata": {}
    }
   ],
   "source": [
    "# https://dplyr.tidyverse.org/reference/tibble.html\n",
    "# https://tibble.tidyverse.org/reference/tribble.html\n",
    "\n",
    "from datar import f\n",
    "from datar.tibble import tibble, tibble_row, tribble, fibble\n",
    "from datar.base import diag\n",
    "from datar.stats import runif\n",
    "\n",
    "%run nb_helpers.py\n",
    "nb_header(tibble, tibble_row, tribble, fibble, book='tibble')"
   ]
  },
  {
   "cell_type": "code",
   "execution_count": 2,
   "id": "functioning-departure",
   "metadata": {
    "execution": {
     "iopub.execute_input": "2021-04-17T00:55:25.850084Z",
     "iopub.status.busy": "2021-04-17T00:55:25.849518Z",
     "iopub.status.idle": "2021-04-17T00:55:25.894212Z",
     "shell.execute_reply": "2021-04-17T00:55:25.894589Z"
    }
   },
   "outputs": [
    {
     "output_type": "execute_result",
     "data": {
      "text/plain": [
       "   a  a\n",
       "0  0  0\n",
       "1  1  2\n",
       "2  2  4\n",
       "3  3  6\n",
       "4  4  8"
      ],
      "text/html": "<div>\n<style scoped>\n    .dataframe tbody tr th:only-of-type {\n        vertical-align: middle;\n    }\n\n    .dataframe tbody tr th {\n        vertical-align: top;\n    }\n\n    .dataframe thead th {\n        text-align: right;\n    }\n</style>\n<table border=\"1\" class=\"dataframe\">\n  <thead>\n    <tr style=\"text-align: right;\">\n      <th></th>\n      <th>a</th>\n      <th>a</th>\n    </tr>\n  </thead>\n  <tbody>\n    <tr>\n      <th>0</th>\n      <td>0</td>\n      <td>0</td>\n    </tr>\n    <tr>\n      <th>1</th>\n      <td>1</td>\n      <td>2</td>\n    </tr>\n    <tr>\n      <th>2</th>\n      <td>2</td>\n      <td>4</td>\n    </tr>\n    <tr>\n      <th>3</th>\n      <td>3</td>\n      <td>6</td>\n    </tr>\n    <tr>\n      <th>4</th>\n      <td>4</td>\n      <td>8</td>\n    </tr>\n  </tbody>\n</table>\n</div>"
     },
     "metadata": {},
     "execution_count": 2
    }
   ],
   "source": [
    "a = range(5)\n",
    "tibble(a, f.a*2)"
   ]
  },
  {
   "cell_type": "code",
   "execution_count": 3,
   "id": "resistant-logistics",
   "metadata": {
    "execution": {
     "iopub.execute_input": "2021-04-17T00:55:25.898690Z",
     "iopub.status.busy": "2021-04-17T00:55:25.898183Z",
     "iopub.status.idle": "2021-04-17T00:55:25.915179Z",
     "shell.execute_reply": "2021-04-17T00:55:25.915523Z"
    }
   },
   "outputs": [
    {
     "output_type": "execute_result",
     "data": {
      "text/plain": [
       "   a  b  c\n",
       "0  0  0  1\n",
       "1  1  2  1\n",
       "2  2  4  1\n",
       "3  3  6  1\n",
       "4  4  8  1"
      ],
      "text/html": "<div>\n<style scoped>\n    .dataframe tbody tr th:only-of-type {\n        vertical-align: middle;\n    }\n\n    .dataframe tbody tr th {\n        vertical-align: top;\n    }\n\n    .dataframe thead th {\n        text-align: right;\n    }\n</style>\n<table border=\"1\" class=\"dataframe\">\n  <thead>\n    <tr style=\"text-align: right;\">\n      <th></th>\n      <th>a</th>\n      <th>b</th>\n      <th>c</th>\n    </tr>\n  </thead>\n  <tbody>\n    <tr>\n      <th>0</th>\n      <td>0</td>\n      <td>0</td>\n      <td>1</td>\n    </tr>\n    <tr>\n      <th>1</th>\n      <td>1</td>\n      <td>2</td>\n      <td>1</td>\n    </tr>\n    <tr>\n      <th>2</th>\n      <td>2</td>\n      <td>4</td>\n      <td>1</td>\n    </tr>\n    <tr>\n      <th>3</th>\n      <td>3</td>\n      <td>6</td>\n      <td>1</td>\n    </tr>\n    <tr>\n      <th>4</th>\n      <td>4</td>\n      <td>8</td>\n      <td>1</td>\n    </tr>\n  </tbody>\n</table>\n</div>"
     },
     "metadata": {},
     "execution_count": 3
    }
   ],
   "source": [
    "tibble(a, b=f.a * 2, c=1)"
   ]
  },
  {
   "cell_type": "code",
   "execution_count": 4,
   "id": "substantial-hopkins",
   "metadata": {
    "execution": {
     "iopub.execute_input": "2021-04-17T00:55:25.919986Z",
     "iopub.status.busy": "2021-04-17T00:55:25.919312Z",
     "iopub.status.idle": "2021-04-17T00:55:25.922900Z",
     "shell.execute_reply": "2021-04-17T00:55:25.922527Z"
    }
   },
   "outputs": [
    {
     "output_type": "execute_result",
     "data": {
      "text/plain": [
       "(10,)"
      ]
     },
     "metadata": {},
     "execution_count": 4
    }
   ],
   "source": [
    "runif(10).shape"
   ]
  },
  {
   "cell_type": "code",
   "execution_count": 5,
   "id": "cultural-burner",
   "metadata": {
    "execution": {
     "iopub.execute_input": "2021-04-17T00:55:25.926499Z",
     "iopub.status.busy": "2021-04-17T00:55:25.926022Z",
     "iopub.status.idle": "2021-04-17T00:55:25.943735Z",
     "shell.execute_reply": "2021-04-17T00:55:25.943218Z"
    }
   },
   "outputs": [
    {
     "output_type": "execute_result",
     "data": {
      "text/plain": [
       "          x         y\n",
       "0  0.313694  0.627387\n",
       "1  0.449833  0.899666\n",
       "2  0.320806  0.641613\n",
       "3  0.950275  1.900550\n",
       "4  0.503762  1.007525\n",
       "5  0.033943  0.067886\n",
       "6  0.588497  1.176994\n",
       "7  0.836514  1.673028\n",
       "8  0.414526  0.829052\n",
       "9  0.932544  1.865089"
      ],
      "text/html": "<div>\n<style scoped>\n    .dataframe tbody tr th:only-of-type {\n        vertical-align: middle;\n    }\n\n    .dataframe tbody tr th {\n        vertical-align: top;\n    }\n\n    .dataframe thead th {\n        text-align: right;\n    }\n</style>\n<table border=\"1\" class=\"dataframe\">\n  <thead>\n    <tr style=\"text-align: right;\">\n      <th></th>\n      <th>x</th>\n      <th>y</th>\n    </tr>\n  </thead>\n  <tbody>\n    <tr>\n      <th>0</th>\n      <td>0.313694</td>\n      <td>0.627387</td>\n    </tr>\n    <tr>\n      <th>1</th>\n      <td>0.449833</td>\n      <td>0.899666</td>\n    </tr>\n    <tr>\n      <th>2</th>\n      <td>0.320806</td>\n      <td>0.641613</td>\n    </tr>\n    <tr>\n      <th>3</th>\n      <td>0.950275</td>\n      <td>1.900550</td>\n    </tr>\n    <tr>\n      <th>4</th>\n      <td>0.503762</td>\n      <td>1.007525</td>\n    </tr>\n    <tr>\n      <th>5</th>\n      <td>0.033943</td>\n      <td>0.067886</td>\n    </tr>\n    <tr>\n      <th>6</th>\n      <td>0.588497</td>\n      <td>1.176994</td>\n    </tr>\n    <tr>\n      <th>7</th>\n      <td>0.836514</td>\n      <td>1.673028</td>\n    </tr>\n    <tr>\n      <th>8</th>\n      <td>0.414526</td>\n      <td>0.829052</td>\n    </tr>\n    <tr>\n      <th>9</th>\n      <td>0.932544</td>\n      <td>1.865089</td>\n    </tr>\n  </tbody>\n</table>\n</div>"
     },
     "metadata": {},
     "execution_count": 5
    }
   ],
   "source": [
    "tibble(x=runif(10), y=f.x*2)"
   ]
  },
  {
   "cell_type": "code",
   "execution_count": 6,
   "id": "emotional-confidence",
   "metadata": {
    "execution": {
     "iopub.execute_input": "2021-04-17T00:55:25.948226Z",
     "iopub.status.busy": "2021-04-17T00:55:25.947746Z",
     "iopub.status.idle": "2021-04-17T00:55:25.957218Z",
     "shell.execute_reply": "2021-04-17T00:55:25.956700Z"
    }
   },
   "outputs": [
    {
     "output_type": "stream",
     "name": "stdout",
     "text": [
      "Names must be unique: x\n"
     ]
    }
   ],
   "source": [
    "from datar.core.exceptions import NameNonUniqueError\n",
    "x = 1\n",
    "try:\n",
    "    tibble(x, x)\n",
    "except NameNonUniqueError as err:\n",
    "    print(err)"
   ]
  },
  {
   "cell_type": "code",
   "execution_count": 7,
   "id": "proud-passenger",
   "metadata": {
    "execution": {
     "iopub.execute_input": "2021-04-17T00:55:25.960904Z",
     "iopub.status.busy": "2021-04-17T00:55:25.960392Z",
     "iopub.status.idle": "2021-04-17T00:55:25.978322Z",
     "shell.execute_reply": "2021-04-17T00:55:25.977896Z"
    }
   },
   "outputs": [
    {
     "output_type": "stream",
     "name": "stderr",
     "text": [
      "[2021-05-06 15:39:39][datar][WARNING] New names:\n",
      "[2021-05-06 15:39:39][datar][WARNING] * 'x' -> 'x__0'\n",
      "[2021-05-06 15:39:39][datar][WARNING] * 'x' -> 'x__1'\n"
     ]
    },
    {
     "output_type": "execute_result",
     "data": {
      "text/plain": [
       "   x__0  x__1\n",
       "0     1     1"
      ],
      "text/html": "<div>\n<style scoped>\n    .dataframe tbody tr th:only-of-type {\n        vertical-align: middle;\n    }\n\n    .dataframe tbody tr th {\n        vertical-align: top;\n    }\n\n    .dataframe thead th {\n        text-align: right;\n    }\n</style>\n<table border=\"1\" class=\"dataframe\">\n  <thead>\n    <tr style=\"text-align: right;\">\n      <th></th>\n      <th>x__0</th>\n      <th>x__1</th>\n    </tr>\n  </thead>\n  <tbody>\n    <tr>\n      <th>0</th>\n      <td>1</td>\n      <td>1</td>\n    </tr>\n  </tbody>\n</table>\n</div>"
     },
     "metadata": {},
     "execution_count": 7
    }
   ],
   "source": [
    "tibble(x, x, _name_repair=\"unique\")"
   ]
  },
  {
   "cell_type": "code",
   "execution_count": 8,
   "id": "younger-multiple",
   "metadata": {
    "execution": {
     "iopub.execute_input": "2021-04-17T00:55:25.982041Z",
     "iopub.status.busy": "2021-04-17T00:55:25.981567Z",
     "iopub.status.idle": "2021-04-17T00:55:25.995091Z",
     "shell.execute_reply": "2021-04-17T00:55:25.995458Z"
    }
   },
   "outputs": [
    {
     "output_type": "execute_result",
     "data": {
      "text/plain": [
       "   x  x\n",
       "0  1  1"
      ],
      "text/html": "<div>\n<style scoped>\n    .dataframe tbody tr th:only-of-type {\n        vertical-align: middle;\n    }\n\n    .dataframe tbody tr th {\n        vertical-align: top;\n    }\n\n    .dataframe thead th {\n        text-align: right;\n    }\n</style>\n<table border=\"1\" class=\"dataframe\">\n  <thead>\n    <tr style=\"text-align: right;\">\n      <th></th>\n      <th>x</th>\n      <th>x</th>\n    </tr>\n  </thead>\n  <tbody>\n    <tr>\n      <th>0</th>\n      <td>1</td>\n      <td>1</td>\n    </tr>\n  </tbody>\n</table>\n</div>"
     },
     "metadata": {},
     "execution_count": 8
    }
   ],
   "source": [
    "tibble(x, x, _name_repair=\"minimal\") # duplicated columns collapse"
   ]
  },
  {
   "cell_type": "code",
   "execution_count": 9,
   "id": "established-vanilla",
   "metadata": {
    "execution": {
     "iopub.execute_input": "2021-04-17T00:55:25.998996Z",
     "iopub.status.busy": "2021-04-17T00:55:25.998486Z",
     "iopub.status.idle": "2021-04-17T00:55:26.015921Z",
     "shell.execute_reply": "2021-04-17T00:55:26.015560Z"
    }
   },
   "outputs": [
    {
     "output_type": "stream",
     "name": "stderr",
     "text": [
      "[2021-05-06 15:39:40][datar][WARNING] New names:\n",
      "[2021-05-06 15:39:40][datar][WARNING] * 'a * 1' -> 'a___1'\n",
      "[2021-05-06 15:39:40][datar][WARNING] * 'a * 2' -> 'a___2'\n"
     ]
    },
    {
     "output_type": "execute_result",
     "data": {
      "text/plain": [
       "   a___1  a___2\n",
       "0      1      2"
      ],
      "text/html": "<div>\n<style scoped>\n    .dataframe tbody tr th:only-of-type {\n        vertical-align: middle;\n    }\n\n    .dataframe tbody tr th {\n        vertical-align: top;\n    }\n\n    .dataframe thead th {\n        text-align: right;\n    }\n</style>\n<table border=\"1\" class=\"dataframe\">\n  <thead>\n    <tr style=\"text-align: right;\">\n      <th></th>\n      <th>a___1</th>\n      <th>a___2</th>\n    </tr>\n  </thead>\n  <tbody>\n    <tr>\n      <th>0</th>\n      <td>1</td>\n      <td>2</td>\n    </tr>\n  </tbody>\n</table>\n</div>"
     },
     "metadata": {},
     "execution_count": 9
    }
   ],
   "source": [
    "a = 1\n",
    "tibble(a * 1, a * 2, _name_repair=\"universal\")"
   ]
  },
  {
   "cell_type": "code",
   "execution_count": 10,
   "id": "still-subscriber",
   "metadata": {
    "execution": {
     "iopub.execute_input": "2021-04-17T00:55:26.020229Z",
     "iopub.status.busy": "2021-04-17T00:55:26.019740Z",
     "iopub.status.idle": "2021-04-17T00:55:26.036133Z",
     "shell.execute_reply": "2021-04-17T00:55:26.035628Z"
    }
   },
   "outputs": [
    {
     "output_type": "execute_result",
     "data": {
      "text/plain": [
       "   a  a_1\n",
       "0  1    1"
      ],
      "text/html": "<div>\n<style scoped>\n    .dataframe tbody tr th:only-of-type {\n        vertical-align: middle;\n    }\n\n    .dataframe tbody tr th {\n        vertical-align: top;\n    }\n\n    .dataframe thead th {\n        text-align: right;\n    }\n</style>\n<table border=\"1\" class=\"dataframe\">\n  <thead>\n    <tr style=\"text-align: right;\">\n      <th></th>\n      <th>a</th>\n      <th>a_1</th>\n    </tr>\n  </thead>\n  <tbody>\n    <tr>\n      <th>0</th>\n      <td>1</td>\n      <td>1</td>\n    </tr>\n  </tbody>\n</table>\n</div>"
     },
     "metadata": {},
     "execution_count": 10
    }
   ],
   "source": [
    "from typing import Iterable\n",
    "def make_unique(names: Iterable[str]):\n",
    "    new_names = []\n",
    "    for name in names:\n",
    "        name_count = new_names.count(name)\n",
    "        if name_count == 0:\n",
    "            new_names.append(name)\n",
    "        else:\n",
    "            new_names.append(f'{name}_{name_count}')\n",
    "    return new_names\n",
    "\n",
    "tibble(a, a, _name_repair=make_unique)"
   ]
  },
  {
   "cell_type": "code",
   "execution_count": 11,
   "id": "descending-kennedy",
   "metadata": {
    "execution": {
     "iopub.execute_input": "2021-04-17T00:55:26.040189Z",
     "iopub.status.busy": "2021-04-17T00:55:26.039693Z",
     "iopub.status.idle": "2021-04-17T00:55:26.057466Z",
     "shell.execute_reply": "2021-04-17T00:55:26.057094Z"
    }
   },
   "outputs": [
    {
     "output_type": "execute_result",
     "data": {
      "text/plain": [
       "   a_+_1  a_+_2\n",
       "0      2      3"
      ],
      "text/html": "<div>\n<style scoped>\n    .dataframe tbody tr th:only-of-type {\n        vertical-align: middle;\n    }\n\n    .dataframe tbody tr th {\n        vertical-align: top;\n    }\n\n    .dataframe thead th {\n        text-align: right;\n    }\n</style>\n<table border=\"1\" class=\"dataframe\">\n  <thead>\n    <tr style=\"text-align: right;\">\n      <th></th>\n      <th>a_+_1</th>\n      <th>a_+_2</th>\n    </tr>\n  </thead>\n  <tbody>\n    <tr>\n      <th>0</th>\n      <td>2</td>\n      <td>3</td>\n    </tr>\n  </tbody>\n</table>\n</div>"
     },
     "metadata": {},
     "execution_count": 11
    }
   ],
   "source": [
    "def fix_names(name):\n",
    "    import re\n",
    "    return re.sub(r'\\s+', '_', name)\n",
    "\n",
    "\n",
    "tibble(a + 1, a + 2, _name_repair = fix_names)"
   ]
  },
  {
   "cell_type": "code",
   "execution_count": 12,
   "id": "amber-intermediate",
   "metadata": {
    "execution": {
     "iopub.execute_input": "2021-04-17T00:55:26.061045Z",
     "iopub.status.busy": "2021-04-17T00:55:26.060540Z",
     "iopub.status.idle": "2021-04-17T00:55:26.074675Z",
     "shell.execute_reply": "2021-04-17T00:55:26.075057Z"
    }
   },
   "outputs": [
    {
     "output_type": "execute_result",
     "data": {
      "text/plain": [
       "   a  b\n",
       "0  1  1"
      ],
      "text/html": "<div>\n<style scoped>\n    .dataframe tbody tr th:only-of-type {\n        vertical-align: middle;\n    }\n\n    .dataframe tbody tr th {\n        vertical-align: top;\n    }\n\n    .dataframe thead th {\n        text-align: right;\n    }\n</style>\n<table border=\"1\" class=\"dataframe\">\n  <thead>\n    <tr style=\"text-align: right;\">\n      <th></th>\n      <th>a</th>\n      <th>b</th>\n    </tr>\n  </thead>\n  <tbody>\n    <tr>\n      <th>0</th>\n      <td>1</td>\n      <td>1</td>\n    </tr>\n  </tbody>\n</table>\n</div>"
     },
     "metadata": {},
     "execution_count": 12
    }
   ],
   "source": [
    "tibble(x, x, _name_repair=[\"a\", \"b\"])"
   ]
  },
  {
   "cell_type": "code",
   "execution_count": 13,
   "id": "pressing-soviet",
   "metadata": {
    "execution": {
     "iopub.execute_input": "2021-04-17T00:55:26.078867Z",
     "iopub.status.busy": "2021-04-17T00:55:26.078389Z",
     "iopub.status.idle": "2021-04-17T00:55:26.102949Z",
     "shell.execute_reply": "2021-04-17T00:55:26.103431Z"
    }
   },
   "outputs": [
    {
     "output_type": "execute_result",
     "data": {
      "text/plain": [
       "   b  c  a  d\n",
       "0  4  7  0  4\n",
       "1  5  8  1  5\n",
       "2  6  9  2  6"
      ],
      "text/html": "<div>\n<style scoped>\n    .dataframe tbody tr th:only-of-type {\n        vertical-align: middle;\n    }\n\n    .dataframe tbody tr th {\n        vertical-align: top;\n    }\n\n    .dataframe thead th {\n        text-align: right;\n    }\n</style>\n<table border=\"1\" class=\"dataframe\">\n  <thead>\n    <tr style=\"text-align: right;\">\n      <th></th>\n      <th>b</th>\n      <th>c</th>\n      <th>a</th>\n      <th>d</th>\n    </tr>\n  </thead>\n  <tbody>\n    <tr>\n      <th>0</th>\n      <td>4</td>\n      <td>7</td>\n      <td>0</td>\n      <td>4</td>\n    </tr>\n    <tr>\n      <th>1</th>\n      <td>5</td>\n      <td>8</td>\n      <td>1</td>\n      <td>5</td>\n    </tr>\n    <tr>\n      <th>2</th>\n      <td>6</td>\n      <td>9</td>\n      <td>2</td>\n      <td>6</td>\n    </tr>\n  </tbody>\n</table>\n</div>"
     },
     "metadata": {},
     "execution_count": 13
    }
   ],
   "source": [
    "tibble(\n",
    "  tibble(\n",
    "    b = [4,5,6],\n",
    "    c = [7,8,9]\n",
    "  ),\n",
    "  a = range(3),\n",
    "  d = f.b\n",
    ")"
   ]
  },
  {
   "cell_type": "code",
   "execution_count": 14,
   "id": "deluxe-palmer",
   "metadata": {
    "execution": {
     "iopub.execute_input": "2021-04-17T00:55:26.108792Z",
     "iopub.status.busy": "2021-04-17T00:55:26.108282Z",
     "iopub.status.idle": "2021-04-17T00:55:26.154521Z",
     "shell.execute_reply": "2021-04-17T00:55:26.154126Z"
    }
   },
   "outputs": [
    {
     "output_type": "execute_result",
     "data": {
      "text/plain": [
       "   a  b$0  b$1  b$2  b$3  c$x$0  c$x$1\n",
       "0  0    1    0    0    0      1      0\n",
       "1  1    0    1    0    0      0      1\n",
       "2  2    0    0    1    0      0      0\n",
       "3  3    0    0    0    1      0      0"
      ],
      "text/html": "<div>\n<style scoped>\n    .dataframe tbody tr th:only-of-type {\n        vertical-align: middle;\n    }\n\n    .dataframe tbody tr th {\n        vertical-align: top;\n    }\n\n    .dataframe thead th {\n        text-align: right;\n    }\n</style>\n<table border=\"1\" class=\"dataframe\">\n  <thead>\n    <tr style=\"text-align: right;\">\n      <th></th>\n      <th>a</th>\n      <th>b$0</th>\n      <th>b$1</th>\n      <th>b$2</th>\n      <th>b$3</th>\n      <th>c$x$0</th>\n      <th>c$x$1</th>\n    </tr>\n  </thead>\n  <tbody>\n    <tr>\n      <th>0</th>\n      <td>0</td>\n      <td>1</td>\n      <td>0</td>\n      <td>0</td>\n      <td>0</td>\n      <td>1</td>\n      <td>0</td>\n    </tr>\n    <tr>\n      <th>1</th>\n      <td>1</td>\n      <td>0</td>\n      <td>1</td>\n      <td>0</td>\n      <td>0</td>\n      <td>0</td>\n      <td>1</td>\n    </tr>\n    <tr>\n      <th>2</th>\n      <td>2</td>\n      <td>0</td>\n      <td>0</td>\n      <td>1</td>\n      <td>0</td>\n      <td>0</td>\n      <td>0</td>\n    </tr>\n    <tr>\n      <th>3</th>\n      <td>3</td>\n      <td>0</td>\n      <td>0</td>\n      <td>0</td>\n      <td>1</td>\n      <td>0</td>\n      <td>0</td>\n    </tr>\n  </tbody>\n</table>\n</div>"
     },
     "metadata": {},
     "execution_count": 14
    }
   ],
   "source": [
    "s = tibble(diag(1, 4))\n",
    "t = tibble(s.iloc[:, :2], _name_repair=['x', 'y'])\n",
    "tibble(\n",
    "  a=range(4),\n",
    "  b=s,\n",
    "  c=t\n",
    ")"
   ]
  },
  {
   "cell_type": "code",
   "execution_count": 15,
   "id": "recovered-graduate",
   "metadata": {
    "execution": {
     "iopub.execute_input": "2021-04-17T00:55:26.169494Z",
     "iopub.status.busy": "2021-04-17T00:55:26.166453Z",
     "iopub.status.idle": "2021-04-17T00:55:26.181274Z",
     "shell.execute_reply": "2021-04-17T00:55:26.180836Z"
    }
   },
   "outputs": [
    {
     "output_type": "stream",
     "name": "stdout",
     "text": [
      "Length of values (4) does not match length of index (3)\n"
     ]
    }
   ],
   "source": [
    "try:\n",
    "    tibble(a=range(3), b=range(4))\n",
    "except ValueError as err:\n",
    "    print(err)"
   ]
  },
  {
   "cell_type": "code",
   "execution_count": 16,
   "id": "earned-lecture",
   "metadata": {
    "execution": {
     "iopub.execute_input": "2021-04-17T00:55:26.185637Z",
     "iopub.status.busy": "2021-04-17T00:55:26.185125Z",
     "iopub.status.idle": "2021-04-17T00:55:26.207030Z",
     "shell.execute_reply": "2021-04-17T00:55:26.206380Z"
    }
   },
   "outputs": [
    {
     "output_type": "execute_result",
     "data": {
      "text/plain": [
       "   .dotted\n",
       "0        3"
      ],
      "text/html": "<div>\n<style scoped>\n    .dataframe tbody tr th:only-of-type {\n        vertical-align: middle;\n    }\n\n    .dataframe tbody tr th {\n        vertical-align: top;\n    }\n\n    .dataframe thead th {\n        text-align: right;\n    }\n</style>\n<table border=\"1\" class=\"dataframe\">\n  <thead>\n    <tr style=\"text-align: right;\">\n      <th></th>\n      <th>.dotted</th>\n    </tr>\n  </thead>\n  <tbody>\n    <tr>\n      <th>0</th>\n      <td>3</td>\n    </tr>\n  </tbody>\n</table>\n</div>"
     },
     "metadata": {},
     "execution_count": 16
    }
   ],
   "source": [
    "tibble(_dotted = 3, _name_repair=lambda x: x.replace('_', '.'))"
   ]
  },
  {
   "cell_type": "code",
   "execution_count": 17,
   "id": "instrumental-appearance",
   "metadata": {
    "execution": {
     "iopub.execute_input": "2021-04-17T00:55:26.211834Z",
     "iopub.status.busy": "2021-04-17T00:55:26.210486Z",
     "iopub.status.idle": "2021-04-17T00:55:26.231939Z",
     "shell.execute_reply": "2021-04-17T00:55:26.231474Z"
    }
   },
   "outputs": [
    {
     "output_type": "execute_result",
     "data": {
      "text/plain": [
       "   x  y\n",
       "0  1  1"
      ],
      "text/html": "<div>\n<style scoped>\n    .dataframe tbody tr th:only-of-type {\n        vertical-align: middle;\n    }\n\n    .dataframe tbody tr th {\n        vertical-align: top;\n    }\n\n    .dataframe thead th {\n        text-align: right;\n    }\n</style>\n<table border=\"1\" class=\"dataframe\">\n  <thead>\n    <tr style=\"text-align: right;\">\n      <th></th>\n      <th>x</th>\n      <th>y</th>\n    </tr>\n  </thead>\n  <tbody>\n    <tr>\n      <th>0</th>\n      <td>1</td>\n      <td>1</td>\n    </tr>\n  </tbody>\n</table>\n</div>"
     },
     "metadata": {},
     "execution_count": 17
    }
   ],
   "source": [
    "x = 3\n",
    "tibble(x=1, y=f.x)"
   ]
  },
  {
   "cell_type": "code",
   "execution_count": 18,
   "id": "aware-auction",
   "metadata": {
    "execution": {
     "iopub.execute_input": "2021-04-17T00:55:26.236152Z",
     "iopub.status.busy": "2021-04-17T00:55:26.235574Z",
     "iopub.status.idle": "2021-04-17T00:55:26.253145Z",
     "shell.execute_reply": "2021-04-17T00:55:26.253830Z"
    }
   },
   "outputs": [
    {
     "output_type": "execute_result",
     "data": {
      "text/plain": [
       "   x  y\n",
       "0  1  3"
      ],
      "text/html": "<div>\n<style scoped>\n    .dataframe tbody tr th:only-of-type {\n        vertical-align: middle;\n    }\n\n    .dataframe tbody tr th {\n        vertical-align: top;\n    }\n\n    .dataframe thead th {\n        text-align: right;\n    }\n</style>\n<table border=\"1\" class=\"dataframe\">\n  <thead>\n    <tr style=\"text-align: right;\">\n      <th></th>\n      <th>x</th>\n      <th>y</th>\n    </tr>\n  </thead>\n  <tbody>\n    <tr>\n      <th>0</th>\n      <td>1</td>\n      <td>3</td>\n    </tr>\n  </tbody>\n</table>\n</div>"
     },
     "metadata": {},
     "execution_count": 18
    }
   ],
   "source": [
    "tibble(x=1, y=x)"
   ]
  },
  {
   "cell_type": "code",
   "execution_count": 19,
   "id": "settled-header",
   "metadata": {
    "execution": {
     "iopub.execute_input": "2021-04-17T00:55:26.259952Z",
     "iopub.status.busy": "2021-04-17T00:55:26.259253Z",
     "iopub.status.idle": "2021-04-17T00:55:26.274646Z",
     "shell.execute_reply": "2021-04-17T00:55:26.274247Z"
    }
   },
   "outputs": [
    {
     "output_type": "execute_result",
     "data": {
      "text/plain": [
       "  colA  colB\n",
       "0    a     1\n",
       "1    b     2\n",
       "2    c     3"
      ],
      "text/html": "<div>\n<style scoped>\n    .dataframe tbody tr th:only-of-type {\n        vertical-align: middle;\n    }\n\n    .dataframe tbody tr th {\n        vertical-align: top;\n    }\n\n    .dataframe thead th {\n        text-align: right;\n    }\n</style>\n<table border=\"1\" class=\"dataframe\">\n  <thead>\n    <tr style=\"text-align: right;\">\n      <th></th>\n      <th>colA</th>\n      <th>colB</th>\n    </tr>\n  </thead>\n  <tbody>\n    <tr>\n      <th>0</th>\n      <td>a</td>\n      <td>1</td>\n    </tr>\n    <tr>\n      <th>1</th>\n      <td>b</td>\n      <td>2</td>\n    </tr>\n    <tr>\n      <th>2</th>\n      <td>c</td>\n      <td>3</td>\n    </tr>\n  </tbody>\n</table>\n</div>"
     },
     "metadata": {},
     "execution_count": 19
    }
   ],
   "source": [
    "tribble(\n",
    "  f.colA, f.colB,\n",
    "  \"a\",    1,\n",
    "  \"b\",    2,\n",
    "  \"c\",    3\n",
    ")"
   ]
  },
  {
   "cell_type": "code",
   "execution_count": 20,
   "id": "likely-stand",
   "metadata": {
    "execution": {
     "iopub.execute_input": "2021-04-17T00:55:26.283969Z",
     "iopub.status.busy": "2021-04-17T00:55:26.283396Z",
     "iopub.status.idle": "2021-04-17T00:55:26.293071Z",
     "shell.execute_reply": "2021-04-17T00:55:26.293482Z"
    }
   },
   "outputs": [
    {
     "output_type": "execute_result",
     "data": {
      "text/plain": [
       "   x          y\n",
       "0  a  [1, 2, 3]\n",
       "1  b  [4, 5, 6]"
      ],
      "text/html": "<div>\n<style scoped>\n    .dataframe tbody tr th:only-of-type {\n        vertical-align: middle;\n    }\n\n    .dataframe tbody tr th {\n        vertical-align: top;\n    }\n\n    .dataframe thead th {\n        text-align: right;\n    }\n</style>\n<table border=\"1\" class=\"dataframe\">\n  <thead>\n    <tr style=\"text-align: right;\">\n      <th></th>\n      <th>x</th>\n      <th>y</th>\n    </tr>\n  </thead>\n  <tbody>\n    <tr>\n      <th>0</th>\n      <td>a</td>\n      <td>[1, 2, 3]</td>\n    </tr>\n    <tr>\n      <th>1</th>\n      <td>b</td>\n      <td>[4, 5, 6]</td>\n    </tr>\n  </tbody>\n</table>\n</div>"
     },
     "metadata": {},
     "execution_count": 20
    }
   ],
   "source": [
    "tribble(\n",
    "  f.x,  f.y,\n",
    "  \"a\",  [1,2,3],\n",
    "  \"b\",  [4,5,6]\n",
    ")"
   ]
  },
  {
   "cell_type": "code",
   "execution_count": 21,
   "metadata": {},
   "outputs": [
    {
     "output_type": "execute_result",
     "data": {
      "text/plain": [
       "   a       b\n",
       "0  1  [2, 3]"
      ],
      "text/html": "<div>\n<style scoped>\n    .dataframe tbody tr th:only-of-type {\n        vertical-align: middle;\n    }\n\n    .dataframe tbody tr th {\n        vertical-align: top;\n    }\n\n    .dataframe thead th {\n        text-align: right;\n    }\n</style>\n<table border=\"1\" class=\"dataframe\">\n  <thead>\n    <tr style=\"text-align: right;\">\n      <th></th>\n      <th>a</th>\n      <th>b</th>\n    </tr>\n  </thead>\n  <tbody>\n    <tr>\n      <th>0</th>\n      <td>1</td>\n      <td>[2, 3]</td>\n    </tr>\n  </tbody>\n</table>\n</div>"
     },
     "metadata": {},
     "execution_count": 21
    }
   ],
   "source": [
    "tibble_row(a=1, b=[[2,3]])"
   ]
  }
 ],
 "metadata": {
  "kernelspec": {
   "display_name": "Python 3",
   "language": "python",
   "name": "python3"
  },
  "language_info": {
   "codemirror_mode": {
    "name": "ipython",
    "version": 3
   },
   "file_extension": ".py",
   "mimetype": "text/x-python",
   "name": "python",
   "nbconvert_exporter": "python",
   "pygments_lexer": "ipython3",
   "version": "3.7.8"
  }
 },
 "nbformat": 4,
 "nbformat_minor": 5
}
