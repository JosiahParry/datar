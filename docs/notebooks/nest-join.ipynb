{
 "cells": [
  {
   "cell_type": "code",
   "execution_count": 1,
   "id": "adverse-thesis",
   "metadata": {
    "execution": {
     "iopub.execute_input": "2021-04-17T00:53:57.191674Z",
     "iopub.status.busy": "2021-04-17T00:53:57.189935Z",
     "iopub.status.idle": "2021-04-17T00:53:57.878986Z",
     "shell.execute_reply": "2021-04-17T00:53:57.878516Z"
    }
   },
   "outputs": [
    {
     "output_type": "display_data",
     "data": {
      "text/plain": "<IPython.core.display.HTML object>",
      "text/html": "<div style=\"text-align: right; text-style: italic\">Try this notebook on <a target=\"_blank\" href=\"https://mybinder.org/v2/gh/pwwang/datar/93d069f3ca36711fc811c61dcf60e9fc3d1460a5?filepath=docs%2Fnotebooks%2Fnest-join.ipynb\">binder</a>.</div>"
     },
     "metadata": {}
    },
    {
     "output_type": "display_data",
     "data": {
      "text/plain": "<IPython.core.display.Markdown object>",
      "text/markdown": "### # nest_join  "
     },
     "metadata": {}
    },
    {
     "output_type": "display_data",
     "data": {
      "text/plain": "<IPython.core.display.Markdown object>",
      "text/markdown": "##### Returns all rows and columns in x with a new nested-df column that\ncontains all matches from y  \n\nSee Also:  \n&emsp;&emsp;[`inner_join()`](datar.dplyr.join.inner_join)  \n"
     },
     "metadata": {}
    }
   ],
   "source": [
    "# https://dplyr.tidyverse.org/reference/nest_join.html\n",
    "\n",
    "from datar.datasets import band_members, band_instruments\n",
    "from datar.all import *\n",
    "\n",
    "%run nb_helpers.py\n",
    "nb_header(nest_join, book='nest-join')"
   ]
  },
  {
   "cell_type": "code",
   "execution_count": 2,
   "id": "green-continuity",
   "metadata": {
    "execution": {
     "iopub.execute_input": "2021-04-17T00:53:57.883206Z",
     "iopub.status.busy": "2021-04-17T00:53:57.882724Z",
     "iopub.status.idle": "2021-04-17T00:53:57.922099Z",
     "shell.execute_reply": "2021-04-17T00:53:57.921548Z"
    }
   },
   "outputs": [
    {
     "output_type": "execute_result",
     "data": {
      "text/plain": [
       "   name     band                            band_instruments\n",
       "0  Mick   Stones  Empty DataFrame\n",
       "Columns: [plays]\n",
       "Index: []\n",
       "1  John  Beatles                             plays\n",
       "0  guitar\n",
       "2  Paul  Beatles                               plays\n",
       "0  bass"
      ],
      "text/html": "<div>\n<style scoped>\n    .dataframe tbody tr th:only-of-type {\n        vertical-align: middle;\n    }\n\n    .dataframe tbody tr th {\n        vertical-align: top;\n    }\n\n    .dataframe thead th {\n        text-align: right;\n    }\n</style>\n<table border=\"1\" class=\"dataframe\">\n  <thead>\n    <tr style=\"text-align: right;\">\n      <th></th>\n      <th>name</th>\n      <th>band</th>\n      <th>band_instruments</th>\n    </tr>\n  </thead>\n  <tbody>\n    <tr>\n      <th>0</th>\n      <td>Mick</td>\n      <td>Stones</td>\n      <td>Empty DataFrame\nColumns: [plays]\nIndex: []</td>\n    </tr>\n    <tr>\n      <th>1</th>\n      <td>John</td>\n      <td>Beatles</td>\n      <td>plays\n0  guitar</td>\n    </tr>\n    <tr>\n      <th>2</th>\n      <td>Paul</td>\n      <td>Beatles</td>\n      <td>plays\n0  bass</td>\n    </tr>\n  </tbody>\n</table>\n</div>"
     },
     "metadata": {},
     "execution_count": 2
    }
   ],
   "source": [
    "nested = band_members >> nest_join(band_instruments)\n",
    "nested"
   ]
  },
  {
   "cell_type": "code",
   "execution_count": 3,
   "id": "french-egyptian",
   "metadata": {
    "execution": {
     "iopub.execute_input": "2021-04-17T00:53:57.930956Z",
     "iopub.status.busy": "2021-04-17T00:53:57.930143Z",
     "iopub.status.idle": "2021-04-17T00:53:57.933800Z",
     "shell.execute_reply": "2021-04-17T00:53:57.933392Z"
    }
   },
   "outputs": [
    {
     "output_type": "execute_result",
     "data": {
      "text/plain": [
       "[Empty DataFrame\n",
       " Columns: [plays]\n",
       " Index: [],\n",
       "     plays\n",
       " 0  guitar]"
      ]
     },
     "metadata": {},
     "execution_count": 3
    }
   ],
   "source": [
    "nested >> head(2) >> pull(f.band_instruments, to='list')"
   ]
  }
 ],
 "metadata": {
  "kernelspec": {
   "display_name": "Python 3",
   "language": "python",
   "name": "python3"
  },
  "language_info": {
   "codemirror_mode": {
    "name": "ipython",
    "version": 3
   },
   "file_extension": ".py",
   "mimetype": "text/x-python",
   "name": "python",
   "nbconvert_exporter": "python",
   "pygments_lexer": "ipython3",
   "version": "3.7.8"
  }
 },
 "nbformat": 4,
 "nbformat_minor": 5
}