{
 "cells": [
  {
   "cell_type": "code",
   "execution_count": 1,
   "id": "unexpected-intent",
   "metadata": {},
   "outputs": [
    {
     "data": {
      "text/html": [
       "<div style=\"text-align: right; text-style: italic\">Try this notebook on <a target=\"_blank\" href=\"https://mybinder.org/v2/gh/pwwang/datar/93d069f3ca36711fc811c61dcf60e9fc3d1460a5?filepath=docs%2Fnotebooks%2Fcontext.ipynb\">binder</a>.</div>"
      ],
      "text/plain": [
       "<IPython.core.display.HTML object>"
      ]
     },
     "metadata": {},
     "output_type": "display_data"
    },
    {
     "data": {
      "text/markdown": [
       "### # cur_group_id  "
      ],
      "text/plain": [
       "<IPython.core.display.Markdown object>"
      ]
     },
     "metadata": {},
     "output_type": "display_data"
    },
    {
     "data": {
      "text/markdown": [
       "##### gives a unique numeric identifier for the current group.\n"
      ],
      "text/plain": [
       "<IPython.core.display.Markdown object>"
      ]
     },
     "metadata": {},
     "output_type": "display_data"
    },
    {
     "data": {
      "text/markdown": [
       "### # cur_group_rows  "
      ],
      "text/plain": [
       "<IPython.core.display.Markdown object>"
      ]
     },
     "metadata": {},
     "output_type": "display_data"
    },
    {
     "data": {
      "text/markdown": [
       "##### gives the row indices for the current group.\n"
      ],
      "text/plain": [
       "<IPython.core.display.Markdown object>"
      ]
     },
     "metadata": {},
     "output_type": "display_data"
    },
    {
     "data": {
      "text/markdown": [
       "### # cur_data  "
      ],
      "text/plain": [
       "<IPython.core.display.Markdown object>"
      ]
     },
     "metadata": {},
     "output_type": "display_data"
    },
    {
     "data": {
      "text/markdown": [
       "##### gives the current data for the current group\n",
       "(excluding grouping variables).  \n"
      ],
      "text/plain": [
       "<IPython.core.display.Markdown object>"
      ]
     },
     "metadata": {},
     "output_type": "display_data"
    },
    {
     "data": {
      "text/markdown": [
       "### # cur_data_all  "
      ],
      "text/plain": [
       "<IPython.core.display.Markdown object>"
      ]
     },
     "metadata": {},
     "output_type": "display_data"
    },
    {
     "data": {
      "text/markdown": [
       "##### gives the current data for the current group\n",
       "(including grouping variables)  \n"
      ],
      "text/plain": [
       "<IPython.core.display.Markdown object>"
      ]
     },
     "metadata": {},
     "output_type": "display_data"
    },
    {
     "data": {
      "text/markdown": [
       "### # cur_column  "
      ],
      "text/plain": [
       "<IPython.core.display.Markdown object>"
      ]
     },
     "metadata": {},
     "output_type": "display_data"
    },
    {
     "data": {
      "text/markdown": [
       "##### Used in the functions of across. So we don't have to register it.\n"
      ],
      "text/plain": [
       "<IPython.core.display.Markdown object>"
      ]
     },
     "metadata": {},
     "output_type": "display_data"
    }
   ],
   "source": [
    "# https://dplyr.tidyverse.org/reference/context.html\n",
    "from datar.all import *\n",
    "\n",
    "from nb_helpers import nb_header\n",
    "nb_header(cur_group_id, cur_group_rows, cur_data, cur_data_all, cur_column)"
   ]
  },
  {
   "cell_type": "code",
   "execution_count": 2,
   "id": "physical-costs",
   "metadata": {},
   "outputs": [
    {
     "name": "stderr",
     "output_type": "stream",
     "text": [
      "[2021-04-01 17:46:21][datar][   INFO] `summarise()` regrouping output by ['g']. You can override using the `.groups` argument.\n"
     ]
    },
    {
     "data": {
      "text/plain": [
       "<pandas.core.groupby.generic.DataFrameGroupBy object at 0x7f788728bcd0>"
      ]
     },
     "execution_count": 2,
     "metadata": {},
     "output_type": "execute_result"
    }
   ],
   "source": [
    "df = tibble(\n",
    "  g=['a'] + ['b'] * 2 + ['c'] * 3,\n",
    "  x=runif(6),\n",
    "  y=runif(6)\n",
    ")\n",
    "gf = df >> group_by(f.g)\n",
    "\n",
    "gf >> summarise(n = n())"
   ]
  },
  {
   "cell_type": "code",
   "execution_count": 3,
   "id": "basic-hybrid",
   "metadata": {},
   "outputs": [
    {
     "name": "stderr",
     "output_type": "stream",
     "text": [
      "[2021-04-01 17:46:21][datar][   INFO] # [DataFrameGroupBy] Groups: ['g'] (3)\n"
     ]
    },
    {
     "data": {
      "text/html": [
       "<div>\n",
       "<style scoped>\n",
       "    .dataframe tbody tr th:only-of-type {\n",
       "        vertical-align: middle;\n",
       "    }\n",
       "\n",
       "    .dataframe tbody tr th {\n",
       "        vertical-align: top;\n",
       "    }\n",
       "\n",
       "    .dataframe thead th {\n",
       "        text-align: right;\n",
       "    }\n",
       "</style>\n",
       "<table border=\"1\" class=\"dataframe\">\n",
       "  <thead>\n",
       "    <tr style=\"text-align: right;\">\n",
       "      <th></th>\n",
       "      <th>g</th>\n",
       "      <th>x</th>\n",
       "      <th>y</th>\n",
       "    </tr>\n",
       "  </thead>\n",
       "  <tbody>\n",
       "    <tr>\n",
       "      <th>0</th>\n",
       "      <td>a</td>\n",
       "      <td>0.725713</td>\n",
       "      <td>0.968646</td>\n",
       "    </tr>\n",
       "    <tr>\n",
       "      <th>1</th>\n",
       "      <td>b</td>\n",
       "      <td>0.090224</td>\n",
       "      <td>0.387580</td>\n",
       "    </tr>\n",
       "    <tr>\n",
       "      <th>2</th>\n",
       "      <td>b</td>\n",
       "      <td>0.578032</td>\n",
       "      <td>0.826910</td>\n",
       "    </tr>\n",
       "    <tr>\n",
       "      <th>3</th>\n",
       "      <td>c</td>\n",
       "      <td>0.196640</td>\n",
       "      <td>0.496450</td>\n",
       "    </tr>\n",
       "    <tr>\n",
       "      <th>4</th>\n",
       "      <td>c</td>\n",
       "      <td>0.426203</td>\n",
       "      <td>0.006330</td>\n",
       "    </tr>\n",
       "    <tr>\n",
       "      <th>5</th>\n",
       "      <td>c</td>\n",
       "      <td>0.140672</td>\n",
       "      <td>0.208947</td>\n",
       "    </tr>\n",
       "  </tbody>\n",
       "</table>\n",
       "</div>"
      ],
      "text/plain": [
       "   g         x         y\n",
       "0  a  0.725713  0.968646\n",
       "1  b  0.090224  0.387580\n",
       "2  b  0.578032  0.826910\n",
       "3  c  0.196640  0.496450\n",
       "4  c  0.426203  0.006330\n",
       "5  c  0.140672  0.208947"
      ]
     },
     "execution_count": 3,
     "metadata": {},
     "output_type": "execute_result"
    }
   ],
   "source": [
    "gf >> display()"
   ]
  },
  {
   "cell_type": "code",
   "execution_count": 4,
   "id": "universal-halifax",
   "metadata": {},
   "outputs": [
    {
     "name": "stderr",
     "output_type": "stream",
     "text": [
      "[2021-04-01 17:46:21][datar][   INFO] # [DataFrameGroupBy] Groups: ['g'] (3)\n"
     ]
    },
    {
     "data": {
      "text/html": [
       "<div>\n",
       "<style scoped>\n",
       "    .dataframe tbody tr th:only-of-type {\n",
       "        vertical-align: middle;\n",
       "    }\n",
       "\n",
       "    .dataframe tbody tr th {\n",
       "        vertical-align: top;\n",
       "    }\n",
       "\n",
       "    .dataframe thead th {\n",
       "        text-align: right;\n",
       "    }\n",
       "</style>\n",
       "<table border=\"1\" class=\"dataframe\">\n",
       "  <thead>\n",
       "    <tr style=\"text-align: right;\">\n",
       "      <th></th>\n",
       "      <th>g</th>\n",
       "      <th>x</th>\n",
       "      <th>y</th>\n",
       "      <th>id</th>\n",
       "    </tr>\n",
       "  </thead>\n",
       "  <tbody>\n",
       "    <tr>\n",
       "      <th>0</th>\n",
       "      <td>a</td>\n",
       "      <td>0.725713</td>\n",
       "      <td>0.968646</td>\n",
       "      <td>0</td>\n",
       "    </tr>\n",
       "    <tr>\n",
       "      <th>1</th>\n",
       "      <td>b</td>\n",
       "      <td>0.090224</td>\n",
       "      <td>0.387580</td>\n",
       "      <td>1</td>\n",
       "    </tr>\n",
       "    <tr>\n",
       "      <th>2</th>\n",
       "      <td>b</td>\n",
       "      <td>0.578032</td>\n",
       "      <td>0.826910</td>\n",
       "      <td>1</td>\n",
       "    </tr>\n",
       "    <tr>\n",
       "      <th>3</th>\n",
       "      <td>c</td>\n",
       "      <td>0.196640</td>\n",
       "      <td>0.496450</td>\n",
       "      <td>2</td>\n",
       "    </tr>\n",
       "    <tr>\n",
       "      <th>4</th>\n",
       "      <td>c</td>\n",
       "      <td>0.426203</td>\n",
       "      <td>0.006330</td>\n",
       "      <td>2</td>\n",
       "    </tr>\n",
       "    <tr>\n",
       "      <th>5</th>\n",
       "      <td>c</td>\n",
       "      <td>0.140672</td>\n",
       "      <td>0.208947</td>\n",
       "      <td>2</td>\n",
       "    </tr>\n",
       "  </tbody>\n",
       "</table>\n",
       "</div>"
      ],
      "text/plain": [
       "   g         x         y  id\n",
       "0  a  0.725713  0.968646   0\n",
       "1  b  0.090224  0.387580   1\n",
       "2  b  0.578032  0.826910   1\n",
       "3  c  0.196640  0.496450   2\n",
       "4  c  0.426203  0.006330   2\n",
       "5  c  0.140672  0.208947   2"
      ]
     },
     "execution_count": 4,
     "metadata": {},
     "output_type": "execute_result"
    }
   ],
   "source": [
    "gf >> mutate(id=cur_group_id()) >> display()"
   ]
  },
  {
   "cell_type": "code",
   "execution_count": 5,
   "id": "macro-instruction",
   "metadata": {},
   "outputs": [
    {
     "name": "stderr",
     "output_type": "stream",
     "text": [
      "[2021-04-01 17:46:21][datar][   INFO] `summarise()` regrouping output by ['g']. You can override using the `.groups` argument.\n",
      "[2021-04-01 17:46:21][datar][   INFO] # [DataFrameGroupBy] Groups: ['g'] (3)\n"
     ]
    },
    {
     "data": {
      "text/html": [
       "<div>\n",
       "<style scoped>\n",
       "    .dataframe tbody tr th:only-of-type {\n",
       "        vertical-align: middle;\n",
       "    }\n",
       "\n",
       "    .dataframe tbody tr th {\n",
       "        vertical-align: top;\n",
       "    }\n",
       "\n",
       "    .dataframe thead th {\n",
       "        text-align: right;\n",
       "    }\n",
       "</style>\n",
       "<table border=\"1\" class=\"dataframe\">\n",
       "  <thead>\n",
       "    <tr style=\"text-align: right;\">\n",
       "      <th></th>\n",
       "      <th>g</th>\n",
       "      <th>row</th>\n",
       "    </tr>\n",
       "  </thead>\n",
       "  <tbody>\n",
       "    <tr>\n",
       "      <th>0</th>\n",
       "      <td>a</td>\n",
       "      <td>0</td>\n",
       "    </tr>\n",
       "    <tr>\n",
       "      <th>1</th>\n",
       "      <td>b</td>\n",
       "      <td>1</td>\n",
       "    </tr>\n",
       "    <tr>\n",
       "      <th>2</th>\n",
       "      <td>b</td>\n",
       "      <td>2</td>\n",
       "    </tr>\n",
       "    <tr>\n",
       "      <th>3</th>\n",
       "      <td>c</td>\n",
       "      <td>3</td>\n",
       "    </tr>\n",
       "    <tr>\n",
       "      <th>4</th>\n",
       "      <td>c</td>\n",
       "      <td>4</td>\n",
       "    </tr>\n",
       "    <tr>\n",
       "      <th>5</th>\n",
       "      <td>c</td>\n",
       "      <td>5</td>\n",
       "    </tr>\n",
       "  </tbody>\n",
       "</table>\n",
       "</div>"
      ],
      "text/plain": [
       "   g  row\n",
       "0  a    0\n",
       "1  b    1\n",
       "2  b    2\n",
       "3  c    3\n",
       "4  c    4\n",
       "5  c    5"
      ]
     },
     "execution_count": 5,
     "metadata": {},
     "output_type": "execute_result"
    }
   ],
   "source": [
    "gf >> summarise(row=cur_group_rows()) >> display()"
   ]
  },
  {
   "cell_type": "code",
   "execution_count": 6,
   "id": "sharp-mustang",
   "metadata": {},
   "outputs": [
    {
     "name": "stderr",
     "output_type": "stream",
     "text": [
      "[2021-04-01 17:46:21][datar][   INFO] `summarise()` regrouping output by ['g']. You can override using the `.groups` argument.\n"
     ]
    },
    {
     "data": {
      "text/plain": [
       "<pandas.core.groupby.generic.DataFrameGroupBy object at 0x7f7885764050>"
      ]
     },
     "execution_count": 6,
     "metadata": {},
     "output_type": "execute_result"
    }
   ],
   "source": [
    "gf_group = gf >> summarise(data=[cur_group()])\n",
    "gf_group "
   ]
  },
  {
   "cell_type": "code",
   "execution_count": 7,
   "id": "alternative-warning",
   "metadata": {},
   "outputs": [
    {
     "data": {
      "text/plain": [
       "[   g\n",
       " 0  a,\n",
       "    g\n",
       " 0  b,\n",
       "    g\n",
       " 0  c]"
      ]
     },
     "execution_count": 7,
     "metadata": {},
     "output_type": "execute_result"
    }
   ],
   "source": [
    "gf_group >> pull(f.data, to='list')"
   ]
  },
  {
   "cell_type": "code",
   "execution_count": 8,
   "id": "employed-surprise",
   "metadata": {},
   "outputs": [
    {
     "name": "stderr",
     "output_type": "stream",
     "text": [
      "[2021-04-01 17:46:21][datar][   INFO] `summarise()` regrouping output by ['g']. You can override using the `.groups` argument.\n"
     ]
    },
    {
     "data": {
      "text/plain": [
       "<pandas.core.groupby.generic.DataFrameGroupBy object at 0x7f7885385410>"
      ]
     },
     "execution_count": 8,
     "metadata": {},
     "output_type": "execute_result"
    }
   ],
   "source": [
    "gf_data = gf >> summarise(data=[cur_data()])\n",
    "gf_data"
   ]
  },
  {
   "cell_type": "code",
   "execution_count": 9,
   "id": "dental-merchant",
   "metadata": {},
   "outputs": [
    {
     "data": {
      "text/plain": [
       "[   g         x         y\n",
       " 0  a  0.725713  0.968646,\n",
       "    g         x        y\n",
       " 0  b  0.090224  0.38758\n",
       " 1  b  0.578032  0.82691,\n",
       "    g         x         y\n",
       " 0  c  0.196640  0.496450\n",
       " 1  c  0.426203  0.006330\n",
       " 2  c  0.140672  0.208947]"
      ]
     },
     "execution_count": 9,
     "metadata": {},
     "output_type": "execute_result"
    }
   ],
   "source": [
    "gf_data >> pull(f.data, to='list')"
   ]
  },
  {
   "cell_type": "code",
   "execution_count": 10,
   "id": "front-driver",
   "metadata": {},
   "outputs": [
    {
     "name": "stderr",
     "output_type": "stream",
     "text": [
      "[2021-04-01 17:46:22][datar][   INFO] `summarise()` regrouping output by ['g']. You can override using the `.groups` argument.\n"
     ]
    },
    {
     "data": {
      "text/plain": [
       "<pandas.core.groupby.generic.DataFrameGroupBy object at 0x7f78857ece50>"
      ]
     },
     "execution_count": 10,
     "metadata": {},
     "output_type": "execute_result"
    }
   ],
   "source": [
    "gf_data_all = gf >> summarise(data=[cur_data_all()])\n",
    "gf_data_all"
   ]
  },
  {
   "cell_type": "code",
   "execution_count": 11,
   "id": "designing-burlington",
   "metadata": {},
   "outputs": [
    {
     "data": {
      "text/plain": [
       "[   g         x         y\n",
       " 0  a  0.725713  0.968646,\n",
       "    g         x        y\n",
       " 0  b  0.090224  0.38758\n",
       " 1  b  0.578032  0.82691,\n",
       "    g         x         y\n",
       " 0  c  0.196640  0.496450\n",
       " 1  c  0.426203  0.006330\n",
       " 2  c  0.140672  0.208947]"
      ]
     },
     "execution_count": 11,
     "metadata": {},
     "output_type": "execute_result"
    }
   ],
   "source": [
    "gf_data_all >> pull(f.data, to='list')"
   ]
  },
  {
   "cell_type": "code",
   "execution_count": 12,
   "id": "circular-solomon",
   "metadata": {},
   "outputs": [
    {
     "data": {
      "text/html": [
       "<div>\n",
       "<style scoped>\n",
       "    .dataframe tbody tr th:only-of-type {\n",
       "        vertical-align: middle;\n",
       "    }\n",
       "\n",
       "    .dataframe tbody tr th {\n",
       "        vertical-align: top;\n",
       "    }\n",
       "\n",
       "    .dataframe thead th {\n",
       "        text-align: right;\n",
       "    }\n",
       "</style>\n",
       "<table border=\"1\" class=\"dataframe\">\n",
       "  <thead>\n",
       "    <tr style=\"text-align: right;\">\n",
       "      <th></th>\n",
       "      <th>x</th>\n",
       "      <th>y</th>\n",
       "    </tr>\n",
       "  </thead>\n",
       "  <tbody>\n",
       "    <tr>\n",
       "      <th>0</th>\n",
       "      <td>x 0.5266599179693725</td>\n",
       "      <td>y 0.9382743565552832</td>\n",
       "    </tr>\n",
       "    <tr>\n",
       "      <th>1</th>\n",
       "      <td>x 0.008140397891205747</td>\n",
       "      <td>y 0.15021848176712474</td>\n",
       "    </tr>\n",
       "    <tr>\n",
       "      <th>2</th>\n",
       "      <td>x 0.334121386085333</td>\n",
       "      <td>y 0.6837802892580668</td>\n",
       "    </tr>\n",
       "    <tr>\n",
       "      <th>3</th>\n",
       "      <td>x 0.03866728389822765</td>\n",
       "      <td>y 0.2464626545548167</td>\n",
       "    </tr>\n",
       "    <tr>\n",
       "      <th>4</th>\n",
       "      <td>x 0.18164934280117156</td>\n",
       "      <td>y 4.0068736482374296e-05</td>\n",
       "    </tr>\n",
       "    <tr>\n",
       "      <th>5</th>\n",
       "      <td>x 0.01978861830097462</td>\n",
       "      <td>y 0.043658695735944095</td>\n",
       "    </tr>\n",
       "  </tbody>\n",
       "</table>\n",
       "</div>"
      ],
      "text/plain": [
       "                        x                         y\n",
       "0    x 0.5266599179693725      y 0.9382743565552832\n",
       "1  x 0.008140397891205747     y 0.15021848176712474\n",
       "2     x 0.334121386085333      y 0.6837802892580668\n",
       "3   x 0.03866728389822765      y 0.2464626545548167\n",
       "4   x 0.18164934280117156  y 4.0068736482374296e-05\n",
       "5   x 0.01978861830097462    y 0.043658695735944095"
      ]
     },
     "execution_count": 12,
     "metadata": {},
     "output_type": "execute_result"
    }
   ],
   "source": [
    "df >> select(f.x, f.y) >> mutate(\n",
    "    across(\n",
    "        everything(), \n",
    "        lambda x, cc: [cc + ' '] * x.shape[0] + (x**2).astype(str), cc=cur_column()\n",
    "    )\n",
    ")"
   ]
  },
  {
   "cell_type": "code",
   "execution_count": 13,
   "id": "revised-handbook",
   "metadata": {},
   "outputs": [
    {
     "data": {
      "text/html": [
       "<div>\n",
       "<style scoped>\n",
       "    .dataframe tbody tr th:only-of-type {\n",
       "        vertical-align: middle;\n",
       "    }\n",
       "\n",
       "    .dataframe tbody tr th {\n",
       "        vertical-align: top;\n",
       "    }\n",
       "\n",
       "    .dataframe thead th {\n",
       "        text-align: right;\n",
       "    }\n",
       "</style>\n",
       "<table border=\"1\" class=\"dataframe\">\n",
       "  <thead>\n",
       "    <tr style=\"text-align: right;\">\n",
       "      <th></th>\n",
       "      <th>g</th>\n",
       "      <th>x</th>\n",
       "      <th>y</th>\n",
       "    </tr>\n",
       "  </thead>\n",
       "  <tbody>\n",
       "    <tr>\n",
       "      <th>0</th>\n",
       "      <td>a</td>\n",
       "      <td>x 0.5266599179693725</td>\n",
       "      <td>y 0.9382743565552832</td>\n",
       "    </tr>\n",
       "    <tr>\n",
       "      <th>1</th>\n",
       "      <td>b</td>\n",
       "      <td>x 0.008140397891205747</td>\n",
       "      <td>y 0.15021848176712474</td>\n",
       "    </tr>\n",
       "    <tr>\n",
       "      <th>2</th>\n",
       "      <td>b</td>\n",
       "      <td>x 0.334121386085333</td>\n",
       "      <td>y 0.6837802892580668</td>\n",
       "    </tr>\n",
       "    <tr>\n",
       "      <th>3</th>\n",
       "      <td>c</td>\n",
       "      <td>x 0.03866728389822765</td>\n",
       "      <td>y 0.2464626545548167</td>\n",
       "    </tr>\n",
       "    <tr>\n",
       "      <th>4</th>\n",
       "      <td>c</td>\n",
       "      <td>x 0.18164934280117156</td>\n",
       "      <td>y 4.0068736482374296e-05</td>\n",
       "    </tr>\n",
       "    <tr>\n",
       "      <th>5</th>\n",
       "      <td>c</td>\n",
       "      <td>x 0.01978861830097462</td>\n",
       "      <td>y 0.043658695735944095</td>\n",
       "    </tr>\n",
       "  </tbody>\n",
       "</table>\n",
       "</div>"
      ],
      "text/plain": [
       "   g                       x                         y\n",
       "0  a    x 0.5266599179693725      y 0.9382743565552832\n",
       "1  b  x 0.008140397891205747     y 0.15021848176712474\n",
       "2  b     x 0.334121386085333      y 0.6837802892580668\n",
       "3  c   x 0.03866728389822765      y 0.2464626545548167\n",
       "4  c   x 0.18164934280117156  y 4.0068736482374296e-05\n",
       "5  c   x 0.01978861830097462    y 0.043658695735944095"
      ]
     },
     "execution_count": 13,
     "metadata": {},
     "output_type": "execute_result"
    }
   ],
   "source": [
    "# or you can use x.name, since x is a Series\n",
    "df >> mutate(across(\n",
    "    [f.x, f.y], \n",
    "    lambda x: [x.name + ' '] * x.shape[0] + (x**2).astype(str)\n",
    "))"
   ]
  },
  {
   "cell_type": "code",
   "execution_count": null,
   "id": "stable-bristol",
   "metadata": {},
   "outputs": [],
   "source": []
  }
 ],
 "metadata": {
  "kernelspec": {
   "display_name": "Python 3",
   "language": "python",
   "name": "python3"
  },
  "language_info": {
   "codemirror_mode": {
    "name": "ipython",
    "version": 3
   },
   "file_extension": ".py",
   "mimetype": "text/x-python",
   "name": "python",
   "nbconvert_exporter": "python",
   "pygments_lexer": "ipython3",
   "version": "3.7.8"
  }
 },
 "nbformat": 4,
 "nbformat_minor": 5
}
