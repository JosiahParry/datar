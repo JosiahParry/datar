{
 "cells": [
  {
   "cell_type": "code",
   "execution_count": 1,
   "id": "unexpected-intent",
   "metadata": {
    "execution": {
     "iopub.execute_input": "2021-04-17T00:51:53.754444Z",
     "iopub.status.busy": "2021-04-17T00:51:53.753533Z",
     "iopub.status.idle": "2021-04-17T00:51:54.602935Z",
     "shell.execute_reply": "2021-04-17T00:51:54.602375Z"
    }
   },
   "outputs": [
    {
     "data": {
      "text/html": [
       "<div style=\"text-align: right; text-style: italic\">Try this notebook on <a target=\"_blank\" href=\"https://mybinder.org/v2/gh/pwwang/datar/93d069f3ca36711fc811c61dcf60e9fc3d1460a5?filepath=docs%2Fnotebooks%2Fcontext.ipynb\">binder</a>.</div>"
      ],
      "text/plain": [
       "<IPython.core.display.HTML object>"
      ]
     },
     "metadata": {},
     "output_type": "display_data"
    },
    {
     "data": {
      "text/markdown": [
       "### # cur_group_id  "
      ],
      "text/plain": [
       "<IPython.core.display.Markdown object>"
      ]
     },
     "metadata": {},
     "output_type": "display_data"
    },
    {
     "data": {
      "text/markdown": [
       "##### gives a unique numeric identifier for the current group.\n"
      ],
      "text/plain": [
       "<IPython.core.display.Markdown object>"
      ]
     },
     "metadata": {},
     "output_type": "display_data"
    },
    {
     "data": {
      "text/markdown": [
       "### # cur_group_rows  "
      ],
      "text/plain": [
       "<IPython.core.display.Markdown object>"
      ]
     },
     "metadata": {},
     "output_type": "display_data"
    },
    {
     "data": {
      "text/markdown": [
       "##### gives the row indices for the current group.\n"
      ],
      "text/plain": [
       "<IPython.core.display.Markdown object>"
      ]
     },
     "metadata": {},
     "output_type": "display_data"
    },
    {
     "data": {
      "text/markdown": [
       "### # cur_data  "
      ],
      "text/plain": [
       "<IPython.core.display.Markdown object>"
      ]
     },
     "metadata": {},
     "output_type": "display_data"
    },
    {
     "data": {
      "text/markdown": [
       "##### gives the current data for the current group\n",
       "(excluding grouping variables).  \n"
      ],
      "text/plain": [
       "<IPython.core.display.Markdown object>"
      ]
     },
     "metadata": {},
     "output_type": "display_data"
    },
    {
     "data": {
      "text/markdown": [
       "### # cur_data_all  "
      ],
      "text/plain": [
       "<IPython.core.display.Markdown object>"
      ]
     },
     "metadata": {},
     "output_type": "display_data"
    },
    {
     "data": {
      "text/markdown": [
       "##### gives the current data for the current group\n",
       "(including grouping variables)  \n"
      ],
      "text/plain": [
       "<IPython.core.display.Markdown object>"
      ]
     },
     "metadata": {},
     "output_type": "display_data"
    },
    {
     "data": {
      "text/markdown": [
       "### # cur_column  "
      ],
      "text/plain": [
       "<IPython.core.display.Markdown object>"
      ]
     },
     "metadata": {},
     "output_type": "display_data"
    },
    {
     "data": {
      "text/markdown": [
       "##### Used in the functions of across. So we don't have to register it.\n"
      ],
      "text/plain": [
       "<IPython.core.display.Markdown object>"
      ]
     },
     "metadata": {},
     "output_type": "display_data"
    }
   ],
   "source": [
    "# https://dplyr.tidyverse.org/reference/context.html\n",
    "from datar.all import *\n",
    "\n",
    "%run nb_helpers.py\n",
    "nb_header(cur_group_id, cur_group_rows, cur_data, cur_data_all, cur_column, book='context')"
   ]
  },
  {
   "cell_type": "code",
   "execution_count": 2,
   "id": "physical-costs",
   "metadata": {
    "execution": {
     "iopub.execute_input": "2021-04-17T00:51:54.609607Z",
     "iopub.status.busy": "2021-04-17T00:51:54.607617Z",
     "iopub.status.idle": "2021-04-17T00:51:54.720507Z",
     "shell.execute_reply": "2021-04-17T00:51:54.719941Z"
    }
   },
   "outputs": [
    {
     "data": {
      "text/html": [
       "<div>\n",
       "<style scoped>\n",
       "    .dataframe tbody tr th:only-of-type {\n",
       "        vertical-align: middle;\n",
       "    }\n",
       "\n",
       "    .dataframe tbody tr th {\n",
       "        vertical-align: top;\n",
       "    }\n",
       "\n",
       "    .dataframe thead th {\n",
       "        text-align: right;\n",
       "    }\n",
       "</style>\n",
       "<table border=\"1\" class=\"dataframe\">\n",
       "  <thead>\n",
       "    <tr style=\"text-align: right;\">\n",
       "      <th></th>\n",
       "      <th>g</th>\n",
       "      <th>n</th>\n",
       "    </tr>\n",
       "  </thead>\n",
       "  <tbody>\n",
       "    <tr>\n",
       "      <th>0</th>\n",
       "      <td>a</td>\n",
       "      <td>1</td>\n",
       "    </tr>\n",
       "    <tr>\n",
       "      <th>1</th>\n",
       "      <td>b</td>\n",
       "      <td>2</td>\n",
       "    </tr>\n",
       "    <tr>\n",
       "      <th>2</th>\n",
       "      <td>c</td>\n",
       "      <td>3</td>\n",
       "    </tr>\n",
       "  </tbody>\n",
       "</table>\n",
       "</div>"
      ],
      "text/plain": [
       "   g  n\n",
       "0  a  1\n",
       "1  b  2\n",
       "2  c  3"
      ]
     },
     "execution_count": 1,
     "metadata": {},
     "output_type": "execute_result"
    }
   ],
   "source": [
    "df = tibble(\n",
    "  g=['a'] + ['b'] * 2 + ['c'] * 3,\n",
    "  x=runif(6),\n",
    "  y=runif(6)\n",
    ")\n",
    "gf = df >> group_by(f.g)\n",
    "\n",
    "gf >> summarise(n = n())"
   ]
  },
  {
   "cell_type": "code",
   "execution_count": 3,
   "id": "basic-hybrid",
   "metadata": {
    "execution": {
     "iopub.execute_input": "2021-04-17T00:51:54.733258Z",
     "iopub.status.busy": "2021-04-17T00:51:54.732696Z",
     "iopub.status.idle": "2021-04-17T00:51:54.739828Z",
     "shell.execute_reply": "2021-04-17T00:51:54.739270Z"
    }
   },
   "outputs": [
    {
     "data": {
      "text/html": [
       "<div>\n",
       "<style scoped>\n",
       "    .dataframe tbody tr th:only-of-type {\n",
       "        vertical-align: middle;\n",
       "    }\n",
       "\n",
       "    .dataframe tbody tr th {\n",
       "        vertical-align: top;\n",
       "    }\n",
       "\n",
       "    .dataframe thead th {\n",
       "        text-align: right;\n",
       "    }\n",
       "</style>\n",
       "<table border=\"1\" class=\"dataframe\">\n",
       "  <thead>\n",
       "    <tr style=\"text-align: right;\">\n",
       "      <th></th>\n",
       "      <th>g</th>\n",
       "      <th>x</th>\n",
       "      <th>y</th>\n",
       "    </tr>\n",
       "  </thead>\n",
       "  <tbody>\n",
       "    <tr>\n",
       "      <th>0</th>\n",
       "      <td>a</td>\n",
       "      <td>0.975339</td>\n",
       "      <td>0.846483</td>\n",
       "    </tr>\n",
       "    <tr>\n",
       "      <th>1</th>\n",
       "      <td>b</td>\n",
       "      <td>0.206413</td>\n",
       "      <td>0.202191</td>\n",
       "    </tr>\n",
       "    <tr>\n",
       "      <th>2</th>\n",
       "      <td>b</td>\n",
       "      <td>0.152242</td>\n",
       "      <td>0.452938</td>\n",
       "    </tr>\n",
       "    <tr>\n",
       "      <th>3</th>\n",
       "      <td>c</td>\n",
       "      <td>0.775672</td>\n",
       "      <td>0.347262</td>\n",
       "    </tr>\n",
       "    <tr>\n",
       "      <th>4</th>\n",
       "      <td>c</td>\n",
       "      <td>0.450120</td>\n",
       "      <td>0.718517</td>\n",
       "    </tr>\n",
       "    <tr>\n",
       "      <th>5</th>\n",
       "      <td>c</td>\n",
       "      <td>0.281555</td>\n",
       "      <td>0.459833</td>\n",
       "    </tr>\n",
       "  </tbody>\n",
       "</table>\n",
       "</div>[Groups: ['g'] (n=3)]"
      ],
      "text/plain": [
       "   g         x         y\n",
       "0  a  0.975339  0.846483\n",
       "1  b  0.206413  0.202191\n",
       "2  b  0.152242  0.452938\n",
       "3  c  0.775672  0.347262\n",
       "4  c  0.450120  0.718517\n",
       "5  c  0.281555  0.459833\n",
       "[Groups: ['g'] (n=3)]"
      ]
     },
     "execution_count": 1,
     "metadata": {},
     "output_type": "execute_result"
    }
   ],
   "source": [
    "gf\n",
    "# TODO: display groups"
   ]
  },
  {
   "cell_type": "code",
   "execution_count": 4,
   "id": "universal-halifax",
   "metadata": {
    "execution": {
     "iopub.execute_input": "2021-04-17T00:51:54.805987Z",
     "iopub.status.busy": "2021-04-17T00:51:54.805143Z",
     "iopub.status.idle": "2021-04-17T00:51:54.849558Z",
     "shell.execute_reply": "2021-04-17T00:51:54.846275Z"
    }
   },
   "outputs": [
    {
     "data": {
      "text/html": [
       "<div>\n",
       "<style scoped>\n",
       "    .dataframe tbody tr th:only-of-type {\n",
       "        vertical-align: middle;\n",
       "    }\n",
       "\n",
       "    .dataframe tbody tr th {\n",
       "        vertical-align: top;\n",
       "    }\n",
       "\n",
       "    .dataframe thead th {\n",
       "        text-align: right;\n",
       "    }\n",
       "</style>\n",
       "<table border=\"1\" class=\"dataframe\">\n",
       "  <thead>\n",
       "    <tr style=\"text-align: right;\">\n",
       "      <th></th>\n",
       "      <th>g</th>\n",
       "      <th>x</th>\n",
       "      <th>y</th>\n",
       "      <th>id</th>\n",
       "    </tr>\n",
       "  </thead>\n",
       "  <tbody>\n",
       "    <tr>\n",
       "      <th>0</th>\n",
       "      <td>a</td>\n",
       "      <td>0.975339</td>\n",
       "      <td>0.846483</td>\n",
       "      <td>0</td>\n",
       "    </tr>\n",
       "    <tr>\n",
       "      <th>1</th>\n",
       "      <td>b</td>\n",
       "      <td>0.206413</td>\n",
       "      <td>0.202191</td>\n",
       "      <td>1</td>\n",
       "    </tr>\n",
       "    <tr>\n",
       "      <th>2</th>\n",
       "      <td>b</td>\n",
       "      <td>0.152242</td>\n",
       "      <td>0.452938</td>\n",
       "      <td>1</td>\n",
       "    </tr>\n",
       "    <tr>\n",
       "      <th>3</th>\n",
       "      <td>c</td>\n",
       "      <td>0.775672</td>\n",
       "      <td>0.347262</td>\n",
       "      <td>2</td>\n",
       "    </tr>\n",
       "    <tr>\n",
       "      <th>4</th>\n",
       "      <td>c</td>\n",
       "      <td>0.450120</td>\n",
       "      <td>0.718517</td>\n",
       "      <td>2</td>\n",
       "    </tr>\n",
       "    <tr>\n",
       "      <th>5</th>\n",
       "      <td>c</td>\n",
       "      <td>0.281555</td>\n",
       "      <td>0.459833</td>\n",
       "      <td>2</td>\n",
       "    </tr>\n",
       "  </tbody>\n",
       "</table>\n",
       "</div>[Groups: ['g'] (n=3)]"
      ],
      "text/plain": [
       "   g         x         y  id\n",
       "0  a  0.975339  0.846483   0\n",
       "1  b  0.206413  0.202191   1\n",
       "2  b  0.152242  0.452938   1\n",
       "3  c  0.775672  0.347262   2\n",
       "4  c  0.450120  0.718517   2\n",
       "5  c  0.281555  0.459833   2\n",
       "[Groups: ['g'] (n=3)]"
      ]
     },
     "execution_count": 1,
     "metadata": {},
     "output_type": "execute_result"
    }
   ],
   "source": [
    "gf >> mutate(id=cur_group_id()) "
   ]
  },
  {
   "cell_type": "code",
   "execution_count": 5,
   "id": "macro-instruction",
   "metadata": {
    "execution": {
     "iopub.execute_input": "2021-04-17T00:51:54.899395Z",
     "iopub.status.busy": "2021-04-17T00:51:54.898840Z",
     "iopub.status.idle": "2021-04-17T00:51:54.905595Z",
     "shell.execute_reply": "2021-04-17T00:51:54.905214Z"
    }
   },
   "outputs": [
    {
     "name": "stderr",
     "output_type": "stream",
     "text": [
      "[2021-04-16 17:51:54][datar][   INFO] `summarise()` has grouped output by ['g'] (override with `_groups` argument)\n"
     ]
    },
    {
     "data": {
      "text/html": [
       "<div>\n",
       "<style scoped>\n",
       "    .dataframe tbody tr th:only-of-type {\n",
       "        vertical-align: middle;\n",
       "    }\n",
       "\n",
       "    .dataframe tbody tr th {\n",
       "        vertical-align: top;\n",
       "    }\n",
       "\n",
       "    .dataframe thead th {\n",
       "        text-align: right;\n",
       "    }\n",
       "</style>\n",
       "<table border=\"1\" class=\"dataframe\">\n",
       "  <thead>\n",
       "    <tr style=\"text-align: right;\">\n",
       "      <th></th>\n",
       "      <th>g</th>\n",
       "      <th>row</th>\n",
       "    </tr>\n",
       "  </thead>\n",
       "  <tbody>\n",
       "    <tr>\n",
       "      <th>0</th>\n",
       "      <td>a</td>\n",
       "      <td>0</td>\n",
       "    </tr>\n",
       "    <tr>\n",
       "      <th>1</th>\n",
       "      <td>b</td>\n",
       "      <td>1</td>\n",
       "    </tr>\n",
       "    <tr>\n",
       "      <th>2</th>\n",
       "      <td>b</td>\n",
       "      <td>2</td>\n",
       "    </tr>\n",
       "    <tr>\n",
       "      <th>3</th>\n",
       "      <td>c</td>\n",
       "      <td>3</td>\n",
       "    </tr>\n",
       "    <tr>\n",
       "      <th>4</th>\n",
       "      <td>c</td>\n",
       "      <td>4</td>\n",
       "    </tr>\n",
       "    <tr>\n",
       "      <th>5</th>\n",
       "      <td>c</td>\n",
       "      <td>5</td>\n",
       "    </tr>\n",
       "  </tbody>\n",
       "</table>\n",
       "</div>[Groups: ['g'] (n=3)]"
      ],
      "text/plain": [
       "   g  row\n",
       "0  a    0\n",
       "1  b    1\n",
       "2  b    2\n",
       "3  c    3\n",
       "4  c    4\n",
       "5  c    5\n",
       "[Groups: ['g'] (n=3)]"
      ]
     },
     "execution_count": 1,
     "metadata": {},
     "output_type": "execute_result"
    }
   ],
   "source": [
    "gf >> summarise(row=cur_group_rows()) "
   ]
  },
  {
   "cell_type": "code",
   "execution_count": 6,
   "id": "sharp-mustang",
   "metadata": {
    "execution": {
     "iopub.execute_input": "2021-04-17T00:51:54.934436Z",
     "iopub.status.busy": "2021-04-17T00:51:54.933854Z",
     "iopub.status.idle": "2021-04-17T00:51:54.940560Z",
     "shell.execute_reply": "2021-04-17T00:51:54.940122Z"
    }
   },
   "outputs": [
    {
     "data": {
      "text/html": [
       "<div>\n",
       "<style scoped>\n",
       "    .dataframe tbody tr th:only-of-type {\n",
       "        vertical-align: middle;\n",
       "    }\n",
       "\n",
       "    .dataframe tbody tr th {\n",
       "        vertical-align: top;\n",
       "    }\n",
       "\n",
       "    .dataframe thead th {\n",
       "        text-align: right;\n",
       "    }\n",
       "</style>\n",
       "<table border=\"1\" class=\"dataframe\">\n",
       "  <thead>\n",
       "    <tr style=\"text-align: right;\">\n",
       "      <th></th>\n",
       "      <th>g</th>\n",
       "      <th>data</th>\n",
       "    </tr>\n",
       "  </thead>\n",
       "  <tbody>\n",
       "    <tr>\n",
       "      <th>0</th>\n",
       "      <td>a</td>\n",
       "      <td>g\n",
       "0  a</td>\n",
       "    </tr>\n",
       "    <tr>\n",
       "      <th>1</th>\n",
       "      <td>b</td>\n",
       "      <td>g\n",
       "1  b</td>\n",
       "    </tr>\n",
       "    <tr>\n",
       "      <th>2</th>\n",
       "      <td>c</td>\n",
       "      <td>g\n",
       "2  c</td>\n",
       "    </tr>\n",
       "  </tbody>\n",
       "</table>\n",
       "</div>"
      ],
      "text/plain": [
       "   g       data\n",
       "0  a     g\n",
       "0  a\n",
       "1  b     g\n",
       "1  b\n",
       "2  c     g\n",
       "2  c"
      ]
     },
     "execution_count": 1,
     "metadata": {},
     "output_type": "execute_result"
    }
   ],
   "source": [
    "gf_group = gf >> summarise(data=[cur_group()])\n",
    "gf_group "
   ]
  },
  {
   "cell_type": "code",
   "execution_count": 7,
   "id": "alternative-warning",
   "metadata": {
    "execution": {
     "iopub.execute_input": "2021-04-17T00:51:54.950658Z",
     "iopub.status.busy": "2021-04-17T00:51:54.950074Z",
     "iopub.status.idle": "2021-04-17T00:51:54.962182Z",
     "shell.execute_reply": "2021-04-17T00:51:54.961754Z"
    }
   },
   "outputs": [
    {
     "data": {
      "text/plain": [
       "[   g\n",
       " 0  a,\n",
       "    g\n",
       " 1  b,\n",
       "    g\n",
       " 2  c]"
      ]
     },
     "execution_count": 1,
     "metadata": {},
     "output_type": "execute_result"
    }
   ],
   "source": [
    "gf_group >> pull(f.data, to='list')"
   ]
  },
  {
   "cell_type": "code",
   "execution_count": 8,
   "id": "employed-surprise",
   "metadata": {
    "execution": {
     "iopub.execute_input": "2021-04-17T00:51:54.997733Z",
     "iopub.status.busy": "2021-04-17T00:51:54.997206Z",
     "iopub.status.idle": "2021-04-17T00:51:55.019109Z",
     "shell.execute_reply": "2021-04-17T00:51:55.018231Z"
    }
   },
   "outputs": [
    {
     "data": {
      "text/html": [
       "<div>\n",
       "<style scoped>\n",
       "    .dataframe tbody tr th:only-of-type {\n",
       "        vertical-align: middle;\n",
       "    }\n",
       "\n",
       "    .dataframe tbody tr th {\n",
       "        vertical-align: top;\n",
       "    }\n",
       "\n",
       "    .dataframe thead th {\n",
       "        text-align: right;\n",
       "    }\n",
       "</style>\n",
       "<table border=\"1\" class=\"dataframe\">\n",
       "  <thead>\n",
       "    <tr style=\"text-align: right;\">\n",
       "      <th></th>\n",
       "      <th>g</th>\n",
       "      <th>data</th>\n",
       "    </tr>\n",
       "  </thead>\n",
       "  <tbody>\n",
       "    <tr>\n",
       "      <th>0</th>\n",
       "      <td>a</td>\n",
       "      <td>x         y\n",
       "0  0.975339  0.846483</td>\n",
       "    </tr>\n",
       "    <tr>\n",
       "      <th>1</th>\n",
       "      <td>b</td>\n",
       "      <td>x         y\n",
       "0  0.206413  0.202191\n",
       "1 ...</td>\n",
       "    </tr>\n",
       "    <tr>\n",
       "      <th>2</th>\n",
       "      <td>c</td>\n",
       "      <td>x         y\n",
       "0  0.775672  0.347262\n",
       "1 ...</td>\n",
       "    </tr>\n",
       "  </tbody>\n",
       "</table>\n",
       "</div>"
      ],
      "text/plain": [
       "   g                                               data\n",
       "0  a                  x         y\n",
       "0  0.975339  0.846483\n",
       "1  b            x         y\n",
       "0  0.206413  0.202191\n",
       "1 ...\n",
       "2  c            x         y\n",
       "0  0.775672  0.347262\n",
       "1 ..."
      ]
     },
     "execution_count": 1,
     "metadata": {},
     "output_type": "execute_result"
    }
   ],
   "source": [
    "gf_data = gf >> summarise(data=[cur_data()])\n",
    "gf_data"
   ]
  },
  {
   "cell_type": "code",
   "execution_count": 9,
   "id": "dental-merchant",
   "metadata": {
    "execution": {
     "iopub.execute_input": "2021-04-17T00:51:55.030162Z",
     "iopub.status.busy": "2021-04-17T00:51:55.029601Z",
     "iopub.status.idle": "2021-04-17T00:51:55.035572Z",
     "shell.execute_reply": "2021-04-17T00:51:55.035049Z"
    }
   },
   "outputs": [
    {
     "data": {
      "text/plain": [
       "[          x         y\n",
       " 0  0.975339  0.846483,\n",
       "           x         y\n",
       " 0  0.206413  0.202191\n",
       " 1  0.152242  0.452938,\n",
       "           x         y\n",
       " 0  0.775672  0.347262\n",
       " 1  0.450120  0.718517\n",
       " 2  0.281555  0.459833]"
      ]
     },
     "execution_count": 1,
     "metadata": {},
     "output_type": "execute_result"
    }
   ],
   "source": [
    "gf_data >> pull(f.data, to='list')"
   ]
  },
  {
   "cell_type": "code",
   "execution_count": 10,
   "id": "front-driver",
   "metadata": {
    "execution": {
     "iopub.execute_input": "2021-04-17T00:51:55.072849Z",
     "iopub.status.busy": "2021-04-17T00:51:55.071415Z",
     "iopub.status.idle": "2021-04-17T00:51:55.075720Z",
     "shell.execute_reply": "2021-04-17T00:51:55.078254Z"
    }
   },
   "outputs": [
    {
     "data": {
      "text/html": [
       "<div>\n",
       "<style scoped>\n",
       "    .dataframe tbody tr th:only-of-type {\n",
       "        vertical-align: middle;\n",
       "    }\n",
       "\n",
       "    .dataframe tbody tr th {\n",
       "        vertical-align: top;\n",
       "    }\n",
       "\n",
       "    .dataframe thead th {\n",
       "        text-align: right;\n",
       "    }\n",
       "</style>\n",
       "<table border=\"1\" class=\"dataframe\">\n",
       "  <thead>\n",
       "    <tr style=\"text-align: right;\">\n",
       "      <th></th>\n",
       "      <th>g</th>\n",
       "      <th>data</th>\n",
       "    </tr>\n",
       "  </thead>\n",
       "  <tbody>\n",
       "    <tr>\n",
       "      <th>0</th>\n",
       "      <td>a</td>\n",
       "      <td>g         x         y\n",
       "0  a  0.975339  0.846483</td>\n",
       "    </tr>\n",
       "    <tr>\n",
       "      <th>1</th>\n",
       "      <td>b</td>\n",
       "      <td>g         x         y\n",
       "0  b  0.206413  0.202...</td>\n",
       "    </tr>\n",
       "    <tr>\n",
       "      <th>2</th>\n",
       "      <td>c</td>\n",
       "      <td>g         x         y\n",
       "0  c  0.775672  0.347...</td>\n",
       "    </tr>\n",
       "  </tbody>\n",
       "</table>\n",
       "</div>"
      ],
      "text/plain": [
       "   g                                               data\n",
       "0  a     g         x         y\n",
       "0  a  0.975339  0.846483\n",
       "1  b     g         x         y\n",
       "0  b  0.206413  0.202...\n",
       "2  c     g         x         y\n",
       "0  c  0.775672  0.347..."
      ]
     },
     "execution_count": 1,
     "metadata": {},
     "output_type": "execute_result"
    }
   ],
   "source": [
    "gf_data_all = gf >> summarise(data=[cur_data_all()])\n",
    "gf_data_all"
   ]
  },
  {
   "cell_type": "code",
   "execution_count": 11,
   "id": "designing-burlington",
   "metadata": {
    "execution": {
     "iopub.execute_input": "2021-04-17T00:51:55.090370Z",
     "iopub.status.busy": "2021-04-17T00:51:55.089727Z",
     "iopub.status.idle": "2021-04-17T00:51:55.094327Z",
     "shell.execute_reply": "2021-04-17T00:51:55.093901Z"
    }
   },
   "outputs": [
    {
     "data": {
      "text/plain": [
       "[   g         x         y\n",
       " 0  a  0.975339  0.846483,\n",
       "    g         x         y\n",
       " 0  b  0.206413  0.202191\n",
       " 1  b  0.152242  0.452938,\n",
       "    g         x         y\n",
       " 0  c  0.775672  0.347262\n",
       " 1  c  0.450120  0.718517\n",
       " 2  c  0.281555  0.459833]"
      ]
     },
     "execution_count": 1,
     "metadata": {},
     "output_type": "execute_result"
    }
   ],
   "source": [
    "gf_data_all >> pull(f.data, to='list')"
   ]
  },
  {
   "cell_type": "code",
   "execution_count": 12,
   "id": "circular-solomon",
   "metadata": {
    "execution": {
     "iopub.execute_input": "2021-04-17T00:51:55.134386Z",
     "iopub.status.busy": "2021-04-17T00:51:55.130995Z",
     "iopub.status.idle": "2021-04-17T00:51:55.190135Z",
     "shell.execute_reply": "2021-04-17T00:51:55.189668Z"
    }
   },
   "outputs": [
    {
     "name": "stdout",
     "output_type": "stream",
     "text": [
      "[1, 2]\n"
     ]
    },
    {
     "data": {
      "text/html": [
       "<div>\n",
       "<style scoped>\n",
       "    .dataframe tbody tr th:only-of-type {\n",
       "        vertical-align: middle;\n",
       "    }\n",
       "\n",
       "    .dataframe tbody tr th {\n",
       "        vertical-align: top;\n",
       "    }\n",
       "\n",
       "    .dataframe thead th {\n",
       "        text-align: right;\n",
       "    }\n",
       "</style>\n",
       "<table border=\"1\" class=\"dataframe\">\n",
       "  <thead>\n",
       "    <tr style=\"text-align: right;\">\n",
       "      <th></th>\n",
       "      <th>x</th>\n",
       "      <th>y</th>\n",
       "    </tr>\n",
       "  </thead>\n",
       "  <tbody>\n",
       "    <tr>\n",
       "      <th>0</th>\n",
       "      <td>x 0.9512852627845192</td>\n",
       "      <td>y 0.7165341775761459</td>\n",
       "    </tr>\n",
       "    <tr>\n",
       "      <th>1</th>\n",
       "      <td>x 0.042606297710791816</td>\n",
       "      <td>y 0.040881202819633165</td>\n",
       "    </tr>\n",
       "    <tr>\n",
       "      <th>2</th>\n",
       "      <td>x 0.023177695200093093</td>\n",
       "      <td>y 0.205152595878916</td>\n",
       "    </tr>\n",
       "    <tr>\n",
       "      <th>3</th>\n",
       "      <td>x 0.6016676558242666</td>\n",
       "      <td>y 0.12059120947029854</td>\n",
       "    </tr>\n",
       "    <tr>\n",
       "      <th>4</th>\n",
       "      <td>x 0.20260807452469115</td>\n",
       "      <td>y 0.5162664597846687</td>\n",
       "    </tr>\n",
       "    <tr>\n",
       "      <th>5</th>\n",
       "      <td>x 0.07927315418286633</td>\n",
       "      <td>y 0.21144628240897376</td>\n",
       "    </tr>\n",
       "  </tbody>\n",
       "</table>\n",
       "</div>"
      ],
      "text/plain": [
       "                        x                       y\n",
       "0    x 0.9512852627845192    y 0.7165341775761459\n",
       "1  x 0.042606297710791816  y 0.040881202819633165\n",
       "2  x 0.023177695200093093     y 0.205152595878916\n",
       "3    x 0.6016676558242666   y 0.12059120947029854\n",
       "4   x 0.20260807452469115    y 0.5162664597846687\n",
       "5   x 0.07927315418286633   y 0.21144628240897376"
      ]
     },
     "execution_count": 1,
     "metadata": {},
     "output_type": "execute_result"
    }
   ],
   "source": [
    "df >> select(f.x, f.y) >> mutate(\n",
    "    across(\n",
    "        everything(), \n",
    "        lambda x, cc: [cc + ' '] * x.shape[0] + (x**2).astype(str), cc=cur_column()\n",
    "    )\n",
    ")"
   ]
  },
  {
   "cell_type": "code",
   "execution_count": 13,
   "id": "revised-handbook",
   "metadata": {
    "execution": {
     "iopub.execute_input": "2021-04-17T00:51:55.208915Z",
     "iopub.status.busy": "2021-04-17T00:51:55.208295Z",
     "iopub.status.idle": "2021-04-17T00:51:55.212816Z",
     "shell.execute_reply": "2021-04-17T00:51:55.213231Z"
    }
   },
   "outputs": [
    {
     "data": {
      "text/html": [
       "<div>\n",
       "<style scoped>\n",
       "    .dataframe tbody tr th:only-of-type {\n",
       "        vertical-align: middle;\n",
       "    }\n",
       "\n",
       "    .dataframe tbody tr th {\n",
       "        vertical-align: top;\n",
       "    }\n",
       "\n",
       "    .dataframe thead th {\n",
       "        text-align: right;\n",
       "    }\n",
       "</style>\n",
       "<table border=\"1\" class=\"dataframe\">\n",
       "  <thead>\n",
       "    <tr style=\"text-align: right;\">\n",
       "      <th></th>\n",
       "      <th>g</th>\n",
       "      <th>x</th>\n",
       "      <th>y</th>\n",
       "    </tr>\n",
       "  </thead>\n",
       "  <tbody>\n",
       "    <tr>\n",
       "      <th>0</th>\n",
       "      <td>a</td>\n",
       "      <td>x 0.9512852627845192</td>\n",
       "      <td>y 0.7165341775761459</td>\n",
       "    </tr>\n",
       "    <tr>\n",
       "      <th>1</th>\n",
       "      <td>b</td>\n",
       "      <td>x 0.042606297710791816</td>\n",
       "      <td>y 0.040881202819633165</td>\n",
       "    </tr>\n",
       "    <tr>\n",
       "      <th>2</th>\n",
       "      <td>b</td>\n",
       "      <td>x 0.023177695200093093</td>\n",
       "      <td>y 0.205152595878916</td>\n",
       "    </tr>\n",
       "    <tr>\n",
       "      <th>3</th>\n",
       "      <td>c</td>\n",
       "      <td>x 0.6016676558242666</td>\n",
       "      <td>y 0.12059120947029854</td>\n",
       "    </tr>\n",
       "    <tr>\n",
       "      <th>4</th>\n",
       "      <td>c</td>\n",
       "      <td>x 0.20260807452469115</td>\n",
       "      <td>y 0.5162664597846687</td>\n",
       "    </tr>\n",
       "    <tr>\n",
       "      <th>5</th>\n",
       "      <td>c</td>\n",
       "      <td>x 0.07927315418286633</td>\n",
       "      <td>y 0.21144628240897376</td>\n",
       "    </tr>\n",
       "  </tbody>\n",
       "</table>\n",
       "</div>"
      ],
      "text/plain": [
       "   g                       x                       y\n",
       "0  a    x 0.9512852627845192    y 0.7165341775761459\n",
       "1  b  x 0.042606297710791816  y 0.040881202819633165\n",
       "2  b  x 0.023177695200093093     y 0.205152595878916\n",
       "3  c    x 0.6016676558242666   y 0.12059120947029854\n",
       "4  c   x 0.20260807452469115    y 0.5162664597846687\n",
       "5  c   x 0.07927315418286633   y 0.21144628240897376"
      ]
     },
     "execution_count": 1,
     "metadata": {},
     "output_type": "execute_result"
    }
   ],
   "source": [
    "# or you can use x.name, since x is a Series\n",
    "df >> mutate(across(\n",
    "    [f.x, f.y], \n",
    "    lambda x: [x.name + ' '] * x.shape[0] + (x**2).astype(str)\n",
    "))"
   ]
  },
  {
   "cell_type": "code",
   "execution_count": null,
   "id": "stable-bristol",
   "metadata": {},
   "outputs": [],
   "source": []
  }
 ],
 "metadata": {
  "kernelspec": {
   "display_name": "Python 3",
   "language": "python",
   "name": "python3"
  },
  "language_info": {
   "codemirror_mode": {
    "name": "ipython",
    "version": 3
   },
   "file_extension": ".py",
   "mimetype": "text/x-python",
   "name": "python",
   "nbconvert_exporter": "python",
   "pygments_lexer": "ipython3",
   "version": "3.7.8"
  }
 },
 "nbformat": 4,
 "nbformat_minor": 5
}
