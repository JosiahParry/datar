{
 "cells": [
  {
   "cell_type": "code",
   "execution_count": 1,
   "id": "material-amount",
   "metadata": {
    "execution": {
     "iopub.execute_input": "2021-04-17T00:54:36.034350Z",
     "iopub.status.busy": "2021-04-17T00:54:36.033632Z",
     "iopub.status.idle": "2021-04-17T00:54:36.745875Z",
     "shell.execute_reply": "2021-04-17T00:54:36.744818Z"
    }
   },
   "outputs": [
    {
     "data": {
      "text/html": [
       "<div style=\"text-align: right; text-style: italic\">Try this notebook on <a target=\"_blank\" href=\"https://mybinder.org/v2/gh/pwwang/datar/93d069f3ca36711fc811c61dcf60e9fc3d1460a5?filepath=docs%2Fnotebooks%2Frecode.ipynb\">binder</a>.</div>"
      ],
      "text/plain": [
       "<IPython.core.display.HTML object>"
      ]
     },
     "metadata": {},
     "output_type": "display_data"
    },
    {
     "data": {
      "text/markdown": [
       "### # recode  "
      ],
      "text/plain": [
       "<IPython.core.display.Markdown object>"
      ]
     },
     "metadata": {},
     "output_type": "display_data"
    },
    {
     "data": {
      "text/markdown": [
       "##### Recode a vector, replacing elements in it\n",
       "\n",
       "##### Args:\n",
       "&emsp;&emsp;`series`: A vector to modify  \n",
       "\n",
       "&emsp;&emsp;*args, **kwargs: replacements  \n",
       "&emsp;&emsp;`_default`: If supplied, all values not otherwise matched will be  \n",
       "&emsp;&emsp;&emsp;&emsp;given this value. If not supplied and if the replacements are  \n",
       "&emsp;&emsp;&emsp;&emsp;the same type as the original values in series, unmatched values  \n",
       "&emsp;&emsp;&emsp;&emsp;are not changed. If not supplied and if the replacements are  \n",
       "&emsp;&emsp;&emsp;&emsp;not compatible, unmatched values are replaced with NA.  \n",
       "\n",
       "&emsp;&emsp;`_missing`: If supplied, any missing values in .x will be replaced  \n",
       "&emsp;&emsp;&emsp;&emsp;by this value.  \n",
       "\n",
       "##### Returns:\n",
       "&emsp;&emsp;The vector with values replaced  \n"
      ],
      "text/plain": [
       "<IPython.core.display.Markdown object>"
      ]
     },
     "metadata": {},
     "output_type": "display_data"
    }
   ],
   "source": [
    "# https://dplyr.tidyverse.org/reference/recode.html\n",
    "\n",
    "from datar.all import *\n",
    "\n",
    "%run nb_helpers.py\n",
    "nb_header(recode)"
   ]
  },
  {
   "cell_type": "code",
   "execution_count": 2,
   "id": "cordless-istanbul",
   "metadata": {
    "execution": {
     "iopub.execute_input": "2021-04-17T00:54:36.756334Z",
     "iopub.status.busy": "2021-04-17T00:54:36.755665Z",
     "iopub.status.idle": "2021-04-17T00:54:36.759991Z",
     "shell.execute_reply": "2021-04-17T00:54:36.759152Z"
    }
   },
   "outputs": [
    {
     "data": {
      "text/plain": [
       "['c', 'Apple', 'b', 'b', 'c', 'c', 'b', 'Apple', 'b', 'Apple']"
      ]
     },
     "execution_count": 1,
     "metadata": {},
     "output_type": "execute_result"
    }
   ],
   "source": [
    "char_vec = sample(c(\"a\", \"b\", \"c\"), 10, replace=True)\n",
    "recode(char_vec, a=\"Apple\")"
   ]
  },
  {
   "cell_type": "code",
   "execution_count": 3,
   "id": "talented-insert",
   "metadata": {
    "execution": {
     "iopub.execute_input": "2021-04-17T00:54:36.765679Z",
     "iopub.status.busy": "2021-04-17T00:54:36.764939Z",
     "iopub.status.idle": "2021-04-17T00:54:36.768992Z",
     "shell.execute_reply": "2021-04-17T00:54:36.768144Z"
    }
   },
   "outputs": [
    {
     "data": {
      "text/plain": [
       "['c',\n",
       " 'Apple',\n",
       " 'Banana',\n",
       " 'Banana',\n",
       " 'c',\n",
       " 'c',\n",
       " 'Banana',\n",
       " 'Apple',\n",
       " 'Banana',\n",
       " 'Apple']"
      ]
     },
     "execution_count": 1,
     "metadata": {},
     "output_type": "execute_result"
    }
   ],
   "source": [
    "recode(char_vec, a=\"Apple\", b=\"Banana\")"
   ]
  },
  {
   "cell_type": "code",
   "execution_count": 4,
   "id": "piano-jordan",
   "metadata": {
    "execution": {
     "iopub.execute_input": "2021-04-17T00:54:36.774157Z",
     "iopub.status.busy": "2021-04-17T00:54:36.773375Z",
     "iopub.status.idle": "2021-04-17T00:54:36.777578Z",
     "shell.execute_reply": "2021-04-17T00:54:36.777183Z"
    }
   },
   "outputs": [
    {
     "data": {
      "text/plain": [
       "[nan,\n",
       " 'Apple',\n",
       " 'Banana',\n",
       " 'Banana',\n",
       " nan,\n",
       " nan,\n",
       " 'Banana',\n",
       " 'Apple',\n",
       " 'Banana',\n",
       " 'Apple']"
      ]
     },
     "execution_count": 1,
     "metadata": {},
     "output_type": "execute_result"
    }
   ],
   "source": [
    "recode(char_vec, a=\"Apple\", b=\"Banana\", _default = NA)"
   ]
  },
  {
   "cell_type": "code",
   "execution_count": 5,
   "id": "civilian-aberdeen",
   "metadata": {
    "execution": {
     "iopub.execute_input": "2021-04-17T00:54:36.782322Z",
     "iopub.status.busy": "2021-04-17T00:54:36.781708Z",
     "iopub.status.idle": "2021-04-17T00:54:36.784259Z",
     "shell.execute_reply": "2021-04-17T00:54:36.784648Z"
    }
   },
   "outputs": [
    {
     "data": {
      "text/plain": [
       "['carrot',\n",
       " 'apple',\n",
       " 'banana',\n",
       " 'banana',\n",
       " 'carrot',\n",
       " 'carrot',\n",
       " 'banana',\n",
       " 'apple',\n",
       " 'banana',\n",
       " 'apple']"
      ]
     },
     "execution_count": 1,
     "metadata": {},
     "output_type": "execute_result"
    }
   ],
   "source": [
    "level_key = dict(a=\"apple\", b=\"banana\", c=\"carrot\")\n",
    "recode(char_vec, **level_key)"
   ]
  },
  {
   "cell_type": "code",
   "execution_count": 6,
   "id": "perceived-underground",
   "metadata": {
    "execution": {
     "iopub.execute_input": "2021-04-17T00:54:36.790150Z",
     "iopub.status.busy": "2021-04-17T00:54:36.789628Z",
     "iopub.status.idle": "2021-04-17T00:54:36.792849Z",
     "shell.execute_reply": "2021-04-17T00:54:36.792332Z"
    }
   },
   "outputs": [
    {
     "data": {
      "text/plain": [
       "[0.0, 20, 2.0, 40, nan]"
      ]
     },
     "execution_count": 1,
     "metadata": {},
     "output_type": "execute_result"
    }
   ],
   "source": [
    "num_vec = c(range(4), NA)\n",
    "recode(num_vec, {1: 20, 3: 40})"
   ]
  },
  {
   "cell_type": "code",
   "execution_count": 7,
   "id": "paperback-threshold",
   "metadata": {
    "execution": {
     "iopub.execute_input": "2021-04-17T00:54:36.797248Z",
     "iopub.status.busy": "2021-04-17T00:54:36.796725Z",
     "iopub.status.idle": "2021-04-17T00:54:36.799440Z",
     "shell.execute_reply": "2021-04-17T00:54:36.799040Z"
    }
   },
   "outputs": [
    {
     "data": {
      "text/plain": [
       "['a', 'b', 'c', 'd', nan]"
      ]
     },
     "execution_count": 1,
     "metadata": {},
     "output_type": "execute_result"
    }
   ],
   "source": [
    "recode(num_vec, \"a\", \"b\", \"c\", \"d\")"
   ]
  },
  {
   "cell_type": "code",
   "execution_count": 8,
   "id": "quick-nicaragua",
   "metadata": {
    "execution": {
     "iopub.execute_input": "2021-04-17T00:54:36.805005Z",
     "iopub.status.busy": "2021-04-17T00:54:36.804496Z",
     "iopub.status.idle": "2021-04-17T00:54:36.807058Z",
     "shell.execute_reply": "2021-04-17T00:54:36.807432Z"
    }
   },
   "outputs": [
    {
     "data": {
      "text/plain": [
       "['a', 'nothing', 'c']"
      ]
     },
     "execution_count": 1,
     "metadata": {},
     "output_type": "execute_result"
    }
   ],
   "source": [
    "recode(c(0,4,2), \"a\", \"b\", \"c\", \"d\", _default=\"nothing\")"
   ]
  },
  {
   "cell_type": "code",
   "execution_count": 9,
   "id": "sealed-description",
   "metadata": {
    "execution": {
     "iopub.execute_input": "2021-04-17T00:54:36.812258Z",
     "iopub.status.busy": "2021-04-17T00:54:36.811697Z",
     "iopub.status.idle": "2021-04-17T00:54:36.814810Z",
     "shell.execute_reply": "2021-04-17T00:54:36.814292Z"
    }
   },
   "outputs": [
    {
     "data": {
      "text/plain": [
       "[0.0, 'b', 2.0, 'd', nan]"
      ]
     },
     "execution_count": 1,
     "metadata": {},
     "output_type": "execute_result"
    }
   ],
   "source": [
    "recode(num_vec, {1: \"b\", 3: \"d\"})"
   ]
  },
  {
   "cell_type": "code",
   "execution_count": 10,
   "id": "adjacent-harrison",
   "metadata": {
    "execution": {
     "iopub.execute_input": "2021-04-17T00:54:36.819365Z",
     "iopub.status.busy": "2021-04-17T00:54:36.818848Z",
     "iopub.status.idle": "2021-04-17T00:54:36.821142Z",
     "shell.execute_reply": "2021-04-17T00:54:36.821528Z"
    }
   },
   "outputs": [
    {
     "data": {
      "text/plain": [
       "['a', 'b', 'c', 'other', nan]"
      ]
     },
     "execution_count": 1,
     "metadata": {},
     "output_type": "execute_result"
    }
   ],
   "source": [
    "recode(num_vec, \"a\", \"b\", \"c\", _default=\"other\")"
   ]
  },
  {
   "cell_type": "code",
   "execution_count": 11,
   "id": "requested-presentation",
   "metadata": {
    "execution": {
     "iopub.execute_input": "2021-04-17T00:54:36.827413Z",
     "iopub.status.busy": "2021-04-17T00:54:36.826734Z",
     "iopub.status.idle": "2021-04-17T00:54:36.829544Z",
     "shell.execute_reply": "2021-04-17T00:54:36.829966Z"
    }
   },
   "outputs": [
    {
     "data": {
      "text/plain": [
       "['a', 'b', 'c', 'other', 'missing']"
      ]
     },
     "execution_count": 1,
     "metadata": {},
     "output_type": "execute_result"
    }
   ],
   "source": [
    "recode(num_vec, \"a\", \"b\", \"c\", _default=\"other\", _missing=\"missing\")"
   ]
  },
  {
   "cell_type": "code",
   "execution_count": 12,
   "id": "manufactured-tract",
   "metadata": {
    "execution": {
     "iopub.execute_input": "2021-04-17T00:54:36.837764Z",
     "iopub.status.busy": "2021-04-17T00:54:36.836735Z",
     "iopub.status.idle": "2021-04-17T00:54:36.840458Z",
     "shell.execute_reply": "2021-04-17T00:54:36.840821Z"
    }
   },
   "outputs": [
    {
     "data": {
      "text/plain": [
       "['a', 'b', 'c']\n",
       "Categories (3, object): ['a', 'b', 'c']"
      ]
     },
     "execution_count": 1,
     "metadata": {},
     "output_type": "execute_result"
    }
   ],
   "source": [
    "factor_vec = factor(c(\"a\", \"b\", \"c\"))\n",
    "factor_vec"
   ]
  },
  {
   "cell_type": "code",
   "execution_count": 13,
   "id": "chubby-treasurer",
   "metadata": {
    "execution": {
     "iopub.execute_input": "2021-04-17T00:54:36.847170Z",
     "iopub.status.busy": "2021-04-17T00:54:36.846370Z",
     "iopub.status.idle": "2021-04-17T00:54:36.849529Z",
     "shell.execute_reply": "2021-04-17T00:54:36.849972Z"
    }
   },
   "outputs": [
    {
     "data": {
      "text/plain": [
       "['Apple', 'b', 'c']"
      ]
     },
     "execution_count": 1,
     "metadata": {},
     "output_type": "execute_result"
    }
   ],
   "source": [
    "# categories lost\n",
    "recode(factor_vec, a=\"Apple\")"
   ]
  },
  {
   "cell_type": "code",
   "execution_count": 14,
   "id": "molecular-silly",
   "metadata": {
    "execution": {
     "iopub.execute_input": "2021-04-17T00:54:36.853946Z",
     "iopub.status.busy": "2021-04-17T00:54:36.853419Z",
     "iopub.status.idle": "2021-04-17T00:54:36.867734Z",
     "shell.execute_reply": "2021-04-17T00:54:36.868096Z"
    }
   },
   "outputs": [
    {
     "data": {
      "text/plain": [
       "['Apple', NaN, NaN]\n",
       "Categories (1, object): ['Apple']"
      ]
     },
     "execution_count": 1,
     "metadata": {},
     "output_type": "execute_result"
    }
   ],
   "source": [
    "recode_factor(factor_vec, a=\"Apple\")"
   ]
  },
  {
   "cell_type": "code",
   "execution_count": 15,
   "id": "english-currency",
   "metadata": {
    "execution": {
     "iopub.execute_input": "2021-04-17T00:54:36.876544Z",
     "iopub.status.busy": "2021-04-17T00:54:36.875408Z",
     "iopub.status.idle": "2021-04-17T00:54:36.878851Z",
     "shell.execute_reply": "2021-04-17T00:54:36.879319Z"
    }
   },
   "outputs": [
    {
     "data": {
      "text/plain": [
       "['z', 'y', 'x', 3.0, NaN]\n",
       "Categories (4, object): ['z', 'y', 'x', 3.0]"
      ]
     },
     "execution_count": 1,
     "metadata": {},
     "output_type": "execute_result"
    }
   ],
   "source": [
    "recode_factor(num_vec, {0: \"z\", 1: \"y\", 2: \"x\"})"
   ]
  },
  {
   "cell_type": "code",
   "execution_count": 16,
   "id": "guilty-locator",
   "metadata": {
    "execution": {
     "iopub.execute_input": "2021-04-17T00:54:36.886495Z",
     "iopub.status.busy": "2021-04-17T00:54:36.885733Z",
     "iopub.status.idle": "2021-04-17T00:54:36.889685Z",
     "shell.execute_reply": "2021-04-17T00:54:36.889170Z"
    }
   },
   "outputs": [
    {
     "data": {
      "text/plain": [
       "['z', 'y', 'x', 'D', NaN]\n",
       "Categories (4, object): ['z', 'y', 'x', 'D']"
      ]
     },
     "execution_count": 1,
     "metadata": {},
     "output_type": "execute_result"
    }
   ],
   "source": [
    "recode_factor(num_vec, {0: \"z\", 1: \"y\", 2: \"x\"}, _default=\"D\")"
   ]
  },
  {
   "cell_type": "code",
   "execution_count": 17,
   "id": "opponent-nevada",
   "metadata": {
    "execution": {
     "iopub.execute_input": "2021-04-17T00:54:36.897255Z",
     "iopub.status.busy": "2021-04-17T00:54:36.896574Z",
     "iopub.status.idle": "2021-04-17T00:54:36.899717Z",
     "shell.execute_reply": "2021-04-17T00:54:36.900195Z"
    }
   },
   "outputs": [
    {
     "data": {
      "text/plain": [
       "['z', 'y', 'x', 'D', 'M']\n",
       "Categories (5, object): ['z', 'y', 'x', 'D', 'M']"
      ]
     },
     "execution_count": 1,
     "metadata": {},
     "output_type": "execute_result"
    }
   ],
   "source": [
    "recode_factor(num_vec, {0: \"z\", 1: \"y\", 2: \"x\"}, _default=\"D\", _missing=\"M\")"
   ]
  },
  {
   "cell_type": "code",
   "execution_count": 18,
   "id": "horizontal-shade",
   "metadata": {
    "execution": {
     "iopub.execute_input": "2021-04-17T00:54:36.907466Z",
     "iopub.status.busy": "2021-04-17T00:54:36.906741Z",
     "iopub.status.idle": "2021-04-17T00:54:36.910350Z",
     "shell.execute_reply": "2021-04-17T00:54:36.909860Z"
    }
   },
   "outputs": [
    {
     "data": {
      "text/plain": [
       "['a', 'z', 'y']\n",
       "Categories (3, object): ['a', 'z', 'y']"
      ]
     },
     "execution_count": 1,
     "metadata": {},
     "output_type": "execute_result"
    }
   ],
   "source": [
    "recode_factor(list(letters[:3]), b=\"z\", c=\"y\")"
   ]
  },
  {
   "cell_type": "code",
   "execution_count": 19,
   "id": "accredited-consortium",
   "metadata": {
    "execution": {
     "iopub.execute_input": "2021-04-17T00:54:36.916853Z",
     "iopub.status.busy": "2021-04-17T00:54:36.916198Z",
     "iopub.status.idle": "2021-04-17T00:54:36.919858Z",
     "shell.execute_reply": "2021-04-17T00:54:36.919136Z"
    }
   },
   "outputs": [
    {
     "data": {
      "text/plain": [
       "['carrot', 'apple', 'banana', 'banana', 'carrot', 'carrot', 'banana', 'apple', 'banana', 'apple']\n",
       "Categories (3, object): ['carrot', 'apple', 'banana']"
      ]
     },
     "execution_count": 1,
     "metadata": {},
     "output_type": "execute_result"
    }
   ],
   "source": [
    "level_key = dict(a=\"apple\", b=\"banana\", c=\"carrot\")\n",
    "recode_factor(char_vec, **level_key)"
   ]
  }
 ],
 "metadata": {
  "kernelspec": {
   "display_name": "Python 3",
   "language": "python",
   "name": "python3"
  },
  "language_info": {
   "codemirror_mode": {
    "name": "ipython",
    "version": 3
   },
   "file_extension": ".py",
   "mimetype": "text/x-python",
   "name": "python",
   "nbconvert_exporter": "python",
   "pygments_lexer": "ipython3",
   "version": "3.7.8"
  }
 },
 "nbformat": 4,
 "nbformat_minor": 5
}
