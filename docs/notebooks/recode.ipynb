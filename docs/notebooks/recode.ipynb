{
 "cells": [
  {
   "cell_type": "code",
   "execution_count": 1,
   "id": "material-amount",
   "metadata": {},
   "outputs": [
    {
     "data": {
      "text/html": [
       "<div style=\"text-align: right; text-style: italic\">Try this notebook on <a target=\"_blank\" href=\"https://mybinder.org/v2/gh/pwwang/datar/93d069f3ca36711fc811c61dcf60e9fc3d1460a5?filepath=docs%2Fnotebooks%2Frecode.ipynb\">binder</a>.</div>"
      ],
      "text/plain": [
       "<IPython.core.display.HTML object>"
      ]
     },
     "metadata": {},
     "output_type": "display_data"
    },
    {
     "data": {
      "text/markdown": [
       "### # recode  "
      ],
      "text/plain": [
       "<IPython.core.display.Markdown object>"
      ]
     },
     "metadata": {},
     "output_type": "display_data"
    },
    {
     "data": {
      "text/markdown": [
       "##### Recode a vector, replacing elements in it\n",
       "\n",
       "##### Args:\n",
       "&emsp;&emsp;`series`: A vector to modify  \n",
       "\n",
       "&emsp;&emsp;*args, **kwargs: replacements  \n",
       "&emsp;&emsp;`_default`: If supplied, all values not otherwise matched will be  \n",
       "&emsp;&emsp;&emsp;&emsp;given this value. If not supplied and if the replacements are  \n",
       "&emsp;&emsp;&emsp;&emsp;the same type as the original values in series, unmatched values  \n",
       "&emsp;&emsp;&emsp;&emsp;are not changed. If not supplied and if the replacements are  \n",
       "&emsp;&emsp;&emsp;&emsp;not compatible, unmatched values are replaced with NA.  \n",
       "\n",
       "&emsp;&emsp;`_missing`: If supplied, any missing values in .x will be replaced  \n",
       "&emsp;&emsp;&emsp;&emsp;by this value.  \n",
       "\n",
       "##### Returns:\n",
       "&emsp;&emsp;The vector with values replaced  \n"
      ],
      "text/plain": [
       "<IPython.core.display.Markdown object>"
      ]
     },
     "metadata": {},
     "output_type": "display_data"
    }
   ],
   "source": [
    "# https://dplyr.tidyverse.org/reference/recode.html\n",
    "\n",
    "from datar.all import *\n",
    "\n",
    "from nb_helpers import nb_header\n",
    "nb_header(recode)"
   ]
  },
  {
   "cell_type": "code",
   "execution_count": 2,
   "id": "cordless-istanbul",
   "metadata": {},
   "outputs": [
    {
     "data": {
      "text/plain": [
       "['b', 'c', 'Apple', 'c', 'c', 'b', 'b', 'Apple', 'c', 'c']"
      ]
     },
     "execution_count": 2,
     "metadata": {},
     "output_type": "execute_result"
    }
   ],
   "source": [
    "char_vec = sample(c(\"a\", \"b\", \"c\"), 10, replace=True)\n",
    "recode(char_vec, a=\"Apple\")"
   ]
  },
  {
   "cell_type": "code",
   "execution_count": 3,
   "id": "talented-insert",
   "metadata": {},
   "outputs": [
    {
     "data": {
      "text/plain": [
       "['Banana', 'c', 'Apple', 'c', 'c', 'Banana', 'Banana', 'Apple', 'c', 'c']"
      ]
     },
     "execution_count": 3,
     "metadata": {},
     "output_type": "execute_result"
    }
   ],
   "source": [
    "recode(char_vec, a=\"Apple\", b=\"Banana\")"
   ]
  },
  {
   "cell_type": "code",
   "execution_count": 4,
   "id": "piano-jordan",
   "metadata": {},
   "outputs": [
    {
     "data": {
      "text/plain": [
       "['Banana', nan, 'Apple', nan, nan, 'Banana', 'Banana', 'Apple', nan, nan]"
      ]
     },
     "execution_count": 4,
     "metadata": {},
     "output_type": "execute_result"
    }
   ],
   "source": [
    "recode(char_vec, a=\"Apple\", b=\"Banana\", _default = NA)"
   ]
  },
  {
   "cell_type": "code",
   "execution_count": 5,
   "id": "civilian-aberdeen",
   "metadata": {},
   "outputs": [
    {
     "data": {
      "text/plain": [
       "['banana',\n",
       " 'carrot',\n",
       " 'apple',\n",
       " 'carrot',\n",
       " 'carrot',\n",
       " 'banana',\n",
       " 'banana',\n",
       " 'apple',\n",
       " 'carrot',\n",
       " 'carrot']"
      ]
     },
     "execution_count": 5,
     "metadata": {},
     "output_type": "execute_result"
    }
   ],
   "source": [
    "level_key = dict(a=\"apple\", b=\"banana\", c=\"carrot\")\n",
    "recode(char_vec, **level_key)"
   ]
  },
  {
   "cell_type": "code",
   "execution_count": 6,
   "id": "perceived-underground",
   "metadata": {},
   "outputs": [
    {
     "data": {
      "text/plain": [
       "[0.0, 20, 2.0, 40, nan]"
      ]
     },
     "execution_count": 6,
     "metadata": {},
     "output_type": "execute_result"
    }
   ],
   "source": [
    "num_vec = c(range(4), NA)\n",
    "recode(num_vec, {1: 20, 3: 40})"
   ]
  },
  {
   "cell_type": "code",
   "execution_count": 7,
   "id": "paperback-threshold",
   "metadata": {},
   "outputs": [
    {
     "data": {
      "text/plain": [
       "['a', 'b', 'c', 'd', nan]"
      ]
     },
     "execution_count": 7,
     "metadata": {},
     "output_type": "execute_result"
    }
   ],
   "source": [
    "recode(num_vec, \"a\", \"b\", \"c\", \"d\")"
   ]
  },
  {
   "cell_type": "code",
   "execution_count": 8,
   "id": "quick-nicaragua",
   "metadata": {},
   "outputs": [
    {
     "data": {
      "text/plain": [
       "['a', 'nothing', 'c']"
      ]
     },
     "execution_count": 8,
     "metadata": {},
     "output_type": "execute_result"
    }
   ],
   "source": [
    "recode(c(0,4,2), \"a\", \"b\", \"c\", \"d\", _default=\"nothing\")"
   ]
  },
  {
   "cell_type": "code",
   "execution_count": 9,
   "id": "sealed-description",
   "metadata": {},
   "outputs": [
    {
     "data": {
      "text/plain": [
       "[0.0, 'b', 2.0, 'd', nan]"
      ]
     },
     "execution_count": 9,
     "metadata": {},
     "output_type": "execute_result"
    }
   ],
   "source": [
    "recode(num_vec, {1: \"b\", 3: \"d\"})"
   ]
  },
  {
   "cell_type": "code",
   "execution_count": 10,
   "id": "adjacent-harrison",
   "metadata": {},
   "outputs": [
    {
     "data": {
      "text/plain": [
       "['a', 'b', 'c', 'other', nan]"
      ]
     },
     "execution_count": 10,
     "metadata": {},
     "output_type": "execute_result"
    }
   ],
   "source": [
    "recode(num_vec, \"a\", \"b\", \"c\", _default=\"other\")"
   ]
  },
  {
   "cell_type": "code",
   "execution_count": 11,
   "id": "requested-presentation",
   "metadata": {},
   "outputs": [
    {
     "data": {
      "text/plain": [
       "['a', 'b', 'c', 'other', 'missing']"
      ]
     },
     "execution_count": 11,
     "metadata": {},
     "output_type": "execute_result"
    }
   ],
   "source": [
    "recode(num_vec, \"a\", \"b\", \"c\", _default=\"other\", _missing=\"missing\")"
   ]
  },
  {
   "cell_type": "code",
   "execution_count": 12,
   "id": "manufactured-tract",
   "metadata": {},
   "outputs": [
    {
     "data": {
      "text/plain": [
       "['a', 'b', 'c']\n",
       "Categories (3, object): ['a', 'b', 'c']"
      ]
     },
     "execution_count": 12,
     "metadata": {},
     "output_type": "execute_result"
    }
   ],
   "source": [
    "factor_vec = factor(c(\"a\", \"b\", \"c\"))\n",
    "factor_vec"
   ]
  },
  {
   "cell_type": "code",
   "execution_count": 13,
   "id": "chubby-treasurer",
   "metadata": {},
   "outputs": [
    {
     "data": {
      "text/plain": [
       "['Apple', 'b', 'c']"
      ]
     },
     "execution_count": 13,
     "metadata": {},
     "output_type": "execute_result"
    }
   ],
   "source": [
    "# categories lost\n",
    "recode(factor_vec, a=\"Apple\")"
   ]
  },
  {
   "cell_type": "code",
   "execution_count": 14,
   "id": "molecular-silly",
   "metadata": {},
   "outputs": [
    {
     "data": {
      "text/plain": [
       "['Apple', NaN, NaN]\n",
       "Categories (1, object): ['Apple']"
      ]
     },
     "execution_count": 14,
     "metadata": {},
     "output_type": "execute_result"
    }
   ],
   "source": [
    "recode_factor(factor_vec, a=\"Apple\")"
   ]
  },
  {
   "cell_type": "code",
   "execution_count": 15,
   "id": "english-currency",
   "metadata": {},
   "outputs": [
    {
     "data": {
      "text/plain": [
       "['z', 'y', 'x', 3.0, NaN]\n",
       "Categories (4, object): ['z', 'y', 'x', 3.0]"
      ]
     },
     "execution_count": 15,
     "metadata": {},
     "output_type": "execute_result"
    }
   ],
   "source": [
    "recode_factor(num_vec, {0: \"z\", 1: \"y\", 2: \"x\"})"
   ]
  },
  {
   "cell_type": "code",
   "execution_count": 16,
   "id": "guilty-locator",
   "metadata": {},
   "outputs": [
    {
     "data": {
      "text/plain": [
       "['z', 'y', 'x', 'D', NaN]\n",
       "Categories (4, object): ['z', 'y', 'x', 'D']"
      ]
     },
     "execution_count": 16,
     "metadata": {},
     "output_type": "execute_result"
    }
   ],
   "source": [
    "recode_factor(num_vec, {0: \"z\", 1: \"y\", 2: \"x\"}, _default=\"D\")"
   ]
  },
  {
   "cell_type": "code",
   "execution_count": 17,
   "id": "opponent-nevada",
   "metadata": {},
   "outputs": [
    {
     "data": {
      "text/plain": [
       "['z', 'y', 'x', 'D', 'M']\n",
       "Categories (5, object): ['z', 'y', 'x', 'D', 'M']"
      ]
     },
     "execution_count": 17,
     "metadata": {},
     "output_type": "execute_result"
    }
   ],
   "source": [
    "recode_factor(num_vec, {0: \"z\", 1: \"y\", 2: \"x\"}, _default=\"D\", _missing=\"M\")"
   ]
  },
  {
   "cell_type": "code",
   "execution_count": 18,
   "id": "horizontal-shade",
   "metadata": {},
   "outputs": [
    {
     "data": {
      "text/plain": [
       "['a', 'z', 'y']\n",
       "Categories (3, object): ['a', 'z', 'y']"
      ]
     },
     "execution_count": 18,
     "metadata": {},
     "output_type": "execute_result"
    }
   ],
   "source": [
    "recode_factor(list(letters[:3]), b=\"z\", c=\"y\")"
   ]
  },
  {
   "cell_type": "code",
   "execution_count": 19,
   "id": "accredited-consortium",
   "metadata": {},
   "outputs": [
    {
     "data": {
      "text/plain": [
       "['banana', 'carrot', 'apple', 'carrot', 'carrot', 'banana', 'banana', 'apple', 'carrot', 'carrot']\n",
       "Categories (3, object): ['banana', 'carrot', 'apple']"
      ]
     },
     "execution_count": 19,
     "metadata": {},
     "output_type": "execute_result"
    }
   ],
   "source": [
    "level_key = dict(a=\"apple\", b=\"banana\", c=\"carrot\")\n",
    "recode_factor(char_vec, **level_key)"
   ]
  }
 ],
 "metadata": {
  "kernelspec": {
   "display_name": "Python 3",
   "language": "python",
   "name": "python3"
  },
  "language_info": {
   "codemirror_mode": {
    "name": "ipython",
    "version": 3
   },
   "file_extension": ".py",
   "mimetype": "text/x-python",
   "name": "python",
   "nbconvert_exporter": "python",
   "pygments_lexer": "ipython3",
   "version": "3.7.8"
  }
 },
 "nbformat": 4,
 "nbformat_minor": 5
}
