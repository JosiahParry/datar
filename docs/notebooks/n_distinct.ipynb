{
 "cells": [
  {
   "cell_type": "code",
   "execution_count": 1,
   "id": "several-cowboy",
   "metadata": {},
   "outputs": [
    {
     "data": {
      "text/html": [
       "<div style=\"text-align: right; text-style: italic\">Try this notebook on <a target=\"_blank\" href=\"https://mybinder.org/v2/gh/pwwang/datar/93d069f3ca36711fc811c61dcf60e9fc3d1460a5?filepath=docs%2Fnotebooks%2Fn_distinct.ipynb\">binder</a>.</div>"
      ],
      "text/plain": [
       "<IPython.core.display.HTML object>"
      ]
     },
     "metadata": {},
     "output_type": "display_data"
    },
    {
     "data": {
      "text/markdown": [
       "### # sample  "
      ],
      "text/plain": [
       "<IPython.core.display.Markdown object>"
      ]
     },
     "metadata": {},
     "output_type": "display_data"
    },
    {
     "data": {
      "text/markdown": [
       "##### Takes a sample of the specified size from the elements of x using\n",
       "either with or without replacement.  \n",
       "\n",
       "https://rdrr.io/r/base/sample.html  \n",
       "\n",
       "##### Args:\n",
       "&emsp;&emsp;`x`: either a vector of one or more elements from which to choose,  \n",
       "&emsp;&emsp;&emsp;&emsp;or a positive integer.  \n",
       "\n",
       "&emsp;&emsp;`n`: a positive number, the number of items to choose from.  \n",
       "&emsp;&emsp;`size`: a non-negative integer giving the number of items to choose.  \n",
       "&emsp;&emsp;`replace`: should sampling be with replacement?  \n",
       "&emsp;&emsp;`prob`: a vector of probability weights for obtaining the elements of  \n",
       "&emsp;&emsp;&emsp;&emsp;the vector being sampled.  \n",
       "\n",
       "##### Returns:\n",
       "&emsp;&emsp;A vector of length size with elements drawn from either x or from the  \n",
       "&emsp;&emsp;integers 1:x.  \n"
      ],
      "text/plain": [
       "<IPython.core.display.Markdown object>"
      ]
     },
     "metadata": {},
     "output_type": "display_data"
    },
    {
     "data": {
      "text/markdown": [
       "### # n_distinct  "
      ],
      "text/plain": [
       "<IPython.core.display.Markdown object>"
      ]
     },
     "metadata": {},
     "output_type": "display_data"
    },
    {
     "data": {
      "text/markdown": [
       "##### Get the length of distince elements\n"
      ],
      "text/plain": [
       "<IPython.core.display.Markdown object>"
      ]
     },
     "metadata": {},
     "output_type": "display_data"
    }
   ],
   "source": [
    "# https://dplyr.tidyverse.org/reference/n_distinct.html\n",
    "\n",
    "from datar.all import sample, n_distinct\n",
    "\n",
    "from nb_helpers import nb_header\n",
    "nb_header(sample, n_distinct)"
   ]
  },
  {
   "cell_type": "code",
   "execution_count": 2,
   "id": "sharing-michigan",
   "metadata": {},
   "outputs": [
    {
     "data": {
      "text/plain": [
       "100000"
      ]
     },
     "execution_count": 2,
     "metadata": {},
     "output_type": "execute_result"
    }
   ],
   "source": [
    "x = sample(range(10), 1e5, replace=True)\n",
    "len(x)"
   ]
  },
  {
   "cell_type": "code",
   "execution_count": 3,
   "id": "interested-store",
   "metadata": {},
   "outputs": [
    {
     "data": {
      "text/plain": [
       "10"
      ]
     },
     "execution_count": 3,
     "metadata": {},
     "output_type": "execute_result"
    }
   ],
   "source": [
    "n_distinct(x)"
   ]
  }
 ],
 "metadata": {
  "kernelspec": {
   "display_name": "Python 3",
   "language": "python",
   "name": "python3"
  },
  "language_info": {
   "codemirror_mode": {
    "name": "ipython",
    "version": 3
   },
   "file_extension": ".py",
   "mimetype": "text/x-python",
   "name": "python",
   "nbconvert_exporter": "python",
   "pygments_lexer": "ipython3",
   "version": "3.7.8"
  }
 },
 "nbformat": 4,
 "nbformat_minor": 5
}
