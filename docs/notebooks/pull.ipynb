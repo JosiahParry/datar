{
 "cells": [
  {
   "cell_type": "code",
   "execution_count": 1,
   "id": "radio-madonna",
   "metadata": {
    "execution": {
     "iopub.execute_input": "2021-04-17T00:54:18.125451Z",
     "iopub.status.busy": "2021-04-17T00:54:18.123006Z",
     "iopub.status.idle": "2021-04-17T00:54:18.799246Z",
     "shell.execute_reply": "2021-04-17T00:54:18.798588Z"
    }
   },
   "outputs": [
    {
     "data": {
      "text/html": [
       "<div style=\"text-align: right; text-style: italic\">Try this notebook on <a target=\"_blank\" href=\"https://mybinder.org/v2/gh/pwwang/datar/93d069f3ca36711fc811c61dcf60e9fc3d1460a5?filepath=docs%2Fnotebooks%2Fpull.ipynb\">binder</a>.</div>"
      ],
      "text/plain": [
       "<IPython.core.display.HTML object>"
      ]
     },
     "metadata": {},
     "output_type": "display_data"
    },
    {
     "data": {
      "text/markdown": [
       "### # pull  "
      ],
      "text/plain": [
       "<IPython.core.display.Markdown object>"
      ]
     },
     "metadata": {},
     "output_type": "display_data"
    },
    {
     "data": {
      "text/markdown": [
       "##### Pull a series or a dataframe from a dataframe\n",
       "\n",
       "##### Args:\n",
       "&emsp;&emsp;`_data`: The dataframe  \n",
       "&emsp;&emsp;`var`: The column to pull  \n",
       "&emsp;&emsp;`name`: If specified, a zip object will be return with the name-value  \n",
       "&emsp;&emsp;&emsp;&emsp;pairs. It can be a column name or a list of strs with the same  \n",
       "&emsp;&emsp;&emsp;&emsp;length as the series  \n",
       "&emsp;&emsp;&emsp;&emsp;Only works when pulling `a` for name `a$b`  \n",
       "\n",
       "&emsp;&emsp;`to`: Type of data to return.  \n",
       "&emsp;&emsp;&emsp;&emsp;Only works when pulling `a` for name `a$b`  \n",
       "\n",
       "&emsp;&emsp;&emsp;&emsp;- series: Return a pandas Series object  \n",
       "&emsp;&emsp;&emsp;&emsp;&emsp;&emsp;Group information will be lost  \n",
       "\n",
       "&emsp;&emsp;&emsp;&emsp;- array: Return a numpy.ndarray object  \n",
       "\n",
       "&emsp;&emsp;&emsp;&emsp;- frame: Return a DataFrame with that column  \n",
       "\n",
       "&emsp;&emsp;&emsp;&emsp;- list: Return a python list  \n",
       "\n",
       "&emsp;&emsp;&emsp;&emsp;- If not provided: `series` when pulled data has only one columns,  \n",
       "&emsp;&emsp;&emsp;&emsp;&emsp;&emsp;otherwise `frame`.  \n",
       "\n",
       "##### Returns:\n",
       "&emsp;&emsp;The data according to `to`  \n"
      ],
      "text/plain": [
       "<IPython.core.display.Markdown object>"
      ]
     },
     "metadata": {},
     "output_type": "display_data"
    }
   ],
   "source": [
    "# https://dplyr.tidyverse.org/reference/pull.html\n",
    "\n",
    "from datar.datasets import starwars, mtcars\n",
    "from datar.all import *\n",
    "\n",
    "%run nb_helpers.py\n",
    "nb_header(pull)"
   ]
  },
  {
   "cell_type": "code",
   "execution_count": 2,
   "id": "brilliant-developer",
   "metadata": {
    "execution": {
     "iopub.execute_input": "2021-04-17T00:54:18.806318Z",
     "iopub.status.busy": "2021-04-17T00:54:18.805567Z",
     "iopub.status.idle": "2021-04-17T00:54:18.809726Z",
     "shell.execute_reply": "2021-04-17T00:54:18.809338Z"
    }
   },
   "outputs": [
    {
     "data": {
      "text/plain": [
       "Mazda RX4              4\n",
       "Mazda RX4 Wag          4\n",
       "Datsun 710             1\n",
       "Hornet 4 Drive         1\n",
       "Hornet Sportabout      2\n",
       "Valiant                1\n",
       "Duster 360             4\n",
       "Merc 240D              2\n",
       "Merc 230               2\n",
       "Merc 280               4\n",
       "Merc 280C              4\n",
       "Merc 450SE             3\n",
       "Merc 450SL             3\n",
       "Merc 450SLC            3\n",
       "Cadillac Fleetwood     4\n",
       "Lincoln Continental    4\n",
       "Chrysler Imperial      4\n",
       "Fiat 128               1\n",
       "Honda Civic            2\n",
       "Toyota Corolla         1\n",
       "Toyota Corona          1\n",
       "Dodge Challenger       2\n",
       "AMC Javelin            2\n",
       "Camaro Z28             4\n",
       "Pontiac Firebird       2\n",
       "Fiat X1-9              1\n",
       "Porsche 914-2          2\n",
       "Lotus Europa           2\n",
       "Ford Pantera L         4\n",
       "Ferrari Dino           6\n",
       "Maserati Bora          8\n",
       "Volvo 142E             2\n",
       "Name: carb, dtype: int64"
      ]
     },
     "execution_count": 1,
     "metadata": {},
     "output_type": "execute_result"
    }
   ],
   "source": [
    "mtcars >> pull(-1)"
   ]
  },
  {
   "cell_type": "code",
   "execution_count": 3,
   "id": "national-association",
   "metadata": {
    "execution": {
     "iopub.execute_input": "2021-04-17T00:54:18.817236Z",
     "iopub.status.busy": "2021-04-17T00:54:18.816564Z",
     "iopub.status.idle": "2021-04-17T00:54:18.820336Z",
     "shell.execute_reply": "2021-04-17T00:54:18.819740Z"
    }
   },
   "outputs": [
    {
     "data": {
      "text/plain": [
       "[4,\n",
       " 4,\n",
       " 1,\n",
       " 1,\n",
       " 2,\n",
       " 1,\n",
       " 4,\n",
       " 2,\n",
       " 2,\n",
       " 4,\n",
       " 4,\n",
       " 3,\n",
       " 3,\n",
       " 3,\n",
       " 4,\n",
       " 4,\n",
       " 4,\n",
       " 1,\n",
       " 2,\n",
       " 1,\n",
       " 1,\n",
       " 2,\n",
       " 2,\n",
       " 4,\n",
       " 2,\n",
       " 1,\n",
       " 2,\n",
       " 2,\n",
       " 4,\n",
       " 6,\n",
       " 8,\n",
       " 2]"
      ]
     },
     "execution_count": 1,
     "metadata": {},
     "output_type": "execute_result"
    }
   ],
   "source": [
    "mtcars >> pull(-1, to='list')"
   ]
  },
  {
   "cell_type": "code",
   "execution_count": 4,
   "id": "known-premium",
   "metadata": {
    "execution": {
     "iopub.execute_input": "2021-04-17T00:54:18.827206Z",
     "iopub.status.busy": "2021-04-17T00:54:18.826389Z",
     "iopub.status.idle": "2021-04-17T00:54:18.830413Z",
     "shell.execute_reply": "2021-04-17T00:54:18.831262Z"
    }
   },
   "outputs": [
    {
     "data": {
      "text/plain": [
       "Mazda RX4              21.0\n",
       "Mazda RX4 Wag          21.0\n",
       "Datsun 710             22.8\n",
       "Hornet 4 Drive         21.4\n",
       "Hornet Sportabout      18.7\n",
       "Valiant                18.1\n",
       "Duster 360             14.3\n",
       "Merc 240D              24.4\n",
       "Merc 230               22.8\n",
       "Merc 280               19.2\n",
       "Merc 280C              17.8\n",
       "Merc 450SE             16.4\n",
       "Merc 450SL             17.3\n",
       "Merc 450SLC            15.2\n",
       "Cadillac Fleetwood     10.4\n",
       "Lincoln Continental    10.4\n",
       "Chrysler Imperial      14.7\n",
       "Fiat 128               32.4\n",
       "Honda Civic            30.4\n",
       "Toyota Corolla         33.9\n",
       "Toyota Corona          21.5\n",
       "Dodge Challenger       15.5\n",
       "AMC Javelin            15.2\n",
       "Camaro Z28             13.3\n",
       "Pontiac Firebird       19.2\n",
       "Fiat X1-9              27.3\n",
       "Porsche 914-2          26.0\n",
       "Lotus Europa           30.4\n",
       "Ford Pantera L         15.8\n",
       "Ferrari Dino           19.7\n",
       "Maserati Bora          15.0\n",
       "Volvo 142E             21.4\n",
       "Name: mpg, dtype: float64"
      ]
     },
     "execution_count": 1,
     "metadata": {},
     "output_type": "execute_result"
    }
   ],
   "source": [
    "mtcars >> pull(0)"
   ]
  },
  {
   "cell_type": "code",
   "execution_count": 5,
   "id": "suspended-cooler",
   "metadata": {
    "execution": {
     "iopub.execute_input": "2021-04-17T00:54:18.838293Z",
     "iopub.status.busy": "2021-04-17T00:54:18.837634Z",
     "iopub.status.idle": "2021-04-17T00:54:18.840658Z",
     "shell.execute_reply": "2021-04-17T00:54:18.841149Z"
    }
   },
   "outputs": [
    {
     "data": {
      "text/plain": [
       "Mazda RX4              6\n",
       "Mazda RX4 Wag          6\n",
       "Datsun 710             4\n",
       "Hornet 4 Drive         6\n",
       "Hornet Sportabout      8\n",
       "Valiant                6\n",
       "Duster 360             8\n",
       "Merc 240D              4\n",
       "Merc 230               4\n",
       "Merc 280               6\n",
       "Merc 280C              6\n",
       "Merc 450SE             8\n",
       "Merc 450SL             8\n",
       "Merc 450SLC            8\n",
       "Cadillac Fleetwood     8\n",
       "Lincoln Continental    8\n",
       "Chrysler Imperial      8\n",
       "Fiat 128               4\n",
       "Honda Civic            4\n",
       "Toyota Corolla         4\n",
       "Toyota Corona          4\n",
       "Dodge Challenger       8\n",
       "AMC Javelin            8\n",
       "Camaro Z28             8\n",
       "Pontiac Firebird       8\n",
       "Fiat X1-9              4\n",
       "Porsche 914-2          4\n",
       "Lotus Europa           4\n",
       "Ford Pantera L         8\n",
       "Ferrari Dino           6\n",
       "Maserati Bora          8\n",
       "Volvo 142E             4\n",
       "Name: cyl, dtype: int64"
      ]
     },
     "execution_count": 1,
     "metadata": {},
     "output_type": "execute_result"
    }
   ],
   "source": [
    "mtcars >> pull(f.cyl)"
   ]
  },
  {
   "cell_type": "code",
   "execution_count": 6,
   "id": "iraqi-shaft",
   "metadata": {
    "execution": {
     "iopub.execute_input": "2021-04-17T00:54:18.845973Z",
     "iopub.status.busy": "2021-04-17T00:54:18.845104Z",
     "iopub.status.idle": "2021-04-17T00:54:18.903326Z",
     "shell.execute_reply": "2021-04-17T00:54:18.902915Z"
    }
   },
   "outputs": [
    {
     "data": {
      "text/plain": [
       "0    10\n",
       "1    18\n",
       "2    24\n",
       "3    28\n",
       "4    30\n",
       "5    30\n",
       "6    28\n",
       "7    24\n",
       "8    18\n",
       "9    10\n",
       "Name: z, dtype: int64"
      ]
     },
     "execution_count": 1,
     "metadata": {},
     "output_type": "execute_result"
    }
   ],
   "source": [
    "df = tibble(x=range(1, 11), y=range(10, 0, -1))\n",
    "df >> mutate(z=f.x*f.y) >> pull()"
   ]
  },
  {
   "cell_type": "code",
   "execution_count": 7,
   "id": "danish-assignment",
   "metadata": {
    "execution": {
     "iopub.execute_input": "2021-04-17T00:54:18.909240Z",
     "iopub.status.busy": "2021-04-17T00:54:18.908561Z",
     "iopub.status.idle": "2021-04-17T00:54:18.911443Z",
     "shell.execute_reply": "2021-04-17T00:54:18.911858Z"
    }
   },
   "outputs": [
    {
     "data": {
      "text/plain": [
       "[172.0,\n",
       " 167.0,\n",
       " 96.0,\n",
       " 202.0,\n",
       " 150.0,\n",
       " 178.0,\n",
       " 165.0,\n",
       " 97.0,\n",
       " 183.0,\n",
       " 182.0,\n",
       " 188.0,\n",
       " 180.0,\n",
       " 228.0,\n",
       " 180.0,\n",
       " 173.0,\n",
       " 175.0,\n",
       " 170.0,\n",
       " 180.0,\n",
       " 66.0,\n",
       " 170.0,\n",
       " 183.0,\n",
       " 200.0,\n",
       " 190.0,\n",
       " 177.0,\n",
       " 175.0,\n",
       " 180.0,\n",
       " 150.0,\n",
       " nan,\n",
       " 88.0,\n",
       " 160.0,\n",
       " 193.0,\n",
       " 191.0,\n",
       " 170.0,\n",
       " 196.0,\n",
       " 224.0,\n",
       " 206.0,\n",
       " 183.0,\n",
       " 137.0,\n",
       " 112.0,\n",
       " 183.0,\n",
       " 163.0,\n",
       " 175.0,\n",
       " 180.0,\n",
       " 178.0,\n",
       " 94.0,\n",
       " 122.0,\n",
       " 163.0,\n",
       " 188.0,\n",
       " 198.0,\n",
       " 196.0,\n",
       " 171.0,\n",
       " 184.0,\n",
       " 188.0,\n",
       " 264.0,\n",
       " 188.0,\n",
       " 196.0,\n",
       " 185.0,\n",
       " 157.0,\n",
       " 183.0,\n",
       " 183.0,\n",
       " 170.0,\n",
       " 166.0,\n",
       " 165.0,\n",
       " 193.0,\n",
       " 191.0,\n",
       " 183.0,\n",
       " 168.0,\n",
       " 198.0,\n",
       " 229.0,\n",
       " 213.0,\n",
       " 167.0,\n",
       " 79.0,\n",
       " 96.0,\n",
       " 193.0,\n",
       " 191.0,\n",
       " 178.0,\n",
       " 216.0,\n",
       " 234.0,\n",
       " 188.0,\n",
       " 178.0,\n",
       " 206.0,\n",
       " nan,\n",
       " nan,\n",
       " nan,\n",
       " nan,\n",
       " nan,\n",
       " 165.0]"
      ]
     },
     "execution_count": 1,
     "metadata": {},
     "output_type": "execute_result"
    }
   ],
   "source": [
    "list(starwars >> pull(f.height, f.name))"
   ]
  }
 ],
 "metadata": {
  "kernelspec": {
   "display_name": "Python 3",
   "language": "python",
   "name": "python3"
  },
  "language_info": {
   "codemirror_mode": {
    "name": "ipython",
    "version": 3
   },
   "file_extension": ".py",
   "mimetype": "text/x-python",
   "name": "python",
   "nbconvert_exporter": "python",
   "pygments_lexer": "ipython3",
   "version": "3.7.8"
  }
 },
 "nbformat": 4,
 "nbformat_minor": 5
}
