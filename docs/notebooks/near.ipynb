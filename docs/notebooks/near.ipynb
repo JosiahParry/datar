{
 "cells": [
  {
   "cell_type": "code",
   "execution_count": 1,
   "id": "permanent-waters",
   "metadata": {
    "execution": {
     "iopub.execute_input": "2021-04-17T00:53:52.883494Z",
     "iopub.status.busy": "2021-04-17T00:53:52.882124Z",
     "iopub.status.idle": "2021-04-17T00:53:53.527522Z",
     "shell.execute_reply": "2021-04-17T00:53:53.526967Z"
    }
   },
   "outputs": [
    {
     "data": {
      "text/html": [
       "<div style=\"text-align: right; text-style: italic\">Try this notebook on <a target=\"_blank\" href=\"https://mybinder.org/v2/gh/pwwang/datar/93d069f3ca36711fc811c61dcf60e9fc3d1460a5?filepath=docs%2Fnotebooks%2Fnear.ipynb\">binder</a>.</div>"
      ],
      "text/plain": [
       "<IPython.core.display.HTML object>"
      ]
     },
     "metadata": {},
     "output_type": "display_data"
    },
    {
     "data": {
      "text/markdown": [
       "### # near  "
      ],
      "text/plain": [
       "<IPython.core.display.Markdown object>"
      ]
     },
     "metadata": {},
     "output_type": "display_data"
    },
    {
     "data": {
      "text/markdown": [
       "##### Compare numbers with tolerance\n"
      ],
      "text/plain": [
       "<IPython.core.display.Markdown object>"
      ]
     },
     "metadata": {},
     "output_type": "display_data"
    }
   ],
   "source": [
    "# https://dplyr.tidyverse.org/reference/near.html\n",
    "\n",
    "from datar.all import *\n",
    "\n",
    "%run nb_helpers.py\n",
    "nb_header(near)"
   ]
  },
  {
   "cell_type": "code",
   "execution_count": 2,
   "id": "employed-supplier",
   "metadata": {
    "execution": {
     "iopub.execute_input": "2021-04-17T00:53:53.534140Z",
     "iopub.status.busy": "2021-04-17T00:53:53.533444Z",
     "iopub.status.idle": "2021-04-17T00:53:53.537171Z",
     "shell.execute_reply": "2021-04-17T00:53:53.536664Z"
    }
   },
   "outputs": [
    {
     "data": {
      "text/plain": [
       "False"
      ]
     },
     "execution_count": 1,
     "metadata": {},
     "output_type": "execute_result"
    }
   ],
   "source": [
    "sqrt(2.0) ** 2.0 == 2.0"
   ]
  },
  {
   "cell_type": "code",
   "execution_count": 3,
   "id": "black-decimal",
   "metadata": {
    "execution": {
     "iopub.execute_input": "2021-04-17T00:53:53.543977Z",
     "iopub.status.busy": "2021-04-17T00:53:53.543275Z",
     "iopub.status.idle": "2021-04-17T00:53:53.547960Z",
     "shell.execute_reply": "2021-04-17T00:53:53.547245Z"
    }
   },
   "outputs": [
    {
     "data": {
      "text/plain": [
       "array([ True])"
      ]
     },
     "execution_count": 1,
     "metadata": {},
     "output_type": "execute_result"
    }
   ],
   "source": [
    "near(sqrt(2.0) ** 2.0, 2.0)"
   ]
  }
 ],
 "metadata": {
  "kernelspec": {
   "display_name": "Python 3",
   "language": "python",
   "name": "python3"
  },
  "language_info": {
   "codemirror_mode": {
    "name": "ipython",
    "version": 3
   },
   "file_extension": ".py",
   "mimetype": "text/x-python",
   "name": "python",
   "nbconvert_exporter": "python",
   "pygments_lexer": "ipython3",
   "version": "3.7.8"
  }
 },
 "nbformat": 4,
 "nbformat_minor": 5
}
