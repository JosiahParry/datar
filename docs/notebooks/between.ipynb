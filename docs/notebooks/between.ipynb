{
 "cells": [
  {
   "cell_type": "code",
   "execution_count": 1,
   "id": "weird-consideration",
   "metadata": {
    "execution": {
     "iopub.execute_input": "2021-04-17T00:51:30.083242Z",
     "iopub.status.busy": "2021-04-17T00:51:30.044931Z",
     "iopub.status.idle": "2021-04-17T00:51:30.953158Z",
     "shell.execute_reply": "2021-04-17T00:51:30.952386Z"
    }
   },
   "outputs": [
    {
     "data": {
      "text/html": [
       "<div style=\"text-align: right; text-style: italic\">Try this notebook on <a target=\"_blank\" href=\"https://mybinder.org/v2/gh/pwwang/datar/93d069f3ca36711fc811c61dcf60e9fc3d1460a5?filepath=docs%2Fnotebooks%2Fbetween.ipynb\">binder</a>.</div>"
      ],
      "text/plain": [
       "<IPython.core.display.HTML object>"
      ]
     },
     "metadata": {},
     "output_type": "display_data"
    },
    {
     "data": {
      "text/markdown": [
       "### # between  "
      ],
      "text/plain": [
       "<IPython.core.display.Markdown object>"
      ]
     },
     "metadata": {},
     "output_type": "display_data"
    },
    {
     "data": {
      "text/markdown": [
       "##### Function version of `left <= x <= right`, which cannot do it rowwisely\n"
      ],
      "text/plain": [
       "<IPython.core.display.Markdown object>"
      ]
     },
     "metadata": {},
     "output_type": "display_data"
    }
   ],
   "source": [
    "# https://dplyr.tidyverse.org/reference/between.html\n",
    "\n",
    "from datar.datasets import starwars\n",
    "from datar.all import *\n",
    "\n",
    "%run nb_helpers.py\n",
    "nb_header(between)"
   ]
  },
  {
   "cell_type": "code",
   "execution_count": 2,
   "id": "continued-party",
   "metadata": {
    "execution": {
     "iopub.execute_input": "2021-04-17T00:51:30.983122Z",
     "iopub.status.busy": "2021-04-17T00:51:30.982599Z",
     "iopub.status.idle": "2021-04-17T00:51:30.989749Z",
     "shell.execute_reply": "2021-04-17T00:51:30.989242Z"
    }
   },
   "outputs": [
    {
     "data": {
      "text/plain": [
       "0     False\n",
       "1     False\n",
       "2     False\n",
       "3     False\n",
       "4     False\n",
       "5     False\n",
       "6      True\n",
       "7      True\n",
       "8      True\n",
       "9     False\n",
       "10    False\n",
       "11    False\n",
       "dtype: bool"
      ]
     },
     "execution_count": 1,
     "metadata": {},
     "output_type": "execute_result"
    }
   ],
   "source": [
    "between(range(1, 13), 7, 9)"
   ]
  },
  {
   "cell_type": "code",
   "execution_count": 3,
   "id": "endless-working",
   "metadata": {
    "execution": {
     "iopub.execute_input": "2021-04-17T00:51:31.005557Z",
     "iopub.status.busy": "2021-04-17T00:51:31.004959Z",
     "iopub.status.idle": "2021-04-17T00:51:31.011171Z",
     "shell.execute_reply": "2021-04-17T00:51:31.010732Z"
    }
   },
   "outputs": [
    {
     "data": {
      "text/plain": [
       "array([-0.38555879, -0.60267025,  0.35989421, -0.57963607,  0.86023986,\n",
       "       -0.45190934, -0.60790583, -0.53098068, -0.43947395, -0.0875375 ,\n",
       "       -0.66937105,  0.84985452,  0.40311174,  0.63764398, -0.60452572,\n",
       "        0.2869155 ,  0.0496807 , -0.8287547 , -0.80069181,  0.82087437,\n",
       "       -0.77886284, -0.75677116,  0.43197877,  0.01147117,  0.22260006,\n",
       "       -0.16713986,  0.32719101,  0.78891843,  0.01721516, -0.05923402,\n",
       "       -0.78298322,  0.41646399, -0.06350888, -0.1454294 , -0.9604937 ,\n",
       "        0.26673569,  0.40658097,  0.84835757,  0.13736499, -0.46353864,\n",
       "        0.82456948, -0.89099484,  0.67709839,  0.79839679, -0.36533141,\n",
       "        0.35444117,  0.02918655, -0.48126178,  0.31157466,  0.65315019,\n",
       "        0.69832633,  0.30540672,  0.62108532, -0.15986364,  0.22306891,\n",
       "       -0.34491022, -0.08298992,  0.52346046,  0.03170817, -0.48173974,\n",
       "       -0.14608391, -0.73308876, -0.71608869, -0.90964378,  0.32774429,\n",
       "       -0.3093256 ,  0.86333872, -0.5566336 , -0.9737675 ])"
      ]
     },
     "execution_count": 1,
     "metadata": {},
     "output_type": "execute_result"
    }
   ],
   "source": [
    "x = rnorm(100)\n",
    "x[between(x, -1, 1)]"
   ]
  },
  {
   "cell_type": "code",
   "execution_count": 4,
   "id": "latter-leisure",
   "metadata": {
    "execution": {
     "iopub.execute_input": "2021-04-17T00:51:31.033658Z",
     "iopub.status.busy": "2021-04-17T00:51:31.033128Z",
     "iopub.status.idle": "2021-04-17T00:51:31.039004Z",
     "shell.execute_reply": "2021-04-17T00:51:31.038537Z"
    }
   },
   "outputs": [
    {
     "data": {
      "text/html": [
       "<div>\n",
       "<style scoped>\n",
       "    .dataframe tbody tr th:only-of-type {\n",
       "        vertical-align: middle;\n",
       "    }\n",
       "\n",
       "    .dataframe tbody tr th {\n",
       "        vertical-align: top;\n",
       "    }\n",
       "\n",
       "    .dataframe thead th {\n",
       "        text-align: right;\n",
       "    }\n",
       "</style>\n",
       "<table border=\"1\" class=\"dataframe\">\n",
       "  <thead>\n",
       "    <tr style=\"text-align: right;\">\n",
       "      <th></th>\n",
       "      <th>name</th>\n",
       "      <th>height</th>\n",
       "      <th>mass</th>\n",
       "      <th>hair_color</th>\n",
       "      <th>skin_color</th>\n",
       "      <th>eye_color</th>\n",
       "      <th>birth_year</th>\n",
       "      <th>sex</th>\n",
       "      <th>gender</th>\n",
       "      <th>homeworld</th>\n",
       "      <th>species</th>\n",
       "    </tr>\n",
       "  </thead>\n",
       "  <tbody>\n",
       "    <tr>\n",
       "      <th>0</th>\n",
       "      <td>Leia Organa</td>\n",
       "      <td>150.0</td>\n",
       "      <td>49.0</td>\n",
       "      <td>brown</td>\n",
       "      <td>light</td>\n",
       "      <td>brown</td>\n",
       "      <td>19.0</td>\n",
       "      <td>female</td>\n",
       "      <td>feminine</td>\n",
       "      <td>Alderaan</td>\n",
       "      <td>Human</td>\n",
       "    </tr>\n",
       "    <tr>\n",
       "      <th>1</th>\n",
       "      <td>Mon Mothma</td>\n",
       "      <td>150.0</td>\n",
       "      <td>NaN</td>\n",
       "      <td>auburn</td>\n",
       "      <td>fair</td>\n",
       "      <td>blue</td>\n",
       "      <td>48.0</td>\n",
       "      <td>female</td>\n",
       "      <td>feminine</td>\n",
       "      <td>Chandrila</td>\n",
       "      <td>Human</td>\n",
       "    </tr>\n",
       "    <tr>\n",
       "      <th>2</th>\n",
       "      <td>Watto</td>\n",
       "      <td>137.0</td>\n",
       "      <td>NaN</td>\n",
       "      <td>black</td>\n",
       "      <td>blue, grey</td>\n",
       "      <td>yellow</td>\n",
       "      <td>NaN</td>\n",
       "      <td>male</td>\n",
       "      <td>masculine</td>\n",
       "      <td>Toydaria</td>\n",
       "      <td>Toydarian</td>\n",
       "    </tr>\n",
       "    <tr>\n",
       "      <th>3</th>\n",
       "      <td>Sebulba</td>\n",
       "      <td>112.0</td>\n",
       "      <td>40.0</td>\n",
       "      <td>none</td>\n",
       "      <td>grey, red</td>\n",
       "      <td>orange</td>\n",
       "      <td>NaN</td>\n",
       "      <td>male</td>\n",
       "      <td>masculine</td>\n",
       "      <td>Malastare</td>\n",
       "      <td>Dug</td>\n",
       "    </tr>\n",
       "    <tr>\n",
       "      <th>4</th>\n",
       "      <td>Gasgano</td>\n",
       "      <td>122.0</td>\n",
       "      <td>NaN</td>\n",
       "      <td>none</td>\n",
       "      <td>white, blue</td>\n",
       "      <td>black</td>\n",
       "      <td>NaN</td>\n",
       "      <td>male</td>\n",
       "      <td>masculine</td>\n",
       "      <td>Troiken</td>\n",
       "      <td>Xexto</td>\n",
       "    </tr>\n",
       "  </tbody>\n",
       "</table>\n",
       "</div>"
      ],
      "text/plain": [
       "          name  height  mass hair_color   skin_color eye_color  birth_year  \\\n",
       "0  Leia Organa   150.0  49.0      brown        light     brown        19.0   \n",
       "1   Mon Mothma   150.0   NaN     auburn         fair      blue        48.0   \n",
       "2        Watto   137.0   NaN      black   blue, grey    yellow         NaN   \n",
       "3      Sebulba   112.0  40.0       none    grey, red    orange         NaN   \n",
       "4      Gasgano   122.0   NaN       none  white, blue     black         NaN   \n",
       "\n",
       "      sex     gender  homeworld    species  \n",
       "0  female   feminine   Alderaan      Human  \n",
       "1  female   feminine  Chandrila      Human  \n",
       "2    male  masculine   Toydaria  Toydarian  \n",
       "3    male  masculine  Malastare        Dug  \n",
       "4    male  masculine    Troiken      Xexto  "
      ]
     },
     "execution_count": 1,
     "metadata": {},
     "output_type": "execute_result"
    }
   ],
   "source": [
    "starwars >> filter(between(f.height, 100, 150))"
   ]
  },
  {
   "cell_type": "code",
   "execution_count": 5,
   "id": "conscious-aurora",
   "metadata": {
    "execution": {
     "iopub.execute_input": "2021-04-17T00:51:31.061801Z",
     "iopub.status.busy": "2021-04-17T00:51:31.060894Z",
     "iopub.status.idle": "2021-04-17T00:51:31.066322Z",
     "shell.execute_reply": "2021-04-17T00:51:31.065930Z"
    }
   },
   "outputs": [
    {
     "data": {
      "text/html": [
       "<div>\n",
       "<style scoped>\n",
       "    .dataframe tbody tr th:only-of-type {\n",
       "        vertical-align: middle;\n",
       "    }\n",
       "\n",
       "    .dataframe tbody tr th {\n",
       "        vertical-align: top;\n",
       "    }\n",
       "\n",
       "    .dataframe thead th {\n",
       "        text-align: right;\n",
       "    }\n",
       "</style>\n",
       "<table border=\"1\" class=\"dataframe\">\n",
       "  <thead>\n",
       "    <tr style=\"text-align: right;\">\n",
       "      <th></th>\n",
       "      <th>name</th>\n",
       "      <th>height</th>\n",
       "      <th>mass</th>\n",
       "      <th>hair_color</th>\n",
       "      <th>skin_color</th>\n",
       "      <th>eye_color</th>\n",
       "      <th>birth_year</th>\n",
       "      <th>sex</th>\n",
       "      <th>gender</th>\n",
       "      <th>homeworld</th>\n",
       "      <th>species</th>\n",
       "    </tr>\n",
       "  </thead>\n",
       "  <tbody>\n",
       "    <tr>\n",
       "      <th>0</th>\n",
       "      <td>R2-D2</td>\n",
       "      <td>96.0</td>\n",
       "      <td>32.0</td>\n",
       "      <td>NaN</td>\n",
       "      <td>white, blue</td>\n",
       "      <td>red</td>\n",
       "      <td>33.0</td>\n",
       "      <td>none</td>\n",
       "      <td>masculine</td>\n",
       "      <td>Naboo</td>\n",
       "      <td>Droid</td>\n",
       "    </tr>\n",
       "    <tr>\n",
       "      <th>1</th>\n",
       "      <td>Leia Organa</td>\n",
       "      <td>150.0</td>\n",
       "      <td>49.0</td>\n",
       "      <td>brown</td>\n",
       "      <td>light</td>\n",
       "      <td>brown</td>\n",
       "      <td>19.0</td>\n",
       "      <td>female</td>\n",
       "      <td>feminine</td>\n",
       "      <td>Alderaan</td>\n",
       "      <td>Human</td>\n",
       "    </tr>\n",
       "    <tr>\n",
       "      <th>2</th>\n",
       "      <td>R5-D4</td>\n",
       "      <td>97.0</td>\n",
       "      <td>32.0</td>\n",
       "      <td>NaN</td>\n",
       "      <td>white, red</td>\n",
       "      <td>red</td>\n",
       "      <td>NaN</td>\n",
       "      <td>none</td>\n",
       "      <td>masculine</td>\n",
       "      <td>Tatooine</td>\n",
       "      <td>Droid</td>\n",
       "    </tr>\n",
       "    <tr>\n",
       "      <th>3</th>\n",
       "      <td>Yoda</td>\n",
       "      <td>66.0</td>\n",
       "      <td>17.0</td>\n",
       "      <td>white</td>\n",
       "      <td>green</td>\n",
       "      <td>brown</td>\n",
       "      <td>896.0</td>\n",
       "      <td>male</td>\n",
       "      <td>masculine</td>\n",
       "      <td>NaN</td>\n",
       "      <td>Yoda's species</td>\n",
       "    </tr>\n",
       "    <tr>\n",
       "      <th>4</th>\n",
       "      <td>Mon Mothma</td>\n",
       "      <td>150.0</td>\n",
       "      <td>NaN</td>\n",
       "      <td>auburn</td>\n",
       "      <td>fair</td>\n",
       "      <td>blue</td>\n",
       "      <td>48.0</td>\n",
       "      <td>female</td>\n",
       "      <td>feminine</td>\n",
       "      <td>Chandrila</td>\n",
       "      <td>Human</td>\n",
       "    </tr>\n",
       "    <tr>\n",
       "      <th>5</th>\n",
       "      <td>Wicket Systri Warrick</td>\n",
       "      <td>88.0</td>\n",
       "      <td>20.0</td>\n",
       "      <td>brown</td>\n",
       "      <td>brown</td>\n",
       "      <td>brown</td>\n",
       "      <td>8.0</td>\n",
       "      <td>male</td>\n",
       "      <td>masculine</td>\n",
       "      <td>Endor</td>\n",
       "      <td>Ewok</td>\n",
       "    </tr>\n",
       "    <tr>\n",
       "      <th>6</th>\n",
       "      <td>Watto</td>\n",
       "      <td>137.0</td>\n",
       "      <td>NaN</td>\n",
       "      <td>black</td>\n",
       "      <td>blue, grey</td>\n",
       "      <td>yellow</td>\n",
       "      <td>NaN</td>\n",
       "      <td>male</td>\n",
       "      <td>masculine</td>\n",
       "      <td>Toydaria</td>\n",
       "      <td>Toydarian</td>\n",
       "    </tr>\n",
       "    <tr>\n",
       "      <th>7</th>\n",
       "      <td>Sebulba</td>\n",
       "      <td>112.0</td>\n",
       "      <td>40.0</td>\n",
       "      <td>none</td>\n",
       "      <td>grey, red</td>\n",
       "      <td>orange</td>\n",
       "      <td>NaN</td>\n",
       "      <td>male</td>\n",
       "      <td>masculine</td>\n",
       "      <td>Malastare</td>\n",
       "      <td>Dug</td>\n",
       "    </tr>\n",
       "    <tr>\n",
       "      <th>8</th>\n",
       "      <td>Dud Bolt</td>\n",
       "      <td>94.0</td>\n",
       "      <td>45.0</td>\n",
       "      <td>none</td>\n",
       "      <td>blue, grey</td>\n",
       "      <td>yellow</td>\n",
       "      <td>NaN</td>\n",
       "      <td>male</td>\n",
       "      <td>masculine</td>\n",
       "      <td>Vulpter</td>\n",
       "      <td>Vulptereen</td>\n",
       "    </tr>\n",
       "    <tr>\n",
       "      <th>9</th>\n",
       "      <td>Gasgano</td>\n",
       "      <td>122.0</td>\n",
       "      <td>NaN</td>\n",
       "      <td>none</td>\n",
       "      <td>white, blue</td>\n",
       "      <td>black</td>\n",
       "      <td>NaN</td>\n",
       "      <td>male</td>\n",
       "      <td>masculine</td>\n",
       "      <td>Troiken</td>\n",
       "      <td>Xexto</td>\n",
       "    </tr>\n",
       "    <tr>\n",
       "      <th>10</th>\n",
       "      <td>Ratts Tyerell</td>\n",
       "      <td>79.0</td>\n",
       "      <td>15.0</td>\n",
       "      <td>none</td>\n",
       "      <td>grey, blue</td>\n",
       "      <td>unknown</td>\n",
       "      <td>NaN</td>\n",
       "      <td>male</td>\n",
       "      <td>masculine</td>\n",
       "      <td>Aleen Minor</td>\n",
       "      <td>Aleena</td>\n",
       "    </tr>\n",
       "    <tr>\n",
       "      <th>11</th>\n",
       "      <td>R4-P17</td>\n",
       "      <td>96.0</td>\n",
       "      <td>NaN</td>\n",
       "      <td>none</td>\n",
       "      <td>silver, red</td>\n",
       "      <td>red, blue</td>\n",
       "      <td>NaN</td>\n",
       "      <td>none</td>\n",
       "      <td>feminine</td>\n",
       "      <td>NaN</td>\n",
       "      <td>Droid</td>\n",
       "    </tr>\n",
       "  </tbody>\n",
       "</table>\n",
       "</div>"
      ],
      "text/plain": [
       "                     name  height  mass hair_color   skin_color  eye_color  \\\n",
       "0                   R2-D2    96.0  32.0        NaN  white, blue        red   \n",
       "1             Leia Organa   150.0  49.0      brown        light      brown   \n",
       "2                   R5-D4    97.0  32.0        NaN   white, red        red   \n",
       "3                    Yoda    66.0  17.0      white        green      brown   \n",
       "4              Mon Mothma   150.0   NaN     auburn         fair       blue   \n",
       "5   Wicket Systri Warrick    88.0  20.0      brown        brown      brown   \n",
       "6                   Watto   137.0   NaN      black   blue, grey     yellow   \n",
       "7                 Sebulba   112.0  40.0       none    grey, red     orange   \n",
       "8                Dud Bolt    94.0  45.0       none   blue, grey     yellow   \n",
       "9                 Gasgano   122.0   NaN       none  white, blue      black   \n",
       "10          Ratts Tyerell    79.0  15.0       none   grey, blue    unknown   \n",
       "11                 R4-P17    96.0   NaN       none  silver, red  red, blue   \n",
       "\n",
       "    birth_year     sex     gender    homeworld         species  \n",
       "0         33.0    none  masculine        Naboo           Droid  \n",
       "1         19.0  female   feminine     Alderaan           Human  \n",
       "2          NaN    none  masculine     Tatooine           Droid  \n",
       "3        896.0    male  masculine          NaN  Yoda's species  \n",
       "4         48.0  female   feminine    Chandrila           Human  \n",
       "5          8.0    male  masculine        Endor            Ewok  \n",
       "6          NaN    male  masculine     Toydaria       Toydarian  \n",
       "7          NaN    male  masculine    Malastare             Dug  \n",
       "8          NaN    male  masculine      Vulpter      Vulptereen  \n",
       "9          NaN    male  masculine      Troiken           Xexto  \n",
       "10         NaN    male  masculine  Aleen Minor          Aleena  \n",
       "11         NaN    none   feminine          NaN           Droid  "
      ]
     },
     "execution_count": 1,
     "metadata": {},
     "output_type": "execute_result"
    }
   ],
   "source": [
    "starwars >> filter(100 <= f.height <= 150) # not as expected"
   ]
  }
 ],
 "metadata": {
  "kernelspec": {
   "display_name": "Python 3",
   "language": "python",
   "name": "python3"
  },
  "language_info": {
   "codemirror_mode": {
    "name": "ipython",
    "version": 3
   },
   "file_extension": ".py",
   "mimetype": "text/x-python",
   "name": "python",
   "nbconvert_exporter": "python",
   "pygments_lexer": "ipython3",
   "version": "3.7.8"
  }
 },
 "nbformat": 4,
 "nbformat_minor": 5
}
