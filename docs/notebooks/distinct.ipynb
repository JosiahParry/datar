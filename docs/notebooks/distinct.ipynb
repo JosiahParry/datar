{
 "cells": [
  {
   "cell_type": "code",
   "execution_count": 1,
   "id": "incoming-criminal",
   "metadata": {
    "execution": {
     "iopub.execute_input": "2021-04-17T00:52:15.848028Z",
     "iopub.status.busy": "2021-04-17T00:52:15.847059Z",
     "iopub.status.idle": "2021-04-17T00:52:16.618418Z",
     "shell.execute_reply": "2021-04-17T00:52:16.617813Z"
    }
   },
   "outputs": [
    {
     "output_type": "display_data",
     "data": {
      "text/plain": "<IPython.core.display.HTML object>",
      "text/html": "<div style=\"text-align: right; text-style: italic\">Try this notebook on <a target=\"_blank\" href=\"https://mybinder.org/v2/gh/pwwang/datar/93d069f3ca36711fc811c61dcf60e9fc3d1460a5?filepath=docs%2Fnotebooks%2Fdistinct.ipynb\">binder</a>.</div>"
     },
     "metadata": {}
    },
    {
     "output_type": "display_data",
     "data": {
      "text/plain": "<IPython.core.display.Markdown object>",
      "text/markdown": "### # distinct  "
     },
     "metadata": {}
    },
    {
     "output_type": "display_data",
     "data": {
      "text/plain": "<IPython.core.display.Markdown object>",
      "text/markdown": "##### Select only unique/distinct rows from a data frame.\n\nThe original API:  \nhttps://dplyr.tidyverse.org/reference/distinct.html  \n\n##### Args:\n&emsp;&emsp;`_data`: The dataframe  \n&emsp;&emsp;`*args`: and  \n&emsp;&emsp;`**kwargs`: Optional variables to use when determining  \n&emsp;&emsp;&emsp;&emsp;uniqueness.  \n\n&emsp;&emsp;`_keep_all`: If TRUE, keep all variables in _data  \n\n##### Returns:\n&emsp;&emsp;A dataframe without duplicated rows in _data  \n"
     },
     "metadata": {}
    },
    {
     "output_type": "display_data",
     "data": {
      "text/plain": "<IPython.core.display.Markdown object>",
      "text/markdown": "### # n_distinct  "
     },
     "metadata": {}
    },
    {
     "output_type": "display_data",
     "data": {
      "text/plain": "<IPython.core.display.Markdown object>",
      "text/markdown": "##### Get the length of distince elements\n"
     },
     "metadata": {}
    }
   ],
   "source": [
    "# https://dplyr.tidyverse.org/reference/distinct.html\n",
    "from datar.datasets import starwars\n",
    "from datar.all import *\n",
    "\n",
    "%run nb_helpers.py\n",
    "nb_header(distinct, n_distinct, book='distinct')"
   ]
  },
  {
   "cell_type": "code",
   "execution_count": 2,
   "id": "graduate-bonus",
   "metadata": {
    "execution": {
     "iopub.execute_input": "2021-04-17T00:52:16.637696Z",
     "iopub.status.busy": "2021-04-17T00:52:16.637034Z",
     "iopub.status.idle": "2021-04-17T00:52:16.674650Z",
     "shell.execute_reply": "2021-04-17T00:52:16.674189Z"
    }
   },
   "outputs": [
    {
     "output_type": "execute_result",
     "data": {
      "text/plain": [
       "100"
      ]
     },
     "metadata": {},
     "execution_count": 2
    }
   ],
   "source": [
    "df = tibble(\n",
    "  x=sample(range(10), 100, replace=True),\n",
    "  y=sample(range(10), 100, replace=True)\n",
    ")\n",
    "nrow(df)"
   ]
  },
  {
   "cell_type": "code",
   "execution_count": 3,
   "id": "liable-measure",
   "metadata": {
    "execution": {
     "iopub.execute_input": "2021-04-17T00:52:16.698226Z",
     "iopub.status.busy": "2021-04-17T00:52:16.697678Z",
     "iopub.status.idle": "2021-04-17T00:52:16.715788Z",
     "shell.execute_reply": "2021-04-17T00:52:16.715358Z"
    }
   },
   "outputs": [
    {
     "output_type": "execute_result",
     "data": {
      "text/plain": [
       "59"
      ]
     },
     "metadata": {},
     "execution_count": 3
    }
   ],
   "source": [
    "nrow(distinct(df))"
   ]
  },
  {
   "cell_type": "code",
   "execution_count": 4,
   "id": "weird-insight",
   "metadata": {
    "execution": {
     "iopub.execute_input": "2021-04-17T00:52:16.723102Z",
     "iopub.status.busy": "2021-04-17T00:52:16.722575Z",
     "iopub.status.idle": "2021-04-17T00:52:16.794861Z",
     "shell.execute_reply": "2021-04-17T00:52:16.794440Z"
    }
   },
   "outputs": [
    {
     "output_type": "execute_result",
     "data": {
      "text/plain": [
       "59"
      ]
     },
     "metadata": {},
     "execution_count": 4
    }
   ],
   "source": [
    "df >> distinct(f.x, f.y) >> nrow()"
   ]
  },
  {
   "cell_type": "code",
   "execution_count": 5,
   "id": "terminal-label",
   "metadata": {
    "execution": {
     "iopub.execute_input": "2021-04-17T00:52:16.822942Z",
     "iopub.status.busy": "2021-04-17T00:52:16.822034Z",
     "iopub.status.idle": "2021-04-17T00:52:16.829891Z",
     "shell.execute_reply": "2021-04-17T00:52:16.829436Z"
    }
   },
   "outputs": [
    {
     "output_type": "execute_result",
     "data": {
      "text/plain": [
       "   x\n",
       "0  4\n",
       "1  0\n",
       "2  6\n",
       "3  9\n",
       "4  2\n",
       "5  7\n",
       "6  1\n",
       "7  8\n",
       "8  3\n",
       "9  5"
      ],
      "text/html": "<div>\n<style scoped>\n    .dataframe tbody tr th:only-of-type {\n        vertical-align: middle;\n    }\n\n    .dataframe tbody tr th {\n        vertical-align: top;\n    }\n\n    .dataframe thead th {\n        text-align: right;\n    }\n</style>\n<table border=\"1\" class=\"dataframe\">\n  <thead>\n    <tr style=\"text-align: right;\">\n      <th></th>\n      <th>x</th>\n    </tr>\n  </thead>\n  <tbody>\n    <tr>\n      <th>0</th>\n      <td>4</td>\n    </tr>\n    <tr>\n      <th>1</th>\n      <td>0</td>\n    </tr>\n    <tr>\n      <th>2</th>\n      <td>6</td>\n    </tr>\n    <tr>\n      <th>3</th>\n      <td>9</td>\n    </tr>\n    <tr>\n      <th>4</th>\n      <td>2</td>\n    </tr>\n    <tr>\n      <th>5</th>\n      <td>7</td>\n    </tr>\n    <tr>\n      <th>6</th>\n      <td>1</td>\n    </tr>\n    <tr>\n      <th>7</th>\n      <td>8</td>\n    </tr>\n    <tr>\n      <th>8</th>\n      <td>3</td>\n    </tr>\n    <tr>\n      <th>9</th>\n      <td>5</td>\n    </tr>\n  </tbody>\n</table>\n</div>"
     },
     "metadata": {},
     "execution_count": 5
    }
   ],
   "source": [
    "df >> distinct(f.x)"
   ]
  },
  {
   "cell_type": "code",
   "execution_count": 6,
   "id": "ignored-hearts",
   "metadata": {
    "execution": {
     "iopub.execute_input": "2021-04-17T00:52:16.844654Z",
     "iopub.status.busy": "2021-04-17T00:52:16.844114Z",
     "iopub.status.idle": "2021-04-17T00:52:16.852596Z",
     "shell.execute_reply": "2021-04-17T00:52:16.852209Z"
    }
   },
   "outputs": [
    {
     "output_type": "execute_result",
     "data": {
      "text/plain": [
       "   y\n",
       "0  2\n",
       "1  7\n",
       "2  9\n",
       "3  0\n",
       "4  8\n",
       "5  1\n",
       "6  4\n",
       "7  6\n",
       "8  3\n",
       "9  5"
      ],
      "text/html": "<div>\n<style scoped>\n    .dataframe tbody tr th:only-of-type {\n        vertical-align: middle;\n    }\n\n    .dataframe tbody tr th {\n        vertical-align: top;\n    }\n\n    .dataframe thead th {\n        text-align: right;\n    }\n</style>\n<table border=\"1\" class=\"dataframe\">\n  <thead>\n    <tr style=\"text-align: right;\">\n      <th></th>\n      <th>y</th>\n    </tr>\n  </thead>\n  <tbody>\n    <tr>\n      <th>0</th>\n      <td>2</td>\n    </tr>\n    <tr>\n      <th>1</th>\n      <td>7</td>\n    </tr>\n    <tr>\n      <th>2</th>\n      <td>9</td>\n    </tr>\n    <tr>\n      <th>3</th>\n      <td>0</td>\n    </tr>\n    <tr>\n      <th>4</th>\n      <td>8</td>\n    </tr>\n    <tr>\n      <th>5</th>\n      <td>1</td>\n    </tr>\n    <tr>\n      <th>6</th>\n      <td>4</td>\n    </tr>\n    <tr>\n      <th>7</th>\n      <td>6</td>\n    </tr>\n    <tr>\n      <th>8</th>\n      <td>3</td>\n    </tr>\n    <tr>\n      <th>9</th>\n      <td>5</td>\n    </tr>\n  </tbody>\n</table>\n</div>"
     },
     "metadata": {},
     "execution_count": 6
    }
   ],
   "source": [
    "df >> distinct(f.y)"
   ]
  },
  {
   "cell_type": "code",
   "execution_count": 7,
   "id": "reasonable-envelope",
   "metadata": {
    "execution": {
     "iopub.execute_input": "2021-04-17T00:52:16.871350Z",
     "iopub.status.busy": "2021-04-17T00:52:16.870814Z",
     "iopub.status.idle": "2021-04-17T00:52:16.881989Z",
     "shell.execute_reply": "2021-04-17T00:52:16.881398Z"
    }
   },
   "outputs": [
    {
     "output_type": "execute_result",
     "data": {
      "text/plain": [
       "   x  y\n",
       "0  4  2\n",
       "1  0  7\n",
       "2  6  9\n",
       "3  9  0\n",
       "4  2  0\n",
       "5  7  1\n",
       "6  1  4\n",
       "7  8  4\n",
       "8  3  6\n",
       "9  5  3"
      ],
      "text/html": "<div>\n<style scoped>\n    .dataframe tbody tr th:only-of-type {\n        vertical-align: middle;\n    }\n\n    .dataframe tbody tr th {\n        vertical-align: top;\n    }\n\n    .dataframe thead th {\n        text-align: right;\n    }\n</style>\n<table border=\"1\" class=\"dataframe\">\n  <thead>\n    <tr style=\"text-align: right;\">\n      <th></th>\n      <th>x</th>\n      <th>y</th>\n    </tr>\n  </thead>\n  <tbody>\n    <tr>\n      <th>0</th>\n      <td>4</td>\n      <td>2</td>\n    </tr>\n    <tr>\n      <th>1</th>\n      <td>0</td>\n      <td>7</td>\n    </tr>\n    <tr>\n      <th>2</th>\n      <td>6</td>\n      <td>9</td>\n    </tr>\n    <tr>\n      <th>3</th>\n      <td>9</td>\n      <td>0</td>\n    </tr>\n    <tr>\n      <th>4</th>\n      <td>2</td>\n      <td>0</td>\n    </tr>\n    <tr>\n      <th>5</th>\n      <td>7</td>\n      <td>1</td>\n    </tr>\n    <tr>\n      <th>6</th>\n      <td>1</td>\n      <td>4</td>\n    </tr>\n    <tr>\n      <th>7</th>\n      <td>8</td>\n      <td>4</td>\n    </tr>\n    <tr>\n      <th>8</th>\n      <td>3</td>\n      <td>6</td>\n    </tr>\n    <tr>\n      <th>9</th>\n      <td>5</td>\n      <td>3</td>\n    </tr>\n  </tbody>\n</table>\n</div>"
     },
     "metadata": {},
     "execution_count": 7
    }
   ],
   "source": [
    "df >> distinct(f.x, _keep_all=True)"
   ]
  },
  {
   "cell_type": "code",
   "execution_count": 8,
   "id": "historical-chapter",
   "metadata": {
    "execution": {
     "iopub.execute_input": "2021-04-17T00:52:16.897921Z",
     "iopub.status.busy": "2021-04-17T00:52:16.897383Z",
     "iopub.status.idle": "2021-04-17T00:52:16.903979Z",
     "shell.execute_reply": "2021-04-17T00:52:16.903547Z"
    }
   },
   "outputs": [
    {
     "output_type": "execute_result",
     "data": {
      "text/plain": [
       "   x  y\n",
       "0  4  2\n",
       "1  0  7\n",
       "2  6  9\n",
       "3  9  0\n",
       "4  9  8\n",
       "5  7  1\n",
       "6  1  4\n",
       "7  4  6\n",
       "8  5  3\n",
       "9  5  5"
      ],
      "text/html": "<div>\n<style scoped>\n    .dataframe tbody tr th:only-of-type {\n        vertical-align: middle;\n    }\n\n    .dataframe tbody tr th {\n        vertical-align: top;\n    }\n\n    .dataframe thead th {\n        text-align: right;\n    }\n</style>\n<table border=\"1\" class=\"dataframe\">\n  <thead>\n    <tr style=\"text-align: right;\">\n      <th></th>\n      <th>x</th>\n      <th>y</th>\n    </tr>\n  </thead>\n  <tbody>\n    <tr>\n      <th>0</th>\n      <td>4</td>\n      <td>2</td>\n    </tr>\n    <tr>\n      <th>1</th>\n      <td>0</td>\n      <td>7</td>\n    </tr>\n    <tr>\n      <th>2</th>\n      <td>6</td>\n      <td>9</td>\n    </tr>\n    <tr>\n      <th>3</th>\n      <td>9</td>\n      <td>0</td>\n    </tr>\n    <tr>\n      <th>4</th>\n      <td>9</td>\n      <td>8</td>\n    </tr>\n    <tr>\n      <th>5</th>\n      <td>7</td>\n      <td>1</td>\n    </tr>\n    <tr>\n      <th>6</th>\n      <td>1</td>\n      <td>4</td>\n    </tr>\n    <tr>\n      <th>7</th>\n      <td>4</td>\n      <td>6</td>\n    </tr>\n    <tr>\n      <th>8</th>\n      <td>5</td>\n      <td>3</td>\n    </tr>\n    <tr>\n      <th>9</th>\n      <td>5</td>\n      <td>5</td>\n    </tr>\n  </tbody>\n</table>\n</div>"
     },
     "metadata": {},
     "execution_count": 8
    }
   ],
   "source": [
    "df >> distinct(f.y, _keep_all=True)"
   ]
  },
  {
   "cell_type": "code",
   "execution_count": 9,
   "id": "short-output",
   "metadata": {
    "execution": {
     "iopub.execute_input": "2021-04-17T00:52:16.923206Z",
     "iopub.status.busy": "2021-04-17T00:52:16.922662Z",
     "iopub.status.idle": "2021-04-17T00:52:16.928445Z",
     "shell.execute_reply": "2021-04-17T00:52:16.928025Z"
    }
   },
   "outputs": [
    {
     "output_type": "execute_result",
     "data": {
      "text/plain": [
       "   diff\n",
       "0     2\n",
       "1     7\n",
       "2     3\n",
       "3     9\n",
       "4     1\n",
       "5     6\n",
       "6     0\n",
       "7     4\n",
       "8     5\n",
       "9     8"
      ],
      "text/html": "<div>\n<style scoped>\n    .dataframe tbody tr th:only-of-type {\n        vertical-align: middle;\n    }\n\n    .dataframe tbody tr th {\n        vertical-align: top;\n    }\n\n    .dataframe thead th {\n        text-align: right;\n    }\n</style>\n<table border=\"1\" class=\"dataframe\">\n  <thead>\n    <tr style=\"text-align: right;\">\n      <th></th>\n      <th>diff</th>\n    </tr>\n  </thead>\n  <tbody>\n    <tr>\n      <th>0</th>\n      <td>2</td>\n    </tr>\n    <tr>\n      <th>1</th>\n      <td>7</td>\n    </tr>\n    <tr>\n      <th>2</th>\n      <td>3</td>\n    </tr>\n    <tr>\n      <th>3</th>\n      <td>9</td>\n    </tr>\n    <tr>\n      <th>4</th>\n      <td>1</td>\n    </tr>\n    <tr>\n      <th>5</th>\n      <td>6</td>\n    </tr>\n    <tr>\n      <th>6</th>\n      <td>0</td>\n    </tr>\n    <tr>\n      <th>7</th>\n      <td>4</td>\n    </tr>\n    <tr>\n      <th>8</th>\n      <td>5</td>\n    </tr>\n    <tr>\n      <th>9</th>\n      <td>8</td>\n    </tr>\n  </tbody>\n</table>\n</div>"
     },
     "metadata": {},
     "execution_count": 9
    }
   ],
   "source": [
    "df >> distinct(diff=abs(f.x-f.y))"
   ]
  },
  {
   "cell_type": "code",
   "execution_count": 10,
   "id": "possible-tours",
   "metadata": {
    "execution": {
     "iopub.execute_input": "2021-04-17T00:52:16.952169Z",
     "iopub.status.busy": "2021-04-17T00:52:16.951594Z",
     "iopub.status.idle": "2021-04-17T00:52:16.960279Z",
     "shell.execute_reply": "2021-04-17T00:52:16.959742Z"
    }
   },
   "outputs": [
    {
     "output_type": "execute_result",
     "data": {
      "text/plain": [
       "   hair_color   skin_color eye_color\n",
       "0       blond         fair      blue\n",
       "1         NaN         gold    yellow\n",
       "2         NaN  white, blue       red\n",
       "3        none        white    yellow\n",
       "4       brown        light     brown\n",
       "..        ...          ...       ...\n",
       "62       none         pale     white\n",
       "63      black         dark      dark\n",
       "64      brown        light     hazel\n",
       "65       none         none     black\n",
       "66    unknown      unknown   unknown\n",
       "\n",
       "[67 rows x 3 columns]"
      ],
      "text/html": "<div>\n<style scoped>\n    .dataframe tbody tr th:only-of-type {\n        vertical-align: middle;\n    }\n\n    .dataframe tbody tr th {\n        vertical-align: top;\n    }\n\n    .dataframe thead th {\n        text-align: right;\n    }\n</style>\n<table border=\"1\" class=\"dataframe\">\n  <thead>\n    <tr style=\"text-align: right;\">\n      <th></th>\n      <th>hair_color</th>\n      <th>skin_color</th>\n      <th>eye_color</th>\n    </tr>\n  </thead>\n  <tbody>\n    <tr>\n      <th>0</th>\n      <td>blond</td>\n      <td>fair</td>\n      <td>blue</td>\n    </tr>\n    <tr>\n      <th>1</th>\n      <td>NaN</td>\n      <td>gold</td>\n      <td>yellow</td>\n    </tr>\n    <tr>\n      <th>2</th>\n      <td>NaN</td>\n      <td>white, blue</td>\n      <td>red</td>\n    </tr>\n    <tr>\n      <th>3</th>\n      <td>none</td>\n      <td>white</td>\n      <td>yellow</td>\n    </tr>\n    <tr>\n      <th>4</th>\n      <td>brown</td>\n      <td>light</td>\n      <td>brown</td>\n    </tr>\n    <tr>\n      <th>...</th>\n      <td>...</td>\n      <td>...</td>\n      <td>...</td>\n    </tr>\n    <tr>\n      <th>62</th>\n      <td>none</td>\n      <td>pale</td>\n      <td>white</td>\n    </tr>\n    <tr>\n      <th>63</th>\n      <td>black</td>\n      <td>dark</td>\n      <td>dark</td>\n    </tr>\n    <tr>\n      <th>64</th>\n      <td>brown</td>\n      <td>light</td>\n      <td>hazel</td>\n    </tr>\n    <tr>\n      <th>65</th>\n      <td>none</td>\n      <td>none</td>\n      <td>black</td>\n    </tr>\n    <tr>\n      <th>66</th>\n      <td>unknown</td>\n      <td>unknown</td>\n      <td>unknown</td>\n    </tr>\n  </tbody>\n</table>\n<p>67 rows × 3 columns</p>\n</div>"
     },
     "metadata": {},
     "execution_count": 10
    }
   ],
   "source": [
    "starwars >> distinct(across(contains(\"color\")))"
   ]
  },
  {
   "cell_type": "code",
   "execution_count": 11,
   "id": "radio-title",
   "metadata": {
    "execution": {
     "iopub.execute_input": "2021-04-17T00:52:16.969149Z",
     "iopub.status.busy": "2021-04-17T00:52:16.968483Z",
     "iopub.status.idle": "2021-04-17T00:52:17.027486Z",
     "shell.execute_reply": "2021-04-17T00:52:17.027078Z"
    }
   },
   "outputs": [
    {
     "output_type": "execute_result",
     "data": {
      "text/plain": [
       "   g  x\n",
       "0  1  1\n",
       "1  2  2\n",
       "2  2  1\n",
       "[Groups: ['g'] (n=2)]"
      ],
      "text/html": "<div>\n<style scoped>\n    .dataframe tbody tr th:only-of-type {\n        vertical-align: middle;\n    }\n\n    .dataframe tbody tr th {\n        vertical-align: top;\n    }\n\n    .dataframe thead th {\n        text-align: right;\n    }\n</style>\n<table border=\"1\" class=\"dataframe\">\n  <thead>\n    <tr style=\"text-align: right;\">\n      <th></th>\n      <th>g</th>\n      <th>x</th>\n    </tr>\n  </thead>\n  <tbody>\n    <tr>\n      <th>0</th>\n      <td>1</td>\n      <td>1</td>\n    </tr>\n    <tr>\n      <th>1</th>\n      <td>2</td>\n      <td>2</td>\n    </tr>\n    <tr>\n      <th>2</th>\n      <td>2</td>\n      <td>1</td>\n    </tr>\n  </tbody>\n</table>\n</div>[Groups: ['g'] (n=2)]"
     },
     "metadata": {},
     "execution_count": 11
    }
   ],
   "source": [
    "df = tibble(\n",
    "  g=[1, 1, 2, 2],\n",
    "  x=[1, 1, 2, 1]\n",
    ") >> group_by(f.g)\n",
    "\n",
    "df >> distinct(f.x) "
   ]
  }
 ],
 "metadata": {
  "kernelspec": {
   "display_name": "Python 3",
   "language": "python",
   "name": "python3"
  },
  "language_info": {
   "codemirror_mode": {
    "name": "ipython",
    "version": 3
   },
   "file_extension": ".py",
   "mimetype": "text/x-python",
   "name": "python",
   "nbconvert_exporter": "python",
   "pygments_lexer": "ipython3",
   "version": "3.7.8"
  }
 },
 "nbformat": 4,
 "nbformat_minor": 5
}