{
 "cells": [
  {
   "cell_type": "code",
   "execution_count": 1,
   "id": "social-belgium",
   "metadata": {
    "execution": {
     "iopub.execute_input": "2021-04-17T01:08:40.745348Z",
     "iopub.status.busy": "2021-04-17T01:08:40.744346Z",
     "iopub.status.idle": "2021-04-17T01:08:41.558479Z",
     "shell.execute_reply": "2021-04-17T01:08:41.557777Z"
    }
   },
   "outputs": [
    {
     "data": {
      "text/html": [
       "<div style=\"text-align: right; text-style: italic\">Try this notebook on <a target=\"_blank\" href=\"https://mybinder.org/v2/gh/pwwang/datar/93d069f3ca36711fc811c61dcf60e9fc3d1460a5?filepath=docs%2Fnotebooks%2Fgroup_map.ipynb\">binder</a>.</div>"
      ],
      "text/plain": [
       "<IPython.core.display.HTML object>"
      ]
     },
     "metadata": {},
     "output_type": "display_data"
    },
    {
     "data": {
      "text/markdown": [
       "### # group_map  "
      ],
      "text/plain": [
       "<IPython.core.display.Markdown object>"
      ]
     },
     "metadata": {},
     "output_type": "display_data"
    },
    {
     "data": {
      "text/markdown": [
       "##### Map function to data in each group, returns a list\n"
      ],
      "text/plain": [
       "<IPython.core.display.Markdown object>"
      ]
     },
     "metadata": {},
     "output_type": "display_data"
    }
   ],
   "source": [
    "# https://dplyr.tidyverse.org/reference/group_map.html\n",
    "\n",
    "from datar.datasets import mtcars, iris\n",
    "from datar.all import *\n",
    "\n",
    "%run nb_helpers.py\n",
    "nb_header(group_map)"
   ]
  },
  {
   "cell_type": "code",
   "execution_count": 2,
   "id": "prime-figure",
   "metadata": {
    "execution": {
     "iopub.execute_input": "2021-04-17T01:08:41.564244Z",
     "iopub.status.busy": "2021-04-17T01:08:41.563170Z",
     "iopub.status.idle": "2021-04-17T01:08:41.650984Z",
     "shell.execute_reply": "2021-04-17T01:08:41.651772Z"
    }
   },
   "outputs": [
    {
     "data": {
      "text/plain": [
       "[    mpg   disp  hp  drat    wt   qsec  vs  am  gear  carb\n",
       " 2  22.8  108.0  93  3.85  2.32  18.61   1   1     4     1\n",
       " 7  24.4  146.7  62  3.69  3.19  20.00   1   0     4     2,\n",
       "     mpg   disp   hp  drat     wt   qsec  vs  am  gear  carb\n",
       " 0  21.0  160.0  110   3.9  2.620  16.46   0   1     4     4\n",
       " 1  21.0  160.0  110   3.9  2.875  17.02   0   1     4     4,\n",
       "     mpg   disp   hp  drat    wt   qsec  vs  am  gear  carb\n",
       " 4  18.7  360.0  175  3.15  3.44  17.02   0   0     3     2\n",
       " 6  14.3  360.0  245  3.21  3.57  15.84   0   0     3     4]"
      ]
     },
     "execution_count": 1,
     "metadata": {},
     "output_type": "execute_result"
    }
   ],
   "source": [
    "list(\n",
    "  mtcars >> \\\n",
    "  group_by(f.cyl) >> \\\n",
    "  group_map(lambda df: df >> head(2))\n",
    ")\n"
   ]
  },
  {
   "cell_type": "code",
   "execution_count": 3,
   "id": "dress-longitude",
   "metadata": {
    "execution": {
     "iopub.execute_input": "2021-04-17T01:08:41.657267Z",
     "iopub.status.busy": "2021-04-17T01:08:41.656656Z",
     "iopub.status.idle": "2021-04-17T01:08:41.661988Z",
     "shell.execute_reply": "2021-04-17T01:08:41.661540Z"
    }
   },
   "outputs": [],
   "source": [
    "# TODO\n",
    "# mtcars >> \\\n",
    "#   group_by(f.cyl) >> \\\n",
    "#   group_modify(lambda df: df >> head(2))"
   ]
  },
  {
   "cell_type": "code",
   "execution_count": 4,
   "id": "objective-session",
   "metadata": {
    "execution": {
     "iopub.execute_input": "2021-04-17T01:08:41.709290Z",
     "iopub.status.busy": "2021-04-17T01:08:41.688833Z",
     "iopub.status.idle": "2021-04-17T01:08:41.716759Z",
     "shell.execute_reply": "2021-04-17T01:08:41.715996Z"
    }
   },
   "outputs": [
    {
     "data": {
      "text/plain": [
       "[array([1.4  , 1.5  , 1.575]),\n",
       " array([4.  , 4.35, 4.6 ]),\n",
       " array([5.1  , 5.55 , 5.875])]"
      ]
     },
     "execution_count": 1,
     "metadata": {},
     "output_type": "execute_result"
    }
   ],
   "source": [
    "list(\n",
    "  iris >> \\\n",
    "  group_by(f.Species) >> \\\n",
    "  group_map(lambda df: quantile(df['Petal_Length'], probs=c(0.25, 0.5, 0.75)))\n",
    ")"
   ]
  },
  {
   "cell_type": "code",
   "execution_count": 5,
   "id": "oriented-hammer",
   "metadata": {
    "execution": {
     "iopub.execute_input": "2021-04-17T01:08:41.742368Z",
     "iopub.status.busy": "2021-04-17T01:08:41.741668Z",
     "iopub.status.idle": "2021-04-17T01:08:41.745525Z",
     "shell.execute_reply": "2021-04-17T01:08:41.744926Z"
    }
   },
   "outputs": [],
   "source": [
    "iris >> \\\n",
    "  group_by(f.Species) >> \\\n",
    "  group_walk(lambda df: print(df >> head(2)))"
   ]
  },
  {
   "cell_type": "code",
   "execution_count": 6,
   "id": "aging-breast",
   "metadata": {
    "execution": {
     "iopub.execute_input": "2021-04-17T01:08:41.750836Z",
     "iopub.status.busy": "2021-04-17T01:08:41.749867Z",
     "iopub.status.idle": "2021-04-17T01:08:41.753084Z",
     "shell.execute_reply": "2021-04-17T01:08:41.752585Z"
    }
   },
   "outputs": [],
   "source": [
    "# TODO\n",
    "# mtcars >> \\\n",
    "#   group_modify(lambda df: df >> head(2))"
   ]
  }
 ],
 "metadata": {
  "kernelspec": {
   "display_name": "Python 3",
   "language": "python",
   "name": "python3"
  },
  "language_info": {
   "codemirror_mode": {
    "name": "ipython",
    "version": 3
   },
   "file_extension": ".py",
   "mimetype": "text/x-python",
   "name": "python",
   "nbconvert_exporter": "python",
   "pygments_lexer": "ipython3",
   "version": "3.7.8"
  }
 },
 "nbformat": 4,
 "nbformat_minor": 5
}
