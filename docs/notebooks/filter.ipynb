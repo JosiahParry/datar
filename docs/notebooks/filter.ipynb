{
 "metadata": {
  "language_info": {
   "codemirror_mode": {
    "name": "ipython",
    "version": 3
   },
   "file_extension": ".py",
   "mimetype": "text/x-python",
   "name": "python",
   "nbconvert_exporter": "python",
   "pygments_lexer": "ipython3",
   "version": "3.7.8"
  },
  "orig_nbformat": 2,
  "kernelspec": {
   "name": "python378jvsc74a57bd0c4cc73b080e063fcebb9afb794613be7caf4b26129562cba1382945a18cc49cc",
   "display_name": "Python 3.7.8 64-bit ('base': conda)"
  }
 },
 "nbformat": 4,
 "nbformat_minor": 2,
 "cells": [
  {
   "cell_type": "code",
   "execution_count": 1,
   "metadata": {},
   "outputs": [
    {
     "output_type": "display_data",
     "data": {
      "text/plain": "<IPython.core.display.HTML object>",
      "text/html": "<div style=\"text-align: right; text-style: italic\">Try this notebook on <a target=\"_blank\" href=\"https://mybinder.org/v2/gh/pwwang/datar/93d069f3ca36711fc811c61dcf60e9fc3d1460a5?filepath=docs%2Fnotebooks%2Ffilter.ipynb\">binder</a>.</div>"
     },
     "metadata": {}
    },
    {
     "output_type": "display_data",
     "data": {
      "text/plain": "<IPython.core.display.Markdown object>",
      "text/markdown": "### # filter  "
     },
     "metadata": {}
    },
    {
     "output_type": "display_data",
     "data": {
      "text/plain": "<IPython.core.display.Markdown object>",
      "text/markdown": "##### Subset a data frame, retaining all rows that satisfy your conditions\n\n##### Args:\n&emsp;&emsp;condition, *conditions: Expressions that return logical values  \n&emsp;&emsp;`_preserve`: Relevant when the .data input is grouped.  \n&emsp;&emsp;&emsp;&emsp;If _preserve = FALSE (the default), the grouping structure  \n&emsp;&emsp;&emsp;&emsp;is recalculated based on the resulting data, otherwise  \n&emsp;&emsp;&emsp;&emsp;the grouping is kept as is.  \n\n&emsp;&emsp;`_drop_index`: Whether drop the index or not.  \n&emsp;&emsp;&emsp;&emsp;When it is None and the index of _data is a RangeIndex, then  \n&emsp;&emsp;&emsp;&emsp;the index is dropped.  \n\n##### Returns:\n&emsp;&emsp;The subset dataframe  \n"
     },
     "metadata": {}
    }
   ],
   "source": [
    "# https://dplyr.tidyverse.org/reference/filter.html\n",
    "from datar.datasets import starwars\n",
    "from datar.all import *\n",
    "\n",
    "%run nb_helpers.py\n",
    "nb_header(filter)"
   ]
  },
  {
   "cell_type": "code",
   "execution_count": 2,
   "metadata": {},
   "outputs": [
    {
     "output_type": "execute_result",
     "data": {
      "text/plain": [
       "                   name  height   mass     hair_color skin_color  eye_color  \\\n",
       "0        Luke Skywalker   172.0   77.0          blond       fair       blue   \n",
       "1           Darth Vader   202.0  136.0           none      white     yellow   \n",
       "2           Leia Organa   150.0   49.0          brown      light      brown   \n",
       "3             Owen Lars   178.0  120.0    brown, grey      light       blue   \n",
       "4    Beru Whitesun lars   165.0   75.0          brown      light       blue   \n",
       "5     Biggs Darklighter   183.0   84.0          black      light      brown   \n",
       "6        Obi-Wan Kenobi   182.0   77.0  auburn, white       fair  blue-gray   \n",
       "7      Anakin Skywalker   188.0   84.0          blond       fair       blue   \n",
       "8        Wilhuff Tarkin   180.0    NaN   auburn, grey       fair       blue   \n",
       "9              Han Solo   180.0   80.0          brown       fair      brown   \n",
       "10       Wedge Antilles   170.0   77.0          brown       fair      hazel   \n",
       "11     Jek Tono Porkins   180.0  110.0          brown       fair       blue   \n",
       "12            Palpatine   170.0   75.0           grey       pale     yellow   \n",
       "13            Boba Fett   183.0   78.2          black       fair      brown   \n",
       "14     Lando Calrissian   177.0   79.0          black       dark      brown   \n",
       "15                Lobot   175.0   79.0           none      light       blue   \n",
       "16           Mon Mothma   150.0    NaN         auburn       fair       blue   \n",
       "17         Arvel Crynyd     NaN    NaN          brown       fair      brown   \n",
       "18         Qui-Gon Jinn   193.0   89.0          brown       fair       blue   \n",
       "19        Finis Valorum   170.0    NaN          blond       fair       blue   \n",
       "20       Shmi Skywalker   163.0    NaN          black       fair      brown   \n",
       "21           Mace Windu   188.0   84.0           none       dark      brown   \n",
       "22         Gregar Typho   185.0   85.0          black       dark      brown   \n",
       "23                Cordé   157.0    NaN          brown      light      brown   \n",
       "24          Cliegg Lars   183.0    NaN          brown       fair       blue   \n",
       "25                Dormé   165.0    NaN          brown      light      brown   \n",
       "26                Dooku   193.0   80.0          white       fair      brown   \n",
       "27  Bail Prestor Organa   191.0    NaN          black        tan      brown   \n",
       "28           Jango Fett   183.0   79.0          black        tan      brown   \n",
       "29           Jocasta Nu   167.0    NaN          white       fair       blue   \n",
       "30      Raymus Antilles   188.0   79.0          brown      light      brown   \n",
       "31                 Finn     NaN    NaN          black       dark       dark   \n",
       "32                  Rey     NaN    NaN          brown      light      hazel   \n",
       "33          Poe Dameron     NaN    NaN          brown      light      brown   \n",
       "34        Padmé Amidala   165.0   45.0          brown      light      brown   \n",
       "\n",
       "    birth_year     sex     gender     homeworld species  \n",
       "0         19.0    male  masculine      Tatooine   Human  \n",
       "1         41.9    male  masculine      Tatooine   Human  \n",
       "2         19.0  female   feminine      Alderaan   Human  \n",
       "3         52.0    male  masculine      Tatooine   Human  \n",
       "4         47.0  female   feminine      Tatooine   Human  \n",
       "5         24.0    male  masculine      Tatooine   Human  \n",
       "6         57.0    male  masculine       Stewjon   Human  \n",
       "7         41.9    male  masculine      Tatooine   Human  \n",
       "8         64.0    male  masculine        Eriadu   Human  \n",
       "9         29.0    male  masculine      Corellia   Human  \n",
       "10        21.0    male  masculine      Corellia   Human  \n",
       "11         NaN    male  masculine    Bestine IV   Human  \n",
       "12        82.0    male  masculine         Naboo   Human  \n",
       "13        31.5    male  masculine        Kamino   Human  \n",
       "14        31.0    male  masculine       Socorro   Human  \n",
       "15        37.0    male  masculine        Bespin   Human  \n",
       "16        48.0  female   feminine     Chandrila   Human  \n",
       "17         NaN    male  masculine           NaN   Human  \n",
       "18        92.0    male  masculine           NaN   Human  \n",
       "19        91.0    male  masculine     Coruscant   Human  \n",
       "20        72.0  female   feminine      Tatooine   Human  \n",
       "21        72.0    male  masculine    Haruun Kal   Human  \n",
       "22         NaN    male  masculine         Naboo   Human  \n",
       "23         NaN  female   feminine         Naboo   Human  \n",
       "24        82.0    male  masculine      Tatooine   Human  \n",
       "25         NaN  female   feminine         Naboo   Human  \n",
       "26       102.0    male  masculine       Serenno   Human  \n",
       "27        67.0    male  masculine      Alderaan   Human  \n",
       "28        66.0    male  masculine  Concord Dawn   Human  \n",
       "29         NaN  female   feminine     Coruscant   Human  \n",
       "30         NaN    male  masculine      Alderaan   Human  \n",
       "31         NaN    male  masculine           NaN   Human  \n",
       "32         NaN  female   feminine           NaN   Human  \n",
       "33         NaN    male  masculine           NaN   Human  \n",
       "34        46.0  female   feminine         Naboo   Human  "
      ],
      "text/html": "<div>\n<style scoped>\n    .dataframe tbody tr th:only-of-type {\n        vertical-align: middle;\n    }\n\n    .dataframe tbody tr th {\n        vertical-align: top;\n    }\n\n    .dataframe thead th {\n        text-align: right;\n    }\n</style>\n<table border=\"1\" class=\"dataframe\">\n  <thead>\n    <tr style=\"text-align: right;\">\n      <th></th>\n      <th>name</th>\n      <th>height</th>\n      <th>mass</th>\n      <th>hair_color</th>\n      <th>skin_color</th>\n      <th>eye_color</th>\n      <th>birth_year</th>\n      <th>sex</th>\n      <th>gender</th>\n      <th>homeworld</th>\n      <th>species</th>\n    </tr>\n  </thead>\n  <tbody>\n    <tr>\n      <th>0</th>\n      <td>Luke Skywalker</td>\n      <td>172.0</td>\n      <td>77.0</td>\n      <td>blond</td>\n      <td>fair</td>\n      <td>blue</td>\n      <td>19.0</td>\n      <td>male</td>\n      <td>masculine</td>\n      <td>Tatooine</td>\n      <td>Human</td>\n    </tr>\n    <tr>\n      <th>1</th>\n      <td>Darth Vader</td>\n      <td>202.0</td>\n      <td>136.0</td>\n      <td>none</td>\n      <td>white</td>\n      <td>yellow</td>\n      <td>41.9</td>\n      <td>male</td>\n      <td>masculine</td>\n      <td>Tatooine</td>\n      <td>Human</td>\n    </tr>\n    <tr>\n      <th>2</th>\n      <td>Leia Organa</td>\n      <td>150.0</td>\n      <td>49.0</td>\n      <td>brown</td>\n      <td>light</td>\n      <td>brown</td>\n      <td>19.0</td>\n      <td>female</td>\n      <td>feminine</td>\n      <td>Alderaan</td>\n      <td>Human</td>\n    </tr>\n    <tr>\n      <th>3</th>\n      <td>Owen Lars</td>\n      <td>178.0</td>\n      <td>120.0</td>\n      <td>brown, grey</td>\n      <td>light</td>\n      <td>blue</td>\n      <td>52.0</td>\n      <td>male</td>\n      <td>masculine</td>\n      <td>Tatooine</td>\n      <td>Human</td>\n    </tr>\n    <tr>\n      <th>4</th>\n      <td>Beru Whitesun lars</td>\n      <td>165.0</td>\n      <td>75.0</td>\n      <td>brown</td>\n      <td>light</td>\n      <td>blue</td>\n      <td>47.0</td>\n      <td>female</td>\n      <td>feminine</td>\n      <td>Tatooine</td>\n      <td>Human</td>\n    </tr>\n    <tr>\n      <th>5</th>\n      <td>Biggs Darklighter</td>\n      <td>183.0</td>\n      <td>84.0</td>\n      <td>black</td>\n      <td>light</td>\n      <td>brown</td>\n      <td>24.0</td>\n      <td>male</td>\n      <td>masculine</td>\n      <td>Tatooine</td>\n      <td>Human</td>\n    </tr>\n    <tr>\n      <th>6</th>\n      <td>Obi-Wan Kenobi</td>\n      <td>182.0</td>\n      <td>77.0</td>\n      <td>auburn, white</td>\n      <td>fair</td>\n      <td>blue-gray</td>\n      <td>57.0</td>\n      <td>male</td>\n      <td>masculine</td>\n      <td>Stewjon</td>\n      <td>Human</td>\n    </tr>\n    <tr>\n      <th>7</th>\n      <td>Anakin Skywalker</td>\n      <td>188.0</td>\n      <td>84.0</td>\n      <td>blond</td>\n      <td>fair</td>\n      <td>blue</td>\n      <td>41.9</td>\n      <td>male</td>\n      <td>masculine</td>\n      <td>Tatooine</td>\n      <td>Human</td>\n    </tr>\n    <tr>\n      <th>8</th>\n      <td>Wilhuff Tarkin</td>\n      <td>180.0</td>\n      <td>NaN</td>\n      <td>auburn, grey</td>\n      <td>fair</td>\n      <td>blue</td>\n      <td>64.0</td>\n      <td>male</td>\n      <td>masculine</td>\n      <td>Eriadu</td>\n      <td>Human</td>\n    </tr>\n    <tr>\n      <th>9</th>\n      <td>Han Solo</td>\n      <td>180.0</td>\n      <td>80.0</td>\n      <td>brown</td>\n      <td>fair</td>\n      <td>brown</td>\n      <td>29.0</td>\n      <td>male</td>\n      <td>masculine</td>\n      <td>Corellia</td>\n      <td>Human</td>\n    </tr>\n    <tr>\n      <th>10</th>\n      <td>Wedge Antilles</td>\n      <td>170.0</td>\n      <td>77.0</td>\n      <td>brown</td>\n      <td>fair</td>\n      <td>hazel</td>\n      <td>21.0</td>\n      <td>male</td>\n      <td>masculine</td>\n      <td>Corellia</td>\n      <td>Human</td>\n    </tr>\n    <tr>\n      <th>11</th>\n      <td>Jek Tono Porkins</td>\n      <td>180.0</td>\n      <td>110.0</td>\n      <td>brown</td>\n      <td>fair</td>\n      <td>blue</td>\n      <td>NaN</td>\n      <td>male</td>\n      <td>masculine</td>\n      <td>Bestine IV</td>\n      <td>Human</td>\n    </tr>\n    <tr>\n      <th>12</th>\n      <td>Palpatine</td>\n      <td>170.0</td>\n      <td>75.0</td>\n      <td>grey</td>\n      <td>pale</td>\n      <td>yellow</td>\n      <td>82.0</td>\n      <td>male</td>\n      <td>masculine</td>\n      <td>Naboo</td>\n      <td>Human</td>\n    </tr>\n    <tr>\n      <th>13</th>\n      <td>Boba Fett</td>\n      <td>183.0</td>\n      <td>78.2</td>\n      <td>black</td>\n      <td>fair</td>\n      <td>brown</td>\n      <td>31.5</td>\n      <td>male</td>\n      <td>masculine</td>\n      <td>Kamino</td>\n      <td>Human</td>\n    </tr>\n    <tr>\n      <th>14</th>\n      <td>Lando Calrissian</td>\n      <td>177.0</td>\n      <td>79.0</td>\n      <td>black</td>\n      <td>dark</td>\n      <td>brown</td>\n      <td>31.0</td>\n      <td>male</td>\n      <td>masculine</td>\n      <td>Socorro</td>\n      <td>Human</td>\n    </tr>\n    <tr>\n      <th>15</th>\n      <td>Lobot</td>\n      <td>175.0</td>\n      <td>79.0</td>\n      <td>none</td>\n      <td>light</td>\n      <td>blue</td>\n      <td>37.0</td>\n      <td>male</td>\n      <td>masculine</td>\n      <td>Bespin</td>\n      <td>Human</td>\n    </tr>\n    <tr>\n      <th>16</th>\n      <td>Mon Mothma</td>\n      <td>150.0</td>\n      <td>NaN</td>\n      <td>auburn</td>\n      <td>fair</td>\n      <td>blue</td>\n      <td>48.0</td>\n      <td>female</td>\n      <td>feminine</td>\n      <td>Chandrila</td>\n      <td>Human</td>\n    </tr>\n    <tr>\n      <th>17</th>\n      <td>Arvel Crynyd</td>\n      <td>NaN</td>\n      <td>NaN</td>\n      <td>brown</td>\n      <td>fair</td>\n      <td>brown</td>\n      <td>NaN</td>\n      <td>male</td>\n      <td>masculine</td>\n      <td>NaN</td>\n      <td>Human</td>\n    </tr>\n    <tr>\n      <th>18</th>\n      <td>Qui-Gon Jinn</td>\n      <td>193.0</td>\n      <td>89.0</td>\n      <td>brown</td>\n      <td>fair</td>\n      <td>blue</td>\n      <td>92.0</td>\n      <td>male</td>\n      <td>masculine</td>\n      <td>NaN</td>\n      <td>Human</td>\n    </tr>\n    <tr>\n      <th>19</th>\n      <td>Finis Valorum</td>\n      <td>170.0</td>\n      <td>NaN</td>\n      <td>blond</td>\n      <td>fair</td>\n      <td>blue</td>\n      <td>91.0</td>\n      <td>male</td>\n      <td>masculine</td>\n      <td>Coruscant</td>\n      <td>Human</td>\n    </tr>\n    <tr>\n      <th>20</th>\n      <td>Shmi Skywalker</td>\n      <td>163.0</td>\n      <td>NaN</td>\n      <td>black</td>\n      <td>fair</td>\n      <td>brown</td>\n      <td>72.0</td>\n      <td>female</td>\n      <td>feminine</td>\n      <td>Tatooine</td>\n      <td>Human</td>\n    </tr>\n    <tr>\n      <th>21</th>\n      <td>Mace Windu</td>\n      <td>188.0</td>\n      <td>84.0</td>\n      <td>none</td>\n      <td>dark</td>\n      <td>brown</td>\n      <td>72.0</td>\n      <td>male</td>\n      <td>masculine</td>\n      <td>Haruun Kal</td>\n      <td>Human</td>\n    </tr>\n    <tr>\n      <th>22</th>\n      <td>Gregar Typho</td>\n      <td>185.0</td>\n      <td>85.0</td>\n      <td>black</td>\n      <td>dark</td>\n      <td>brown</td>\n      <td>NaN</td>\n      <td>male</td>\n      <td>masculine</td>\n      <td>Naboo</td>\n      <td>Human</td>\n    </tr>\n    <tr>\n      <th>23</th>\n      <td>Cordé</td>\n      <td>157.0</td>\n      <td>NaN</td>\n      <td>brown</td>\n      <td>light</td>\n      <td>brown</td>\n      <td>NaN</td>\n      <td>female</td>\n      <td>feminine</td>\n      <td>Naboo</td>\n      <td>Human</td>\n    </tr>\n    <tr>\n      <th>24</th>\n      <td>Cliegg Lars</td>\n      <td>183.0</td>\n      <td>NaN</td>\n      <td>brown</td>\n      <td>fair</td>\n      <td>blue</td>\n      <td>82.0</td>\n      <td>male</td>\n      <td>masculine</td>\n      <td>Tatooine</td>\n      <td>Human</td>\n    </tr>\n    <tr>\n      <th>25</th>\n      <td>Dormé</td>\n      <td>165.0</td>\n      <td>NaN</td>\n      <td>brown</td>\n      <td>light</td>\n      <td>brown</td>\n      <td>NaN</td>\n      <td>female</td>\n      <td>feminine</td>\n      <td>Naboo</td>\n      <td>Human</td>\n    </tr>\n    <tr>\n      <th>26</th>\n      <td>Dooku</td>\n      <td>193.0</td>\n      <td>80.0</td>\n      <td>white</td>\n      <td>fair</td>\n      <td>brown</td>\n      <td>102.0</td>\n      <td>male</td>\n      <td>masculine</td>\n      <td>Serenno</td>\n      <td>Human</td>\n    </tr>\n    <tr>\n      <th>27</th>\n      <td>Bail Prestor Organa</td>\n      <td>191.0</td>\n      <td>NaN</td>\n      <td>black</td>\n      <td>tan</td>\n      <td>brown</td>\n      <td>67.0</td>\n      <td>male</td>\n      <td>masculine</td>\n      <td>Alderaan</td>\n      <td>Human</td>\n    </tr>\n    <tr>\n      <th>28</th>\n      <td>Jango Fett</td>\n      <td>183.0</td>\n      <td>79.0</td>\n      <td>black</td>\n      <td>tan</td>\n      <td>brown</td>\n      <td>66.0</td>\n      <td>male</td>\n      <td>masculine</td>\n      <td>Concord Dawn</td>\n      <td>Human</td>\n    </tr>\n    <tr>\n      <th>29</th>\n      <td>Jocasta Nu</td>\n      <td>167.0</td>\n      <td>NaN</td>\n      <td>white</td>\n      <td>fair</td>\n      <td>blue</td>\n      <td>NaN</td>\n      <td>female</td>\n      <td>feminine</td>\n      <td>Coruscant</td>\n      <td>Human</td>\n    </tr>\n    <tr>\n      <th>30</th>\n      <td>Raymus Antilles</td>\n      <td>188.0</td>\n      <td>79.0</td>\n      <td>brown</td>\n      <td>light</td>\n      <td>brown</td>\n      <td>NaN</td>\n      <td>male</td>\n      <td>masculine</td>\n      <td>Alderaan</td>\n      <td>Human</td>\n    </tr>\n    <tr>\n      <th>31</th>\n      <td>Finn</td>\n      <td>NaN</td>\n      <td>NaN</td>\n      <td>black</td>\n      <td>dark</td>\n      <td>dark</td>\n      <td>NaN</td>\n      <td>male</td>\n      <td>masculine</td>\n      <td>NaN</td>\n      <td>Human</td>\n    </tr>\n    <tr>\n      <th>32</th>\n      <td>Rey</td>\n      <td>NaN</td>\n      <td>NaN</td>\n      <td>brown</td>\n      <td>light</td>\n      <td>hazel</td>\n      <td>NaN</td>\n      <td>female</td>\n      <td>feminine</td>\n      <td>NaN</td>\n      <td>Human</td>\n    </tr>\n    <tr>\n      <th>33</th>\n      <td>Poe Dameron</td>\n      <td>NaN</td>\n      <td>NaN</td>\n      <td>brown</td>\n      <td>light</td>\n      <td>brown</td>\n      <td>NaN</td>\n      <td>male</td>\n      <td>masculine</td>\n      <td>NaN</td>\n      <td>Human</td>\n    </tr>\n    <tr>\n      <th>34</th>\n      <td>Padmé Amidala</td>\n      <td>165.0</td>\n      <td>45.0</td>\n      <td>brown</td>\n      <td>light</td>\n      <td>brown</td>\n      <td>46.0</td>\n      <td>female</td>\n      <td>feminine</td>\n      <td>Naboo</td>\n      <td>Human</td>\n    </tr>\n  </tbody>\n</table>\n</div>"
     },
     "metadata": {},
     "execution_count": 2
    }
   ],
   "source": [
    "filter(starwars, f.species == \"Human\")"
   ]
  },
  {
   "cell_type": "code",
   "execution_count": 3,
   "metadata": {},
   "outputs": [
    {
     "output_type": "execute_result",
     "data": {
      "text/plain": [
       "                    name  height    mass hair_color        skin_color  \\\n",
       "0  Jabba Desilijic Tiure   175.0  1358.0        NaN  green-tan, brown   \n",
       "\n",
       "  eye_color  birth_year             sex     gender  homeworld species  \n",
       "0    orange       600.0  hermaphroditic  masculine  Nal Hutta    Hutt  "
      ],
      "text/html": "<div>\n<style scoped>\n    .dataframe tbody tr th:only-of-type {\n        vertical-align: middle;\n    }\n\n    .dataframe tbody tr th {\n        vertical-align: top;\n    }\n\n    .dataframe thead th {\n        text-align: right;\n    }\n</style>\n<table border=\"1\" class=\"dataframe\">\n  <thead>\n    <tr style=\"text-align: right;\">\n      <th></th>\n      <th>name</th>\n      <th>height</th>\n      <th>mass</th>\n      <th>hair_color</th>\n      <th>skin_color</th>\n      <th>eye_color</th>\n      <th>birth_year</th>\n      <th>sex</th>\n      <th>gender</th>\n      <th>homeworld</th>\n      <th>species</th>\n    </tr>\n  </thead>\n  <tbody>\n    <tr>\n      <th>0</th>\n      <td>Jabba Desilijic Tiure</td>\n      <td>175.0</td>\n      <td>1358.0</td>\n      <td>NaN</td>\n      <td>green-tan, brown</td>\n      <td>orange</td>\n      <td>600.0</td>\n      <td>hermaphroditic</td>\n      <td>masculine</td>\n      <td>Nal Hutta</td>\n      <td>Hutt</td>\n    </tr>\n  </tbody>\n</table>\n</div>"
     },
     "metadata": {},
     "execution_count": 3
    }
   ],
   "source": [
    "filter(starwars, f.mass > 1000)"
   ]
  },
  {
   "cell_type": "code",
   "execution_count": 5,
   "metadata": {},
   "outputs": [
    {
     "output_type": "execute_result",
     "data": {
      "text/plain": [
       "         name  height  mass hair_color        skin_color eye_color  \\\n",
       "0   Nien Nunb   160.0  68.0       none              grey     black   \n",
       "1     Gasgano   122.0   NaN       none       white, blue     black   \n",
       "2   Kit Fisto   196.0  87.0       none             green     black   \n",
       "3    Plo Koon   188.0  80.0       none            orange     black   \n",
       "4     Lama Su   229.0  88.0       none              grey     black   \n",
       "5     Taun We   213.0   NaN       none              grey     black   \n",
       "6    Shaak Ti   178.0  57.0       none  red, blue, white     black   \n",
       "7  Tion Medon   206.0  80.0       none              grey     black   \n",
       "8         BB8     NaN   NaN       none              none     black   \n",
       "\n",
       "   birth_year     sex     gender    homeworld    species  \n",
       "0         NaN    male  masculine      Sullust  Sullustan  \n",
       "1         NaN    male  masculine      Troiken      Xexto  \n",
       "2         NaN    male  masculine  Glee Anselm   Nautolan  \n",
       "3        22.0    male  masculine        Dorin    Kel Dor  \n",
       "4         NaN    male  masculine       Kamino   Kaminoan  \n",
       "5         NaN  female   feminine       Kamino   Kaminoan  \n",
       "6         NaN  female   feminine        Shili    Togruta  \n",
       "7         NaN    male  masculine       Utapau     Pau'an  \n",
       "8         NaN    none  masculine          NaN      Droid  "
      ],
      "text/html": "<div>\n<style scoped>\n    .dataframe tbody tr th:only-of-type {\n        vertical-align: middle;\n    }\n\n    .dataframe tbody tr th {\n        vertical-align: top;\n    }\n\n    .dataframe thead th {\n        text-align: right;\n    }\n</style>\n<table border=\"1\" class=\"dataframe\">\n  <thead>\n    <tr style=\"text-align: right;\">\n      <th></th>\n      <th>name</th>\n      <th>height</th>\n      <th>mass</th>\n      <th>hair_color</th>\n      <th>skin_color</th>\n      <th>eye_color</th>\n      <th>birth_year</th>\n      <th>sex</th>\n      <th>gender</th>\n      <th>homeworld</th>\n      <th>species</th>\n    </tr>\n  </thead>\n  <tbody>\n    <tr>\n      <th>0</th>\n      <td>Nien Nunb</td>\n      <td>160.0</td>\n      <td>68.0</td>\n      <td>none</td>\n      <td>grey</td>\n      <td>black</td>\n      <td>NaN</td>\n      <td>male</td>\n      <td>masculine</td>\n      <td>Sullust</td>\n      <td>Sullustan</td>\n    </tr>\n    <tr>\n      <th>1</th>\n      <td>Gasgano</td>\n      <td>122.0</td>\n      <td>NaN</td>\n      <td>none</td>\n      <td>white, blue</td>\n      <td>black</td>\n      <td>NaN</td>\n      <td>male</td>\n      <td>masculine</td>\n      <td>Troiken</td>\n      <td>Xexto</td>\n    </tr>\n    <tr>\n      <th>2</th>\n      <td>Kit Fisto</td>\n      <td>196.0</td>\n      <td>87.0</td>\n      <td>none</td>\n      <td>green</td>\n      <td>black</td>\n      <td>NaN</td>\n      <td>male</td>\n      <td>masculine</td>\n      <td>Glee Anselm</td>\n      <td>Nautolan</td>\n    </tr>\n    <tr>\n      <th>3</th>\n      <td>Plo Koon</td>\n      <td>188.0</td>\n      <td>80.0</td>\n      <td>none</td>\n      <td>orange</td>\n      <td>black</td>\n      <td>22.0</td>\n      <td>male</td>\n      <td>masculine</td>\n      <td>Dorin</td>\n      <td>Kel Dor</td>\n    </tr>\n    <tr>\n      <th>4</th>\n      <td>Lama Su</td>\n      <td>229.0</td>\n      <td>88.0</td>\n      <td>none</td>\n      <td>grey</td>\n      <td>black</td>\n      <td>NaN</td>\n      <td>male</td>\n      <td>masculine</td>\n      <td>Kamino</td>\n      <td>Kaminoan</td>\n    </tr>\n    <tr>\n      <th>5</th>\n      <td>Taun We</td>\n      <td>213.0</td>\n      <td>NaN</td>\n      <td>none</td>\n      <td>grey</td>\n      <td>black</td>\n      <td>NaN</td>\n      <td>female</td>\n      <td>feminine</td>\n      <td>Kamino</td>\n      <td>Kaminoan</td>\n    </tr>\n    <tr>\n      <th>6</th>\n      <td>Shaak Ti</td>\n      <td>178.0</td>\n      <td>57.0</td>\n      <td>none</td>\n      <td>red, blue, white</td>\n      <td>black</td>\n      <td>NaN</td>\n      <td>female</td>\n      <td>feminine</td>\n      <td>Shili</td>\n      <td>Togruta</td>\n    </tr>\n    <tr>\n      <th>7</th>\n      <td>Tion Medon</td>\n      <td>206.0</td>\n      <td>80.0</td>\n      <td>none</td>\n      <td>grey</td>\n      <td>black</td>\n      <td>NaN</td>\n      <td>male</td>\n      <td>masculine</td>\n      <td>Utapau</td>\n      <td>Pau'an</td>\n    </tr>\n    <tr>\n      <th>8</th>\n      <td>BB8</td>\n      <td>NaN</td>\n      <td>NaN</td>\n      <td>none</td>\n      <td>none</td>\n      <td>black</td>\n      <td>NaN</td>\n      <td>none</td>\n      <td>masculine</td>\n      <td>NaN</td>\n      <td>Droid</td>\n    </tr>\n  </tbody>\n</table>\n</div>"
     },
     "metadata": {},
     "execution_count": 5
    }
   ],
   "source": [
    "# Conditions connected by & or | have to wrapped, since == has lower priority than & does\n",
    "filter(starwars, (f.hair_color == \"none\") & (f.eye_color == \"black\"))"
   ]
  },
  {
   "cell_type": "code",
   "execution_count": 6,
   "metadata": {},
   "outputs": [
    {
     "output_type": "execute_result",
     "data": {
      "text/plain": [
       "                 name  height   mass hair_color           skin_color  \\\n",
       "0         Darth Vader   202.0  136.0       none                white   \n",
       "1              Greedo   173.0   74.0        NaN                green   \n",
       "2               IG-88   200.0  140.0       none                metal   \n",
       "3               Bossk   190.0  113.0       none                green   \n",
       "4               Lobot   175.0   79.0       none                light   \n",
       "5              Ackbar   180.0   83.0       none         brown mottle   \n",
       "6           Nien Nunb   160.0   68.0       none                 grey   \n",
       "7         Nute Gunray   191.0   90.0       none        mottled green   \n",
       "8       Jar Jar Binks   196.0   66.0       none               orange   \n",
       "9        Roos Tarpals   224.0   82.0       none                 grey   \n",
       "10         Rugor Nass   206.0    NaN       none                green   \n",
       "11            Sebulba   112.0   40.0       none            grey, red   \n",
       "12         Darth Maul   175.0   80.0       none                  red   \n",
       "13        Bib Fortuna   180.0    NaN       none                 pale   \n",
       "14        Ayla Secura   178.0   55.0       none                 blue   \n",
       "15           Dud Bolt    94.0   45.0       none           blue, grey   \n",
       "16            Gasgano   122.0    NaN       none          white, blue   \n",
       "17     Ben Quadinaros   163.0   65.0       none  grey, green, yellow   \n",
       "18         Mace Windu   188.0   84.0       none                 dark   \n",
       "19          Kit Fisto   196.0   87.0       none                green   \n",
       "20         Adi Gallia   184.0   50.0       none                 dark   \n",
       "21        Saesee Tiin   188.0    NaN       none                 pale   \n",
       "22        Yarael Poof   264.0    NaN       none                white   \n",
       "23           Plo Koon   188.0   80.0       none               orange   \n",
       "24         Mas Amedda   196.0    NaN       none                 blue   \n",
       "25  Poggle the Lesser   183.0   80.0       none                green   \n",
       "26    Dexter Jettster   198.0  102.0       none                brown   \n",
       "27            Lama Su   229.0   88.0       none                 grey   \n",
       "28            Taun We   213.0    NaN       none                 grey   \n",
       "29      Ratts Tyerell    79.0   15.0       none           grey, blue   \n",
       "30             R4-P17    96.0    NaN       none          silver, red   \n",
       "31         Wat Tambor   193.0   48.0       none          green, grey   \n",
       "32           San Hill   191.0    NaN       none                 grey   \n",
       "33           Shaak Ti   178.0   57.0       none     red, blue, white   \n",
       "34           Grievous   216.0  159.0       none         brown, white   \n",
       "35          Sly Moore   178.0   48.0       none                 pale   \n",
       "36         Tion Medon   206.0   80.0       none                 grey   \n",
       "37                BB8     NaN    NaN       none                 none   \n",
       "\n",
       "        eye_color  birth_year     sex     gender       homeworld       species  \n",
       "0          yellow        41.9    male  masculine        Tatooine         Human  \n",
       "1           black        44.0    male  masculine           Rodia        Rodian  \n",
       "2             red        15.0    none  masculine             NaN         Droid  \n",
       "3             red        53.0    male  masculine       Trandosha    Trandoshan  \n",
       "4            blue        37.0    male  masculine          Bespin         Human  \n",
       "5          orange        41.0    male  masculine        Mon Cala  Mon Calamari  \n",
       "6           black         NaN    male  masculine         Sullust     Sullustan  \n",
       "7             red         NaN    male  masculine  Cato Neimoidia     Neimodian  \n",
       "8          orange        52.0    male  masculine           Naboo        Gungan  \n",
       "9          orange         NaN    male  masculine           Naboo        Gungan  \n",
       "10         orange         NaN    male  masculine           Naboo        Gungan  \n",
       "11         orange         NaN    male  masculine       Malastare           Dug  \n",
       "12         yellow        54.0    male  masculine        Dathomir        Zabrak  \n",
       "13           pink         NaN    male  masculine          Ryloth       Twi'lek  \n",
       "14          hazel        48.0  female   feminine          Ryloth       Twi'lek  \n",
       "15         yellow         NaN    male  masculine         Vulpter    Vulptereen  \n",
       "16          black         NaN    male  masculine         Troiken         Xexto  \n",
       "17         orange         NaN    male  masculine            Tund         Toong  \n",
       "18          brown        72.0    male  masculine      Haruun Kal         Human  \n",
       "19          black         NaN    male  masculine     Glee Anselm      Nautolan  \n",
       "20           blue         NaN  female   feminine       Coruscant    Tholothian  \n",
       "21         orange         NaN    male  masculine         Iktotch      Iktotchi  \n",
       "22         yellow         NaN    male  masculine         Quermia      Quermian  \n",
       "23          black        22.0    male  masculine           Dorin       Kel Dor  \n",
       "24           blue         NaN    male  masculine        Champala      Chagrian  \n",
       "25         yellow         NaN    male  masculine        Geonosis     Geonosian  \n",
       "26         yellow         NaN    male  masculine            Ojom      Besalisk  \n",
       "27          black         NaN    male  masculine          Kamino      Kaminoan  \n",
       "28          black         NaN  female   feminine          Kamino      Kaminoan  \n",
       "29        unknown         NaN    male  masculine     Aleen Minor        Aleena  \n",
       "30      red, blue         NaN    none   feminine             NaN         Droid  \n",
       "31        unknown         NaN    male  masculine           Skako       Skakoan  \n",
       "32           gold         NaN    male  masculine      Muunilinst          Muun  \n",
       "33          black         NaN  female   feminine           Shili       Togruta  \n",
       "34  green, yellow         NaN    male  masculine           Kalee       Kaleesh  \n",
       "35          white         NaN     NaN        NaN          Umbara           NaN  \n",
       "36          black         NaN    male  masculine          Utapau        Pau'an  \n",
       "37          black         NaN    none  masculine             NaN         Droid  "
      ],
      "text/html": "<div>\n<style scoped>\n    .dataframe tbody tr th:only-of-type {\n        vertical-align: middle;\n    }\n\n    .dataframe tbody tr th {\n        vertical-align: top;\n    }\n\n    .dataframe thead th {\n        text-align: right;\n    }\n</style>\n<table border=\"1\" class=\"dataframe\">\n  <thead>\n    <tr style=\"text-align: right;\">\n      <th></th>\n      <th>name</th>\n      <th>height</th>\n      <th>mass</th>\n      <th>hair_color</th>\n      <th>skin_color</th>\n      <th>eye_color</th>\n      <th>birth_year</th>\n      <th>sex</th>\n      <th>gender</th>\n      <th>homeworld</th>\n      <th>species</th>\n    </tr>\n  </thead>\n  <tbody>\n    <tr>\n      <th>0</th>\n      <td>Darth Vader</td>\n      <td>202.0</td>\n      <td>136.0</td>\n      <td>none</td>\n      <td>white</td>\n      <td>yellow</td>\n      <td>41.9</td>\n      <td>male</td>\n      <td>masculine</td>\n      <td>Tatooine</td>\n      <td>Human</td>\n    </tr>\n    <tr>\n      <th>1</th>\n      <td>Greedo</td>\n      <td>173.0</td>\n      <td>74.0</td>\n      <td>NaN</td>\n      <td>green</td>\n      <td>black</td>\n      <td>44.0</td>\n      <td>male</td>\n      <td>masculine</td>\n      <td>Rodia</td>\n      <td>Rodian</td>\n    </tr>\n    <tr>\n      <th>2</th>\n      <td>IG-88</td>\n      <td>200.0</td>\n      <td>140.0</td>\n      <td>none</td>\n      <td>metal</td>\n      <td>red</td>\n      <td>15.0</td>\n      <td>none</td>\n      <td>masculine</td>\n      <td>NaN</td>\n      <td>Droid</td>\n    </tr>\n    <tr>\n      <th>3</th>\n      <td>Bossk</td>\n      <td>190.0</td>\n      <td>113.0</td>\n      <td>none</td>\n      <td>green</td>\n      <td>red</td>\n      <td>53.0</td>\n      <td>male</td>\n      <td>masculine</td>\n      <td>Trandosha</td>\n      <td>Trandoshan</td>\n    </tr>\n    <tr>\n      <th>4</th>\n      <td>Lobot</td>\n      <td>175.0</td>\n      <td>79.0</td>\n      <td>none</td>\n      <td>light</td>\n      <td>blue</td>\n      <td>37.0</td>\n      <td>male</td>\n      <td>masculine</td>\n      <td>Bespin</td>\n      <td>Human</td>\n    </tr>\n    <tr>\n      <th>5</th>\n      <td>Ackbar</td>\n      <td>180.0</td>\n      <td>83.0</td>\n      <td>none</td>\n      <td>brown mottle</td>\n      <td>orange</td>\n      <td>41.0</td>\n      <td>male</td>\n      <td>masculine</td>\n      <td>Mon Cala</td>\n      <td>Mon Calamari</td>\n    </tr>\n    <tr>\n      <th>6</th>\n      <td>Nien Nunb</td>\n      <td>160.0</td>\n      <td>68.0</td>\n      <td>none</td>\n      <td>grey</td>\n      <td>black</td>\n      <td>NaN</td>\n      <td>male</td>\n      <td>masculine</td>\n      <td>Sullust</td>\n      <td>Sullustan</td>\n    </tr>\n    <tr>\n      <th>7</th>\n      <td>Nute Gunray</td>\n      <td>191.0</td>\n      <td>90.0</td>\n      <td>none</td>\n      <td>mottled green</td>\n      <td>red</td>\n      <td>NaN</td>\n      <td>male</td>\n      <td>masculine</td>\n      <td>Cato Neimoidia</td>\n      <td>Neimodian</td>\n    </tr>\n    <tr>\n      <th>8</th>\n      <td>Jar Jar Binks</td>\n      <td>196.0</td>\n      <td>66.0</td>\n      <td>none</td>\n      <td>orange</td>\n      <td>orange</td>\n      <td>52.0</td>\n      <td>male</td>\n      <td>masculine</td>\n      <td>Naboo</td>\n      <td>Gungan</td>\n    </tr>\n    <tr>\n      <th>9</th>\n      <td>Roos Tarpals</td>\n      <td>224.0</td>\n      <td>82.0</td>\n      <td>none</td>\n      <td>grey</td>\n      <td>orange</td>\n      <td>NaN</td>\n      <td>male</td>\n      <td>masculine</td>\n      <td>Naboo</td>\n      <td>Gungan</td>\n    </tr>\n    <tr>\n      <th>10</th>\n      <td>Rugor Nass</td>\n      <td>206.0</td>\n      <td>NaN</td>\n      <td>none</td>\n      <td>green</td>\n      <td>orange</td>\n      <td>NaN</td>\n      <td>male</td>\n      <td>masculine</td>\n      <td>Naboo</td>\n      <td>Gungan</td>\n    </tr>\n    <tr>\n      <th>11</th>\n      <td>Sebulba</td>\n      <td>112.0</td>\n      <td>40.0</td>\n      <td>none</td>\n      <td>grey, red</td>\n      <td>orange</td>\n      <td>NaN</td>\n      <td>male</td>\n      <td>masculine</td>\n      <td>Malastare</td>\n      <td>Dug</td>\n    </tr>\n    <tr>\n      <th>12</th>\n      <td>Darth Maul</td>\n      <td>175.0</td>\n      <td>80.0</td>\n      <td>none</td>\n      <td>red</td>\n      <td>yellow</td>\n      <td>54.0</td>\n      <td>male</td>\n      <td>masculine</td>\n      <td>Dathomir</td>\n      <td>Zabrak</td>\n    </tr>\n    <tr>\n      <th>13</th>\n      <td>Bib Fortuna</td>\n      <td>180.0</td>\n      <td>NaN</td>\n      <td>none</td>\n      <td>pale</td>\n      <td>pink</td>\n      <td>NaN</td>\n      <td>male</td>\n      <td>masculine</td>\n      <td>Ryloth</td>\n      <td>Twi'lek</td>\n    </tr>\n    <tr>\n      <th>14</th>\n      <td>Ayla Secura</td>\n      <td>178.0</td>\n      <td>55.0</td>\n      <td>none</td>\n      <td>blue</td>\n      <td>hazel</td>\n      <td>48.0</td>\n      <td>female</td>\n      <td>feminine</td>\n      <td>Ryloth</td>\n      <td>Twi'lek</td>\n    </tr>\n    <tr>\n      <th>15</th>\n      <td>Dud Bolt</td>\n      <td>94.0</td>\n      <td>45.0</td>\n      <td>none</td>\n      <td>blue, grey</td>\n      <td>yellow</td>\n      <td>NaN</td>\n      <td>male</td>\n      <td>masculine</td>\n      <td>Vulpter</td>\n      <td>Vulptereen</td>\n    </tr>\n    <tr>\n      <th>16</th>\n      <td>Gasgano</td>\n      <td>122.0</td>\n      <td>NaN</td>\n      <td>none</td>\n      <td>white, blue</td>\n      <td>black</td>\n      <td>NaN</td>\n      <td>male</td>\n      <td>masculine</td>\n      <td>Troiken</td>\n      <td>Xexto</td>\n    </tr>\n    <tr>\n      <th>17</th>\n      <td>Ben Quadinaros</td>\n      <td>163.0</td>\n      <td>65.0</td>\n      <td>none</td>\n      <td>grey, green, yellow</td>\n      <td>orange</td>\n      <td>NaN</td>\n      <td>male</td>\n      <td>masculine</td>\n      <td>Tund</td>\n      <td>Toong</td>\n    </tr>\n    <tr>\n      <th>18</th>\n      <td>Mace Windu</td>\n      <td>188.0</td>\n      <td>84.0</td>\n      <td>none</td>\n      <td>dark</td>\n      <td>brown</td>\n      <td>72.0</td>\n      <td>male</td>\n      <td>masculine</td>\n      <td>Haruun Kal</td>\n      <td>Human</td>\n    </tr>\n    <tr>\n      <th>19</th>\n      <td>Kit Fisto</td>\n      <td>196.0</td>\n      <td>87.0</td>\n      <td>none</td>\n      <td>green</td>\n      <td>black</td>\n      <td>NaN</td>\n      <td>male</td>\n      <td>masculine</td>\n      <td>Glee Anselm</td>\n      <td>Nautolan</td>\n    </tr>\n    <tr>\n      <th>20</th>\n      <td>Adi Gallia</td>\n      <td>184.0</td>\n      <td>50.0</td>\n      <td>none</td>\n      <td>dark</td>\n      <td>blue</td>\n      <td>NaN</td>\n      <td>female</td>\n      <td>feminine</td>\n      <td>Coruscant</td>\n      <td>Tholothian</td>\n    </tr>\n    <tr>\n      <th>21</th>\n      <td>Saesee Tiin</td>\n      <td>188.0</td>\n      <td>NaN</td>\n      <td>none</td>\n      <td>pale</td>\n      <td>orange</td>\n      <td>NaN</td>\n      <td>male</td>\n      <td>masculine</td>\n      <td>Iktotch</td>\n      <td>Iktotchi</td>\n    </tr>\n    <tr>\n      <th>22</th>\n      <td>Yarael Poof</td>\n      <td>264.0</td>\n      <td>NaN</td>\n      <td>none</td>\n      <td>white</td>\n      <td>yellow</td>\n      <td>NaN</td>\n      <td>male</td>\n      <td>masculine</td>\n      <td>Quermia</td>\n      <td>Quermian</td>\n    </tr>\n    <tr>\n      <th>23</th>\n      <td>Plo Koon</td>\n      <td>188.0</td>\n      <td>80.0</td>\n      <td>none</td>\n      <td>orange</td>\n      <td>black</td>\n      <td>22.0</td>\n      <td>male</td>\n      <td>masculine</td>\n      <td>Dorin</td>\n      <td>Kel Dor</td>\n    </tr>\n    <tr>\n      <th>24</th>\n      <td>Mas Amedda</td>\n      <td>196.0</td>\n      <td>NaN</td>\n      <td>none</td>\n      <td>blue</td>\n      <td>blue</td>\n      <td>NaN</td>\n      <td>male</td>\n      <td>masculine</td>\n      <td>Champala</td>\n      <td>Chagrian</td>\n    </tr>\n    <tr>\n      <th>25</th>\n      <td>Poggle the Lesser</td>\n      <td>183.0</td>\n      <td>80.0</td>\n      <td>none</td>\n      <td>green</td>\n      <td>yellow</td>\n      <td>NaN</td>\n      <td>male</td>\n      <td>masculine</td>\n      <td>Geonosis</td>\n      <td>Geonosian</td>\n    </tr>\n    <tr>\n      <th>26</th>\n      <td>Dexter Jettster</td>\n      <td>198.0</td>\n      <td>102.0</td>\n      <td>none</td>\n      <td>brown</td>\n      <td>yellow</td>\n      <td>NaN</td>\n      <td>male</td>\n      <td>masculine</td>\n      <td>Ojom</td>\n      <td>Besalisk</td>\n    </tr>\n    <tr>\n      <th>27</th>\n      <td>Lama Su</td>\n      <td>229.0</td>\n      <td>88.0</td>\n      <td>none</td>\n      <td>grey</td>\n      <td>black</td>\n      <td>NaN</td>\n      <td>male</td>\n      <td>masculine</td>\n      <td>Kamino</td>\n      <td>Kaminoan</td>\n    </tr>\n    <tr>\n      <th>28</th>\n      <td>Taun We</td>\n      <td>213.0</td>\n      <td>NaN</td>\n      <td>none</td>\n      <td>grey</td>\n      <td>black</td>\n      <td>NaN</td>\n      <td>female</td>\n      <td>feminine</td>\n      <td>Kamino</td>\n      <td>Kaminoan</td>\n    </tr>\n    <tr>\n      <th>29</th>\n      <td>Ratts Tyerell</td>\n      <td>79.0</td>\n      <td>15.0</td>\n      <td>none</td>\n      <td>grey, blue</td>\n      <td>unknown</td>\n      <td>NaN</td>\n      <td>male</td>\n      <td>masculine</td>\n      <td>Aleen Minor</td>\n      <td>Aleena</td>\n    </tr>\n    <tr>\n      <th>30</th>\n      <td>R4-P17</td>\n      <td>96.0</td>\n      <td>NaN</td>\n      <td>none</td>\n      <td>silver, red</td>\n      <td>red, blue</td>\n      <td>NaN</td>\n      <td>none</td>\n      <td>feminine</td>\n      <td>NaN</td>\n      <td>Droid</td>\n    </tr>\n    <tr>\n      <th>31</th>\n      <td>Wat Tambor</td>\n      <td>193.0</td>\n      <td>48.0</td>\n      <td>none</td>\n      <td>green, grey</td>\n      <td>unknown</td>\n      <td>NaN</td>\n      <td>male</td>\n      <td>masculine</td>\n      <td>Skako</td>\n      <td>Skakoan</td>\n    </tr>\n    <tr>\n      <th>32</th>\n      <td>San Hill</td>\n      <td>191.0</td>\n      <td>NaN</td>\n      <td>none</td>\n      <td>grey</td>\n      <td>gold</td>\n      <td>NaN</td>\n      <td>male</td>\n      <td>masculine</td>\n      <td>Muunilinst</td>\n      <td>Muun</td>\n    </tr>\n    <tr>\n      <th>33</th>\n      <td>Shaak Ti</td>\n      <td>178.0</td>\n      <td>57.0</td>\n      <td>none</td>\n      <td>red, blue, white</td>\n      <td>black</td>\n      <td>NaN</td>\n      <td>female</td>\n      <td>feminine</td>\n      <td>Shili</td>\n      <td>Togruta</td>\n    </tr>\n    <tr>\n      <th>34</th>\n      <td>Grievous</td>\n      <td>216.0</td>\n      <td>159.0</td>\n      <td>none</td>\n      <td>brown, white</td>\n      <td>green, yellow</td>\n      <td>NaN</td>\n      <td>male</td>\n      <td>masculine</td>\n      <td>Kalee</td>\n      <td>Kaleesh</td>\n    </tr>\n    <tr>\n      <th>35</th>\n      <td>Sly Moore</td>\n      <td>178.0</td>\n      <td>48.0</td>\n      <td>none</td>\n      <td>pale</td>\n      <td>white</td>\n      <td>NaN</td>\n      <td>NaN</td>\n      <td>NaN</td>\n      <td>Umbara</td>\n      <td>NaN</td>\n    </tr>\n    <tr>\n      <th>36</th>\n      <td>Tion Medon</td>\n      <td>206.0</td>\n      <td>80.0</td>\n      <td>none</td>\n      <td>grey</td>\n      <td>black</td>\n      <td>NaN</td>\n      <td>male</td>\n      <td>masculine</td>\n      <td>Utapau</td>\n      <td>Pau'an</td>\n    </tr>\n    <tr>\n      <th>37</th>\n      <td>BB8</td>\n      <td>NaN</td>\n      <td>NaN</td>\n      <td>none</td>\n      <td>none</td>\n      <td>black</td>\n      <td>NaN</td>\n      <td>none</td>\n      <td>masculine</td>\n      <td>NaN</td>\n      <td>Droid</td>\n    </tr>\n  </tbody>\n</table>\n</div>"
     },
     "metadata": {},
     "execution_count": 6
    }
   ],
   "source": [
    "filter(starwars, (f.hair_color == \"none\") | (f.eye_color == \"black\"))"
   ]
  },
  {
   "cell_type": "code",
   "execution_count": 7,
   "metadata": {},
   "outputs": [
    {
     "output_type": "execute_result",
     "data": {
      "text/plain": [
       "         name  height  mass hair_color        skin_color eye_color  \\\n",
       "0   Nien Nunb   160.0  68.0       none              grey     black   \n",
       "1     Gasgano   122.0   NaN       none       white, blue     black   \n",
       "2   Kit Fisto   196.0  87.0       none             green     black   \n",
       "3    Plo Koon   188.0  80.0       none            orange     black   \n",
       "4     Lama Su   229.0  88.0       none              grey     black   \n",
       "5     Taun We   213.0   NaN       none              grey     black   \n",
       "6    Shaak Ti   178.0  57.0       none  red, blue, white     black   \n",
       "7  Tion Medon   206.0  80.0       none              grey     black   \n",
       "8         BB8     NaN   NaN       none              none     black   \n",
       "\n",
       "   birth_year     sex     gender    homeworld    species  \n",
       "0         NaN    male  masculine      Sullust  Sullustan  \n",
       "1         NaN    male  masculine      Troiken      Xexto  \n",
       "2         NaN    male  masculine  Glee Anselm   Nautolan  \n",
       "3        22.0    male  masculine        Dorin    Kel Dor  \n",
       "4         NaN    male  masculine       Kamino   Kaminoan  \n",
       "5         NaN  female   feminine       Kamino   Kaminoan  \n",
       "6         NaN  female   feminine        Shili    Togruta  \n",
       "7         NaN    male  masculine       Utapau     Pau'an  \n",
       "8         NaN    none  masculine          NaN      Droid  "
      ],
      "text/html": "<div>\n<style scoped>\n    .dataframe tbody tr th:only-of-type {\n        vertical-align: middle;\n    }\n\n    .dataframe tbody tr th {\n        vertical-align: top;\n    }\n\n    .dataframe thead th {\n        text-align: right;\n    }\n</style>\n<table border=\"1\" class=\"dataframe\">\n  <thead>\n    <tr style=\"text-align: right;\">\n      <th></th>\n      <th>name</th>\n      <th>height</th>\n      <th>mass</th>\n      <th>hair_color</th>\n      <th>skin_color</th>\n      <th>eye_color</th>\n      <th>birth_year</th>\n      <th>sex</th>\n      <th>gender</th>\n      <th>homeworld</th>\n      <th>species</th>\n    </tr>\n  </thead>\n  <tbody>\n    <tr>\n      <th>0</th>\n      <td>Nien Nunb</td>\n      <td>160.0</td>\n      <td>68.0</td>\n      <td>none</td>\n      <td>grey</td>\n      <td>black</td>\n      <td>NaN</td>\n      <td>male</td>\n      <td>masculine</td>\n      <td>Sullust</td>\n      <td>Sullustan</td>\n    </tr>\n    <tr>\n      <th>1</th>\n      <td>Gasgano</td>\n      <td>122.0</td>\n      <td>NaN</td>\n      <td>none</td>\n      <td>white, blue</td>\n      <td>black</td>\n      <td>NaN</td>\n      <td>male</td>\n      <td>masculine</td>\n      <td>Troiken</td>\n      <td>Xexto</td>\n    </tr>\n    <tr>\n      <th>2</th>\n      <td>Kit Fisto</td>\n      <td>196.0</td>\n      <td>87.0</td>\n      <td>none</td>\n      <td>green</td>\n      <td>black</td>\n      <td>NaN</td>\n      <td>male</td>\n      <td>masculine</td>\n      <td>Glee Anselm</td>\n      <td>Nautolan</td>\n    </tr>\n    <tr>\n      <th>3</th>\n      <td>Plo Koon</td>\n      <td>188.0</td>\n      <td>80.0</td>\n      <td>none</td>\n      <td>orange</td>\n      <td>black</td>\n      <td>22.0</td>\n      <td>male</td>\n      <td>masculine</td>\n      <td>Dorin</td>\n      <td>Kel Dor</td>\n    </tr>\n    <tr>\n      <th>4</th>\n      <td>Lama Su</td>\n      <td>229.0</td>\n      <td>88.0</td>\n      <td>none</td>\n      <td>grey</td>\n      <td>black</td>\n      <td>NaN</td>\n      <td>male</td>\n      <td>masculine</td>\n      <td>Kamino</td>\n      <td>Kaminoan</td>\n    </tr>\n    <tr>\n      <th>5</th>\n      <td>Taun We</td>\n      <td>213.0</td>\n      <td>NaN</td>\n      <td>none</td>\n      <td>grey</td>\n      <td>black</td>\n      <td>NaN</td>\n      <td>female</td>\n      <td>feminine</td>\n      <td>Kamino</td>\n      <td>Kaminoan</td>\n    </tr>\n    <tr>\n      <th>6</th>\n      <td>Shaak Ti</td>\n      <td>178.0</td>\n      <td>57.0</td>\n      <td>none</td>\n      <td>red, blue, white</td>\n      <td>black</td>\n      <td>NaN</td>\n      <td>female</td>\n      <td>feminine</td>\n      <td>Shili</td>\n      <td>Togruta</td>\n    </tr>\n    <tr>\n      <th>7</th>\n      <td>Tion Medon</td>\n      <td>206.0</td>\n      <td>80.0</td>\n      <td>none</td>\n      <td>grey</td>\n      <td>black</td>\n      <td>NaN</td>\n      <td>male</td>\n      <td>masculine</td>\n      <td>Utapau</td>\n      <td>Pau'an</td>\n    </tr>\n    <tr>\n      <th>8</th>\n      <td>BB8</td>\n      <td>NaN</td>\n      <td>NaN</td>\n      <td>none</td>\n      <td>none</td>\n      <td>black</td>\n      <td>NaN</td>\n      <td>none</td>\n      <td>masculine</td>\n      <td>NaN</td>\n      <td>Droid</td>\n    </tr>\n  </tbody>\n</table>\n</div>"
     },
     "metadata": {},
     "execution_count": 7
    }
   ],
   "source": [
    "filter(starwars, f.hair_color == \"none\", f.eye_color == \"black\")"
   ]
  },
  {
   "cell_type": "code",
   "execution_count": 8,
   "metadata": {},
   "outputs": [
    {
     "output_type": "execute_result",
     "data": {
      "text/plain": [
       "                    name  height    mass   hair_color        skin_color  \\\n",
       "0            Darth Vader   202.0   136.0         none             white   \n",
       "1              Owen Lars   178.0   120.0  brown, grey             light   \n",
       "2              Chewbacca   228.0   112.0        brown           unknown   \n",
       "3  Jabba Desilijic Tiure   175.0  1358.0          NaN  green-tan, brown   \n",
       "4       Jek Tono Porkins   180.0   110.0        brown              fair   \n",
       "5                  IG-88   200.0   140.0         none             metal   \n",
       "6                  Bossk   190.0   113.0         none             green   \n",
       "7        Dexter Jettster   198.0   102.0         none             brown   \n",
       "8               Grievous   216.0   159.0         none      brown, white   \n",
       "9                Tarfful   234.0   136.0        brown             brown   \n",
       "\n",
       "       eye_color  birth_year             sex     gender   homeworld  \\\n",
       "0         yellow        41.9            male  masculine    Tatooine   \n",
       "1           blue        52.0            male  masculine    Tatooine   \n",
       "2           blue       200.0            male  masculine    Kashyyyk   \n",
       "3         orange       600.0  hermaphroditic  masculine   Nal Hutta   \n",
       "4           blue         NaN            male  masculine  Bestine IV   \n",
       "5            red        15.0            none  masculine         NaN   \n",
       "6            red        53.0            male  masculine   Trandosha   \n",
       "7         yellow         NaN            male  masculine        Ojom   \n",
       "8  green, yellow         NaN            male  masculine       Kalee   \n",
       "9           blue         NaN            male  masculine    Kashyyyk   \n",
       "\n",
       "      species  \n",
       "0       Human  \n",
       "1       Human  \n",
       "2     Wookiee  \n",
       "3        Hutt  \n",
       "4       Human  \n",
       "5       Droid  \n",
       "6  Trandoshan  \n",
       "7    Besalisk  \n",
       "8     Kaleesh  \n",
       "9     Wookiee  "
      ],
      "text/html": "<div>\n<style scoped>\n    .dataframe tbody tr th:only-of-type {\n        vertical-align: middle;\n    }\n\n    .dataframe tbody tr th {\n        vertical-align: top;\n    }\n\n    .dataframe thead th {\n        text-align: right;\n    }\n</style>\n<table border=\"1\" class=\"dataframe\">\n  <thead>\n    <tr style=\"text-align: right;\">\n      <th></th>\n      <th>name</th>\n      <th>height</th>\n      <th>mass</th>\n      <th>hair_color</th>\n      <th>skin_color</th>\n      <th>eye_color</th>\n      <th>birth_year</th>\n      <th>sex</th>\n      <th>gender</th>\n      <th>homeworld</th>\n      <th>species</th>\n    </tr>\n  </thead>\n  <tbody>\n    <tr>\n      <th>0</th>\n      <td>Darth Vader</td>\n      <td>202.0</td>\n      <td>136.0</td>\n      <td>none</td>\n      <td>white</td>\n      <td>yellow</td>\n      <td>41.9</td>\n      <td>male</td>\n      <td>masculine</td>\n      <td>Tatooine</td>\n      <td>Human</td>\n    </tr>\n    <tr>\n      <th>1</th>\n      <td>Owen Lars</td>\n      <td>178.0</td>\n      <td>120.0</td>\n      <td>brown, grey</td>\n      <td>light</td>\n      <td>blue</td>\n      <td>52.0</td>\n      <td>male</td>\n      <td>masculine</td>\n      <td>Tatooine</td>\n      <td>Human</td>\n    </tr>\n    <tr>\n      <th>2</th>\n      <td>Chewbacca</td>\n      <td>228.0</td>\n      <td>112.0</td>\n      <td>brown</td>\n      <td>unknown</td>\n      <td>blue</td>\n      <td>200.0</td>\n      <td>male</td>\n      <td>masculine</td>\n      <td>Kashyyyk</td>\n      <td>Wookiee</td>\n    </tr>\n    <tr>\n      <th>3</th>\n      <td>Jabba Desilijic Tiure</td>\n      <td>175.0</td>\n      <td>1358.0</td>\n      <td>NaN</td>\n      <td>green-tan, brown</td>\n      <td>orange</td>\n      <td>600.0</td>\n      <td>hermaphroditic</td>\n      <td>masculine</td>\n      <td>Nal Hutta</td>\n      <td>Hutt</td>\n    </tr>\n    <tr>\n      <th>4</th>\n      <td>Jek Tono Porkins</td>\n      <td>180.0</td>\n      <td>110.0</td>\n      <td>brown</td>\n      <td>fair</td>\n      <td>blue</td>\n      <td>NaN</td>\n      <td>male</td>\n      <td>masculine</td>\n      <td>Bestine IV</td>\n      <td>Human</td>\n    </tr>\n    <tr>\n      <th>5</th>\n      <td>IG-88</td>\n      <td>200.0</td>\n      <td>140.0</td>\n      <td>none</td>\n      <td>metal</td>\n      <td>red</td>\n      <td>15.0</td>\n      <td>none</td>\n      <td>masculine</td>\n      <td>NaN</td>\n      <td>Droid</td>\n    </tr>\n    <tr>\n      <th>6</th>\n      <td>Bossk</td>\n      <td>190.0</td>\n      <td>113.0</td>\n      <td>none</td>\n      <td>green</td>\n      <td>red</td>\n      <td>53.0</td>\n      <td>male</td>\n      <td>masculine</td>\n      <td>Trandosha</td>\n      <td>Trandoshan</td>\n    </tr>\n    <tr>\n      <th>7</th>\n      <td>Dexter Jettster</td>\n      <td>198.0</td>\n      <td>102.0</td>\n      <td>none</td>\n      <td>brown</td>\n      <td>yellow</td>\n      <td>NaN</td>\n      <td>male</td>\n      <td>masculine</td>\n      <td>Ojom</td>\n      <td>Besalisk</td>\n    </tr>\n    <tr>\n      <th>8</th>\n      <td>Grievous</td>\n      <td>216.0</td>\n      <td>159.0</td>\n      <td>none</td>\n      <td>brown, white</td>\n      <td>green, yellow</td>\n      <td>NaN</td>\n      <td>male</td>\n      <td>masculine</td>\n      <td>Kalee</td>\n      <td>Kaleesh</td>\n    </tr>\n    <tr>\n      <th>9</th>\n      <td>Tarfful</td>\n      <td>234.0</td>\n      <td>136.0</td>\n      <td>brown</td>\n      <td>brown</td>\n      <td>blue</td>\n      <td>NaN</td>\n      <td>male</td>\n      <td>masculine</td>\n      <td>Kashyyyk</td>\n      <td>Wookiee</td>\n    </tr>\n  </tbody>\n</table>\n</div>"
     },
     "metadata": {},
     "execution_count": 8
    }
   ],
   "source": [
    "starwars >> filter(f.mass > mean(f.mass, na_rm=True))"
   ]
  },
  {
   "cell_type": "code",
   "execution_count": 9,
   "metadata": {},
   "outputs": [
    {
     "output_type": "execute_result",
     "data": {
      "text/plain": [
       "                     name  height    mass   hair_color           skin_color  \\\n",
       "0             Darth Vader   202.0   136.0         none                white   \n",
       "1               Owen Lars   178.0   120.0  brown, grey                light   \n",
       "2      Beru Whitesun lars   165.0    75.0        brown                light   \n",
       "3               Chewbacca   228.0   112.0        brown              unknown   \n",
       "4   Jabba Desilijic Tiure   175.0  1358.0          NaN     green-tan, brown   \n",
       "5        Jek Tono Porkins   180.0   110.0        brown                 fair   \n",
       "6                   IG-88   200.0   140.0         none                metal   \n",
       "7                   Bossk   190.0   113.0         none                green   \n",
       "8             Ayla Secura   178.0    55.0         none                 blue   \n",
       "9         Luminara Unduli   170.0    56.2        black               yellow   \n",
       "10             Zam Wesell   168.0    55.0       blonde  fair, green, yellow   \n",
       "11               Shaak Ti   178.0    57.0         none     red, blue, white   \n",
       "12               Grievous   216.0   159.0         none         brown, white   \n",
       "13                Tarfful   234.0   136.0        brown                brown   \n",
       "\n",
       "        eye_color  birth_year             sex     gender   homeworld  \\\n",
       "0          yellow        41.9            male  masculine    Tatooine   \n",
       "1            blue        52.0            male  masculine    Tatooine   \n",
       "2            blue        47.0          female   feminine    Tatooine   \n",
       "3            blue       200.0            male  masculine    Kashyyyk   \n",
       "4          orange       600.0  hermaphroditic  masculine   Nal Hutta   \n",
       "5            blue         NaN            male  masculine  Bestine IV   \n",
       "6             red        15.0            none  masculine         NaN   \n",
       "7             red        53.0            male  masculine   Trandosha   \n",
       "8           hazel        48.0          female   feminine      Ryloth   \n",
       "9            blue        58.0          female   feminine      Mirial   \n",
       "10         yellow         NaN          female   feminine       Zolan   \n",
       "11          black         NaN          female   feminine       Shili   \n",
       "12  green, yellow         NaN            male  masculine       Kalee   \n",
       "13           blue         NaN            male  masculine    Kashyyyk   \n",
       "\n",
       "       species  \n",
       "0        Human  \n",
       "1        Human  \n",
       "2        Human  \n",
       "3      Wookiee  \n",
       "4         Hutt  \n",
       "5        Human  \n",
       "6        Droid  \n",
       "7   Trandoshan  \n",
       "8      Twi'lek  \n",
       "9     Mirialan  \n",
       "10    Clawdite  \n",
       "11     Togruta  \n",
       "12     Kaleesh  \n",
       "13     Wookiee  \n",
       "[Groups: ['gender'] (n=2)]"
      ],
      "text/html": "<div>\n<style scoped>\n    .dataframe tbody tr th:only-of-type {\n        vertical-align: middle;\n    }\n\n    .dataframe tbody tr th {\n        vertical-align: top;\n    }\n\n    .dataframe thead th {\n        text-align: right;\n    }\n</style>\n<table border=\"1\" class=\"dataframe\">\n  <thead>\n    <tr style=\"text-align: right;\">\n      <th></th>\n      <th>name</th>\n      <th>height</th>\n      <th>mass</th>\n      <th>hair_color</th>\n      <th>skin_color</th>\n      <th>eye_color</th>\n      <th>birth_year</th>\n      <th>sex</th>\n      <th>gender</th>\n      <th>homeworld</th>\n      <th>species</th>\n    </tr>\n  </thead>\n  <tbody>\n    <tr>\n      <th>0</th>\n      <td>Darth Vader</td>\n      <td>202.0</td>\n      <td>136.0</td>\n      <td>none</td>\n      <td>white</td>\n      <td>yellow</td>\n      <td>41.9</td>\n      <td>male</td>\n      <td>masculine</td>\n      <td>Tatooine</td>\n      <td>Human</td>\n    </tr>\n    <tr>\n      <th>1</th>\n      <td>Owen Lars</td>\n      <td>178.0</td>\n      <td>120.0</td>\n      <td>brown, grey</td>\n      <td>light</td>\n      <td>blue</td>\n      <td>52.0</td>\n      <td>male</td>\n      <td>masculine</td>\n      <td>Tatooine</td>\n      <td>Human</td>\n    </tr>\n    <tr>\n      <th>2</th>\n      <td>Beru Whitesun lars</td>\n      <td>165.0</td>\n      <td>75.0</td>\n      <td>brown</td>\n      <td>light</td>\n      <td>blue</td>\n      <td>47.0</td>\n      <td>female</td>\n      <td>feminine</td>\n      <td>Tatooine</td>\n      <td>Human</td>\n    </tr>\n    <tr>\n      <th>3</th>\n      <td>Chewbacca</td>\n      <td>228.0</td>\n      <td>112.0</td>\n      <td>brown</td>\n      <td>unknown</td>\n      <td>blue</td>\n      <td>200.0</td>\n      <td>male</td>\n      <td>masculine</td>\n      <td>Kashyyyk</td>\n      <td>Wookiee</td>\n    </tr>\n    <tr>\n      <th>4</th>\n      <td>Jabba Desilijic Tiure</td>\n      <td>175.0</td>\n      <td>1358.0</td>\n      <td>NaN</td>\n      <td>green-tan, brown</td>\n      <td>orange</td>\n      <td>600.0</td>\n      <td>hermaphroditic</td>\n      <td>masculine</td>\n      <td>Nal Hutta</td>\n      <td>Hutt</td>\n    </tr>\n    <tr>\n      <th>5</th>\n      <td>Jek Tono Porkins</td>\n      <td>180.0</td>\n      <td>110.0</td>\n      <td>brown</td>\n      <td>fair</td>\n      <td>blue</td>\n      <td>NaN</td>\n      <td>male</td>\n      <td>masculine</td>\n      <td>Bestine IV</td>\n      <td>Human</td>\n    </tr>\n    <tr>\n      <th>6</th>\n      <td>IG-88</td>\n      <td>200.0</td>\n      <td>140.0</td>\n      <td>none</td>\n      <td>metal</td>\n      <td>red</td>\n      <td>15.0</td>\n      <td>none</td>\n      <td>masculine</td>\n      <td>NaN</td>\n      <td>Droid</td>\n    </tr>\n    <tr>\n      <th>7</th>\n      <td>Bossk</td>\n      <td>190.0</td>\n      <td>113.0</td>\n      <td>none</td>\n      <td>green</td>\n      <td>red</td>\n      <td>53.0</td>\n      <td>male</td>\n      <td>masculine</td>\n      <td>Trandosha</td>\n      <td>Trandoshan</td>\n    </tr>\n    <tr>\n      <th>8</th>\n      <td>Ayla Secura</td>\n      <td>178.0</td>\n      <td>55.0</td>\n      <td>none</td>\n      <td>blue</td>\n      <td>hazel</td>\n      <td>48.0</td>\n      <td>female</td>\n      <td>feminine</td>\n      <td>Ryloth</td>\n      <td>Twi'lek</td>\n    </tr>\n    <tr>\n      <th>9</th>\n      <td>Luminara Unduli</td>\n      <td>170.0</td>\n      <td>56.2</td>\n      <td>black</td>\n      <td>yellow</td>\n      <td>blue</td>\n      <td>58.0</td>\n      <td>female</td>\n      <td>feminine</td>\n      <td>Mirial</td>\n      <td>Mirialan</td>\n    </tr>\n    <tr>\n      <th>10</th>\n      <td>Zam Wesell</td>\n      <td>168.0</td>\n      <td>55.0</td>\n      <td>blonde</td>\n      <td>fair, green, yellow</td>\n      <td>yellow</td>\n      <td>NaN</td>\n      <td>female</td>\n      <td>feminine</td>\n      <td>Zolan</td>\n      <td>Clawdite</td>\n    </tr>\n    <tr>\n      <th>11</th>\n      <td>Shaak Ti</td>\n      <td>178.0</td>\n      <td>57.0</td>\n      <td>none</td>\n      <td>red, blue, white</td>\n      <td>black</td>\n      <td>NaN</td>\n      <td>female</td>\n      <td>feminine</td>\n      <td>Shili</td>\n      <td>Togruta</td>\n    </tr>\n    <tr>\n      <th>12</th>\n      <td>Grievous</td>\n      <td>216.0</td>\n      <td>159.0</td>\n      <td>none</td>\n      <td>brown, white</td>\n      <td>green, yellow</td>\n      <td>NaN</td>\n      <td>male</td>\n      <td>masculine</td>\n      <td>Kalee</td>\n      <td>Kaleesh</td>\n    </tr>\n    <tr>\n      <th>13</th>\n      <td>Tarfful</td>\n      <td>234.0</td>\n      <td>136.0</td>\n      <td>brown</td>\n      <td>brown</td>\n      <td>blue</td>\n      <td>NaN</td>\n      <td>male</td>\n      <td>masculine</td>\n      <td>Kashyyyk</td>\n      <td>Wookiee</td>\n    </tr>\n  </tbody>\n</table>\n</div>[Groups: ['gender'] (n=2)]"
     },
     "metadata": {},
     "execution_count": 9
    }
   ],
   "source": [
    "starwars >> group_by(f.gender) >> filter(f.mass > mean(f.mass, na_rm=True))"
   ]
  },
  {
   "cell_type": "code",
   "execution_count": 10,
   "metadata": {},
   "outputs": [
    {
     "output_type": "execute_result",
     "data": {
      "text/plain": [
       "                     name  height    mass   hair_color        skin_color  \\\n",
       "0             Darth Vader   202.0   136.0         none             white   \n",
       "1               Owen Lars   178.0   120.0  brown, grey             light   \n",
       "2       Biggs Darklighter   183.0    84.0        black             light   \n",
       "3        Anakin Skywalker   188.0    84.0        blond              fair   \n",
       "4               Chewbacca   228.0   112.0        brown           unknown   \n",
       "5   Jabba Desilijic Tiure   175.0  1358.0          NaN  green-tan, brown   \n",
       "6        Jek Tono Porkins   180.0   110.0        brown              fair   \n",
       "7                   IG-88   200.0   140.0         none             metal   \n",
       "8                   Bossk   190.0   113.0         none             green   \n",
       "9                  Ackbar   180.0    83.0         none      brown mottle   \n",
       "10           Qui-Gon Jinn   193.0    89.0        brown              fair   \n",
       "11            Nute Gunray   191.0    90.0         none     mottled green   \n",
       "12           Roos Tarpals   224.0    82.0         none              grey   \n",
       "13             Mace Windu   188.0    84.0         none              dark   \n",
       "14           Ki-Adi-Mundi   198.0    82.0        white              pale   \n",
       "15              Kit Fisto   196.0    87.0         none             green   \n",
       "16           Gregar Typho   185.0    85.0        black              dark   \n",
       "17        Dexter Jettster   198.0   102.0         none             brown   \n",
       "18                Lama Su   229.0    88.0         none              grey   \n",
       "19               Grievous   216.0   159.0         none      brown, white   \n",
       "20                Tarfful   234.0   136.0        brown             brown   \n",
       "\n",
       "        eye_color  birth_year             sex     gender       homeworld  \\\n",
       "0          yellow        41.9            male  masculine        Tatooine   \n",
       "1            blue        52.0            male  masculine        Tatooine   \n",
       "2           brown        24.0            male  masculine        Tatooine   \n",
       "3            blue        41.9            male  masculine        Tatooine   \n",
       "4            blue       200.0            male  masculine        Kashyyyk   \n",
       "5          orange       600.0  hermaphroditic  masculine       Nal Hutta   \n",
       "6            blue         NaN            male  masculine      Bestine IV   \n",
       "7             red        15.0            none  masculine             NaN   \n",
       "8             red        53.0            male  masculine       Trandosha   \n",
       "9          orange        41.0            male  masculine        Mon Cala   \n",
       "10           blue        92.0            male  masculine             NaN   \n",
       "11            red         NaN            male  masculine  Cato Neimoidia   \n",
       "12         orange         NaN            male  masculine           Naboo   \n",
       "13          brown        72.0            male  masculine      Haruun Kal   \n",
       "14         yellow        92.0            male  masculine           Cerea   \n",
       "15          black         NaN            male  masculine     Glee Anselm   \n",
       "16          brown         NaN            male  masculine           Naboo   \n",
       "17         yellow         NaN            male  masculine            Ojom   \n",
       "18          black         NaN            male  masculine          Kamino   \n",
       "19  green, yellow         NaN            male  masculine           Kalee   \n",
       "20           blue         NaN            male  masculine        Kashyyyk   \n",
       "\n",
       "         species  \n",
       "0          Human  \n",
       "1          Human  \n",
       "2          Human  \n",
       "3          Human  \n",
       "4        Wookiee  \n",
       "5           Hutt  \n",
       "6          Human  \n",
       "7          Droid  \n",
       "8     Trandoshan  \n",
       "9   Mon Calamari  \n",
       "10         Human  \n",
       "11     Neimodian  \n",
       "12        Gungan  \n",
       "13         Human  \n",
       "14        Cerean  \n",
       "15      Nautolan  \n",
       "16         Human  \n",
       "17      Besalisk  \n",
       "18      Kaminoan  \n",
       "19       Kaleesh  \n",
       "20       Wookiee  "
      ],
      "text/html": "<div>\n<style scoped>\n    .dataframe tbody tr th:only-of-type {\n        vertical-align: middle;\n    }\n\n    .dataframe tbody tr th {\n        vertical-align: top;\n    }\n\n    .dataframe thead th {\n        text-align: right;\n    }\n</style>\n<table border=\"1\" class=\"dataframe\">\n  <thead>\n    <tr style=\"text-align: right;\">\n      <th></th>\n      <th>name</th>\n      <th>height</th>\n      <th>mass</th>\n      <th>hair_color</th>\n      <th>skin_color</th>\n      <th>eye_color</th>\n      <th>birth_year</th>\n      <th>sex</th>\n      <th>gender</th>\n      <th>homeworld</th>\n      <th>species</th>\n    </tr>\n  </thead>\n  <tbody>\n    <tr>\n      <th>0</th>\n      <td>Darth Vader</td>\n      <td>202.0</td>\n      <td>136.0</td>\n      <td>none</td>\n      <td>white</td>\n      <td>yellow</td>\n      <td>41.9</td>\n      <td>male</td>\n      <td>masculine</td>\n      <td>Tatooine</td>\n      <td>Human</td>\n    </tr>\n    <tr>\n      <th>1</th>\n      <td>Owen Lars</td>\n      <td>178.0</td>\n      <td>120.0</td>\n      <td>brown, grey</td>\n      <td>light</td>\n      <td>blue</td>\n      <td>52.0</td>\n      <td>male</td>\n      <td>masculine</td>\n      <td>Tatooine</td>\n      <td>Human</td>\n    </tr>\n    <tr>\n      <th>2</th>\n      <td>Biggs Darklighter</td>\n      <td>183.0</td>\n      <td>84.0</td>\n      <td>black</td>\n      <td>light</td>\n      <td>brown</td>\n      <td>24.0</td>\n      <td>male</td>\n      <td>masculine</td>\n      <td>Tatooine</td>\n      <td>Human</td>\n    </tr>\n    <tr>\n      <th>3</th>\n      <td>Anakin Skywalker</td>\n      <td>188.0</td>\n      <td>84.0</td>\n      <td>blond</td>\n      <td>fair</td>\n      <td>blue</td>\n      <td>41.9</td>\n      <td>male</td>\n      <td>masculine</td>\n      <td>Tatooine</td>\n      <td>Human</td>\n    </tr>\n    <tr>\n      <th>4</th>\n      <td>Chewbacca</td>\n      <td>228.0</td>\n      <td>112.0</td>\n      <td>brown</td>\n      <td>unknown</td>\n      <td>blue</td>\n      <td>200.0</td>\n      <td>male</td>\n      <td>masculine</td>\n      <td>Kashyyyk</td>\n      <td>Wookiee</td>\n    </tr>\n    <tr>\n      <th>5</th>\n      <td>Jabba Desilijic Tiure</td>\n      <td>175.0</td>\n      <td>1358.0</td>\n      <td>NaN</td>\n      <td>green-tan, brown</td>\n      <td>orange</td>\n      <td>600.0</td>\n      <td>hermaphroditic</td>\n      <td>masculine</td>\n      <td>Nal Hutta</td>\n      <td>Hutt</td>\n    </tr>\n    <tr>\n      <th>6</th>\n      <td>Jek Tono Porkins</td>\n      <td>180.0</td>\n      <td>110.0</td>\n      <td>brown</td>\n      <td>fair</td>\n      <td>blue</td>\n      <td>NaN</td>\n      <td>male</td>\n      <td>masculine</td>\n      <td>Bestine IV</td>\n      <td>Human</td>\n    </tr>\n    <tr>\n      <th>7</th>\n      <td>IG-88</td>\n      <td>200.0</td>\n      <td>140.0</td>\n      <td>none</td>\n      <td>metal</td>\n      <td>red</td>\n      <td>15.0</td>\n      <td>none</td>\n      <td>masculine</td>\n      <td>NaN</td>\n      <td>Droid</td>\n    </tr>\n    <tr>\n      <th>8</th>\n      <td>Bossk</td>\n      <td>190.0</td>\n      <td>113.0</td>\n      <td>none</td>\n      <td>green</td>\n      <td>red</td>\n      <td>53.0</td>\n      <td>male</td>\n      <td>masculine</td>\n      <td>Trandosha</td>\n      <td>Trandoshan</td>\n    </tr>\n    <tr>\n      <th>9</th>\n      <td>Ackbar</td>\n      <td>180.0</td>\n      <td>83.0</td>\n      <td>none</td>\n      <td>brown mottle</td>\n      <td>orange</td>\n      <td>41.0</td>\n      <td>male</td>\n      <td>masculine</td>\n      <td>Mon Cala</td>\n      <td>Mon Calamari</td>\n    </tr>\n    <tr>\n      <th>10</th>\n      <td>Qui-Gon Jinn</td>\n      <td>193.0</td>\n      <td>89.0</td>\n      <td>brown</td>\n      <td>fair</td>\n      <td>blue</td>\n      <td>92.0</td>\n      <td>male</td>\n      <td>masculine</td>\n      <td>NaN</td>\n      <td>Human</td>\n    </tr>\n    <tr>\n      <th>11</th>\n      <td>Nute Gunray</td>\n      <td>191.0</td>\n      <td>90.0</td>\n      <td>none</td>\n      <td>mottled green</td>\n      <td>red</td>\n      <td>NaN</td>\n      <td>male</td>\n      <td>masculine</td>\n      <td>Cato Neimoidia</td>\n      <td>Neimodian</td>\n    </tr>\n    <tr>\n      <th>12</th>\n      <td>Roos Tarpals</td>\n      <td>224.0</td>\n      <td>82.0</td>\n      <td>none</td>\n      <td>grey</td>\n      <td>orange</td>\n      <td>NaN</td>\n      <td>male</td>\n      <td>masculine</td>\n      <td>Naboo</td>\n      <td>Gungan</td>\n    </tr>\n    <tr>\n      <th>13</th>\n      <td>Mace Windu</td>\n      <td>188.0</td>\n      <td>84.0</td>\n      <td>none</td>\n      <td>dark</td>\n      <td>brown</td>\n      <td>72.0</td>\n      <td>male</td>\n      <td>masculine</td>\n      <td>Haruun Kal</td>\n      <td>Human</td>\n    </tr>\n    <tr>\n      <th>14</th>\n      <td>Ki-Adi-Mundi</td>\n      <td>198.0</td>\n      <td>82.0</td>\n      <td>white</td>\n      <td>pale</td>\n      <td>yellow</td>\n      <td>92.0</td>\n      <td>male</td>\n      <td>masculine</td>\n      <td>Cerea</td>\n      <td>Cerean</td>\n    </tr>\n    <tr>\n      <th>15</th>\n      <td>Kit Fisto</td>\n      <td>196.0</td>\n      <td>87.0</td>\n      <td>none</td>\n      <td>green</td>\n      <td>black</td>\n      <td>NaN</td>\n      <td>male</td>\n      <td>masculine</td>\n      <td>Glee Anselm</td>\n      <td>Nautolan</td>\n    </tr>\n    <tr>\n      <th>16</th>\n      <td>Gregar Typho</td>\n      <td>185.0</td>\n      <td>85.0</td>\n      <td>black</td>\n      <td>dark</td>\n      <td>brown</td>\n      <td>NaN</td>\n      <td>male</td>\n      <td>masculine</td>\n      <td>Naboo</td>\n      <td>Human</td>\n    </tr>\n    <tr>\n      <th>17</th>\n      <td>Dexter Jettster</td>\n      <td>198.0</td>\n      <td>102.0</td>\n      <td>none</td>\n      <td>brown</td>\n      <td>yellow</td>\n      <td>NaN</td>\n      <td>male</td>\n      <td>masculine</td>\n      <td>Ojom</td>\n      <td>Besalisk</td>\n    </tr>\n    <tr>\n      <th>18</th>\n      <td>Lama Su</td>\n      <td>229.0</td>\n      <td>88.0</td>\n      <td>none</td>\n      <td>grey</td>\n      <td>black</td>\n      <td>NaN</td>\n      <td>male</td>\n      <td>masculine</td>\n      <td>Kamino</td>\n      <td>Kaminoan</td>\n    </tr>\n    <tr>\n      <th>19</th>\n      <td>Grievous</td>\n      <td>216.0</td>\n      <td>159.0</td>\n      <td>none</td>\n      <td>brown, white</td>\n      <td>green, yellow</td>\n      <td>NaN</td>\n      <td>male</td>\n      <td>masculine</td>\n      <td>Kalee</td>\n      <td>Kaleesh</td>\n    </tr>\n    <tr>\n      <th>20</th>\n      <td>Tarfful</td>\n      <td>234.0</td>\n      <td>136.0</td>\n      <td>brown</td>\n      <td>brown</td>\n      <td>blue</td>\n      <td>NaN</td>\n      <td>male</td>\n      <td>masculine</td>\n      <td>Kashyyyk</td>\n      <td>Wookiee</td>\n    </tr>\n  </tbody>\n</table>\n</div>"
     },
     "metadata": {},
     "execution_count": 10
    }
   ],
   "source": [
    "# To refer to column names that are stored as strings, use `f[...]`:\n",
    "vars = c(\"mass\", \"height\")\n",
    "cond = c(80, 150)\n",
    "starwars >> \\\n",
    "  filter(\n",
    "    f[vars[0]] > cond[0],\n",
    "    f[vars[1]] > cond[1]\n",
    "  )"
   ]
  }
 ]
}