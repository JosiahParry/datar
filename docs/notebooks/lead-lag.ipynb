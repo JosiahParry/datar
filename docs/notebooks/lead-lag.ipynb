{
 "cells": [
  {
   "cell_type": "code",
   "execution_count": 1,
   "id": "framed-grill",
   "metadata": {
    "execution": {
     "iopub.execute_input": "2021-04-17T00:53:24.209875Z",
     "iopub.status.busy": "2021-04-17T00:53:24.208060Z",
     "iopub.status.idle": "2021-04-17T00:53:24.864443Z",
     "shell.execute_reply": "2021-04-17T00:53:24.863991Z"
    }
   },
   "outputs": [
    {
     "output_type": "display_data",
     "data": {
      "text/plain": "<IPython.core.display.HTML object>",
      "text/html": "<div style=\"text-align: right; text-style: italic\">Try this notebook on <a target=\"_blank\" href=\"https://mybinder.org/v2/gh/pwwang/datar/93d069f3ca36711fc811c61dcf60e9fc3d1460a5?filepath=docs%2Fnotebooks%2Flead-lag.ipynb\">binder</a>.</div>"
     },
     "metadata": {}
    },
    {
     "output_type": "display_data",
     "data": {
      "text/plain": "<IPython.core.display.Markdown object>",
      "text/markdown": "### # lead  "
     },
     "metadata": {}
    },
    {
     "output_type": "display_data",
     "data": {
      "text/plain": "<IPython.core.display.Markdown object>",
      "text/markdown": "##### Find next values in a vector\n\n##### Args:\n&emsp;&emsp;`series`: Vector of values  \n&emsp;&emsp;`n`: Positive integer of length 1, giving the number of positions to  \n&emsp;&emsp;&emsp;&emsp;lead or lag by  \n\n&emsp;&emsp;`default`: Value used for non-existent rows.  \n&emsp;&emsp;`order_by`: Override the default ordering to use another vector or column  \n\n##### Returns:\n&emsp;&emsp;Lead or lag values with default values filled to series.  \n"
     },
     "metadata": {}
    },
    {
     "output_type": "display_data",
     "data": {
      "text/plain": "<IPython.core.display.Markdown object>",
      "text/markdown": "### # lag  "
     },
     "metadata": {}
    },
    {
     "output_type": "display_data",
     "data": {
      "text/plain": "<IPython.core.display.Markdown object>",
      "text/markdown": "##### Find previous values in a vector\n\nSee lead()  \n"
     },
     "metadata": {}
    }
   ],
   "source": [
    "# https://dplyr.tidyverse.org/reference/lead-lag.html\n",
    "\n",
    "from datar import f\n",
    "from datar.all import *\n",
    "\n",
    "%run nb_helpers.py\n",
    "nb_header(lead, lag, book='lead-lag')"
   ]
  },
  {
   "cell_type": "code",
   "execution_count": 2,
   "id": "interior-union",
   "metadata": {
    "execution": {
     "iopub.execute_input": "2021-04-17T00:53:24.870904Z",
     "iopub.status.busy": "2021-04-17T00:53:24.870153Z",
     "iopub.status.idle": "2021-04-17T00:53:24.873593Z",
     "shell.execute_reply": "2021-04-17T00:53:24.873050Z"
    }
   },
   "outputs": [
    {
     "output_type": "execute_result",
     "data": {
      "text/plain": [
       "0    NaN\n",
       "1    1.0\n",
       "2    2.0\n",
       "3    3.0\n",
       "4    4.0\n",
       "dtype: float64"
      ]
     },
     "metadata": {},
     "execution_count": 2
    }
   ],
   "source": [
    "x = [1,2,3,4,5]\n",
    "\n",
    "lag(x)"
   ]
  },
  {
   "cell_type": "code",
   "execution_count": 3,
   "id": "adopted-review",
   "metadata": {
    "execution": {
     "iopub.execute_input": "2021-04-17T00:53:24.879079Z",
     "iopub.status.busy": "2021-04-17T00:53:24.878365Z",
     "iopub.status.idle": "2021-04-17T00:53:24.882278Z",
     "shell.execute_reply": "2021-04-17T00:53:24.881867Z"
    }
   },
   "outputs": [
    {
     "output_type": "execute_result",
     "data": {
      "text/plain": [
       "0    2.0\n",
       "1    3.0\n",
       "2    4.0\n",
       "3    5.0\n",
       "4    NaN\n",
       "dtype: float64"
      ]
     },
     "metadata": {},
     "execution_count": 3
    }
   ],
   "source": [
    "lead(x)"
   ]
  },
  {
   "cell_type": "code",
   "execution_count": 4,
   "id": "precious-generator",
   "metadata": {
    "execution": {
     "iopub.execute_input": "2021-04-17T00:53:24.888381Z",
     "iopub.status.busy": "2021-04-17T00:53:24.887852Z",
     "iopub.status.idle": "2021-04-17T00:53:24.933187Z",
     "shell.execute_reply": "2021-04-17T00:53:24.932821Z"
    }
   },
   "outputs": [
    {
     "output_type": "execute_result",
     "data": {
      "text/plain": [
       "   behind  x  ahead\n",
       "0     NaN  1    2.0\n",
       "1     1.0  2    3.0\n",
       "2     2.0  3    4.0\n",
       "3     3.0  4    5.0\n",
       "4     4.0  5    NaN"
      ],
      "text/html": "<div>\n<style scoped>\n    .dataframe tbody tr th:only-of-type {\n        vertical-align: middle;\n    }\n\n    .dataframe tbody tr th {\n        vertical-align: top;\n    }\n\n    .dataframe thead th {\n        text-align: right;\n    }\n</style>\n<table border=\"1\" class=\"dataframe\">\n  <thead>\n    <tr style=\"text-align: right;\">\n      <th></th>\n      <th>behind</th>\n      <th>x</th>\n      <th>ahead</th>\n    </tr>\n  </thead>\n  <tbody>\n    <tr>\n      <th>0</th>\n      <td>NaN</td>\n      <td>1</td>\n      <td>2.0</td>\n    </tr>\n    <tr>\n      <th>1</th>\n      <td>1.0</td>\n      <td>2</td>\n      <td>3.0</td>\n    </tr>\n    <tr>\n      <th>2</th>\n      <td>2.0</td>\n      <td>3</td>\n      <td>4.0</td>\n    </tr>\n    <tr>\n      <th>3</th>\n      <td>3.0</td>\n      <td>4</td>\n      <td>5.0</td>\n    </tr>\n    <tr>\n      <th>4</th>\n      <td>4.0</td>\n      <td>5</td>\n      <td>NaN</td>\n    </tr>\n  </tbody>\n</table>\n</div>"
     },
     "metadata": {},
     "execution_count": 4
    }
   ],
   "source": [
    "tibble(behind=lag(x), x=x, ahead=lead(x))"
   ]
  },
  {
   "cell_type": "code",
   "execution_count": 5,
   "id": "associate-heading",
   "metadata": {
    "execution": {
     "iopub.execute_input": "2021-04-17T00:53:24.938743Z",
     "iopub.status.busy": "2021-04-17T00:53:24.938062Z",
     "iopub.status.idle": "2021-04-17T00:53:24.942309Z",
     "shell.execute_reply": "2021-04-17T00:53:24.941654Z"
    }
   },
   "outputs": [
    {
     "output_type": "execute_result",
     "data": {
      "text/plain": [
       "0    NaN\n",
       "1    1.0\n",
       "2    2.0\n",
       "3    3.0\n",
       "4    4.0\n",
       "dtype: float64"
      ]
     },
     "metadata": {},
     "execution_count": 5
    }
   ],
   "source": [
    "lag(x, n=1)"
   ]
  },
  {
   "cell_type": "code",
   "execution_count": 6,
   "id": "pretty-greeting",
   "metadata": {
    "execution": {
     "iopub.execute_input": "2021-04-17T00:53:24.948856Z",
     "iopub.status.busy": "2021-04-17T00:53:24.948115Z",
     "iopub.status.idle": "2021-04-17T00:53:24.951934Z",
     "shell.execute_reply": "2021-04-17T00:53:24.951412Z"
    }
   },
   "outputs": [
    {
     "output_type": "execute_result",
     "data": {
      "text/plain": [
       "0    NaN\n",
       "1    NaN\n",
       "2    1.0\n",
       "3    2.0\n",
       "4    3.0\n",
       "dtype: float64"
      ]
     },
     "metadata": {},
     "execution_count": 6
    }
   ],
   "source": [
    "lag(x, n=2)"
   ]
  },
  {
   "cell_type": "code",
   "execution_count": 7,
   "id": "excessive-corrections",
   "metadata": {
    "execution": {
     "iopub.execute_input": "2021-04-17T00:53:24.957781Z",
     "iopub.status.busy": "2021-04-17T00:53:24.956990Z",
     "iopub.status.idle": "2021-04-17T00:53:24.960988Z",
     "shell.execute_reply": "2021-04-17T00:53:24.961356Z"
    }
   },
   "outputs": [
    {
     "output_type": "execute_result",
     "data": {
      "text/plain": [
       "0    2.0\n",
       "1    3.0\n",
       "2    4.0\n",
       "3    5.0\n",
       "4    NaN\n",
       "dtype: float64"
      ]
     },
     "metadata": {},
     "execution_count": 7
    }
   ],
   "source": [
    "lead(x, n=1)"
   ]
  },
  {
   "cell_type": "code",
   "execution_count": 8,
   "id": "ambient-auckland",
   "metadata": {
    "execution": {
     "iopub.execute_input": "2021-04-17T00:53:24.966961Z",
     "iopub.status.busy": "2021-04-17T00:53:24.966242Z",
     "iopub.status.idle": "2021-04-17T00:53:24.969851Z",
     "shell.execute_reply": "2021-04-17T00:53:24.970200Z"
    }
   },
   "outputs": [
    {
     "output_type": "execute_result",
     "data": {
      "text/plain": [
       "0    3.0\n",
       "1    4.0\n",
       "2    5.0\n",
       "3    NaN\n",
       "4    NaN\n",
       "dtype: float64"
      ]
     },
     "metadata": {},
     "execution_count": 8
    }
   ],
   "source": [
    "lead(x, n=2)"
   ]
  },
  {
   "cell_type": "code",
   "execution_count": 9,
   "id": "lined-arnold",
   "metadata": {
    "execution": {
     "iopub.execute_input": "2021-04-17T00:53:24.975673Z",
     "iopub.status.busy": "2021-04-17T00:53:24.975062Z",
     "iopub.status.idle": "2021-04-17T00:53:24.978137Z",
     "shell.execute_reply": "2021-04-17T00:53:24.978617Z"
    }
   },
   "outputs": [
    {
     "output_type": "execute_result",
     "data": {
      "text/plain": [
       "0    0\n",
       "1    1\n",
       "2    2\n",
       "3    3\n",
       "4    4\n",
       "dtype: int64"
      ]
     },
     "metadata": {},
     "execution_count": 9
    }
   ],
   "source": [
    "lag(x, default=0)"
   ]
  },
  {
   "cell_type": "code",
   "execution_count": 10,
   "id": "academic-directive",
   "metadata": {
    "execution": {
     "iopub.execute_input": "2021-04-17T00:53:24.983710Z",
     "iopub.status.busy": "2021-04-17T00:53:24.983165Z",
     "iopub.status.idle": "2021-04-17T00:53:24.986092Z",
     "shell.execute_reply": "2021-04-17T00:53:24.985697Z"
    }
   },
   "outputs": [
    {
     "output_type": "execute_result",
     "data": {
      "text/plain": [
       "0    2\n",
       "1    3\n",
       "2    4\n",
       "3    5\n",
       "4    6\n",
       "dtype: int64"
      ]
     },
     "metadata": {},
     "execution_count": 10
    }
   ],
   "source": [
    "lead(x, default=6)"
   ]
  },
  {
   "cell_type": "code",
   "execution_count": 11,
   "id": "responsible-complement",
   "metadata": {
    "execution": {
     "iopub.execute_input": "2021-04-17T00:53:24.990204Z",
     "iopub.status.busy": "2021-04-17T00:53:24.989662Z",
     "iopub.status.idle": "2021-04-17T00:53:25.078297Z",
     "shell.execute_reply": "2021-04-17T00:53:25.078681Z"
    }
   },
   "outputs": [
    {
     "output_type": "execute_result",
     "data": {
      "text/plain": [
       "   year  value  previous_year_value\n",
       "0  2000      0                  1.0\n",
       "1  2001      1                  NaN\n",
       "2  2002      4                 16.0\n",
       "3  2003      9                 25.0\n",
       "4  2004     16                  0.0\n",
       "5  2005     25                  4.0"
      ],
      "text/html": "<div>\n<style scoped>\n    .dataframe tbody tr th:only-of-type {\n        vertical-align: middle;\n    }\n\n    .dataframe tbody tr th {\n        vertical-align: top;\n    }\n\n    .dataframe thead th {\n        text-align: right;\n    }\n</style>\n<table border=\"1\" class=\"dataframe\">\n  <thead>\n    <tr style=\"text-align: right;\">\n      <th></th>\n      <th>year</th>\n      <th>value</th>\n      <th>previous_year_value</th>\n    </tr>\n  </thead>\n  <tbody>\n    <tr>\n      <th>0</th>\n      <td>2000</td>\n      <td>0</td>\n      <td>1.0</td>\n    </tr>\n    <tr>\n      <th>1</th>\n      <td>2001</td>\n      <td>1</td>\n      <td>NaN</td>\n    </tr>\n    <tr>\n      <th>2</th>\n      <td>2002</td>\n      <td>4</td>\n      <td>16.0</td>\n    </tr>\n    <tr>\n      <th>3</th>\n      <td>2003</td>\n      <td>9</td>\n      <td>25.0</td>\n    </tr>\n    <tr>\n      <th>4</th>\n      <td>2004</td>\n      <td>16</td>\n      <td>0.0</td>\n    </tr>\n    <tr>\n      <th>5</th>\n      <td>2005</td>\n      <td>25</td>\n      <td>4.0</td>\n    </tr>\n  </tbody>\n</table>\n</div>"
     },
     "metadata": {},
     "execution_count": 11
    }
   ],
   "source": [
    "scrambled = slice_sample(\n",
    "    tibble(year=[2000, 2001, 2002, 2003, 2004, 2005], \n",
    "           value=[a**2 for a in range(6)]), \n",
    "    prop=1\n",
    ") \n",
    "\n",
    "scrambled >> mutate(previous_year_value = lag(f.value)) >> arrange(f.year)"
   ]
  },
  {
   "cell_type": "code",
   "execution_count": 12,
   "id": "driven-criminal",
   "metadata": {
    "execution": {
     "iopub.execute_input": "2021-04-17T00:53:25.096664Z",
     "iopub.status.busy": "2021-04-17T00:53:25.096086Z",
     "iopub.status.idle": "2021-04-17T00:53:25.099217Z",
     "shell.execute_reply": "2021-04-17T00:53:25.098651Z"
    }
   },
   "outputs": [
    {
     "output_type": "execute_result",
     "data": {
      "text/plain": [
       "   year  value  previous_year_value\n",
       "0  2000      0                  0.0\n",
       "1  2001      1                  NaN\n",
       "2  2002      4                  4.0\n",
       "3  2003      9                 16.0\n",
       "4  2004     16                  1.0\n",
       "5  2005     25                  9.0"
      ],
      "text/html": "<div>\n<style scoped>\n    .dataframe tbody tr th:only-of-type {\n        vertical-align: middle;\n    }\n\n    .dataframe tbody tr th {\n        vertical-align: top;\n    }\n\n    .dataframe thead th {\n        text-align: right;\n    }\n</style>\n<table border=\"1\" class=\"dataframe\">\n  <thead>\n    <tr style=\"text-align: right;\">\n      <th></th>\n      <th>year</th>\n      <th>value</th>\n      <th>previous_year_value</th>\n    </tr>\n  </thead>\n  <tbody>\n    <tr>\n      <th>0</th>\n      <td>2000</td>\n      <td>0</td>\n      <td>0.0</td>\n    </tr>\n    <tr>\n      <th>1</th>\n      <td>2001</td>\n      <td>1</td>\n      <td>NaN</td>\n    </tr>\n    <tr>\n      <th>2</th>\n      <td>2002</td>\n      <td>4</td>\n      <td>4.0</td>\n    </tr>\n    <tr>\n      <th>3</th>\n      <td>2003</td>\n      <td>9</td>\n      <td>16.0</td>\n    </tr>\n    <tr>\n      <th>4</th>\n      <td>2004</td>\n      <td>16</td>\n      <td>1.0</td>\n    </tr>\n    <tr>\n      <th>5</th>\n      <td>2005</td>\n      <td>25</td>\n      <td>9.0</td>\n    </tr>\n  </tbody>\n</table>\n</div>"
     },
     "metadata": {},
     "execution_count": 12
    }
   ],
   "source": [
    "# Use this for lag(value, order_by = year) instead\n",
    "scrambled >> mutate(previous_year_value = lag(f.value, order_by=f.year)) >> arrange(f.year)\n",
    "# FIXME"
   ]
  },
  {
   "cell_type": "code",
   "execution_count": null,
   "id": "satisfied-seafood",
   "metadata": {},
   "outputs": [],
   "source": []
  }
 ],
 "metadata": {
  "kernelspec": {
   "display_name": "Python 3",
   "language": "python",
   "name": "python3"
  },
  "language_info": {
   "codemirror_mode": {
    "name": "ipython",
    "version": 3
   },
   "file_extension": ".py",
   "mimetype": "text/x-python",
   "name": "python",
   "nbconvert_exporter": "python",
   "pygments_lexer": "ipython3",
   "version": "3.7.8"
  }
 },
 "nbformat": 4,
 "nbformat_minor": 5
}