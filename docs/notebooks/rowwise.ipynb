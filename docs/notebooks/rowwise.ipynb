{
 "cells": [
  {
   "cell_type": "code",
   "execution_count": 1,
   "metadata": {
    "execution": {
     "iopub.execute_input": "2021-04-17T00:54:56.542357Z",
     "iopub.status.busy": "2021-04-17T00:54:56.541626Z",
     "iopub.status.idle": "2021-04-17T00:54:57.238587Z",
     "shell.execute_reply": "2021-04-17T00:54:57.237937Z"
    }
   },
   "outputs": [
    {
     "data": {
      "text/html": [
       "<div style=\"text-align: right; text-style: italic\">Try this notebook on <a target=\"_blank\" href=\"https://mybinder.org/v2/gh/pwwang/datar/93d069f3ca36711fc811c61dcf60e9fc3d1460a5?filepath=docs%2Fnotebooks%2Frowwise.ipynb\">binder</a>.</div>"
      ],
      "text/plain": [
       "<IPython.core.display.HTML object>"
      ]
     },
     "metadata": {},
     "output_type": "display_data"
    },
    {
     "data": {
      "text/markdown": [
       "### # rowwise  "
      ],
      "text/plain": [
       "<IPython.core.display.Markdown object>"
      ]
     },
     "metadata": {},
     "output_type": "display_data"
    },
    {
     "data": {
      "text/markdown": [
       "##### Compute on a data frame a row-at-a-time\n",
       "\n",
       "##### Args:\n",
       "&emsp;&emsp;`_data`: The dataframe  \n",
       "&emsp;&emsp;`*columns`: Variables to be preserved when calling summarise().  \n",
       "&emsp;&emsp;&emsp;&emsp;This is typically a set of variables whose combination  \n",
       "&emsp;&emsp;&emsp;&emsp;uniquely identify each row.  \n",
       "\n",
       "##### Returns:\n",
       "&emsp;&emsp;A row-wise data frame  \n"
      ],
      "text/plain": [
       "<IPython.core.display.Markdown object>"
      ]
     },
     "metadata": {},
     "output_type": "display_data"
    }
   ],
   "source": [
    "# https://dplyr.tidyverse.org/reference/rowwise.html\n",
    "\n",
    "from datar.datasets import iris\n",
    "from datar.all import *\n",
    "\n",
    "%run nb_helpers.py\n",
    "nb_header(rowwise)"
   ]
  },
  {
   "cell_type": "code",
   "execution_count": 2,
   "metadata": {
    "execution": {
     "iopub.execute_input": "2021-04-17T00:54:57.243439Z",
     "iopub.status.busy": "2021-04-17T00:54:57.242778Z",
     "iopub.status.idle": "2021-04-17T00:54:57.332599Z",
     "shell.execute_reply": "2021-04-17T00:54:57.331757Z"
    }
   },
   "outputs": [
    {
     "data": {
      "text/html": [
       "<div>\n",
       "<style scoped>\n",
       "    .dataframe tbody tr th:only-of-type {\n",
       "        vertical-align: middle;\n",
       "    }\n",
       "\n",
       "    .dataframe tbody tr th {\n",
       "        vertical-align: top;\n",
       "    }\n",
       "\n",
       "    .dataframe thead th {\n",
       "        text-align: right;\n",
       "    }\n",
       "</style>\n",
       "<table border=\"1\" class=\"dataframe\">\n",
       "  <thead>\n",
       "    <tr style=\"text-align: right;\">\n",
       "      <th></th>\n",
       "      <th>x</th>\n",
       "      <th>y</th>\n",
       "      <th>z</th>\n",
       "      <th>m</th>\n",
       "    </tr>\n",
       "  </thead>\n",
       "  <tbody>\n",
       "    <tr>\n",
       "      <th>0</th>\n",
       "      <td>0.649909</td>\n",
       "      <td>0.887934</td>\n",
       "      <td>0.917438</td>\n",
       "      <td>0.818427</td>\n",
       "    </tr>\n",
       "    <tr>\n",
       "      <th>1</th>\n",
       "      <td>0.262603</td>\n",
       "      <td>0.515239</td>\n",
       "      <td>0.663813</td>\n",
       "      <td>0.480552</td>\n",
       "    </tr>\n",
       "    <tr>\n",
       "      <th>2</th>\n",
       "      <td>0.937178</td>\n",
       "      <td>0.246736</td>\n",
       "      <td>0.756363</td>\n",
       "      <td>0.646759</td>\n",
       "    </tr>\n",
       "    <tr>\n",
       "      <th>3</th>\n",
       "      <td>0.275029</td>\n",
       "      <td>0.674783</td>\n",
       "      <td>0.597270</td>\n",
       "      <td>0.515694</td>\n",
       "    </tr>\n",
       "    <tr>\n",
       "      <th>4</th>\n",
       "      <td>0.559743</td>\n",
       "      <td>0.306036</td>\n",
       "      <td>0.372108</td>\n",
       "      <td>0.412629</td>\n",
       "    </tr>\n",
       "    <tr>\n",
       "      <th>5</th>\n",
       "      <td>0.508016</td>\n",
       "      <td>0.866988</td>\n",
       "      <td>0.809208</td>\n",
       "      <td>0.728070</td>\n",
       "    </tr>\n",
       "  </tbody>\n",
       "</table>\n",
       "</div>[Groups: [] (n=6)]"
      ],
      "text/plain": [
       "          x         y         z         m\n",
       "0  0.649909  0.887934  0.917438  0.818427\n",
       "1  0.262603  0.515239  0.663813  0.480552\n",
       "2  0.937178  0.246736  0.756363  0.646759\n",
       "3  0.275029  0.674783  0.597270  0.515694\n",
       "4  0.559743  0.306036  0.372108  0.412629\n",
       "5  0.508016  0.866988  0.809208  0.728070\n",
       "[Rowwise: []]"
      ]
     },
     "execution_count": 1,
     "metadata": {},
     "output_type": "execute_result"
    }
   ],
   "source": [
    "df = tibble(x=runif(6), y=runif(6), z=runif(6))\n",
    "\n",
    "df >> rowwise() >> mutate(m=mean(c_across([f.x, f.y, f.z]))) "
   ]
  },
  {
   "cell_type": "code",
   "execution_count": 3,
   "metadata": {
    "execution": {
     "iopub.execute_input": "2021-04-17T00:54:57.354787Z",
     "iopub.status.busy": "2021-04-17T00:54:57.354244Z",
     "iopub.status.idle": "2021-04-17T00:54:57.383038Z",
     "shell.execute_reply": "2021-04-17T00:54:57.382566Z"
    }
   },
   "outputs": [
    {
     "data": {
      "text/html": [
       "<div>\n",
       "<style scoped>\n",
       "    .dataframe tbody tr th:only-of-type {\n",
       "        vertical-align: middle;\n",
       "    }\n",
       "\n",
       "    .dataframe tbody tr th {\n",
       "        vertical-align: top;\n",
       "    }\n",
       "\n",
       "    .dataframe thead th {\n",
       "        text-align: right;\n",
       "    }\n",
       "</style>\n",
       "<table border=\"1\" class=\"dataframe\">\n",
       "  <thead>\n",
       "    <tr style=\"text-align: right;\">\n",
       "      <th></th>\n",
       "      <th>x</th>\n",
       "      <th>y</th>\n",
       "      <th>z</th>\n",
       "      <th>m</th>\n",
       "    </tr>\n",
       "  </thead>\n",
       "  <tbody>\n",
       "    <tr>\n",
       "      <th>0</th>\n",
       "      <td>0.649909</td>\n",
       "      <td>0.887934</td>\n",
       "      <td>0.917438</td>\n",
       "      <td>0.818427</td>\n",
       "    </tr>\n",
       "    <tr>\n",
       "      <th>1</th>\n",
       "      <td>0.262603</td>\n",
       "      <td>0.515239</td>\n",
       "      <td>0.663813</td>\n",
       "      <td>0.480552</td>\n",
       "    </tr>\n",
       "    <tr>\n",
       "      <th>2</th>\n",
       "      <td>0.937178</td>\n",
       "      <td>0.246736</td>\n",
       "      <td>0.756363</td>\n",
       "      <td>0.646759</td>\n",
       "    </tr>\n",
       "    <tr>\n",
       "      <th>3</th>\n",
       "      <td>0.275029</td>\n",
       "      <td>0.674783</td>\n",
       "      <td>0.597270</td>\n",
       "      <td>0.515694</td>\n",
       "    </tr>\n",
       "    <tr>\n",
       "      <th>4</th>\n",
       "      <td>0.559743</td>\n",
       "      <td>0.306036</td>\n",
       "      <td>0.372108</td>\n",
       "      <td>0.412629</td>\n",
       "    </tr>\n",
       "    <tr>\n",
       "      <th>5</th>\n",
       "      <td>0.508016</td>\n",
       "      <td>0.866988</td>\n",
       "      <td>0.809208</td>\n",
       "      <td>0.728070</td>\n",
       "    </tr>\n",
       "  </tbody>\n",
       "</table>\n",
       "</div>[Groups: [] (n=6)]"
      ],
      "text/plain": [
       "          x         y         z         m\n",
       "0  0.649909  0.887934  0.917438  0.818427\n",
       "1  0.262603  0.515239  0.663813  0.480552\n",
       "2  0.937178  0.246736  0.756363  0.646759\n",
       "3  0.275029  0.674783  0.597270  0.515694\n",
       "4  0.559743  0.306036  0.372108  0.412629\n",
       "5  0.508016  0.866988  0.809208  0.728070\n",
       "[Rowwise: []]"
      ]
     },
     "execution_count": 1,
     "metadata": {},
     "output_type": "execute_result"
    }
   ],
   "source": [
    "df >> rowwise() >> mutate(m=mean(c_across(f[f.x:f.z])))"
   ]
  },
  {
   "cell_type": "code",
   "execution_count": 4,
   "metadata": {
    "execution": {
     "iopub.execute_input": "2021-04-17T00:54:57.407025Z",
     "iopub.status.busy": "2021-04-17T00:54:57.404233Z",
     "iopub.status.idle": "2021-04-17T00:54:57.428163Z",
     "shell.execute_reply": "2021-04-17T00:54:57.427650Z"
    }
   },
   "outputs": [
    {
     "data": {
      "text/html": [
       "<div>\n",
       "<style scoped>\n",
       "    .dataframe tbody tr th:only-of-type {\n",
       "        vertical-align: middle;\n",
       "    }\n",
       "\n",
       "    .dataframe tbody tr th {\n",
       "        vertical-align: top;\n",
       "    }\n",
       "\n",
       "    .dataframe thead th {\n",
       "        text-align: right;\n",
       "    }\n",
       "</style>\n",
       "<table border=\"1\" class=\"dataframe\">\n",
       "  <thead>\n",
       "    <tr style=\"text-align: right;\">\n",
       "      <th></th>\n",
       "      <th>x</th>\n",
       "      <th>y</th>\n",
       "      <th>z</th>\n",
       "      <th>m</th>\n",
       "    </tr>\n",
       "  </thead>\n",
       "  <tbody>\n",
       "    <tr>\n",
       "      <th>0</th>\n",
       "      <td>0.649909</td>\n",
       "      <td>0.887934</td>\n",
       "      <td>0.917438</td>\n",
       "      <td>0.649909</td>\n",
       "    </tr>\n",
       "    <tr>\n",
       "      <th>1</th>\n",
       "      <td>0.262603</td>\n",
       "      <td>0.515239</td>\n",
       "      <td>0.663813</td>\n",
       "      <td>0.262603</td>\n",
       "    </tr>\n",
       "    <tr>\n",
       "      <th>2</th>\n",
       "      <td>0.937178</td>\n",
       "      <td>0.246736</td>\n",
       "      <td>0.756363</td>\n",
       "      <td>0.246736</td>\n",
       "    </tr>\n",
       "    <tr>\n",
       "      <th>3</th>\n",
       "      <td>0.275029</td>\n",
       "      <td>0.674783</td>\n",
       "      <td>0.597270</td>\n",
       "      <td>0.275029</td>\n",
       "    </tr>\n",
       "    <tr>\n",
       "      <th>4</th>\n",
       "      <td>0.559743</td>\n",
       "      <td>0.306036</td>\n",
       "      <td>0.372108</td>\n",
       "      <td>0.306036</td>\n",
       "    </tr>\n",
       "    <tr>\n",
       "      <th>5</th>\n",
       "      <td>0.508016</td>\n",
       "      <td>0.866988</td>\n",
       "      <td>0.809208</td>\n",
       "      <td>0.508016</td>\n",
       "    </tr>\n",
       "  </tbody>\n",
       "</table>\n",
       "</div>[Groups: [] (n=6)]"
      ],
      "text/plain": [
       "          x         y         z         m\n",
       "0  0.649909  0.887934  0.917438  0.649909\n",
       "1  0.262603  0.515239  0.663813  0.262603\n",
       "2  0.937178  0.246736  0.756363  0.246736\n",
       "3  0.275029  0.674783  0.597270  0.275029\n",
       "4  0.559743  0.306036  0.372108  0.306036\n",
       "5  0.508016  0.866988  0.809208  0.508016\n",
       "[Rowwise: []]"
      ]
     },
     "execution_count": 1,
     "metadata": {},
     "output_type": "execute_result"
    }
   ],
   "source": [
    "df >> rowwise() >> mutate(m=min(c_across([f.x, f.y, f.z]))) "
   ]
  },
  {
   "cell_type": "code",
   "execution_count": 5,
   "metadata": {
    "execution": {
     "iopub.execute_input": "2021-04-17T00:54:57.446608Z",
     "iopub.status.busy": "2021-04-17T00:54:57.443389Z",
     "iopub.status.idle": "2021-04-17T00:54:57.472122Z",
     "shell.execute_reply": "2021-04-17T00:54:57.471782Z"
    }
   },
   "outputs": [
    {
     "data": {
      "text/html": [
       "<div>\n",
       "<style scoped>\n",
       "    .dataframe tbody tr th:only-of-type {\n",
       "        vertical-align: middle;\n",
       "    }\n",
       "\n",
       "    .dataframe tbody tr th {\n",
       "        vertical-align: top;\n",
       "    }\n",
       "\n",
       "    .dataframe thead th {\n",
       "        text-align: right;\n",
       "    }\n",
       "</style>\n",
       "<table border=\"1\" class=\"dataframe\">\n",
       "  <thead>\n",
       "    <tr style=\"text-align: right;\">\n",
       "      <th></th>\n",
       "      <th>x</th>\n",
       "      <th>y</th>\n",
       "      <th>z</th>\n",
       "      <th>m</th>\n",
       "    </tr>\n",
       "  </thead>\n",
       "  <tbody>\n",
       "    <tr>\n",
       "      <th>0</th>\n",
       "      <td>0.649909</td>\n",
       "      <td>0.887934</td>\n",
       "      <td>0.917438</td>\n",
       "      <td>0.649909</td>\n",
       "    </tr>\n",
       "    <tr>\n",
       "      <th>1</th>\n",
       "      <td>0.262603</td>\n",
       "      <td>0.515239</td>\n",
       "      <td>0.663813</td>\n",
       "      <td>0.262603</td>\n",
       "    </tr>\n",
       "    <tr>\n",
       "      <th>2</th>\n",
       "      <td>0.937178</td>\n",
       "      <td>0.246736</td>\n",
       "      <td>0.756363</td>\n",
       "      <td>0.246736</td>\n",
       "    </tr>\n",
       "    <tr>\n",
       "      <th>3</th>\n",
       "      <td>0.275029</td>\n",
       "      <td>0.674783</td>\n",
       "      <td>0.597270</td>\n",
       "      <td>0.275029</td>\n",
       "    </tr>\n",
       "    <tr>\n",
       "      <th>4</th>\n",
       "      <td>0.559743</td>\n",
       "      <td>0.306036</td>\n",
       "      <td>0.372108</td>\n",
       "      <td>0.306036</td>\n",
       "    </tr>\n",
       "    <tr>\n",
       "      <th>5</th>\n",
       "      <td>0.508016</td>\n",
       "      <td>0.866988</td>\n",
       "      <td>0.809208</td>\n",
       "      <td>0.508016</td>\n",
       "    </tr>\n",
       "  </tbody>\n",
       "</table>\n",
       "</div>[Groups: [] (n=6)]"
      ],
      "text/plain": [
       "          x         y         z         m\n",
       "0  0.649909  0.887934  0.917438  0.649909\n",
       "1  0.262603  0.515239  0.663813  0.262603\n",
       "2  0.937178  0.246736  0.756363  0.246736\n",
       "3  0.275029  0.674783  0.597270  0.275029\n",
       "4  0.559743  0.306036  0.372108  0.306036\n",
       "5  0.508016  0.866988  0.809208  0.508016\n",
       "[Rowwise: []]"
      ]
     },
     "execution_count": 1,
     "metadata": {},
     "output_type": "execute_result"
    }
   ],
   "source": [
    "df >> rowwise() >> mutate(m=min(c_across(f[f.x:f.z]))) "
   ]
  },
  {
   "cell_type": "code",
   "execution_count": 6,
   "metadata": {
    "execution": {
     "iopub.execute_input": "2021-04-17T00:54:57.478462Z",
     "iopub.status.busy": "2021-04-17T00:54:57.477930Z",
     "iopub.status.idle": "2021-04-17T00:54:57.519522Z",
     "shell.execute_reply": "2021-04-17T00:54:57.519869Z"
    }
   },
   "outputs": [
    {
     "data": {
      "text/html": [
       "<div>\n",
       "<style scoped>\n",
       "    .dataframe tbody tr th:only-of-type {\n",
       "        vertical-align: middle;\n",
       "    }\n",
       "\n",
       "    .dataframe tbody tr th {\n",
       "        vertical-align: top;\n",
       "    }\n",
       "\n",
       "    .dataframe thead th {\n",
       "        text-align: right;\n",
       "    }\n",
       "</style>\n",
       "<table border=\"1\" class=\"dataframe\">\n",
       "  <thead>\n",
       "    <tr style=\"text-align: right;\">\n",
       "      <th></th>\n",
       "      <th>x</th>\n",
       "      <th>y</th>\n",
       "      <th>z</th>\n",
       "      <th>m</th>\n",
       "    </tr>\n",
       "  </thead>\n",
       "  <tbody>\n",
       "    <tr>\n",
       "      <th>0</th>\n",
       "      <td>0.649909</td>\n",
       "      <td>0.887934</td>\n",
       "      <td>0.917438</td>\n",
       "      <td>0.649909</td>\n",
       "    </tr>\n",
       "    <tr>\n",
       "      <th>1</th>\n",
       "      <td>0.262603</td>\n",
       "      <td>0.515239</td>\n",
       "      <td>0.663813</td>\n",
       "      <td>0.262603</td>\n",
       "    </tr>\n",
       "    <tr>\n",
       "      <th>2</th>\n",
       "      <td>0.937178</td>\n",
       "      <td>0.246736</td>\n",
       "      <td>0.756363</td>\n",
       "      <td>0.246736</td>\n",
       "    </tr>\n",
       "    <tr>\n",
       "      <th>3</th>\n",
       "      <td>0.275029</td>\n",
       "      <td>0.674783</td>\n",
       "      <td>0.597270</td>\n",
       "      <td>0.275029</td>\n",
       "    </tr>\n",
       "    <tr>\n",
       "      <th>4</th>\n",
       "      <td>0.559743</td>\n",
       "      <td>0.306036</td>\n",
       "      <td>0.372108</td>\n",
       "      <td>0.306036</td>\n",
       "    </tr>\n",
       "    <tr>\n",
       "      <th>5</th>\n",
       "      <td>0.508016</td>\n",
       "      <td>0.866988</td>\n",
       "      <td>0.809208</td>\n",
       "      <td>0.508016</td>\n",
       "    </tr>\n",
       "  </tbody>\n",
       "</table>\n",
       "</div>"
      ],
      "text/plain": [
       "          x         y         z         m\n",
       "0  0.649909  0.887934  0.917438  0.649909\n",
       "1  0.262603  0.515239  0.663813  0.262603\n",
       "2  0.937178  0.246736  0.756363  0.246736\n",
       "3  0.275029  0.674783  0.597270  0.275029\n",
       "4  0.559743  0.306036  0.372108  0.306036\n",
       "5  0.508016  0.866988  0.809208  0.508016"
      ]
     },
     "execution_count": 1,
     "metadata": {},
     "output_type": "execute_result"
    }
   ],
   "source": [
    "df >> mutate(m = pmin(f.x, f.y, f.z))"
   ]
  },
  {
   "cell_type": "code",
   "execution_count": 7,
   "metadata": {
    "execution": {
     "iopub.execute_input": "2021-04-17T00:54:57.524458Z",
     "iopub.status.busy": "2021-04-17T00:54:57.523953Z",
     "iopub.status.idle": "2021-04-17T00:54:57.582151Z",
     "shell.execute_reply": "2021-04-17T00:54:57.581811Z"
    }
   },
   "outputs": [
    {
     "name": "stderr",
     "output_type": "stream",
     "text": [
      "[2021-04-16 17:54:57][datar][   INFO] `summarise()` has grouped output by ['sim'] (override with `_groups` argument)\n"
     ]
    },
    {
     "data": {
      "text/html": [
       "<div>\n",
       "<style scoped>\n",
       "    .dataframe tbody tr th:only-of-type {\n",
       "        vertical-align: middle;\n",
       "    }\n",
       "\n",
       "    .dataframe tbody tr th {\n",
       "        vertical-align: top;\n",
       "    }\n",
       "\n",
       "    .dataframe thead th {\n",
       "        text-align: right;\n",
       "    }\n",
       "</style>\n",
       "<table border=\"1\" class=\"dataframe\">\n",
       "  <thead>\n",
       "    <tr style=\"text-align: right;\">\n",
       "      <th></th>\n",
       "      <th>sim</th>\n",
       "      <th>z</th>\n",
       "    </tr>\n",
       "  </thead>\n",
       "  <tbody>\n",
       "    <tr>\n",
       "      <th>0</th>\n",
       "      <td>1</td>\n",
       "      <td>[0.8332758706092843]</td>\n",
       "    </tr>\n",
       "    <tr>\n",
       "      <th>1</th>\n",
       "      <td>2</td>\n",
       "      <td>[3.9275351670001015, 10.698725259535205]</td>\n",
       "    </tr>\n",
       "    <tr>\n",
       "      <th>2</th>\n",
       "      <td>3</td>\n",
       "      <td>[2.2396585254564743, 0.4293838633413469, 0.542...</td>\n",
       "    </tr>\n",
       "  </tbody>\n",
       "</table>\n",
       "</div>[Groups: ['sim'] (n=3)]"
      ],
      "text/plain": [
       "   sim                                                  z\n",
       "0    1                               [0.8332758706092843]\n",
       "1    2           [3.9275351670001015, 10.698725259535205]\n",
       "2    3  [2.2396585254564743, 0.4293838633413469, 0.542...\n",
       "[Groups: ['sim'] (n=3)]"
      ]
     },
     "execution_count": 1,
     "metadata": {},
     "output_type": "execute_result"
    }
   ],
   "source": [
    "params = tibble(\n",
    "    sim=[1, 2, 3],\n",
    "    n=[1, 2, 3],\n",
    "    mean=[1, 2, 1],\n",
    "    sd=[1, 4, 2]\n",
    ")\n",
    "\n",
    "params >> rowwise(f.sim) >> summarise(z=[rnorm(f.n, f.mean, f.sd)]) "
   ]
  },
  {
   "cell_type": "code",
   "execution_count": null,
   "metadata": {},
   "outputs": [],
   "source": []
  }
 ],
 "metadata": {
  "kernelspec": {
   "display_name": "Python 3",
   "language": "python",
   "name": "python3"
  },
  "language_info": {
   "codemirror_mode": {
    "name": "ipython",
    "version": 3
   },
   "file_extension": ".py",
   "mimetype": "text/x-python",
   "name": "python",
   "nbconvert_exporter": "python",
   "pygments_lexer": "ipython3",
   "version": "3.7.8"
  }
 },
 "nbformat": 4,
 "nbformat_minor": 4
}
