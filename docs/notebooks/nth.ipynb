{
 "cells": [
  {
   "cell_type": "code",
   "execution_count": 1,
   "id": "respiratory-velvet",
   "metadata": {
    "execution": {
     "iopub.execute_input": "2021-04-17T00:54:01.534061Z",
     "iopub.status.busy": "2021-04-17T00:54:01.532708Z",
     "iopub.status.idle": "2021-04-17T00:54:02.225152Z",
     "shell.execute_reply": "2021-04-17T00:54:02.224580Z"
    }
   },
   "outputs": [
    {
     "data": {
      "text/html": [
       "<div style=\"text-align: right; text-style: italic\">Try this notebook on <a target=\"_blank\" href=\"https://mybinder.org/v2/gh/pwwang/datar/93d069f3ca36711fc811c61dcf60e9fc3d1460a5?filepath=docs%2Fnotebooks%2Fnth.ipynb\">binder</a>.</div>"
      ],
      "text/plain": [
       "<IPython.core.display.HTML object>"
      ]
     },
     "metadata": {},
     "output_type": "display_data"
    },
    {
     "data": {
      "text/markdown": [
       "### # nth  "
      ],
      "text/plain": [
       "<IPython.core.display.Markdown object>"
      ]
     },
     "metadata": {},
     "output_type": "display_data"
    },
    {
     "data": {
      "text/markdown": [
       "##### Get the nth element of x\n"
      ],
      "text/plain": [
       "<IPython.core.display.Markdown object>"
      ]
     },
     "metadata": {},
     "output_type": "display_data"
    },
    {
     "data": {
      "text/markdown": [
       "### # first  "
      ],
      "text/plain": [
       "<IPython.core.display.Markdown object>"
      ]
     },
     "metadata": {},
     "output_type": "display_data"
    },
    {
     "data": {
      "text/markdown": [
       "##### Get the first element of x\n"
      ],
      "text/plain": [
       "<IPython.core.display.Markdown object>"
      ]
     },
     "metadata": {},
     "output_type": "display_data"
    },
    {
     "data": {
      "text/markdown": [
       "### # last  "
      ],
      "text/plain": [
       "<IPython.core.display.Markdown object>"
      ]
     },
     "metadata": {},
     "output_type": "display_data"
    },
    {
     "data": {
      "text/markdown": [
       "##### Get the last element of x\n"
      ],
      "text/plain": [
       "<IPython.core.display.Markdown object>"
      ]
     },
     "metadata": {},
     "output_type": "display_data"
    }
   ],
   "source": [
    "# https://dplyr.tidyverse.org/reference/nth.html\n",
    "\n",
    "from datar.all import nth, first, last\n",
    "\n",
    "%run nb_helpers.py\n",
    "nb_header(nth, first, last)"
   ]
  },
  {
   "cell_type": "code",
   "execution_count": 2,
   "id": "suspected-addiction",
   "metadata": {
    "execution": {
     "iopub.execute_input": "2021-04-17T00:54:02.229981Z",
     "iopub.status.busy": "2021-04-17T00:54:02.229229Z",
     "iopub.status.idle": "2021-04-17T00:54:02.232719Z",
     "shell.execute_reply": "2021-04-17T00:54:02.232304Z"
    }
   },
   "outputs": [
    {
     "data": {
      "text/plain": [
       "0"
      ]
     },
     "execution_count": 1,
     "metadata": {},
     "output_type": "execute_result"
    }
   ],
   "source": [
    "x = range(10)\n",
    "y = range(9, -1, -1)\n",
    "\n",
    "first(x)"
   ]
  },
  {
   "cell_type": "code",
   "execution_count": 3,
   "id": "rural-rubber",
   "metadata": {
    "execution": {
     "iopub.execute_input": "2021-04-17T00:54:02.236885Z",
     "iopub.status.busy": "2021-04-17T00:54:02.236314Z",
     "iopub.status.idle": "2021-04-17T00:54:02.239668Z",
     "shell.execute_reply": "2021-04-17T00:54:02.239073Z"
    }
   },
   "outputs": [
    {
     "data": {
      "text/plain": [
       "0"
      ]
     },
     "execution_count": 1,
     "metadata": {},
     "output_type": "execute_result"
    }
   ],
   "source": [
    "last(y)"
   ]
  },
  {
   "cell_type": "code",
   "execution_count": 4,
   "id": "developing-fossil",
   "metadata": {
    "execution": {
     "iopub.execute_input": "2021-04-17T00:54:02.244083Z",
     "iopub.status.busy": "2021-04-17T00:54:02.243248Z",
     "iopub.status.idle": "2021-04-17T00:54:02.246618Z",
     "shell.execute_reply": "2021-04-17T00:54:02.246228Z"
    }
   },
   "outputs": [
    {
     "data": {
      "text/plain": [
       "1"
      ]
     },
     "execution_count": 1,
     "metadata": {},
     "output_type": "execute_result"
    }
   ],
   "source": [
    "nth(x, 1)"
   ]
  },
  {
   "cell_type": "code",
   "execution_count": 5,
   "id": "three-assignment",
   "metadata": {
    "execution": {
     "iopub.execute_input": "2021-04-17T00:54:02.250735Z",
     "iopub.status.busy": "2021-04-17T00:54:02.250191Z",
     "iopub.status.idle": "2021-04-17T00:54:02.253151Z",
     "shell.execute_reply": "2021-04-17T00:54:02.252768Z"
    }
   },
   "outputs": [
    {
     "data": {
      "text/plain": [
       "5"
      ]
     },
     "execution_count": 1,
     "metadata": {},
     "output_type": "execute_result"
    }
   ],
   "source": [
    "nth(x, 5)"
   ]
  },
  {
   "cell_type": "code",
   "execution_count": 6,
   "id": "approximate-indonesia",
   "metadata": {
    "execution": {
     "iopub.execute_input": "2021-04-17T00:54:02.257299Z",
     "iopub.status.busy": "2021-04-17T00:54:02.256804Z",
     "iopub.status.idle": "2021-04-17T00:54:02.259709Z",
     "shell.execute_reply": "2021-04-17T00:54:02.259099Z"
    }
   },
   "outputs": [
    {
     "data": {
      "text/plain": [
       "8"
      ]
     },
     "execution_count": 1,
     "metadata": {},
     "output_type": "execute_result"
    }
   ],
   "source": [
    "nth(x, -2)"
   ]
  },
  {
   "cell_type": "code",
   "execution_count": 7,
   "id": "handy-stack",
   "metadata": {
    "execution": {
     "iopub.execute_input": "2021-04-17T00:54:02.263765Z",
     "iopub.status.busy": "2021-04-17T00:54:02.263272Z",
     "iopub.status.idle": "2021-04-17T00:54:02.266021Z",
     "shell.execute_reply": "2021-04-17T00:54:02.265492Z"
    }
   },
   "outputs": [
    {
     "data": {
      "text/plain": [
       "nan"
      ]
     },
     "execution_count": 1,
     "metadata": {},
     "output_type": "execute_result"
    }
   ],
   "source": [
    "nth(x, 11)"
   ]
  },
  {
   "cell_type": "code",
   "execution_count": 8,
   "id": "everyday-kinase",
   "metadata": {
    "execution": {
     "iopub.execute_input": "2021-04-17T00:54:02.270042Z",
     "iopub.status.busy": "2021-04-17T00:54:02.269514Z",
     "iopub.status.idle": "2021-04-17T00:54:02.272115Z",
     "shell.execute_reply": "2021-04-17T00:54:02.272486Z"
    }
   },
   "outputs": [
    {
     "data": {
      "text/plain": [
       "9"
      ]
     },
     "execution_count": 1,
     "metadata": {},
     "output_type": "execute_result"
    }
   ],
   "source": [
    "last(x)"
   ]
  },
  {
   "cell_type": "code",
   "execution_count": 9,
   "id": "remarkable-remainder",
   "metadata": {
    "execution": {
     "iopub.execute_input": "2021-04-17T00:54:02.276567Z",
     "iopub.status.busy": "2021-04-17T00:54:02.276072Z",
     "iopub.status.idle": "2021-04-17T00:54:02.278431Z",
     "shell.execute_reply": "2021-04-17T00:54:02.278842Z"
    }
   },
   "outputs": [
    {
     "data": {
      "text/plain": [
       "0"
      ]
     },
     "execution_count": 1,
     "metadata": {},
     "output_type": "execute_result"
    }
   ],
   "source": [
    "last(x, y)"
   ]
  },
  {
   "cell_type": "code",
   "execution_count": 10,
   "id": "advanced-stations",
   "metadata": {
    "execution": {
     "iopub.execute_input": "2021-04-17T00:54:02.283311Z",
     "iopub.status.busy": "2021-04-17T00:54:02.282740Z",
     "iopub.status.idle": "2021-04-17T00:54:02.286214Z",
     "shell.execute_reply": "2021-04-17T00:54:02.285783Z"
    }
   },
   "outputs": [
    {
     "data": {
      "text/plain": [
       "nan"
      ]
     },
     "execution_count": 1,
     "metadata": {},
     "output_type": "execute_result"
    }
   ],
   "source": [
    "# These functions always return a single value\n",
    "first(None)"
   ]
  }
 ],
 "metadata": {
  "kernelspec": {
   "display_name": "Python 3",
   "language": "python",
   "name": "python3"
  },
  "language_info": {
   "codemirror_mode": {
    "name": "ipython",
    "version": 3
   },
   "file_extension": ".py",
   "mimetype": "text/x-python",
   "name": "python",
   "nbconvert_exporter": "python",
   "pygments_lexer": "ipython3",
   "version": "3.7.8"
  }
 },
 "nbformat": 4,
 "nbformat_minor": 5
}
