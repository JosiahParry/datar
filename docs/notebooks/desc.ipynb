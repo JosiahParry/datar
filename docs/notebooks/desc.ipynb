{
 "cells": [
  {
   "cell_type": "code",
   "execution_count": 1,
   "id": "imposed-afghanistan",
   "metadata": {},
   "outputs": [
    {
     "name": "stdout",
     "output_type": "stream",
     "text": [
      "Transform a vector into a format that will be sorted in descending order\n",
      "\n",
      "    This is useful within arrange().\n",
      "\n",
      "    The original API:\n",
      "    https://dplyr.tidyverse.org/reference/desc.html\n",
      "\n",
      "    Args:\n",
      "        x: vector to transform\n",
      "\n",
      "    Returns:\n",
      "        The descending order of x\n",
      "    \n"
     ]
    }
   ],
   "source": [
    "from datar.base import factor, letters\n",
    "from datar.dplyr import desc\n",
    "\n",
    "print(desc.__doc__)"
   ]
  },
  {
   "cell_type": "code",
   "execution_count": 2,
   "id": "sealed-papua",
   "metadata": {},
   "outputs": [
    {
     "data": {
      "text/plain": [
       "0    -1\n",
       "1    -2\n",
       "2    -3\n",
       "3    -4\n",
       "4    -5\n",
       "5    -6\n",
       "6    -7\n",
       "7    -8\n",
       "8    -9\n",
       "9   -10\n",
       "dtype: int64"
      ]
     },
     "execution_count": 2,
     "metadata": {},
     "output_type": "execute_result"
    }
   ],
   "source": [
    "desc(range(1,11))"
   ]
  },
  {
   "cell_type": "code",
   "execution_count": 3,
   "id": "swedish-divorce",
   "metadata": {},
   "outputs": [
    {
     "data": {
      "text/plain": [
       "0     -0.0\n",
       "1     -1.0\n",
       "2     -2.0\n",
       "3     -3.0\n",
       "4     -4.0\n",
       "5     -5.0\n",
       "6     -6.0\n",
       "7     -7.0\n",
       "8     -8.0\n",
       "9     -9.0\n",
       "10   -10.0\n",
       "11   -11.0\n",
       "12   -12.0\n",
       "13   -13.0\n",
       "14   -14.0\n",
       "15   -15.0\n",
       "16   -16.0\n",
       "17   -17.0\n",
       "18   -18.0\n",
       "19   -19.0\n",
       "20   -20.0\n",
       "21   -21.0\n",
       "22   -22.0\n",
       "23   -23.0\n",
       "24   -24.0\n",
       "25   -25.0\n",
       "dtype: float64"
      ]
     },
     "execution_count": 3,
     "metadata": {},
     "output_type": "execute_result"
    }
   ],
   "source": [
    "desc(factor(letters))"
   ]
  },
  {
   "cell_type": "code",
   "execution_count": null,
   "id": "limited-pricing",
   "metadata": {},
   "outputs": [],
   "source": []
  }
 ],
 "metadata": {
  "kernelspec": {
   "display_name": "Python 3",
   "language": "python",
   "name": "python3"
  },
  "language_info": {
   "codemirror_mode": {
    "name": "ipython",
    "version": 3
   },
   "file_extension": ".py",
   "mimetype": "text/x-python",
   "name": "python",
   "nbconvert_exporter": "python",
   "pygments_lexer": "ipython3",
   "version": "3.7.8"
  }
 },
 "nbformat": 4,
 "nbformat_minor": 5
}
