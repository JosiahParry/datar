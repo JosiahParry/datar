{
 "cells": [
  {
   "cell_type": "code",
   "execution_count": 1,
   "id": "minute-millennium",
   "metadata": {
    "execution": {
     "iopub.execute_input": "2021-04-17T00:52:04.237549Z",
     "iopub.status.busy": "2021-04-17T00:52:04.236769Z",
     "iopub.status.idle": "2021-04-17T00:52:05.121869Z",
     "shell.execute_reply": "2021-04-17T00:52:05.120941Z"
    }
   },
   "outputs": [
    {
     "data": {
      "text/html": [
       "<div style=\"text-align: right; text-style: italic\">Try this notebook on <a target=\"_blank\" href=\"https://mybinder.org/v2/gh/pwwang/datar/93d069f3ca36711fc811c61dcf60e9fc3d1460a5?filepath=docs%2Fnotebooks%2Fcumall.ipynb\">binder</a>.</div>"
      ],
      "text/plain": [
       "<IPython.core.display.HTML object>"
      ]
     },
     "metadata": {},
     "output_type": "display_data"
    },
    {
     "data": {
      "text/markdown": [
       "### # cummean  "
      ],
      "text/plain": [
       "<IPython.core.display.Markdown object>"
      ]
     },
     "metadata": {},
     "output_type": "display_data"
    },
    {
     "data": {
      "text/markdown": [
       "##### Get cumulative means\n"
      ],
      "text/plain": [
       "<IPython.core.display.Markdown object>"
      ]
     },
     "metadata": {},
     "output_type": "display_data"
    },
    {
     "data": {
      "text/markdown": [
       "### # cumsum  "
      ],
      "text/plain": [
       "<IPython.core.display.Markdown object>"
      ]
     },
     "metadata": {},
     "output_type": "display_data"
    },
    {
     "data": {
      "text/markdown": [
       "##### Returns a vector whose elements are the cumulative sums of\n",
       "the elements of the argument.  \n",
       "\n",
       "##### Args:\n",
       "&emsp;&emsp;`series`: A series of numbers  \n",
       "&emsp;&emsp;`skipna`: Whether skipping NA's or not. Note that R doesn't have this  \n",
       "&emsp;&emsp;&emsp;&emsp;argument.  \n",
       "\n",
       "##### Returns:\n",
       "&emsp;&emsp;The cumulative sums  \n"
      ],
      "text/plain": [
       "<IPython.core.display.Markdown object>"
      ]
     },
     "metadata": {},
     "output_type": "display_data"
    },
    {
     "data": {
      "text/markdown": [
       "### # cumall  "
      ],
      "text/plain": [
       "<IPython.core.display.Markdown object>"
      ]
     },
     "metadata": {},
     "output_type": "display_data"
    },
    {
     "data": {
      "text/markdown": [
       "##### Get cumulative bool. All cases after first False\n"
      ],
      "text/plain": [
       "<IPython.core.display.Markdown object>"
      ]
     },
     "metadata": {},
     "output_type": "display_data"
    },
    {
     "data": {
      "text/markdown": [
       "### # cumany  "
      ],
      "text/plain": [
       "<IPython.core.display.Markdown object>"
      ]
     },
     "metadata": {},
     "output_type": "display_data"
    },
    {
     "data": {
      "text/markdown": [
       "##### Get cumulative bool. All cases after first True\n"
      ],
      "text/plain": [
       "<IPython.core.display.Markdown object>"
      ]
     },
     "metadata": {},
     "output_type": "display_data"
    },
    {
     "data": {
      "text/markdown": [
       "### # cumany  "
      ],
      "text/plain": [
       "<IPython.core.display.Markdown object>"
      ]
     },
     "metadata": {},
     "output_type": "display_data"
    },
    {
     "data": {
      "text/markdown": [
       "##### Get cumulative bool. All cases after first True\n"
      ],
      "text/plain": [
       "<IPython.core.display.Markdown object>"
      ]
     },
     "metadata": {},
     "output_type": "display_data"
    }
   ],
   "source": [
    "# https://dplyr.tidyverse.org/reference/cumall.html\n",
    "import numpy\n",
    "\n",
    "from datar.all import *\n",
    "\n",
    "%run nb_helpers.py\n",
    "nb_header(cummean, cumsum, cumall, cumany, cumany, book='cumall')"
   ]
  },
  {
   "cell_type": "code",
   "execution_count": 2,
   "id": "separate-coating",
   "metadata": {
    "execution": {
     "iopub.execute_input": "2021-04-17T00:52:05.128716Z",
     "iopub.status.busy": "2021-04-17T00:52:05.128106Z",
     "iopub.status.idle": "2021-04-17T00:52:05.135278Z",
     "shell.execute_reply": "2021-04-17T00:52:05.135723Z"
    }
   },
   "outputs": [
    {
     "data": {
      "text/plain": [
       "0    1.00\n",
       "1    2.00\n",
       "2    3.00\n",
       "3    2.75\n",
       "4    2.60\n",
       "dtype: float64"
      ]
     },
     "execution_count": 1,
     "metadata": {},
     "output_type": "execute_result"
    }
   ],
   "source": [
    "x = [1, 3, 5, 2, 2]\n",
    "cummean(x)"
   ]
  },
  {
   "cell_type": "code",
   "execution_count": 3,
   "id": "religious-voltage",
   "metadata": {
    "execution": {
     "iopub.execute_input": "2021-04-17T00:52:05.143655Z",
     "iopub.status.busy": "2021-04-17T00:52:05.142909Z",
     "iopub.status.idle": "2021-04-17T00:52:05.146528Z",
     "shell.execute_reply": "2021-04-17T00:52:05.146136Z"
    }
   },
   "outputs": [
    {
     "data": {
      "text/plain": [
       "0    1.00\n",
       "1    2.00\n",
       "2    3.00\n",
       "3    2.75\n",
       "4    2.60\n",
       "dtype: float64"
      ]
     },
     "execution_count": 1,
     "metadata": {},
     "output_type": "execute_result"
    }
   ],
   "source": [
    "cumsum(x) / (seq_along(x) + 1) # seq_along starts from 0"
   ]
  },
  {
   "cell_type": "code",
   "execution_count": 4,
   "id": "assigned-marks",
   "metadata": {
    "execution": {
     "iopub.execute_input": "2021-04-17T00:52:05.154892Z",
     "iopub.status.busy": "2021-04-17T00:52:05.153701Z",
     "iopub.status.idle": "2021-04-17T00:52:05.157822Z",
     "shell.execute_reply": "2021-04-17T00:52:05.157378Z"
    }
   },
   "outputs": [
    {
     "data": {
      "text/plain": [
       "0     True\n",
       "1     True\n",
       "2    False\n",
       "3    False\n",
       "4    False\n",
       "dtype: bool"
      ]
     },
     "execution_count": 1,
     "metadata": {},
     "output_type": "execute_result"
    }
   ],
   "source": [
    "cumall(numpy.array(x) < 5)"
   ]
  },
  {
   "cell_type": "code",
   "execution_count": 5,
   "id": "composed-midwest",
   "metadata": {
    "execution": {
     "iopub.execute_input": "2021-04-17T00:52:05.163959Z",
     "iopub.status.busy": "2021-04-17T00:52:05.163289Z",
     "iopub.status.idle": "2021-04-17T00:52:05.167209Z",
     "shell.execute_reply": "2021-04-17T00:52:05.166492Z"
    }
   },
   "outputs": [
    {
     "data": {
      "text/plain": [
       "0    False\n",
       "1     True\n",
       "2     True\n",
       "3     True\n",
       "4     True\n",
       "dtype: bool"
      ]
     },
     "execution_count": 1,
     "metadata": {},
     "output_type": "execute_result"
    }
   ],
   "source": [
    "cumany(numpy.array(x) == 3)"
   ]
  },
  {
   "cell_type": "code",
   "execution_count": 6,
   "id": "compliant-response",
   "metadata": {
    "execution": {
     "iopub.execute_input": "2021-04-17T00:52:05.177931Z",
     "iopub.status.busy": "2021-04-17T00:52:05.177339Z",
     "iopub.status.idle": "2021-04-17T00:52:05.230936Z",
     "shell.execute_reply": "2021-04-17T00:52:05.231460Z"
    }
   },
   "outputs": [
    {
     "data": {
      "text/html": [
       "<div>\n",
       "<style scoped>\n",
       "    .dataframe tbody tr th:only-of-type {\n",
       "        vertical-align: middle;\n",
       "    }\n",
       "\n",
       "    .dataframe tbody tr th {\n",
       "        vertical-align: top;\n",
       "    }\n",
       "\n",
       "    .dataframe thead th {\n",
       "        text-align: right;\n",
       "    }\n",
       "</style>\n",
       "<table border=\"1\" class=\"dataframe\">\n",
       "  <thead>\n",
       "    <tr style=\"text-align: right;\">\n",
       "      <th></th>\n",
       "      <th>date</th>\n",
       "      <th>balance</th>\n",
       "    </tr>\n",
       "  </thead>\n",
       "  <tbody>\n",
       "    <tr>\n",
       "      <th>0</th>\n",
       "      <td>2020-01-04</td>\n",
       "      <td>-25</td>\n",
       "    </tr>\n",
       "    <tr>\n",
       "      <th>1</th>\n",
       "      <td>2020-01-05</td>\n",
       "      <td>-50</td>\n",
       "    </tr>\n",
       "    <tr>\n",
       "      <th>2</th>\n",
       "      <td>2020-01-06</td>\n",
       "      <td>30</td>\n",
       "    </tr>\n",
       "    <tr>\n",
       "      <th>3</th>\n",
       "      <td>2020-01-07</td>\n",
       "      <td>120</td>\n",
       "    </tr>\n",
       "  </tbody>\n",
       "</table>\n",
       "</div>"
      ],
      "text/plain": [
       "         date  balance\n",
       "0  2020-01-04      -25\n",
       "1  2020-01-05      -50\n",
       "2  2020-01-06       30\n",
       "3  2020-01-07      120"
      ]
     },
     "execution_count": 1,
     "metadata": {},
     "output_type": "execute_result"
    }
   ],
   "source": [
    "df = tibble(\n",
    "  date = as_date([f\"2020-01-0{i+1}\" for i in range(7)]),\n",
    "  balance = c(100, 50, 25, -25, -50, 30, 120)\n",
    ")\n",
    "df >> filter(cumany(f.balance < 0))"
   ]
  },
  {
   "cell_type": "code",
   "execution_count": 7,
   "id": "flying-senator",
   "metadata": {
    "execution": {
     "iopub.execute_input": "2021-04-17T00:52:05.242337Z",
     "iopub.status.busy": "2021-04-17T00:52:05.241602Z",
     "iopub.status.idle": "2021-04-17T00:52:05.245007Z",
     "shell.execute_reply": "2021-04-17T00:52:05.244591Z"
    }
   },
   "outputs": [
    {
     "data": {
      "text/html": [
       "<div>\n",
       "<style scoped>\n",
       "    .dataframe tbody tr th:only-of-type {\n",
       "        vertical-align: middle;\n",
       "    }\n",
       "\n",
       "    .dataframe tbody tr th {\n",
       "        vertical-align: top;\n",
       "    }\n",
       "\n",
       "    .dataframe thead th {\n",
       "        text-align: right;\n",
       "    }\n",
       "</style>\n",
       "<table border=\"1\" class=\"dataframe\">\n",
       "  <thead>\n",
       "    <tr style=\"text-align: right;\">\n",
       "      <th></th>\n",
       "      <th>date</th>\n",
       "      <th>balance</th>\n",
       "    </tr>\n",
       "  </thead>\n",
       "  <tbody>\n",
       "    <tr>\n",
       "      <th>0</th>\n",
       "      <td>2020-01-01</td>\n",
       "      <td>100</td>\n",
       "    </tr>\n",
       "    <tr>\n",
       "      <th>1</th>\n",
       "      <td>2020-01-02</td>\n",
       "      <td>50</td>\n",
       "    </tr>\n",
       "    <tr>\n",
       "      <th>2</th>\n",
       "      <td>2020-01-03</td>\n",
       "      <td>25</td>\n",
       "    </tr>\n",
       "  </tbody>\n",
       "</table>\n",
       "</div>"
      ],
      "text/plain": [
       "         date  balance\n",
       "0  2020-01-01      100\n",
       "1  2020-01-02       50\n",
       "2  2020-01-03       25"
      ]
     },
     "execution_count": 1,
     "metadata": {},
     "output_type": "execute_result"
    }
   ],
   "source": [
    "df >> filter(cumall(~(f.balance < 0)))"
   ]
  }
 ],
 "metadata": {
  "kernelspec": {
   "display_name": "Python 3",
   "language": "python",
   "name": "python3"
  },
  "language_info": {
   "codemirror_mode": {
    "name": "ipython",
    "version": 3
   },
   "file_extension": ".py",
   "mimetype": "text/x-python",
   "name": "python",
   "nbconvert_exporter": "python",
   "pygments_lexer": "ipython3",
   "version": "3.7.8"
  }
 },
 "nbformat": 4,
 "nbformat_minor": 5
}
