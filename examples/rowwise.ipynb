{
 "metadata": {
  "language_info": {
   "codemirror_mode": {
    "name": "ipython",
    "version": 3
   },
   "file_extension": ".py",
   "mimetype": "text/x-python",
   "name": "python",
   "nbconvert_exporter": "python",
   "pygments_lexer": "ipython3",
   "version": "3.7.8-final"
  },
  "orig_nbformat": 2,
  "kernelspec": {
   "name": "python3",
   "display_name": "Python 3.7.8 64-bit ('base': conda)",
   "metadata": {
    "interpreter": {
     "hash": "c4cc73b080e063fcebb9afb794613be7caf4b26129562cba1382945a18cc49cc"
    }
   }
  }
 },
 "nbformat": 4,
 "nbformat_minor": 2,
 "cells": [
  {
   "cell_type": "code",
   "execution_count": 1,
   "metadata": {},
   "outputs": [],
   "source": [
    "# https://dplyr.tidyverse.org/reference/rowwise.html\n",
    "import numpy\n",
    "from pandas import DataFrame\n",
    "\n",
    "from plyrda.data import iris\n",
    "from plyrda.all import *\n",
    "\n",
    "rng = numpy.random.default_rng(8525)"
   ]
  },
  {
   "cell_type": "code",
   "execution_count": 2,
   "metadata": {},
   "outputs": [
    {
     "output_type": "execute_result",
     "data": {
      "text/plain": [
       "          x         y         z         m\n",
       "0  0.038454  0.098516  0.317985  0.151652\n",
       "1  0.091360  0.370697  0.155806  0.205954\n",
       "2  0.642619  0.046899  0.335591  0.341703\n",
       "3  0.902924  0.707625  0.961739  0.857429\n",
       "4  0.397815  0.904329  0.540475  0.614206\n",
       "5  0.692043  0.840548  0.993012  0.841868"
      ],
      "text/html": "<div>\n<style scoped>\n    .dataframe tbody tr th:only-of-type {\n        vertical-align: middle;\n    }\n\n    .dataframe tbody tr th {\n        vertical-align: top;\n    }\n\n    .dataframe thead th {\n        text-align: right;\n    }\n</style>\n<table border=\"1\" class=\"dataframe\">\n  <thead>\n    <tr style=\"text-align: right;\">\n      <th></th>\n      <th>x</th>\n      <th>y</th>\n      <th>z</th>\n      <th>m</th>\n    </tr>\n  </thead>\n  <tbody>\n    <tr>\n      <th>0</th>\n      <td>0.038454</td>\n      <td>0.098516</td>\n      <td>0.317985</td>\n      <td>0.151652</td>\n    </tr>\n    <tr>\n      <th>1</th>\n      <td>0.091360</td>\n      <td>0.370697</td>\n      <td>0.155806</td>\n      <td>0.205954</td>\n    </tr>\n    <tr>\n      <th>2</th>\n      <td>0.642619</td>\n      <td>0.046899</td>\n      <td>0.335591</td>\n      <td>0.341703</td>\n    </tr>\n    <tr>\n      <th>3</th>\n      <td>0.902924</td>\n      <td>0.707625</td>\n      <td>0.961739</td>\n      <td>0.857429</td>\n    </tr>\n    <tr>\n      <th>4</th>\n      <td>0.397815</td>\n      <td>0.904329</td>\n      <td>0.540475</td>\n      <td>0.614206</td>\n    </tr>\n    <tr>\n      <th>5</th>\n      <td>0.692043</td>\n      <td>0.840548</td>\n      <td>0.993012</td>\n      <td>0.841868</td>\n    </tr>\n  </tbody>\n</table>\n</div>"
     },
     "metadata": {},
     "execution_count": 2
    }
   ],
   "source": [
    "df = DataFrame(dict(x=rng.random(6), y=rng.random(6), z=rng.random(6)))\n",
    "# func applied to rowwise df has to be called with c_across\n",
    "df >> rowwise() >> mutate(m=c_across([f.x, f.y, f.z], mean)) "
   ]
  },
  {
   "cell_type": "code",
   "execution_count": 3,
   "metadata": {},
   "outputs": [
    {
     "output_type": "execute_result",
     "data": {
      "text/plain": [
       "          x         y         z         m\n",
       "0  0.038454  0.098516  0.317985  0.151652\n",
       "1  0.091360  0.370697  0.155806  0.205954\n",
       "2  0.642619  0.046899  0.335591  0.341703\n",
       "3  0.902924  0.707625  0.961739  0.857429\n",
       "4  0.397815  0.904329  0.540475  0.614206\n",
       "5  0.692043  0.840548  0.993012  0.841868"
      ],
      "text/html": "<div>\n<style scoped>\n    .dataframe tbody tr th:only-of-type {\n        vertical-align: middle;\n    }\n\n    .dataframe tbody tr th {\n        vertical-align: top;\n    }\n\n    .dataframe thead th {\n        text-align: right;\n    }\n</style>\n<table border=\"1\" class=\"dataframe\">\n  <thead>\n    <tr style=\"text-align: right;\">\n      <th></th>\n      <th>x</th>\n      <th>y</th>\n      <th>z</th>\n      <th>m</th>\n    </tr>\n  </thead>\n  <tbody>\n    <tr>\n      <th>0</th>\n      <td>0.038454</td>\n      <td>0.098516</td>\n      <td>0.317985</td>\n      <td>0.151652</td>\n    </tr>\n    <tr>\n      <th>1</th>\n      <td>0.091360</td>\n      <td>0.370697</td>\n      <td>0.155806</td>\n      <td>0.205954</td>\n    </tr>\n    <tr>\n      <th>2</th>\n      <td>0.642619</td>\n      <td>0.046899</td>\n      <td>0.335591</td>\n      <td>0.341703</td>\n    </tr>\n    <tr>\n      <th>3</th>\n      <td>0.902924</td>\n      <td>0.707625</td>\n      <td>0.961739</td>\n      <td>0.857429</td>\n    </tr>\n    <tr>\n      <th>4</th>\n      <td>0.397815</td>\n      <td>0.904329</td>\n      <td>0.540475</td>\n      <td>0.614206</td>\n    </tr>\n    <tr>\n      <th>5</th>\n      <td>0.692043</td>\n      <td>0.840548</td>\n      <td>0.993012</td>\n      <td>0.841868</td>\n    </tr>\n  </tbody>\n</table>\n</div>"
     },
     "metadata": {},
     "execution_count": 3
    }
   ],
   "source": [
    "df >> rowwise() >> mutate(m=c_across(f.x // f.z, mean)) "
   ]
  },
  {
   "cell_type": "code",
   "execution_count": 4,
   "metadata": {},
   "outputs": [
    {
     "output_type": "execute_result",
     "data": {
      "text/plain": [
       "          x         y         z         m\n",
       "0  0.038454  0.098516  0.317985  0.038454\n",
       "1  0.091360  0.370697  0.155806  0.091360\n",
       "2  0.642619  0.046899  0.335591  0.046899\n",
       "3  0.902924  0.707625  0.961739  0.707625\n",
       "4  0.397815  0.904329  0.540475  0.397815\n",
       "5  0.692043  0.840548  0.993012  0.692043"
      ],
      "text/html": "<div>\n<style scoped>\n    .dataframe tbody tr th:only-of-type {\n        vertical-align: middle;\n    }\n\n    .dataframe tbody tr th {\n        vertical-align: top;\n    }\n\n    .dataframe thead th {\n        text-align: right;\n    }\n</style>\n<table border=\"1\" class=\"dataframe\">\n  <thead>\n    <tr style=\"text-align: right;\">\n      <th></th>\n      <th>x</th>\n      <th>y</th>\n      <th>z</th>\n      <th>m</th>\n    </tr>\n  </thead>\n  <tbody>\n    <tr>\n      <th>0</th>\n      <td>0.038454</td>\n      <td>0.098516</td>\n      <td>0.317985</td>\n      <td>0.038454</td>\n    </tr>\n    <tr>\n      <th>1</th>\n      <td>0.091360</td>\n      <td>0.370697</td>\n      <td>0.155806</td>\n      <td>0.091360</td>\n    </tr>\n    <tr>\n      <th>2</th>\n      <td>0.642619</td>\n      <td>0.046899</td>\n      <td>0.335591</td>\n      <td>0.046899</td>\n    </tr>\n    <tr>\n      <th>3</th>\n      <td>0.902924</td>\n      <td>0.707625</td>\n      <td>0.961739</td>\n      <td>0.707625</td>\n    </tr>\n    <tr>\n      <th>4</th>\n      <td>0.397815</td>\n      <td>0.904329</td>\n      <td>0.540475</td>\n      <td>0.397815</td>\n    </tr>\n    <tr>\n      <th>5</th>\n      <td>0.692043</td>\n      <td>0.840548</td>\n      <td>0.993012</td>\n      <td>0.692043</td>\n    </tr>\n  </tbody>\n</table>\n</div>"
     },
     "metadata": {},
     "execution_count": 4
    }
   ],
   "source": [
    "df >> rowwise() >> mutate(m=c_across([f.x, f.y, f.z], min)) "
   ]
  },
  {
   "cell_type": "code",
   "execution_count": 5,
   "metadata": {},
   "outputs": [
    {
     "output_type": "execute_result",
     "data": {
      "text/plain": [
       "          x         y         z         m\n",
       "0  0.038454  0.098516  0.317985  0.038454\n",
       "1  0.091360  0.370697  0.155806  0.091360\n",
       "2  0.642619  0.046899  0.335591  0.046899\n",
       "3  0.902924  0.707625  0.961739  0.707625\n",
       "4  0.397815  0.904329  0.540475  0.397815\n",
       "5  0.692043  0.840548  0.993012  0.692043"
      ],
      "text/html": "<div>\n<style scoped>\n    .dataframe tbody tr th:only-of-type {\n        vertical-align: middle;\n    }\n\n    .dataframe tbody tr th {\n        vertical-align: top;\n    }\n\n    .dataframe thead th {\n        text-align: right;\n    }\n</style>\n<table border=\"1\" class=\"dataframe\">\n  <thead>\n    <tr style=\"text-align: right;\">\n      <th></th>\n      <th>x</th>\n      <th>y</th>\n      <th>z</th>\n      <th>m</th>\n    </tr>\n  </thead>\n  <tbody>\n    <tr>\n      <th>0</th>\n      <td>0.038454</td>\n      <td>0.098516</td>\n      <td>0.317985</td>\n      <td>0.038454</td>\n    </tr>\n    <tr>\n      <th>1</th>\n      <td>0.091360</td>\n      <td>0.370697</td>\n      <td>0.155806</td>\n      <td>0.091360</td>\n    </tr>\n    <tr>\n      <th>2</th>\n      <td>0.642619</td>\n      <td>0.046899</td>\n      <td>0.335591</td>\n      <td>0.046899</td>\n    </tr>\n    <tr>\n      <th>3</th>\n      <td>0.902924</td>\n      <td>0.707625</td>\n      <td>0.961739</td>\n      <td>0.707625</td>\n    </tr>\n    <tr>\n      <th>4</th>\n      <td>0.397815</td>\n      <td>0.904329</td>\n      <td>0.540475</td>\n      <td>0.397815</td>\n    </tr>\n    <tr>\n      <th>5</th>\n      <td>0.692043</td>\n      <td>0.840548</td>\n      <td>0.993012</td>\n      <td>0.692043</td>\n    </tr>\n  </tbody>\n</table>\n</div>"
     },
     "metadata": {},
     "execution_count": 5
    }
   ],
   "source": [
    "df >> rowwise() >> mutate(m=c_across(f.x // f.z, min)) "
   ]
  },
  {
   "cell_type": "code",
   "execution_count": 6,
   "metadata": {},
   "outputs": [
    {
     "output_type": "execute_result",
     "data": {
      "text/plain": [
       "          x         y         z         m\n",
       "0  0.038454  0.098516  0.317985  0.038454\n",
       "1  0.091360  0.370697  0.155806  0.091360\n",
       "2  0.642619  0.046899  0.335591  0.046899\n",
       "3  0.902924  0.707625  0.961739  0.707625\n",
       "4  0.397815  0.904329  0.540475  0.397815\n",
       "5  0.692043  0.840548  0.993012  0.692043"
      ],
      "text/html": "<div>\n<style scoped>\n    .dataframe tbody tr th:only-of-type {\n        vertical-align: middle;\n    }\n\n    .dataframe tbody tr th {\n        vertical-align: top;\n    }\n\n    .dataframe thead th {\n        text-align: right;\n    }\n</style>\n<table border=\"1\" class=\"dataframe\">\n  <thead>\n    <tr style=\"text-align: right;\">\n      <th></th>\n      <th>x</th>\n      <th>y</th>\n      <th>z</th>\n      <th>m</th>\n    </tr>\n  </thead>\n  <tbody>\n    <tr>\n      <th>0</th>\n      <td>0.038454</td>\n      <td>0.098516</td>\n      <td>0.317985</td>\n      <td>0.038454</td>\n    </tr>\n    <tr>\n      <th>1</th>\n      <td>0.091360</td>\n      <td>0.370697</td>\n      <td>0.155806</td>\n      <td>0.091360</td>\n    </tr>\n    <tr>\n      <th>2</th>\n      <td>0.642619</td>\n      <td>0.046899</td>\n      <td>0.335591</td>\n      <td>0.046899</td>\n    </tr>\n    <tr>\n      <th>3</th>\n      <td>0.902924</td>\n      <td>0.707625</td>\n      <td>0.961739</td>\n      <td>0.707625</td>\n    </tr>\n    <tr>\n      <th>4</th>\n      <td>0.397815</td>\n      <td>0.904329</td>\n      <td>0.540475</td>\n      <td>0.397815</td>\n    </tr>\n    <tr>\n      <th>5</th>\n      <td>0.692043</td>\n      <td>0.840548</td>\n      <td>0.993012</td>\n      <td>0.692043</td>\n    </tr>\n  </tbody>\n</table>\n</div>"
     },
     "metadata": {},
     "execution_count": 6
    }
   ],
   "source": [
    "df >> mutate(m = pmin(f.x, f.y, f.z))"
   ]
  },
  {
   "cell_type": "code",
   "execution_count": 8,
   "metadata": {},
   "outputs": [
    {
     "output_type": "execute_result",
     "data": {
      "text/plain": [
       "   sim                                                  z\n",
       "0    1                               [0.5090629985757766]\n",
       "1    2             [4.426966433644621, 2.497459268015221]\n",
       "2    3  [0.08621303277694703, 1.007846183752894, -0.06..."
      ],
      "text/html": "<div>\n<style scoped>\n    .dataframe tbody tr th:only-of-type {\n        vertical-align: middle;\n    }\n\n    .dataframe tbody tr th {\n        vertical-align: top;\n    }\n\n    .dataframe thead th {\n        text-align: right;\n    }\n</style>\n<table border=\"1\" class=\"dataframe\">\n  <thead>\n    <tr style=\"text-align: right;\">\n      <th></th>\n      <th>sim</th>\n      <th>z</th>\n    </tr>\n  </thead>\n  <tbody>\n    <tr>\n      <th>0</th>\n      <td>1</td>\n      <td>[0.5090629985757766]</td>\n    </tr>\n    <tr>\n      <th>1</th>\n      <td>2</td>\n      <td>[4.426966433644621, 2.497459268015221]</td>\n    </tr>\n    <tr>\n      <th>2</th>\n      <td>3</td>\n      <td>[0.08621303277694703, 1.007846183752894, -0.06...</td>\n    </tr>\n  </tbody>\n</table>\n</div>"
     },
     "metadata": {},
     "execution_count": 8
    }
   ],
   "source": [
    "params = DataFrame(dict(\n",
    "    sim=[1, 2, 3],\n",
    "    n=[1, 2, 3],\n",
    "    mean=[1, 2, 1],\n",
    "    sd=[1, 4, 2]\n",
    "))\n",
    "\n",
    "\n",
    "random = lambda n_mean_sd: rng.normal(n_mean_sd[1], n_mean_sd[2], n_mean_sd[0])\n",
    "params >> rowwise(f.sim) >> summarise(z=c_across([f.n, f.mean, f.sd], random))"
   ]
  },
  {
   "cell_type": "code",
   "execution_count": null,
   "metadata": {},
   "outputs": [],
   "source": []
  }
 ]
}