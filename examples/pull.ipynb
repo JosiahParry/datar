{
 "cells": [
  {
   "cell_type": "code",
   "execution_count": 1,
   "id": "complete-prefix",
   "metadata": {},
   "outputs": [],
   "source": [
    "# https://dplyr.tidyverse.org/reference/pull.html\n",
    "\n",
    "from plyrda.data import starwars, mtcars\n",
    "from plyrda.all import *"
   ]
  },
  {
   "cell_type": "code",
   "execution_count": 2,
   "id": "identical-swift",
   "metadata": {},
   "outputs": [
    {
     "data": {
      "text/plain": [
       "array([4, 4, 1, 1, 2, 1, 4, 2, 2, 4, 4, 3, 3, 3, 4, 4, 4, 1, 2, 1, 1, 2,\n",
       "       2, 4, 2, 1, 2, 2, 4, 6, 8, 2])"
      ]
     },
     "execution_count": 2,
     "metadata": {},
     "output_type": "execute_result"
    }
   ],
   "source": [
    "mtcars >> pull(-1)"
   ]
  },
  {
   "cell_type": "code",
   "execution_count": 3,
   "id": "burning-pride",
   "metadata": {},
   "outputs": [
    {
     "data": {
      "text/plain": [
       "[4,\n",
       " 4,\n",
       " 1,\n",
       " 1,\n",
       " 2,\n",
       " 1,\n",
       " 4,\n",
       " 2,\n",
       " 2,\n",
       " 4,\n",
       " 4,\n",
       " 3,\n",
       " 3,\n",
       " 3,\n",
       " 4,\n",
       " 4,\n",
       " 4,\n",
       " 1,\n",
       " 2,\n",
       " 1,\n",
       " 1,\n",
       " 2,\n",
       " 2,\n",
       " 4,\n",
       " 2,\n",
       " 1,\n",
       " 2,\n",
       " 2,\n",
       " 4,\n",
       " 6,\n",
       " 8,\n",
       " 2]"
      ]
     },
     "execution_count": 3,
     "metadata": {},
     "output_type": "execute_result"
    }
   ],
   "source": [
    "mtcars >> pull(-1, to_list=True)"
   ]
  },
  {
   "cell_type": "code",
   "execution_count": 4,
   "id": "protecting-mouth",
   "metadata": {},
   "outputs": [
    {
     "data": {
      "text/plain": [
       "array([21. , 21. , 22.8, 21.4, 18.7, 18.1, 14.3, 24.4, 22.8, 19.2, 17.8,\n",
       "       16.4, 17.3, 15.2, 10.4, 10.4, 14.7, 32.4, 30.4, 33.9, 21.5, 15.5,\n",
       "       15.2, 13.3, 19.2, 27.3, 26. , 30.4, 15.8, 19.7, 15. , 21.4])"
      ]
     },
     "execution_count": 4,
     "metadata": {},
     "output_type": "execute_result"
    }
   ],
   "source": [
    "mtcars >> pull(0)"
   ]
  },
  {
   "cell_type": "code",
   "execution_count": 5,
   "id": "narrow-plane",
   "metadata": {},
   "outputs": [
    {
     "data": {
      "text/plain": [
       "array([6, 6, 4, 6, 8, 6, 8, 4, 4, 6, 6, 8, 8, 8, 8, 8, 8, 4, 4, 4, 4, 8,\n",
       "       8, 8, 8, 4, 4, 4, 8, 6, 8, 4])"
      ]
     },
     "execution_count": 5,
     "metadata": {},
     "output_type": "execute_result"
    }
   ],
   "source": [
    "mtcars >> pull(f.cyl)"
   ]
  },
  {
   "cell_type": "code",
   "execution_count": 6,
   "id": "entire-elephant",
   "metadata": {},
   "outputs": [
    {
     "data": {
      "text/plain": [
       "array([10, 18, 24, 28, 30, 30, 28, 24, 18, 10])"
      ]
     },
     "execution_count": 6,
     "metadata": {},
     "output_type": "execute_result"
    }
   ],
   "source": [
    "df = tibble(x=range(1, 11), y=range(10, 0, -1))\n",
    "df >> mutate(z=f.x*f.y) >> pull()"
   ]
  },
  {
   "cell_type": "code",
   "execution_count": 7,
   "id": "directed-october",
   "metadata": {},
   "outputs": [
    {
     "data": {
      "text/plain": [
       "[('Luke Skywalker', 172.0),\n",
       " ('C-3PO', 167.0),\n",
       " ('R2-D2', 96.0),\n",
       " ('Darth Vader', 202.0),\n",
       " ('Leia Organa', 150.0),\n",
       " ('Owen Lars', 178.0),\n",
       " ('Beru Whitesun lars', 165.0),\n",
       " ('R5-D4', 97.0),\n",
       " ('Biggs Darklighter', 183.0),\n",
       " ('Obi-Wan Kenobi', 182.0),\n",
       " ('Anakin Skywalker', 188.0),\n",
       " ('Wilhuff Tarkin', 180.0),\n",
       " ('Chewbacca', 228.0),\n",
       " ('Han Solo', 180.0),\n",
       " ('Greedo', 173.0),\n",
       " ('Jabba Desilijic Tiure', 175.0),\n",
       " ('Wedge Antilles', 170.0),\n",
       " ('Jek Tono Porkins', 180.0),\n",
       " ('Yoda', 66.0),\n",
       " ('Palpatine', 170.0),\n",
       " ('Boba Fett', 183.0),\n",
       " ('IG-88', 200.0),\n",
       " ('Bossk', 190.0),\n",
       " ('Lando Calrissian', 177.0),\n",
       " ('Lobot', 175.0),\n",
       " ('Ackbar', 180.0),\n",
       " ('Mon Mothma', 150.0),\n",
       " ('Arvel Crynyd', nan),\n",
       " ('Wicket Systri Warrick', 88.0),\n",
       " ('Nien Nunb', 160.0),\n",
       " ('Qui-Gon Jinn', 193.0),\n",
       " ('Nute Gunray', 191.0),\n",
       " ('Finis Valorum', 170.0),\n",
       " ('Jar Jar Binks', 196.0),\n",
       " ('Roos Tarpals', 224.0),\n",
       " ('Rugor Nass', 206.0),\n",
       " ('Ric Olié', 183.0),\n",
       " ('Watto', 137.0),\n",
       " ('Sebulba', 112.0),\n",
       " ('Quarsh Panaka', 183.0),\n",
       " ('Shmi Skywalker', 163.0),\n",
       " ('Darth Maul', 175.0),\n",
       " ('Bib Fortuna', 180.0),\n",
       " ('Ayla Secura', 178.0),\n",
       " ('Dud Bolt', 94.0),\n",
       " ('Gasgano', 122.0),\n",
       " ('Ben Quadinaros', 163.0),\n",
       " ('Mace Windu', 188.0),\n",
       " ('Ki-Adi-Mundi', 198.0),\n",
       " ('Kit Fisto', 196.0),\n",
       " ('Eeth Koth', 171.0),\n",
       " ('Adi Gallia', 184.0),\n",
       " ('Saesee Tiin', 188.0),\n",
       " ('Yarael Poof', 264.0),\n",
       " ('Plo Koon', 188.0),\n",
       " ('Mas Amedda', 196.0),\n",
       " ('Gregar Typho', 185.0),\n",
       " ('Cordé', 157.0),\n",
       " ('Cliegg Lars', 183.0),\n",
       " ('Poggle the Lesser', 183.0),\n",
       " ('Luminara Unduli', 170.0),\n",
       " ('Barriss Offee', 166.0),\n",
       " ('Dormé', 165.0),\n",
       " ('Dooku', 193.0),\n",
       " ('Bail Prestor Organa', 191.0),\n",
       " ('Jango Fett', 183.0),\n",
       " ('Zam Wesell', 168.0),\n",
       " ('Dexter Jettster', 198.0),\n",
       " ('Lama Su', 229.0),\n",
       " ('Taun We', 213.0),\n",
       " ('Jocasta Nu', 167.0),\n",
       " ('Ratts Tyerell', 79.0),\n",
       " ('R4-P17', 96.0),\n",
       " ('Wat Tambor', 193.0),\n",
       " ('San Hill', 191.0),\n",
       " ('Shaak Ti', 178.0),\n",
       " ('Grievous', 216.0),\n",
       " ('Tarfful', 234.0),\n",
       " ('Raymus Antilles', 188.0),\n",
       " ('Sly Moore', 178.0),\n",
       " ('Tion Medon', 206.0),\n",
       " ('Finn', nan),\n",
       " ('Rey', nan),\n",
       " ('Poe Dameron', nan),\n",
       " ('BB8', nan),\n",
       " ('Captain Phasma', nan),\n",
       " ('Padmé Amidala', 165.0)]"
      ]
     },
     "execution_count": 7,
     "metadata": {},
     "output_type": "execute_result"
    }
   ],
   "source": [
    "list(starwars >> pull(f.height, f.name))"
   ]
  }
 ],
 "metadata": {
  "kernelspec": {
   "display_name": "Python 3",
   "language": "python",
   "name": "python3"
  },
  "language_info": {
   "codemirror_mode": {
    "name": "ipython",
    "version": 3
   },
   "file_extension": ".py",
   "mimetype": "text/x-python",
   "name": "python",
   "nbconvert_exporter": "python",
   "pygments_lexer": "ipython3",
   "version": "3.7.8"
  }
 },
 "nbformat": 4,
 "nbformat_minor": 5
}
