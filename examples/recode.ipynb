{
 "cells": [
  {
   "cell_type": "code",
   "execution_count": 1,
   "id": "suspended-cholesterol",
   "metadata": {},
   "outputs": [],
   "source": [
    "# https://dplyr.tidyverse.org/reference/recode.html\n",
    "\n",
    "from datar.all import *"
   ]
  },
  {
   "cell_type": "code",
   "execution_count": 2,
   "id": "governmental-opera",
   "metadata": {},
   "outputs": [
    {
     "data": {
      "text/plain": [
       "['b', 'c', 'Apple', 'c', 'Apple', 'c', 'Apple', 'c', 'b', 'Apple']"
      ]
     },
     "execution_count": 2,
     "metadata": {},
     "output_type": "execute_result"
    }
   ],
   "source": [
    "char_vec = sample(c(\"a\", \"b\", \"c\"), 10, replace=True)\n",
    "recode(char_vec, a=\"Apple\")"
   ]
  },
  {
   "cell_type": "code",
   "execution_count": 3,
   "id": "illegal-specific",
   "metadata": {},
   "outputs": [
    {
     "data": {
      "text/plain": [
       "['Banana', 'c', 'Apple', 'c', 'Apple', 'c', 'Apple', 'c', 'Banana', 'Apple']"
      ]
     },
     "execution_count": 3,
     "metadata": {},
     "output_type": "execute_result"
    }
   ],
   "source": [
    "recode(char_vec, a=\"Apple\", b=\"Banana\")"
   ]
  },
  {
   "cell_type": "code",
   "execution_count": 4,
   "id": "sonic-garbage",
   "metadata": {},
   "outputs": [
    {
     "data": {
      "text/plain": [
       "['Banana', nan, 'Apple', nan, 'Apple', nan, 'Apple', nan, 'Banana', 'Apple']"
      ]
     },
     "execution_count": 4,
     "metadata": {},
     "output_type": "execute_result"
    }
   ],
   "source": [
    "recode(char_vec, a=\"Apple\", b=\"Banana\", _default = NA)"
   ]
  },
  {
   "cell_type": "code",
   "execution_count": 5,
   "id": "suburban-cornwall",
   "metadata": {},
   "outputs": [
    {
     "data": {
      "text/plain": [
       "['banana',\n",
       " 'carrot',\n",
       " 'apple',\n",
       " 'carrot',\n",
       " 'apple',\n",
       " 'carrot',\n",
       " 'apple',\n",
       " 'carrot',\n",
       " 'banana',\n",
       " 'apple']"
      ]
     },
     "execution_count": 5,
     "metadata": {},
     "output_type": "execute_result"
    }
   ],
   "source": [
    "level_key = dict(a=\"apple\", b=\"banana\", c=\"carrot\")\n",
    "recode(char_vec, **level_key)"
   ]
  },
  {
   "cell_type": "code",
   "execution_count": 6,
   "id": "golden-pursuit",
   "metadata": {},
   "outputs": [
    {
     "data": {
      "text/plain": [
       "[0.0, 20, 2.0, 40, nan]"
      ]
     },
     "execution_count": 6,
     "metadata": {},
     "output_type": "execute_result"
    }
   ],
   "source": [
    "num_vec = c(range(4), NA)\n",
    "recode(num_vec, {1: 20, 3: 40})"
   ]
  },
  {
   "cell_type": "code",
   "execution_count": 7,
   "id": "circular-extent",
   "metadata": {},
   "outputs": [
    {
     "data": {
      "text/plain": [
       "['a', 'b', 'c', 'd', nan]"
      ]
     },
     "execution_count": 7,
     "metadata": {},
     "output_type": "execute_result"
    }
   ],
   "source": [
    "recode(num_vec, \"a\", \"b\", \"c\", \"d\")"
   ]
  },
  {
   "cell_type": "code",
   "execution_count": 8,
   "id": "sharp-configuration",
   "metadata": {},
   "outputs": [
    {
     "data": {
      "text/plain": [
       "['a', 'nothing', 'c']"
      ]
     },
     "execution_count": 8,
     "metadata": {},
     "output_type": "execute_result"
    }
   ],
   "source": [
    "recode(c(0,4,2), \"a\", \"b\", \"c\", \"d\", _default=\"nothing\")"
   ]
  },
  {
   "cell_type": "code",
   "execution_count": 9,
   "id": "quality-organization",
   "metadata": {},
   "outputs": [
    {
     "data": {
      "text/plain": [
       "[0.0, 'b', 2.0, 'd', nan]"
      ]
     },
     "execution_count": 9,
     "metadata": {},
     "output_type": "execute_result"
    }
   ],
   "source": [
    "recode(num_vec, {1: \"b\", 3: \"d\"})"
   ]
  },
  {
   "cell_type": "code",
   "execution_count": 10,
   "id": "waiting-married",
   "metadata": {},
   "outputs": [
    {
     "data": {
      "text/plain": [
       "['a', 'b', 'c', 'other', nan]"
      ]
     },
     "execution_count": 10,
     "metadata": {},
     "output_type": "execute_result"
    }
   ],
   "source": [
    "recode(num_vec, \"a\", \"b\", \"c\", _default=\"other\")"
   ]
  },
  {
   "cell_type": "code",
   "execution_count": 11,
   "id": "digital-enclosure",
   "metadata": {},
   "outputs": [
    {
     "data": {
      "text/plain": [
       "['a', 'b', 'c', 'other', 'missing']"
      ]
     },
     "execution_count": 11,
     "metadata": {},
     "output_type": "execute_result"
    }
   ],
   "source": [
    "recode(num_vec, \"a\", \"b\", \"c\", _default=\"other\", _missing=\"missing\")"
   ]
  },
  {
   "cell_type": "code",
   "execution_count": 12,
   "id": "round-swing",
   "metadata": {},
   "outputs": [
    {
     "data": {
      "text/plain": [
       "['a', 'b', 'c']\n",
       "Categories (3, object): ['a', 'b', 'c']"
      ]
     },
     "execution_count": 12,
     "metadata": {},
     "output_type": "execute_result"
    }
   ],
   "source": [
    "factor_vec = factor(c(\"a\", \"b\", \"c\"))\n",
    "factor_vec"
   ]
  },
  {
   "cell_type": "code",
   "execution_count": 13,
   "id": "exempt-lincoln",
   "metadata": {},
   "outputs": [
    {
     "data": {
      "text/plain": [
       "['Apple', 'b', 'c']"
      ]
     },
     "execution_count": 13,
     "metadata": {},
     "output_type": "execute_result"
    }
   ],
   "source": [
    "# categories lost\n",
    "recode(factor_vec, a=\"Apple\")"
   ]
  },
  {
   "cell_type": "code",
   "execution_count": 14,
   "id": "responsible-superintendent",
   "metadata": {},
   "outputs": [
    {
     "data": {
      "text/plain": [
       "['Apple', NaN, NaN]\n",
       "Categories (1, object): ['Apple']"
      ]
     },
     "execution_count": 14,
     "metadata": {},
     "output_type": "execute_result"
    }
   ],
   "source": [
    "recode_factor(factor_vec, a=\"Apple\")"
   ]
  },
  {
   "cell_type": "code",
   "execution_count": 15,
   "id": "figured-valuable",
   "metadata": {},
   "outputs": [
    {
     "data": {
      "text/plain": [
       "['z', 'y', 'x', 3.0, NaN]\n",
       "Categories (4, object): ['z', 'y', 'x', 3.0]"
      ]
     },
     "execution_count": 15,
     "metadata": {},
     "output_type": "execute_result"
    }
   ],
   "source": [
    "recode_factor(num_vec, {0: \"z\", 1: \"y\", 2: \"x\"})"
   ]
  },
  {
   "cell_type": "code",
   "execution_count": 16,
   "id": "junior-courtesy",
   "metadata": {},
   "outputs": [
    {
     "data": {
      "text/plain": [
       "['z', 'y', 'x', 'D', NaN]\n",
       "Categories (4, object): ['z', 'y', 'x', 'D']"
      ]
     },
     "execution_count": 16,
     "metadata": {},
     "output_type": "execute_result"
    }
   ],
   "source": [
    "recode_factor(num_vec, {0: \"z\", 1: \"y\", 2: \"x\"}, _default=\"D\")"
   ]
  },
  {
   "cell_type": "code",
   "execution_count": 17,
   "id": "renewable-andrews",
   "metadata": {},
   "outputs": [
    {
     "data": {
      "text/plain": [
       "['z', 'y', 'x', 'D', 'M']\n",
       "Categories (5, object): ['z', 'y', 'x', 'D', 'M']"
      ]
     },
     "execution_count": 17,
     "metadata": {},
     "output_type": "execute_result"
    }
   ],
   "source": [
    "recode_factor(num_vec, {0: \"z\", 1: \"y\", 2: \"x\"}, _default=\"D\", _missing=\"M\")"
   ]
  },
  {
   "cell_type": "code",
   "execution_count": 18,
   "id": "three-monthly",
   "metadata": {},
   "outputs": [
    {
     "data": {
      "text/plain": [
       "['a', 'z', 'y']\n",
       "Categories (3, object): ['a', 'z', 'y']"
      ]
     },
     "execution_count": 18,
     "metadata": {},
     "output_type": "execute_result"
    }
   ],
   "source": [
    "recode_factor(list(letters[:3]), b=\"z\", c=\"y\")"
   ]
  },
  {
   "cell_type": "code",
   "execution_count": 19,
   "id": "liberal-thompson",
   "metadata": {},
   "outputs": [
    {
     "data": {
      "text/plain": [
       "['banana', 'carrot', 'apple', 'carrot', 'apple', 'carrot', 'apple', 'carrot', 'banana', 'apple']\n",
       "Categories (3, object): ['banana', 'carrot', 'apple']"
      ]
     },
     "execution_count": 19,
     "metadata": {},
     "output_type": "execute_result"
    }
   ],
   "source": [
    "level_key = dict(a=\"apple\", b=\"banana\", c=\"carrot\")\n",
    "recode_factor(char_vec, **level_key)"
   ]
  }
 ],
 "metadata": {
  "kernelspec": {
   "display_name": "Python 3",
   "language": "python",
   "name": "python3"
  },
  "language_info": {
   "codemirror_mode": {
    "name": "ipython",
    "version": 3
   },
   "file_extension": ".py",
   "mimetype": "text/x-python",
   "name": "python",
   "nbconvert_exporter": "python",
   "pygments_lexer": "ipython3",
   "version": "3.7.8"
  }
 },
 "nbformat": 4,
 "nbformat_minor": 5
}
