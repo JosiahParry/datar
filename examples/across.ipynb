{
 "metadata": {
  "language_info": {
   "codemirror_mode": {
    "name": "ipython",
    "version": 3
   },
   "file_extension": ".py",
   "mimetype": "text/x-python",
   "name": "python",
   "nbconvert_exporter": "python",
   "pygments_lexer": "ipython3",
   "version": "3.7.8-final"
  },
  "orig_nbformat": 2,
  "kernelspec": {
   "name": "python3",
   "display_name": "Python 3.7.8 64-bit ('base': conda)",
   "metadata": {
    "interpreter": {
     "hash": "c4cc73b080e063fcebb9afb794613be7caf4b26129562cba1382945a18cc49cc"
    }
   }
  }
 },
 "nbformat": 4,
 "nbformat_minor": 2,
 "cells": [
  {
   "cell_type": "code",
   "execution_count": 1,
   "metadata": {},
   "outputs": [],
   "source": [
    "# https://dplyr.tidyverse.org/reference/across.html\n",
    "import numpy\n",
    "\n",
    "from plyrda.data import iris\n",
    "from plyrda.all import *"
   ]
  },
  {
   "cell_type": "code",
   "execution_count": 2,
   "metadata": {},
   "outputs": [
    {
     "output_type": "execute_result",
     "data": {
      "text/plain": [
       "      Species  Sepal.Length  Sepal.Width\n",
       "0      setosa         5.006        3.428\n",
       "1  versicolor         5.936        2.770\n",
       "2   virginica         6.588        2.974"
      ],
      "text/html": "<div>\n<style scoped>\n    .dataframe tbody tr th:only-of-type {\n        vertical-align: middle;\n    }\n\n    .dataframe tbody tr th {\n        vertical-align: top;\n    }\n\n    .dataframe thead th {\n        text-align: right;\n    }\n</style>\n<table border=\"1\" class=\"dataframe\">\n  <thead>\n    <tr style=\"text-align: right;\">\n      <th></th>\n      <th>Species</th>\n      <th>Sepal.Length</th>\n      <th>Sepal.Width</th>\n    </tr>\n  </thead>\n  <tbody>\n    <tr>\n      <th>0</th>\n      <td>setosa</td>\n      <td>5.006</td>\n      <td>3.428</td>\n    </tr>\n    <tr>\n      <th>1</th>\n      <td>versicolor</td>\n      <td>5.936</td>\n      <td>2.770</td>\n    </tr>\n    <tr>\n      <th>2</th>\n      <td>virginica</td>\n      <td>6.588</td>\n      <td>2.974</td>\n    </tr>\n  </tbody>\n</table>\n</div>"
     },
     "metadata": {},
     "execution_count": 2
    }
   ],
   "source": [
    "iris >> group_by(f.Species) >> summarise(across(starts_with(\"Sepal\"), mean))"
   ]
  },
  {
   "cell_type": "code",
   "execution_count": 3,
   "metadata": {},
   "outputs": [
    {
     "output_type": "execute_result",
     "data": {
      "text/plain": [
       "Sepal.Length     float64\n",
       "Sepal.Width      float64\n",
       "Petal.Length     float64\n",
       "Petal.Width      float64\n",
       "Species         category\n",
       "dtype: object"
      ]
     },
     "metadata": {},
     "execution_count": 3
    }
   ],
   "source": [
    "iris = iris >> mutate(Species=as_categorical(f.Species))\n",
    "iris.dtypes"
   ]
  },
  {
   "cell_type": "code",
   "execution_count": 4,
   "metadata": {},
   "outputs": [
    {
     "output_type": "execute_result",
     "data": {
      "text/plain": [
       "Sepal.Length    float64\n",
       "Sepal.Width     float64\n",
       "Petal.Length    float64\n",
       "Petal.Width     float64\n",
       "Species          object\n",
       "dtype: object"
      ]
     },
     "metadata": {},
     "execution_count": 4
    }
   ],
   "source": [
    "iris = iris >> mutate(across(where(is_categorical), as_character))\n",
    "iris.dtypes"
   ]
  },
  {
   "cell_type": "code",
   "execution_count": 5,
   "metadata": {},
   "outputs": [
    {
     "output_type": "execute_result",
     "data": {
      "text/plain": [
       "      Species  Sepal.Length  Sepal.Width\n",
       "0      setosa         5.006        3.428\n",
       "1  versicolor         5.936        2.770\n",
       "2   virginica         6.588        2.974"
      ],
      "text/html": "<div>\n<style scoped>\n    .dataframe tbody tr th:only-of-type {\n        vertical-align: middle;\n    }\n\n    .dataframe tbody tr th {\n        vertical-align: top;\n    }\n\n    .dataframe thead th {\n        text-align: right;\n    }\n</style>\n<table border=\"1\" class=\"dataframe\">\n  <thead>\n    <tr style=\"text-align: right;\">\n      <th></th>\n      <th>Species</th>\n      <th>Sepal.Length</th>\n      <th>Sepal.Width</th>\n    </tr>\n  </thead>\n  <tbody>\n    <tr>\n      <th>0</th>\n      <td>setosa</td>\n      <td>5.006</td>\n      <td>3.428</td>\n    </tr>\n    <tr>\n      <th>1</th>\n      <td>versicolor</td>\n      <td>5.936</td>\n      <td>2.770</td>\n    </tr>\n    <tr>\n      <th>2</th>\n      <td>virginica</td>\n      <td>6.588</td>\n      <td>2.974</td>\n    </tr>\n  </tbody>\n</table>\n</div>"
     },
     "metadata": {},
     "execution_count": 5
    }
   ],
   "source": [
    "iris >> group_by(f.Species) >> summarise(\n",
    "    across(starts_with(\"Sepal\"), mean, na_rm=True)\n",
    ")"
   ]
  },
  {
   "cell_type": "code",
   "execution_count": 6,
   "metadata": {},
   "outputs": [
    {
     "output_type": "execute_result",
     "data": {
      "text/plain": [
       "      Species  Sepal.Length_mean  Sepal.Length_sd  Sepal.Width_mean  \\\n",
       "0      setosa              5.006         0.352490             3.428   \n",
       "1  versicolor              5.936         0.516171             2.770   \n",
       "2   virginica              6.588         0.635880             2.974   \n",
       "\n",
       "   Sepal.Width_sd  \n",
       "0        0.379064  \n",
       "1        0.313798  \n",
       "2        0.322497  "
      ],
      "text/html": "<div>\n<style scoped>\n    .dataframe tbody tr th:only-of-type {\n        vertical-align: middle;\n    }\n\n    .dataframe tbody tr th {\n        vertical-align: top;\n    }\n\n    .dataframe thead th {\n        text-align: right;\n    }\n</style>\n<table border=\"1\" class=\"dataframe\">\n  <thead>\n    <tr style=\"text-align: right;\">\n      <th></th>\n      <th>Species</th>\n      <th>Sepal.Length_mean</th>\n      <th>Sepal.Length_sd</th>\n      <th>Sepal.Width_mean</th>\n      <th>Sepal.Width_sd</th>\n    </tr>\n  </thead>\n  <tbody>\n    <tr>\n      <th>0</th>\n      <td>setosa</td>\n      <td>5.006</td>\n      <td>0.352490</td>\n      <td>3.428</td>\n      <td>0.379064</td>\n    </tr>\n    <tr>\n      <th>1</th>\n      <td>versicolor</td>\n      <td>5.936</td>\n      <td>0.516171</td>\n      <td>2.770</td>\n      <td>0.313798</td>\n    </tr>\n    <tr>\n      <th>2</th>\n      <td>virginica</td>\n      <td>6.588</td>\n      <td>0.635880</td>\n      <td>2.974</td>\n      <td>0.322497</td>\n    </tr>\n  </tbody>\n</table>\n</div>"
     },
     "metadata": {},
     "execution_count": 6
    }
   ],
   "source": [
    "iris >> group_by(f.Species) >> summarise(\n",
    "    across(starts_with(\"Sepal\"), dict(mean=mean, sd=sd))\n",
    ")"
   ]
  },
  {
   "cell_type": "code",
   "execution_count": 7,
   "metadata": {},
   "outputs": [
    {
     "output_type": "execute_result",
     "data": {
      "text/plain": [
       "      Species  mean_Sepal.Length  mean_Sepal.Width\n",
       "0      setosa              5.006             3.428\n",
       "1  versicolor              5.936             2.770\n",
       "2   virginica              6.588             2.974"
      ],
      "text/html": "<div>\n<style scoped>\n    .dataframe tbody tr th:only-of-type {\n        vertical-align: middle;\n    }\n\n    .dataframe tbody tr th {\n        vertical-align: top;\n    }\n\n    .dataframe thead th {\n        text-align: right;\n    }\n</style>\n<table border=\"1\" class=\"dataframe\">\n  <thead>\n    <tr style=\"text-align: right;\">\n      <th></th>\n      <th>Species</th>\n      <th>mean_Sepal.Length</th>\n      <th>mean_Sepal.Width</th>\n    </tr>\n  </thead>\n  <tbody>\n    <tr>\n      <th>0</th>\n      <td>setosa</td>\n      <td>5.006</td>\n      <td>3.428</td>\n    </tr>\n    <tr>\n      <th>1</th>\n      <td>versicolor</td>\n      <td>5.936</td>\n      <td>2.770</td>\n    </tr>\n    <tr>\n      <th>2</th>\n      <td>virginica</td>\n      <td>6.588</td>\n      <td>2.974</td>\n    </tr>\n  </tbody>\n</table>\n</div>"
     },
     "metadata": {},
     "execution_count": 7
    }
   ],
   "source": [
    "iris >> group_by(f.Species) >> summarise(\n",
    "    across(starts_with(\"Sepal\"), mean, _names = \"mean_{_col}\")\n",
    ")"
   ]
  },
  {
   "cell_type": "code",
   "execution_count": 8,
   "metadata": {},
   "outputs": [
    {
     "output_type": "execute_result",
     "data": {
      "text/plain": [
       "      Species  Sepal.Length.mean  Sepal.Length.sd  Sepal.Width.mean  \\\n",
       "0      setosa              5.006         0.352490             3.428   \n",
       "1  versicolor              5.936         0.516171             2.770   \n",
       "2   virginica              6.588         0.635880             2.974   \n",
       "\n",
       "   Sepal.Width.sd  \n",
       "0        0.379064  \n",
       "1        0.313798  \n",
       "2        0.322497  "
      ],
      "text/html": "<div>\n<style scoped>\n    .dataframe tbody tr th:only-of-type {\n        vertical-align: middle;\n    }\n\n    .dataframe tbody tr th {\n        vertical-align: top;\n    }\n\n    .dataframe thead th {\n        text-align: right;\n    }\n</style>\n<table border=\"1\" class=\"dataframe\">\n  <thead>\n    <tr style=\"text-align: right;\">\n      <th></th>\n      <th>Species</th>\n      <th>Sepal.Length.mean</th>\n      <th>Sepal.Length.sd</th>\n      <th>Sepal.Width.mean</th>\n      <th>Sepal.Width.sd</th>\n    </tr>\n  </thead>\n  <tbody>\n    <tr>\n      <th>0</th>\n      <td>setosa</td>\n      <td>5.006</td>\n      <td>0.352490</td>\n      <td>3.428</td>\n      <td>0.379064</td>\n    </tr>\n    <tr>\n      <th>1</th>\n      <td>versicolor</td>\n      <td>5.936</td>\n      <td>0.516171</td>\n      <td>2.770</td>\n      <td>0.313798</td>\n    </tr>\n    <tr>\n      <th>2</th>\n      <td>virginica</td>\n      <td>6.588</td>\n      <td>0.635880</td>\n      <td>2.974</td>\n      <td>0.322497</td>\n    </tr>\n  </tbody>\n</table>\n</div>"
     },
     "metadata": {},
     "execution_count": 8
    }
   ],
   "source": [
    "iris >> group_by(f.Species) >> summarise(\n",
    "    across(starts_with(\"Sepal\"), dict(mean=mean, sd=sd), _names = \"{_col}.{_fn}\")\n",
    ")"
   ]
  },
  {
   "cell_type": "code",
   "execution_count": 9,
   "metadata": {},
   "outputs": [
    {
     "output_type": "execute_result",
     "data": {
      "text/plain": [
       "      Species  Sepal.Length.fn1  Sepal.Length.fn2  Sepal.Width.fn1  \\\n",
       "0      setosa             5.006          0.352490            3.428   \n",
       "1  versicolor             5.936          0.516171            2.770   \n",
       "2   virginica             6.588          0.635880            2.974   \n",
       "\n",
       "   Sepal.Width.fn2  \n",
       "0         0.379064  \n",
       "1         0.313798  \n",
       "2         0.322497  "
      ],
      "text/html": "<div>\n<style scoped>\n    .dataframe tbody tr th:only-of-type {\n        vertical-align: middle;\n    }\n\n    .dataframe tbody tr th {\n        vertical-align: top;\n    }\n\n    .dataframe thead th {\n        text-align: right;\n    }\n</style>\n<table border=\"1\" class=\"dataframe\">\n  <thead>\n    <tr style=\"text-align: right;\">\n      <th></th>\n      <th>Species</th>\n      <th>Sepal.Length.fn1</th>\n      <th>Sepal.Length.fn2</th>\n      <th>Sepal.Width.fn1</th>\n      <th>Sepal.Width.fn2</th>\n    </tr>\n  </thead>\n  <tbody>\n    <tr>\n      <th>0</th>\n      <td>setosa</td>\n      <td>5.006</td>\n      <td>0.352490</td>\n      <td>3.428</td>\n      <td>0.379064</td>\n    </tr>\n    <tr>\n      <th>1</th>\n      <td>versicolor</td>\n      <td>5.936</td>\n      <td>0.516171</td>\n      <td>2.770</td>\n      <td>0.313798</td>\n    </tr>\n    <tr>\n      <th>2</th>\n      <td>virginica</td>\n      <td>6.588</td>\n      <td>0.635880</td>\n      <td>2.974</td>\n      <td>0.322497</td>\n    </tr>\n  </tbody>\n</table>\n</div>"
     },
     "metadata": {},
     "execution_count": 9
    }
   ],
   "source": [
    "iris >> group_by(f.Species) >> summarise(\n",
    "    across(starts_with(\"Sepal\"), [mean, sd], _names = \"{_col}.fn{_fn}\")\n",
    ")"
   ]
  },
  {
   "cell_type": "code",
   "execution_count": 10,
   "metadata": {
    "tags": []
   },
   "outputs": [
    {
     "output_type": "execute_result",
     "data": {
      "text/plain": [
       "   id         w         x         y         z       sum        sd\n",
       "0   1  0.038454  0.397815  0.046899  0.317985  0.801153  0.184922\n",
       "1   2  0.091360  0.692043  0.707625  0.155806  1.646833  0.333798\n",
       "2   3  0.642619  0.098516  0.904329  0.335591  1.981055  0.352114\n",
       "3   4  0.902924  0.370697  0.840548  0.961739  3.075908  0.270091"
      ],
      "text/html": "<div>\n<style scoped>\n    .dataframe tbody tr th:only-of-type {\n        vertical-align: middle;\n    }\n\n    .dataframe tbody tr th {\n        vertical-align: top;\n    }\n\n    .dataframe thead th {\n        text-align: right;\n    }\n</style>\n<table border=\"1\" class=\"dataframe\">\n  <thead>\n    <tr style=\"text-align: right;\">\n      <th></th>\n      <th>id</th>\n      <th>w</th>\n      <th>x</th>\n      <th>y</th>\n      <th>z</th>\n      <th>sum</th>\n      <th>sd</th>\n    </tr>\n  </thead>\n  <tbody>\n    <tr>\n      <th>0</th>\n      <td>1</td>\n      <td>0.038454</td>\n      <td>0.397815</td>\n      <td>0.046899</td>\n      <td>0.317985</td>\n      <td>0.801153</td>\n      <td>0.184922</td>\n    </tr>\n    <tr>\n      <th>1</th>\n      <td>2</td>\n      <td>0.091360</td>\n      <td>0.692043</td>\n      <td>0.707625</td>\n      <td>0.155806</td>\n      <td>1.646833</td>\n      <td>0.333798</td>\n    </tr>\n    <tr>\n      <th>2</th>\n      <td>3</td>\n      <td>0.642619</td>\n      <td>0.098516</td>\n      <td>0.904329</td>\n      <td>0.335591</td>\n      <td>1.981055</td>\n      <td>0.352114</td>\n    </tr>\n    <tr>\n      <th>3</th>\n      <td>4</td>\n      <td>0.902924</td>\n      <td>0.370697</td>\n      <td>0.840548</td>\n      <td>0.961739</td>\n      <td>3.075908</td>\n      <td>0.270091</td>\n    </tr>\n  </tbody>\n</table>\n</div>"
     },
     "metadata": {},
     "execution_count": 10
    }
   ],
   "source": [
    "runif = numpy.random.default_rng(8525).random\n",
    "df = DataFrame(dict(\n",
    "    id=[1, 2, 3, 4], \n",
    "    w=runif(4), \n",
    "    x=runif(4), \n",
    "    y=runif(4), \n",
    "    z=runif(4)\n",
    "))\n",
    "df >> rowwise() >> mutate(\n",
    "    sum = c_across(f.w // f.z, sum), # function has to be called inside c_across\n",
    "    sd = c_across(f.w // f.z, sd)\n",
    ")"
   ]
  }
 ]
}