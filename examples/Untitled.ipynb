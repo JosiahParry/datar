{
 "cells": [
  {
   "cell_type": "code",
   "execution_count": 1,
   "id": "threatened-ready",
   "metadata": {},
   "outputs": [
    {
     "name": "stdout",
     "output_type": "stream",
     "text": [
      "[1, 2, 3]\n"
     ]
    },
    {
     "data": {
      "text/html": [
       "<div>\n",
       "<style scoped>\n",
       "    .dataframe tbody tr th:only-of-type {\n",
       "        vertical-align: middle;\n",
       "    }\n",
       "\n",
       "    .dataframe tbody tr th {\n",
       "        vertical-align: top;\n",
       "    }\n",
       "\n",
       "    .dataframe thead th {\n",
       "        text-align: right;\n",
       "    }\n",
       "</style>\n",
       "<table border=\"1\" class=\"dataframe\">\n",
       "  <thead>\n",
       "    <tr style=\"text-align: right;\">\n",
       "      <th></th>\n",
       "      <th>a</th>\n",
       "    </tr>\n",
       "  </thead>\n",
       "  <tbody>\n",
       "    <tr>\n",
       "      <th>0</th>\n",
       "      <td>-1</td>\n",
       "    </tr>\n",
       "    <tr>\n",
       "      <th>1</th>\n",
       "      <td>-2</td>\n",
       "    </tr>\n",
       "    <tr>\n",
       "      <th>2</th>\n",
       "      <td>-3</td>\n",
       "    </tr>\n",
       "  </tbody>\n",
       "</table>\n",
       "</div>"
      ],
      "text/plain": [
       "   a\n",
       "0 -1\n",
       "1 -2\n",
       "2 -3"
      ]
     },
     "execution_count": 1,
     "metadata": {},
     "output_type": "execute_result"
    }
   ],
   "source": [
    "from pandas.core.series import Series\n",
    "from pandas import DataFrame\n",
    "import numpy, pandas\n",
    "\n",
    "def func(x):\n",
    "    print(list(x))\n",
    "    return -x\n",
    "\n",
    "df = DataFrame(dict(a=[1,2,3]))\n",
    "df.apply(func)"
   ]
  },
  {
   "cell_type": "code",
   "execution_count": 2,
   "id": "protective-legislation",
   "metadata": {},
   "outputs": [],
   "source": [
    "df['b'] = ['a', 'a', 'b']\n",
    "df['c'] = [1, numpy.nan, 2]"
   ]
  },
  {
   "cell_type": "code",
   "execution_count": 3,
   "id": "guided-surgeon",
   "metadata": {},
   "outputs": [
    {
     "data": {
      "text/html": [
       "<div>\n",
       "<style scoped>\n",
       "    .dataframe tbody tr th:only-of-type {\n",
       "        vertical-align: middle;\n",
       "    }\n",
       "\n",
       "    .dataframe tbody tr th {\n",
       "        vertical-align: top;\n",
       "    }\n",
       "\n",
       "    .dataframe thead th {\n",
       "        text-align: right;\n",
       "    }\n",
       "</style>\n",
       "<table border=\"1\" class=\"dataframe\">\n",
       "  <thead>\n",
       "    <tr style=\"text-align: right;\">\n",
       "      <th></th>\n",
       "      <th>a</th>\n",
       "      <th>b</th>\n",
       "      <th>c</th>\n",
       "    </tr>\n",
       "    <tr>\n",
       "      <th>b</th>\n",
       "      <th></th>\n",
       "      <th></th>\n",
       "      <th></th>\n",
       "    </tr>\n",
       "  </thead>\n",
       "  <tbody>\n",
       "    <tr>\n",
       "      <th>a</th>\n",
       "      <td>1</td>\n",
       "      <td>a</td>\n",
       "      <td>1.0</td>\n",
       "    </tr>\n",
       "    <tr>\n",
       "      <th>b</th>\n",
       "      <td>3</td>\n",
       "      <td>b</td>\n",
       "      <td>2.0</td>\n",
       "    </tr>\n",
       "  </tbody>\n",
       "</table>\n",
       "</div>"
      ],
      "text/plain": [
       "   a  b    c\n",
       "b           \n",
       "a  1  a  1.0\n",
       "b  3  b  2.0"
      ]
     },
     "execution_count": 3,
     "metadata": {},
     "output_type": "execute_result"
    }
   ],
   "source": [
    "g = df.groupby('b')\n",
    "g.apply(min)"
   ]
  },
  {
   "cell_type": "code",
   "execution_count": 4,
   "id": "guilty-rochester",
   "metadata": {},
   "outputs": [
    {
     "data": {
      "text/plain": [
       "0    2\n",
       "1    1\n",
       "2    3\n",
       "Name: a, dtype: int64"
      ]
     },
     "execution_count": 4,
     "metadata": {},
     "output_type": "execute_result"
    }
   ],
   "source": [
    "g['a'].transform(lambda x: x[::-1])"
   ]
  },
  {
   "cell_type": "code",
   "execution_count": 5,
   "id": "racial-forward",
   "metadata": {},
   "outputs": [
    {
     "data": {
      "text/plain": [
       "0    1\n",
       "1    2\n",
       "2    3\n",
       "Name: a, dtype: int64"
      ]
     },
     "execution_count": 5,
     "metadata": {},
     "output_type": "execute_result"
    }
   ],
   "source": [
    "g['a'].obj"
   ]
  },
  {
   "cell_type": "code",
   "execution_count": 6,
   "id": "upper-locator",
   "metadata": {},
   "outputs": [],
   "source": [
    "x =g['c'].transform(lambda x: x.values[::-1])"
   ]
  },
  {
   "cell_type": "code",
   "execution_count": 7,
   "id": "floral-supplier",
   "metadata": {},
   "outputs": [],
   "source": [
    "y = x.groupby(g.grouper)"
   ]
  },
  {
   "cell_type": "code",
   "execution_count": 8,
   "id": "speaking-producer",
   "metadata": {},
   "outputs": [
    {
     "data": {
      "text/plain": [
       "0    1\n",
       "1    2\n",
       "2    3\n",
       "Name: a, dtype: int64"
      ]
     },
     "execution_count": 8,
     "metadata": {},
     "output_type": "execute_result"
    }
   ],
   "source": [
    "Series(df.a)"
   ]
  },
  {
   "cell_type": "code",
   "execution_count": 16,
   "id": "hidden-intelligence",
   "metadata": {},
   "outputs": [],
   "source": [
    "\n",
    "from pandas.core.groupby.generic import SeriesGroupBy\n",
    "class DescSeries(Series):\n",
    "\n",
    "    @property\n",
    "    def _constructor(self):\n",
    "        return DescSeries\n",
    "\n",
    "class DescSeriesGroupby(SeriesGroupBy):\n",
    "    ..."
   ]
  },
  {
   "cell_type": "code",
   "execution_count": 17,
   "id": "chronic-hunger",
   "metadata": {},
   "outputs": [],
   "source": [
    "d = DescSeries(df.a)"
   ]
  },
  {
   "cell_type": "code",
   "execution_count": 24,
   "id": "included-sweet",
   "metadata": {},
   "outputs": [
    {
     "name": "stdout",
     "output_type": "stream",
     "text": [
      "0    1\n",
      "1    2\n",
      "Name: a, dtype: int64 <class '__main__.DescSeries'>\n",
      "2    3\n",
      "Name: b, dtype: int64 <class '__main__.DescSeries'>\n"
     ]
    }
   ],
   "source": [
    "f = d.groupby(g.grouper).apply(func)"
   ]
  },
  {
   "cell_type": "code",
   "execution_count": 22,
   "id": "sublime-latvia",
   "metadata": {},
   "outputs": [
    {
     "data": {
      "text/plain": [
       "__main__.DescSeries"
      ]
     },
     "execution_count": 22,
     "metadata": {},
     "output_type": "execute_result"
    }
   ],
   "source": [
    "type(f)"
   ]
  },
  {
   "cell_type": "code",
   "execution_count": 23,
   "id": "qualified-palmer",
   "metadata": {},
   "outputs": [],
   "source": [
    "def func(x):\n",
    "    print(x, type(x))"
   ]
  },
  {
   "cell_type": "code",
   "execution_count": 28,
   "id": "informal-patch",
   "metadata": {},
   "outputs": [
    {
     "name": "stdout",
     "output_type": "stream",
     "text": [
      "Help on built-in function round in module builtins:\n",
      "\n",
      "round(number, ndigits=None)\n",
      "    Round a number to a given precision in decimal digits.\n",
      "    \n",
      "    The return value is an integer if ndigits is omitted or None.  Otherwise\n",
      "    the return value has the same type as the number.  ndigits may be negative.\n",
      "\n"
     ]
    }
   ],
   "source": [
    "help(round)"
   ]
  },
  {
   "cell_type": "code",
   "execution_count": 33,
   "id": "stable-individual",
   "metadata": {},
   "outputs": [
    {
     "data": {
      "text/plain": [
       "True"
      ]
     },
     "execution_count": 33,
     "metadata": {},
     "output_type": "execute_result"
    }
   ],
   "source": [
    "x = Series([True, False])\n",
    "any(x.values)"
   ]
  },
  {
   "cell_type": "code",
   "execution_count": 55,
   "id": "median-elements",
   "metadata": {},
   "outputs": [
    {
     "data": {
      "text/plain": [
       "0    1.23\n",
       "1    1.23\n",
       "2    2.00\n",
       "Name: c, dtype: float64"
      ]
     },
     "execution_count": 55,
     "metadata": {},
     "output_type": "execute_result"
    }
   ],
   "source": [
    "df.c.round(2)"
   ]
  },
  {
   "cell_type": "code",
   "execution_count": 56,
   "id": "conscious-consideration",
   "metadata": {},
   "outputs": [
    {
     "data": {
      "text/plain": [
       "0    1.0\n",
       "1    1.0\n",
       "2    2.0\n",
       "Name: c, dtype: float64"
      ]
     },
     "execution_count": 56,
     "metadata": {},
     "output_type": "execute_result"
    }
   ],
   "source": [
    "df.c.round()"
   ]
  }
 ],
 "metadata": {
  "kernelspec": {
   "display_name": "Python 3",
   "language": "python",
   "name": "python3"
  },
  "language_info": {
   "codemirror_mode": {
    "name": "ipython",
    "version": 3
   },
   "file_extension": ".py",
   "mimetype": "text/x-python",
   "name": "python",
   "nbconvert_exporter": "python",
   "pygments_lexer": "ipython3",
   "version": "3.7.8"
  }
 },
 "nbformat": 4,
 "nbformat_minor": 5
}
