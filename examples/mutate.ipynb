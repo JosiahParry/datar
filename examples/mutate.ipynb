{
 "metadata": {
  "language_info": {
   "codemirror_mode": {
    "name": "ipython",
    "version": 3
   },
   "file_extension": ".py",
   "mimetype": "text/x-python",
   "name": "python",
   "nbconvert_exporter": "python",
   "pygments_lexer": "ipython3",
   "version": "3.7.8-final"
  },
  "orig_nbformat": 2,
  "kernelspec": {
   "name": "python3",
   "display_name": "Python 3",
   "language": "python"
  }
 },
 "nbformat": 4,
 "nbformat_minor": 2,
 "cells": [
  {
   "cell_type": "code",
   "execution_count": 2,
   "metadata": {},
   "outputs": [],
   "source": [
    "# https://dplyr.tidyverse.org/reference/mutate.html\n",
    "from plyrda.data import starwars\n",
    "from plyrda.all import *"
   ]
  },
  {
   "cell_type": "code",
   "execution_count": 3,
   "metadata": {},
   "outputs": [
    {
     "output_type": "execute_result",
     "data": {
      "text/plain": [
       "              name   mass  mass2  mass2_squared\n",
       "0   Luke Skywalker   77.0  154.0        23716.0\n",
       "1            C-3PO   75.0  150.0        22500.0\n",
       "2            R2-D2   32.0   64.0         4096.0\n",
       "3      Darth Vader  136.0  272.0        73984.0\n",
       "4      Leia Organa   49.0   98.0         9604.0\n",
       "..             ...    ...    ...            ...\n",
       "82             Rey    NaN    NaN            NaN\n",
       "83     Poe Dameron    NaN    NaN            NaN\n",
       "84             BB8    NaN    NaN            NaN\n",
       "85  Captain Phasma    NaN    NaN            NaN\n",
       "86   Padmé Amidala   45.0   90.0         8100.0\n",
       "\n",
       "[87 rows x 4 columns]"
      ],
      "text/html": "<div>\n<style scoped>\n    .dataframe tbody tr th:only-of-type {\n        vertical-align: middle;\n    }\n\n    .dataframe tbody tr th {\n        vertical-align: top;\n    }\n\n    .dataframe thead th {\n        text-align: right;\n    }\n</style>\n<table border=\"1\" class=\"dataframe\">\n  <thead>\n    <tr style=\"text-align: right;\">\n      <th></th>\n      <th>name</th>\n      <th>mass</th>\n      <th>mass2</th>\n      <th>mass2_squared</th>\n    </tr>\n  </thead>\n  <tbody>\n    <tr>\n      <th>0</th>\n      <td>Luke Skywalker</td>\n      <td>77.0</td>\n      <td>154.0</td>\n      <td>23716.0</td>\n    </tr>\n    <tr>\n      <th>1</th>\n      <td>C-3PO</td>\n      <td>75.0</td>\n      <td>150.0</td>\n      <td>22500.0</td>\n    </tr>\n    <tr>\n      <th>2</th>\n      <td>R2-D2</td>\n      <td>32.0</td>\n      <td>64.0</td>\n      <td>4096.0</td>\n    </tr>\n    <tr>\n      <th>3</th>\n      <td>Darth Vader</td>\n      <td>136.0</td>\n      <td>272.0</td>\n      <td>73984.0</td>\n    </tr>\n    <tr>\n      <th>4</th>\n      <td>Leia Organa</td>\n      <td>49.0</td>\n      <td>98.0</td>\n      <td>9604.0</td>\n    </tr>\n    <tr>\n      <th>...</th>\n      <td>...</td>\n      <td>...</td>\n      <td>...</td>\n      <td>...</td>\n    </tr>\n    <tr>\n      <th>82</th>\n      <td>Rey</td>\n      <td>NaN</td>\n      <td>NaN</td>\n      <td>NaN</td>\n    </tr>\n    <tr>\n      <th>83</th>\n      <td>Poe Dameron</td>\n      <td>NaN</td>\n      <td>NaN</td>\n      <td>NaN</td>\n    </tr>\n    <tr>\n      <th>84</th>\n      <td>BB8</td>\n      <td>NaN</td>\n      <td>NaN</td>\n      <td>NaN</td>\n    </tr>\n    <tr>\n      <th>85</th>\n      <td>Captain Phasma</td>\n      <td>NaN</td>\n      <td>NaN</td>\n      <td>NaN</td>\n    </tr>\n    <tr>\n      <th>86</th>\n      <td>Padmé Amidala</td>\n      <td>45.0</td>\n      <td>90.0</td>\n      <td>8100.0</td>\n    </tr>\n  </tbody>\n</table>\n<p>87 rows × 4 columns</p>\n</div>"
     },
     "metadata": {},
     "execution_count": 3
    }
   ],
   "source": [
    "starwars >> \\\n",
    " select(f.name, f.mass) >> \\\n",
    " mutate(\n",
    "  mass2 = f.mass * 2,\n",
    "  mass2_squared = f.mass2 * f.mass2\n",
    ")"
   ]
  },
  {
   "cell_type": "code",
   "execution_count": 5,
   "metadata": {},
   "outputs": [
    {
     "output_type": "execute_result",
     "data": {
      "text/plain": [
       "              name    height homeworld\n",
       "0   Luke Skywalker  5.643045  Tatooine\n",
       "1            C-3PO  5.479003  Tatooine\n",
       "2            R2-D2  3.149606     Naboo\n",
       "3      Darth Vader  6.627297  Tatooine\n",
       "4      Leia Organa  4.921260  Alderaan\n",
       "..             ...       ...       ...\n",
       "82             Rey       NaN       NaN\n",
       "83     Poe Dameron       NaN       NaN\n",
       "84             BB8       NaN       NaN\n",
       "85  Captain Phasma       NaN       NaN\n",
       "86   Padmé Amidala  5.413386     Naboo\n",
       "\n",
       "[87 rows x 3 columns]"
      ],
      "text/html": "<div>\n<style scoped>\n    .dataframe tbody tr th:only-of-type {\n        vertical-align: middle;\n    }\n\n    .dataframe tbody tr th {\n        vertical-align: top;\n    }\n\n    .dataframe thead th {\n        text-align: right;\n    }\n</style>\n<table border=\"1\" class=\"dataframe\">\n  <thead>\n    <tr style=\"text-align: right;\">\n      <th></th>\n      <th>name</th>\n      <th>height</th>\n      <th>homeworld</th>\n    </tr>\n  </thead>\n  <tbody>\n    <tr>\n      <th>0</th>\n      <td>Luke Skywalker</td>\n      <td>5.643045</td>\n      <td>Tatooine</td>\n    </tr>\n    <tr>\n      <th>1</th>\n      <td>C-3PO</td>\n      <td>5.479003</td>\n      <td>Tatooine</td>\n    </tr>\n    <tr>\n      <th>2</th>\n      <td>R2-D2</td>\n      <td>3.149606</td>\n      <td>Naboo</td>\n    </tr>\n    <tr>\n      <th>3</th>\n      <td>Darth Vader</td>\n      <td>6.627297</td>\n      <td>Tatooine</td>\n    </tr>\n    <tr>\n      <th>4</th>\n      <td>Leia Organa</td>\n      <td>4.921260</td>\n      <td>Alderaan</td>\n    </tr>\n    <tr>\n      <th>...</th>\n      <td>...</td>\n      <td>...</td>\n      <td>...</td>\n    </tr>\n    <tr>\n      <th>82</th>\n      <td>Rey</td>\n      <td>NaN</td>\n      <td>NaN</td>\n    </tr>\n    <tr>\n      <th>83</th>\n      <td>Poe Dameron</td>\n      <td>NaN</td>\n      <td>NaN</td>\n    </tr>\n    <tr>\n      <th>84</th>\n      <td>BB8</td>\n      <td>NaN</td>\n      <td>NaN</td>\n    </tr>\n    <tr>\n      <th>85</th>\n      <td>Captain Phasma</td>\n      <td>NaN</td>\n      <td>NaN</td>\n    </tr>\n    <tr>\n      <th>86</th>\n      <td>Padmé Amidala</td>\n      <td>5.413386</td>\n      <td>Naboo</td>\n    </tr>\n  </tbody>\n</table>\n<p>87 rows × 3 columns</p>\n</div>"
     },
     "metadata": {},
     "execution_count": 5
    }
   ],
   "source": [
    "starwars >> \\\n",
    " select(f.name, f.height, f.mass, f.homeworld) >> \\\n",
    " mutate(\n",
    "  mass = None,\n",
    "  height = f.height * 0.0328084 # convert to feet\n",
    ")"
   ]
  },
  {
   "cell_type": "code",
   "execution_count": 7,
   "metadata": {},
   "outputs": [
    {
     "output_type": "stream",
     "name": "stdout",
     "text": [
      "name           object\nhomeworld    category\nspecies      category\ndtype: object\n"
     ]
    },
    {
     "output_type": "execute_result",
     "data": {
      "text/plain": [
       "              name homeworld species\n",
       "0   Luke Skywalker  Tatooine   Human\n",
       "1            C-3PO  Tatooine   Droid\n",
       "2            R2-D2     Naboo   Droid\n",
       "3      Darth Vader  Tatooine   Human\n",
       "4      Leia Organa  Alderaan   Human\n",
       "..             ...       ...     ...\n",
       "82             Rey       NaN   Human\n",
       "83     Poe Dameron       NaN   Human\n",
       "84             BB8       NaN   Droid\n",
       "85  Captain Phasma       NaN     NaN\n",
       "86   Padmé Amidala     Naboo   Human\n",
       "\n",
       "[87 rows x 3 columns]"
      ],
      "text/html": "<div>\n<style scoped>\n    .dataframe tbody tr th:only-of-type {\n        vertical-align: middle;\n    }\n\n    .dataframe tbody tr th {\n        vertical-align: top;\n    }\n\n    .dataframe thead th {\n        text-align: right;\n    }\n</style>\n<table border=\"1\" class=\"dataframe\">\n  <thead>\n    <tr style=\"text-align: right;\">\n      <th></th>\n      <th>name</th>\n      <th>homeworld</th>\n      <th>species</th>\n    </tr>\n  </thead>\n  <tbody>\n    <tr>\n      <th>0</th>\n      <td>Luke Skywalker</td>\n      <td>Tatooine</td>\n      <td>Human</td>\n    </tr>\n    <tr>\n      <th>1</th>\n      <td>C-3PO</td>\n      <td>Tatooine</td>\n      <td>Droid</td>\n    </tr>\n    <tr>\n      <th>2</th>\n      <td>R2-D2</td>\n      <td>Naboo</td>\n      <td>Droid</td>\n    </tr>\n    <tr>\n      <th>3</th>\n      <td>Darth Vader</td>\n      <td>Tatooine</td>\n      <td>Human</td>\n    </tr>\n    <tr>\n      <th>4</th>\n      <td>Leia Organa</td>\n      <td>Alderaan</td>\n      <td>Human</td>\n    </tr>\n    <tr>\n      <th>...</th>\n      <td>...</td>\n      <td>...</td>\n      <td>...</td>\n    </tr>\n    <tr>\n      <th>82</th>\n      <td>Rey</td>\n      <td>NaN</td>\n      <td>Human</td>\n    </tr>\n    <tr>\n      <th>83</th>\n      <td>Poe Dameron</td>\n      <td>NaN</td>\n      <td>Human</td>\n    </tr>\n    <tr>\n      <th>84</th>\n      <td>BB8</td>\n      <td>NaN</td>\n      <td>Droid</td>\n    </tr>\n    <tr>\n      <th>85</th>\n      <td>Captain Phasma</td>\n      <td>NaN</td>\n      <td>NaN</td>\n    </tr>\n    <tr>\n      <th>86</th>\n      <td>Padmé Amidala</td>\n      <td>Naboo</td>\n      <td>Human</td>\n    </tr>\n  </tbody>\n</table>\n<p>87 rows × 3 columns</p>\n</div>"
     },
     "metadata": {},
     "execution_count": 7
    }
   ],
   "source": [
    "x = starwars >> \\\n",
    " select(f.name, f.homeworld, f.species) >> \\\n",
    " mutate(across(-f.name, as_categorical))\n",
    "\n",
    "print(x.dtypes)\n",
    "x"
   ]
  },
  {
   "cell_type": "code",
   "execution_count": null,
   "metadata": {},
   "outputs": [],
   "source": [
    "starwars >> \\\n",
    " select(f.name, f.mass, f.homeworld) >> \\\n",
    " group_by(f.homeworld) %>%\n",
    " mutate(rank=min_rank(desc(f.mass)))"
   ]
  }
 ]
}